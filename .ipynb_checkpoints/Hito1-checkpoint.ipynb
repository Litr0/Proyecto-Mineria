{
 "cells": [
  {
   "cell_type": "markdown",
   "metadata": {
    "id": "1ZtWGAlV-6y9"
   },
   "source": [
    "# Hito 2\n",
    "**Nombres:** Gonzalo Sobarzo, Hernán Ulloa, Alexander Reisenegger, Ignacio Huenchumil.\n",
    "\n",
    "**Fecha:** Noviembre 2022\n",
    "\n",
    "**Grupo:** 11\n",
    "\n",
    "**Curso:** CC5205\n",
    "\n",
    "**Cuerpo docente:** Andres Abeliuk, Hernán Sarmiento,  Cinthia Sánchez, Jorge Ortiz"
   ]
  },
  {
   "cell_type": "markdown",
   "metadata": {
    "id": "RI5HO0KT-6zF"
   },
   "source": [
    "# Introducción\n",
    "Como equipo buscamos una base de datos de música para así llevar a cabo un estudio de datos para poder predecir (y corroborar) distintos comportamientos de los consumidores de música, como por ejemplo, buscar potenciales hits sabiendo la trayectoria del artista o tal vez un posible remix al ver la popularidad de la canción original de modo que se estudiaran distintas influencia de los atributos de las canciones en su éxito.\n",
    "\n",
    "Nuestra base de datos consta de distintos premios y certificaciones para canciones, albumes, artistas y a su vez cuanto tiempo se mantuvo popular, de modo que solo se muestran canciones que sean éxitos del momento tanto en spotify como en la lista de billboard, esto sera útil para poder predecir distintos atributos de una canción o artista y así enfocar nuestro proyecto al análisis de tendecias musicales.\n",
    "\n"
   ]
  },
  {
   "cell_type": "markdown",
   "metadata": {
    "id": "npUkPiMH-6zI"
   },
   "source": [
    "# Exploración de datos\n",
    "El dataset consiste de 8 tablas (fuente del dataset:https://www.kaggle.com/datasets/danield2255/data-on-songs-from-billboard-19992019), una que contiene datos de las canciones que aparecen en la lista billboard 100 cada semana desde 1999 hasta 2019, incluyendo datos como el título, los artistas, los géneros de la cancion, artistas invitados y cuántas semanas ha pasado en el top hasta la fecha, y tabién una tabla que contiene datos de cada artista que ha aparecido en esa lista en dicho período de tiempo. También incluye 2 listas de los premios Grammy en el mismo intervalo de tiempo, una sobre canciones y una sobre los álbumes. Además una tabla de singles y una de álbumes según su certificación RIAA, también en el mismo período (certifica cuántas copias vendieron, por ejemplo certificación diamante, platino, multi platino, oro, diamante varias veces, entre otros). Por último hay 2 tablas de las canciones más populares de spotify desde 2016 hasta 2019, también semanales. Una tiene los datos generales del top 200 semanal como la cantidad de reproducciones y el nombre entre otros, y la otra tiene atributos para cada canción como por ejemplo energía, si está en modo mayor o menor, bailabilidad, etc.\n",
    "\n",
    "Hay múltiples dudas que se puede plantear al respecto, por ejemplo la canción Radioactive de Imagine Dragons pasó casi 2 años en el Billboard 100, y sería interesante analizar por qué una canción mantiene su popularidad, mientras otras sólo se quedan en la fama por un corto período.\n"
   ]
  },
  {
   "cell_type": "code",
   "execution_count": 2,
   "metadata": {
    "id": "RA0U6cHBjDAu"
   },
   "outputs": [],
   "source": [
    "import pandas as pd\n",
    "import matplotlib.pyplot as plt\n",
    "artistDf = pd.read_csv('data/artistDf.csv')\n",
    "spotifyWeeklyTop = pd.read_csv('data/spotifyWeeklyTop200Streams.csv')\n",
    "songAttributes = pd.read_csv('data/songAttributes_1999-2019.csv')\n",
    "grammySongs = pd.read_csv('data/grammySongs_1999-2019.csv', sep = ';')\n",
    "billboardHot100 = pd.read_csv('data/billboardHot100_1999-2019.csv')"
   ]
  },
  {
   "cell_type": "markdown",
   "metadata": {},
   "source": [
    "En la siguiente tabla se ve que Imagine Dragons Paso 87 semanas en el Chart:"
   ]
  },
  {
   "cell_type": "code",
   "execution_count": 3,
   "metadata": {
    "scrolled": false
   },
   "outputs": [
    {
     "data": {
      "text/html": [
       "<div>\n",
       "<style scoped>\n",
       "    .dataframe tbody tr th:only-of-type {\n",
       "        vertical-align: middle;\n",
       "    }\n",
       "\n",
       "    .dataframe tbody tr th {\n",
       "        vertical-align: top;\n",
       "    }\n",
       "\n",
       "    .dataframe thead th {\n",
       "        text-align: right;\n",
       "    }\n",
       "</style>\n",
       "<table border=\"1\" class=\"dataframe\">\n",
       "  <thead>\n",
       "    <tr style=\"text-align: right;\">\n",
       "      <th></th>\n",
       "      <th>Unnamed: 0</th>\n",
       "      <th>Artists</th>\n",
       "      <th>Name</th>\n",
       "      <th>Weekly.rank</th>\n",
       "      <th>Peak.position</th>\n",
       "      <th>Weeks.on.chart</th>\n",
       "      <th>Week</th>\n",
       "      <th>Date</th>\n",
       "      <th>Genre</th>\n",
       "      <th>Writing.Credits</th>\n",
       "      <th>Lyrics</th>\n",
       "      <th>Features</th>\n",
       "    </tr>\n",
       "  </thead>\n",
       "  <tbody>\n",
       "    <tr>\n",
       "      <th>25705</th>\n",
       "      <td>25706</td>\n",
       "      <td>Imagine Dragons</td>\n",
       "      <td>Radioactive</td>\n",
       "      <td>49</td>\n",
       "      <td>3.0</td>\n",
       "      <td>87.0</td>\n",
       "      <td>2014-05-09</td>\n",
       "      <td>February 14, 2012</td>\n",
       "      <td>Adult Alternative,Dubstep,Alternative Pop,Alte...</td>\n",
       "      <td>Imagine dragons, Daniel platzman, Wayne sermon...</td>\n",
       "      <td>Radioactive \\nWhoah-oh\\nWhoah-oh\\nWhoah-oh\\nWh...</td>\n",
       "      <td>NaN</td>\n",
       "    </tr>\n",
       "    <tr>\n",
       "      <th>26334</th>\n",
       "      <td>26335</td>\n",
       "      <td>AWOLNATION</td>\n",
       "      <td>Sail</td>\n",
       "      <td>45</td>\n",
       "      <td>17.0</td>\n",
       "      <td>79.0</td>\n",
       "      <td>2014-03-21</td>\n",
       "      <td>November 8, 2010</td>\n",
       "      <td>Electro-Pop,Pop-Rock,Alternative Rock,Industri...</td>\n",
       "      <td>Aaron bruno</td>\n",
       "      <td>Sail \\nSail!\\nThis is how I show my love\\nI ma...</td>\n",
       "      <td>NaN</td>\n",
       "    </tr>\n",
       "    <tr>\n",
       "      <th>48082</th>\n",
       "      <td>48083</td>\n",
       "      <td>Jason Mraz</td>\n",
       "      <td>I'm Yours</td>\n",
       "      <td>48</td>\n",
       "      <td>6.0</td>\n",
       "      <td>76.0</td>\n",
       "      <td>2009-10-08</td>\n",
       "      <td>April 15, 2008</td>\n",
       "      <td>Adult Contemporary,Adult Alternative,Pop-Rock,...</td>\n",
       "      <td>Jason mraz</td>\n",
       "      <td>I'm Yours \\nWell you done done me and you bet ...</td>\n",
       "      <td>NaN</td>\n",
       "    </tr>\n",
       "    <tr>\n",
       "      <th>23559</th>\n",
       "      <td>23560</td>\n",
       "      <td>OneRepublic</td>\n",
       "      <td>Counting Stars</td>\n",
       "      <td>50</td>\n",
       "      <td>2.0</td>\n",
       "      <td>68.0</td>\n",
       "      <td>2014-10-17</td>\n",
       "      <td>March 25, 2013</td>\n",
       "      <td>Folk Rock,Rock,Pop,Electro-Pop,Folk,Pop-Rock</td>\n",
       "      <td>Ryan tedder</td>\n",
       "      <td>Counting Stars \\nLately, I've been, I've been ...</td>\n",
       "      <td>NaN</td>\n",
       "    </tr>\n",
       "    <tr>\n",
       "      <th>35793</th>\n",
       "      <td>35794</td>\n",
       "      <td>Adele</td>\n",
       "      <td>Rolling In The Deep</td>\n",
       "      <td>49</td>\n",
       "      <td>1.0</td>\n",
       "      <td>65.0</td>\n",
       "      <td>2012-04-13</td>\n",
       "      <td>November 29, 2010</td>\n",
       "      <td>Pop,Blues,Adult Alternative,Adult Contemporary...</td>\n",
       "      <td>Paul epworth, Adele</td>\n",
       "      <td>Rolling in the Deep \\nThere's a fire starting ...</td>\n",
       "      <td>NaN</td>\n",
       "    </tr>\n",
       "  </tbody>\n",
       "</table>\n",
       "</div>"
      ],
      "text/plain": [
       "       Unnamed: 0          Artists                 Name  Weekly.rank  \\\n",
       "25705       25706  Imagine Dragons          Radioactive           49   \n",
       "26334       26335       AWOLNATION                 Sail           45   \n",
       "48082       48083       Jason Mraz            I'm Yours           48   \n",
       "23559       23560      OneRepublic       Counting Stars           50   \n",
       "35793       35794            Adele  Rolling In The Deep           49   \n",
       "\n",
       "       Peak.position  Weeks.on.chart        Week               Date  \\\n",
       "25705            3.0            87.0  2014-05-09  February 14, 2012   \n",
       "26334           17.0            79.0  2014-03-21   November 8, 2010   \n",
       "48082            6.0            76.0  2009-10-08     April 15, 2008   \n",
       "23559            2.0            68.0  2014-10-17     March 25, 2013   \n",
       "35793            1.0            65.0  2012-04-13  November 29, 2010   \n",
       "\n",
       "                                                   Genre  \\\n",
       "25705  Adult Alternative,Dubstep,Alternative Pop,Alte...   \n",
       "26334  Electro-Pop,Pop-Rock,Alternative Rock,Industri...   \n",
       "48082  Adult Contemporary,Adult Alternative,Pop-Rock,...   \n",
       "23559       Folk Rock,Rock,Pop,Electro-Pop,Folk,Pop-Rock   \n",
       "35793  Pop,Blues,Adult Alternative,Adult Contemporary...   \n",
       "\n",
       "                                         Writing.Credits  \\\n",
       "25705  Imagine dragons, Daniel platzman, Wayne sermon...   \n",
       "26334                                        Aaron bruno   \n",
       "48082                                         Jason mraz   \n",
       "23559                                        Ryan tedder   \n",
       "35793                                Paul epworth, Adele   \n",
       "\n",
       "                                                  Lyrics Features  \n",
       "25705  Radioactive \\nWhoah-oh\\nWhoah-oh\\nWhoah-oh\\nWh...      NaN  \n",
       "26334  Sail \\nSail!\\nThis is how I show my love\\nI ma...      NaN  \n",
       "48082  I'm Yours \\nWell you done done me and you bet ...      NaN  \n",
       "23559  Counting Stars \\nLately, I've been, I've been ...      NaN  \n",
       "35793  Rolling in the Deep \\nThere's a fire starting ...      NaN  "
      ]
     },
     "execution_count": 3,
     "metadata": {},
     "output_type": "execute_result"
    }
   ],
   "source": [
    "songs = billboardHot100.drop_duplicates(subset = ['Artists', 'Name'])\n",
    "songs.sort_values(by = ['Weeks.on.chart'], ascending = False).head()"
   ]
  },
  {
   "cell_type": "markdown",
   "metadata": {},
   "source": [
    "En esta tabla se puede ver una descripción de cada artista"
   ]
  },
  {
   "cell_type": "code",
   "execution_count": 4,
   "metadata": {},
   "outputs": [
    {
     "name": "stdout",
     "output_type": "stream",
     "text": [
      "(1035, 8)\n"
     ]
    },
    {
     "data": {
      "text/html": [
       "<div>\n",
       "<style scoped>\n",
       "    .dataframe tbody tr th:only-of-type {\n",
       "        vertical-align: middle;\n",
       "    }\n",
       "\n",
       "    .dataframe tbody tr th {\n",
       "        vertical-align: top;\n",
       "    }\n",
       "\n",
       "    .dataframe thead th {\n",
       "        text-align: right;\n",
       "    }\n",
       "</style>\n",
       "<table border=\"1\" class=\"dataframe\">\n",
       "  <thead>\n",
       "    <tr style=\"text-align: right;\">\n",
       "      <th></th>\n",
       "      <th>X</th>\n",
       "      <th>Artist</th>\n",
       "      <th>Followers</th>\n",
       "      <th>Genres</th>\n",
       "      <th>NumAlbums</th>\n",
       "      <th>YearFirstAlbum</th>\n",
       "      <th>Gender</th>\n",
       "      <th>Group.Solo</th>\n",
       "    </tr>\n",
       "  </thead>\n",
       "  <tbody>\n",
       "    <tr>\n",
       "      <th>0</th>\n",
       "      <td>0</td>\n",
       "      <td>Ed Sheeran</td>\n",
       "      <td>52698756</td>\n",
       "      <td>pop,uk pop</td>\n",
       "      <td>8</td>\n",
       "      <td>2011</td>\n",
       "      <td>M</td>\n",
       "      <td>Solo</td>\n",
       "    </tr>\n",
       "    <tr>\n",
       "      <th>1</th>\n",
       "      <td>1</td>\n",
       "      <td>Justin Bieber</td>\n",
       "      <td>30711450</td>\n",
       "      <td>canadian pop,dance pop,pop,post-teen pop</td>\n",
       "      <td>10</td>\n",
       "      <td>2009</td>\n",
       "      <td>M</td>\n",
       "      <td>Solo</td>\n",
       "    </tr>\n",
       "    <tr>\n",
       "      <th>2</th>\n",
       "      <td>2</td>\n",
       "      <td>Jonas Brothers</td>\n",
       "      <td>3069527</td>\n",
       "      <td>boy band,dance pop,pop,post-teen pop</td>\n",
       "      <td>10</td>\n",
       "      <td>2006</td>\n",
       "      <td>M</td>\n",
       "      <td>Group</td>\n",
       "    </tr>\n",
       "    <tr>\n",
       "      <th>3</th>\n",
       "      <td>3</td>\n",
       "      <td>Drake</td>\n",
       "      <td>41420478</td>\n",
       "      <td>canadian hip hop,canadian pop,hip hop,pop rap,...</td>\n",
       "      <td>11</td>\n",
       "      <td>2010</td>\n",
       "      <td>M</td>\n",
       "      <td>Solo</td>\n",
       "    </tr>\n",
       "    <tr>\n",
       "      <th>4</th>\n",
       "      <td>4</td>\n",
       "      <td>Chris Brown</td>\n",
       "      <td>9676862</td>\n",
       "      <td>dance pop,pop,pop rap,r&amp;b,rap</td>\n",
       "      <td>6</td>\n",
       "      <td>2005</td>\n",
       "      <td>M</td>\n",
       "      <td>Solo</td>\n",
       "    </tr>\n",
       "  </tbody>\n",
       "</table>\n",
       "</div>"
      ],
      "text/plain": [
       "   X          Artist  Followers  \\\n",
       "0  0      Ed Sheeran   52698756   \n",
       "1  1   Justin Bieber   30711450   \n",
       "2  2  Jonas Brothers    3069527   \n",
       "3  3           Drake   41420478   \n",
       "4  4     Chris Brown    9676862   \n",
       "\n",
       "                                              Genres  NumAlbums  \\\n",
       "0                                         pop,uk pop          8   \n",
       "1           canadian pop,dance pop,pop,post-teen pop         10   \n",
       "2               boy band,dance pop,pop,post-teen pop         10   \n",
       "3  canadian hip hop,canadian pop,hip hop,pop rap,...         11   \n",
       "4                      dance pop,pop,pop rap,r&b,rap          6   \n",
       "\n",
       "   YearFirstAlbum Gender Group.Solo  \n",
       "0            2011      M       Solo  \n",
       "1            2009      M       Solo  \n",
       "2            2006      M      Group  \n",
       "3            2010      M       Solo  \n",
       "4            2005      M       Solo  "
      ]
     },
     "execution_count": 4,
     "metadata": {},
     "output_type": "execute_result"
    }
   ],
   "source": [
    "print(artistDf.shape)#dimensión de la tabla de los distintos artistas.\n",
    "artistDf.head()"
   ]
  },
  {
   "cell_type": "markdown",
   "metadata": {},
   "source": [
    "Tabla de datos con el top 5 de spotify la semana del 20 de julio de 2018"
   ]
  },
  {
   "cell_type": "code",
   "execution_count": 5,
   "metadata": {},
   "outputs": [
    {
     "name": "stdout",
     "output_type": "stream",
     "text": [
      "(26395, 6)\n"
     ]
    },
    {
     "data": {
      "text/html": [
       "<div>\n",
       "<style scoped>\n",
       "    .dataframe tbody tr th:only-of-type {\n",
       "        vertical-align: middle;\n",
       "    }\n",
       "\n",
       "    .dataframe tbody tr th {\n",
       "        vertical-align: top;\n",
       "    }\n",
       "\n",
       "    .dataframe thead th {\n",
       "        text-align: right;\n",
       "    }\n",
       "</style>\n",
       "<table border=\"1\" class=\"dataframe\">\n",
       "  <thead>\n",
       "    <tr style=\"text-align: right;\">\n",
       "      <th></th>\n",
       "      <th>Unnamed: 0</th>\n",
       "      <th>Name</th>\n",
       "      <th>Artist</th>\n",
       "      <th>Features</th>\n",
       "      <th>Streams</th>\n",
       "      <th>Week</th>\n",
       "    </tr>\n",
       "  </thead>\n",
       "  <tbody>\n",
       "    <tr>\n",
       "      <th>0</th>\n",
       "      <td>0</td>\n",
       "      <td>In My Feelings</td>\n",
       "      <td>Drake</td>\n",
       "      <td>NaN</td>\n",
       "      <td>30747676</td>\n",
       "      <td>2018-07-20</td>\n",
       "    </tr>\n",
       "    <tr>\n",
       "      <th>1</th>\n",
       "      <td>1</td>\n",
       "      <td>Lucid Dreams</td>\n",
       "      <td>Juice WRLD</td>\n",
       "      <td>NaN</td>\n",
       "      <td>12930705</td>\n",
       "      <td>2018-07-20</td>\n",
       "    </tr>\n",
       "    <tr>\n",
       "      <th>2</th>\n",
       "      <td>2</td>\n",
       "      <td>Nonstop</td>\n",
       "      <td>Drake</td>\n",
       "      <td>NaN</td>\n",
       "      <td>12312859</td>\n",
       "      <td>2018-07-20</td>\n",
       "    </tr>\n",
       "    <tr>\n",
       "      <th>3</th>\n",
       "      <td>3</td>\n",
       "      <td>God is a woman</td>\n",
       "      <td>Ariana Grande</td>\n",
       "      <td>NaN</td>\n",
       "      <td>10771324</td>\n",
       "      <td>2018-07-20</td>\n",
       "    </tr>\n",
       "    <tr>\n",
       "      <th>4</th>\n",
       "      <td>4</td>\n",
       "      <td>SAD!</td>\n",
       "      <td>XXXTENTACION</td>\n",
       "      <td>NaN</td>\n",
       "      <td>10503061</td>\n",
       "      <td>2018-07-20</td>\n",
       "    </tr>\n",
       "  </tbody>\n",
       "</table>\n",
       "</div>"
      ],
      "text/plain": [
       "   Unnamed: 0            Name         Artist Features   Streams        Week\n",
       "0           0  In My Feelings          Drake      NaN  30747676  2018-07-20\n",
       "1           1    Lucid Dreams     Juice WRLD      NaN  12930705  2018-07-20\n",
       "2           2         Nonstop          Drake      NaN  12312859  2018-07-20\n",
       "3           3  God is a woman  Ariana Grande      NaN  10771324  2018-07-20\n",
       "4           4            SAD!   XXXTENTACION      NaN  10503061  2018-07-20"
      ]
     },
     "execution_count": 5,
     "metadata": {},
     "output_type": "execute_result"
    }
   ],
   "source": [
    "print(spotifyWeeklyTop.shape) #dimensión de la tabla de canciones semanales en spotify.\n",
    "spotifyWeeklyTop.head()"
   ]
  },
  {
   "cell_type": "markdown",
   "metadata": {},
   "source": [
    "Tabla de datos con el top 5 de Billboarhot100 la semana del 6 de julio de 2019"
   ]
  },
  {
   "cell_type": "code",
   "execution_count": 6,
   "metadata": {},
   "outputs": [
    {
     "name": "stdout",
     "output_type": "stream",
     "text": [
      "(97225, 12)\n"
     ]
    },
    {
     "data": {
      "text/html": [
       "<div>\n",
       "<style scoped>\n",
       "    .dataframe tbody tr th:only-of-type {\n",
       "        vertical-align: middle;\n",
       "    }\n",
       "\n",
       "    .dataframe tbody tr th {\n",
       "        vertical-align: top;\n",
       "    }\n",
       "\n",
       "    .dataframe thead th {\n",
       "        text-align: right;\n",
       "    }\n",
       "</style>\n",
       "<table border=\"1\" class=\"dataframe\">\n",
       "  <thead>\n",
       "    <tr style=\"text-align: right;\">\n",
       "      <th></th>\n",
       "      <th>Unnamed: 0</th>\n",
       "      <th>Artists</th>\n",
       "      <th>Name</th>\n",
       "      <th>Weekly.rank</th>\n",
       "      <th>Peak.position</th>\n",
       "      <th>Weeks.on.chart</th>\n",
       "      <th>Week</th>\n",
       "      <th>Date</th>\n",
       "      <th>Genre</th>\n",
       "      <th>Writing.Credits</th>\n",
       "      <th>Lyrics</th>\n",
       "      <th>Features</th>\n",
       "    </tr>\n",
       "  </thead>\n",
       "  <tbody>\n",
       "    <tr>\n",
       "      <th>0</th>\n",
       "      <td>1</td>\n",
       "      <td>Lil Nas,</td>\n",
       "      <td>Old Town Road</td>\n",
       "      <td>1</td>\n",
       "      <td>1.0</td>\n",
       "      <td>7.0</td>\n",
       "      <td>2019-07-06</td>\n",
       "      <td>April 5, 2019</td>\n",
       "      <td>Country,Atlanta,Alternative Country,Hip-Hop,Tr...</td>\n",
       "      <td>Jozzy, Atticus ross, Trent reznor, Billy ray c...</td>\n",
       "      <td>Old Town Road Remix \\nOh, oh-oh\\nOh\\nYeah, I'm...</td>\n",
       "      <td>Billy Ray Cyrus</td>\n",
       "    </tr>\n",
       "    <tr>\n",
       "      <th>1</th>\n",
       "      <td>2</td>\n",
       "      <td>Shawn Mendes, Camila Cabello</td>\n",
       "      <td>Senorita</td>\n",
       "      <td>2</td>\n",
       "      <td>NaN</td>\n",
       "      <td>NaN</td>\n",
       "      <td>2019-07-06</td>\n",
       "      <td>June 21, 2019</td>\n",
       "      <td>Pop</td>\n",
       "      <td>Cashmere cat, Jack patterson, Charli xcx, Benn...</td>\n",
       "      <td>Senorita \\nI love it when you call me senorita...</td>\n",
       "      <td>NaN</td>\n",
       "    </tr>\n",
       "    <tr>\n",
       "      <th>2</th>\n",
       "      <td>3</td>\n",
       "      <td>Billie Eilish</td>\n",
       "      <td>Bad Guy</td>\n",
       "      <td>3</td>\n",
       "      <td>2.0</td>\n",
       "      <td>13.0</td>\n",
       "      <td>2019-07-06</td>\n",
       "      <td>March 29, 2019</td>\n",
       "      <td>Hip-Hop,Dark Pop,House,Trap,Memes,Alternative ...</td>\n",
       "      <td>Billie eilish, Finneas</td>\n",
       "      <td>bad guy \\nWhite shirt now red, my bloody nose\\...</td>\n",
       "      <td>NaN</td>\n",
       "    </tr>\n",
       "    <tr>\n",
       "      <th>3</th>\n",
       "      <td>4</td>\n",
       "      <td>Khalid</td>\n",
       "      <td>Talk</td>\n",
       "      <td>4</td>\n",
       "      <td>3.0</td>\n",
       "      <td>20.0</td>\n",
       "      <td>2019-07-06</td>\n",
       "      <td>February 7, 2019</td>\n",
       "      <td>Synth-Pop,Pop</td>\n",
       "      <td>Howard lawrence, Guy lawrence, Khalid</td>\n",
       "      <td>Talk \\nCan we just talk? Can we just talk?\\nTa...</td>\n",
       "      <td>NaN</td>\n",
       "    </tr>\n",
       "    <tr>\n",
       "      <th>4</th>\n",
       "      <td>5</td>\n",
       "      <td>Ed Sheeran, Justin Bieber</td>\n",
       "      <td>I Don't Care</td>\n",
       "      <td>5</td>\n",
       "      <td>2.0</td>\n",
       "      <td>7.0</td>\n",
       "      <td>2019-07-06</td>\n",
       "      <td>May 10, 2019</td>\n",
       "      <td>Canada,UK,Dance,Dance-Pop,Pop</td>\n",
       "      <td>Ed sheeran, Justin bieber, Shellback, Max mart...</td>\n",
       "      <td>I Don't Care \\nI'm at a party I don't wanna be...</td>\n",
       "      <td>NaN</td>\n",
       "    </tr>\n",
       "  </tbody>\n",
       "</table>\n",
       "</div>"
      ],
      "text/plain": [
       "   Unnamed: 0                       Artists           Name  Weekly.rank  \\\n",
       "0           1                      Lil Nas,  Old Town Road            1   \n",
       "1           2  Shawn Mendes, Camila Cabello       Senorita            2   \n",
       "2           3                 Billie Eilish        Bad Guy            3   \n",
       "3           4                        Khalid           Talk            4   \n",
       "4           5     Ed Sheeran, Justin Bieber   I Don't Care            5   \n",
       "\n",
       "   Peak.position  Weeks.on.chart        Week              Date  \\\n",
       "0            1.0             7.0  2019-07-06     April 5, 2019   \n",
       "1            NaN             NaN  2019-07-06     June 21, 2019   \n",
       "2            2.0            13.0  2019-07-06    March 29, 2019   \n",
       "3            3.0            20.0  2019-07-06  February 7, 2019   \n",
       "4            2.0             7.0  2019-07-06      May 10, 2019   \n",
       "\n",
       "                                               Genre  \\\n",
       "0  Country,Atlanta,Alternative Country,Hip-Hop,Tr...   \n",
       "1                                                Pop   \n",
       "2  Hip-Hop,Dark Pop,House,Trap,Memes,Alternative ...   \n",
       "3                                      Synth-Pop,Pop   \n",
       "4                      Canada,UK,Dance,Dance-Pop,Pop   \n",
       "\n",
       "                                     Writing.Credits  \\\n",
       "0  Jozzy, Atticus ross, Trent reznor, Billy ray c...   \n",
       "1  Cashmere cat, Jack patterson, Charli xcx, Benn...   \n",
       "2                             Billie eilish, Finneas   \n",
       "3              Howard lawrence, Guy lawrence, Khalid   \n",
       "4  Ed sheeran, Justin bieber, Shellback, Max mart...   \n",
       "\n",
       "                                              Lyrics         Features  \n",
       "0  Old Town Road Remix \\nOh, oh-oh\\nOh\\nYeah, I'm...  Billy Ray Cyrus  \n",
       "1  Senorita \\nI love it when you call me senorita...              NaN  \n",
       "2  bad guy \\nWhite shirt now red, my bloody nose\\...              NaN  \n",
       "3  Talk \\nCan we just talk? Can we just talk?\\nTa...              NaN  \n",
       "4  I Don't Care \\nI'm at a party I don't wanna be...              NaN  "
      ]
     },
     "execution_count": 6,
     "metadata": {},
     "output_type": "execute_result"
    }
   ],
   "source": [
    "print(billboardHot100.shape)#dimensión de la tabla de las canciones en el billboard.\n",
    "billboardHot100.head()"
   ]
  },
  {
   "cell_type": "code",
   "execution_count": 41,
   "metadata": {},
   "outputs": [],
   "source": [
    "dicc = {}\n",
    "for row, col in songs.iterrows():\n",
    "    aux = col['Genre'].split(',')\n",
    "    for k in aux:\n",
    "        if k in aux:\n",
    "            dicc[k] = dicc.get(k,0) + 1\n",
    "\n"
   ]
  },
  {
   "cell_type": "code",
   "execution_count": 42,
   "metadata": {},
   "outputs": [],
   "source": [
    "\n",
    "gen = pd.DataFrame([[key, dicc[key]] for key in dicc.keys()], columns=['Genre', 'Frequency'])"
   ]
  },
  {
   "cell_type": "code",
   "execution_count": 43,
   "metadata": {
    "scrolled": true
   },
   "outputs": [
    {
     "data": {
      "text/plain": [
       "(334, 2)"
      ]
     },
     "execution_count": 43,
     "metadata": {},
     "output_type": "execute_result"
    }
   ],
   "source": [
    "gen1_5 = gen.sort_values(by = ['Frequency'], ascending=False)\n",
    "gen1_5.shape"
   ]
  },
  {
   "cell_type": "markdown",
   "metadata": {},
   "source": [
    "En total hay 334 generos, por lo que conviene filtrar los 20 mas populares para el gráfico"
   ]
  },
  {
   "cell_type": "code",
   "execution_count": 44,
   "metadata": {},
   "outputs": [],
   "source": [
    "gen2 = gen1_5.head(20)"
   ]
  },
  {
   "cell_type": "markdown",
   "metadata": {},
   "source": [
    "En este gráfico de tablas se pueden ver los géneros mas recurrentes en el billboard top 100:"
   ]
  },
  {
   "cell_type": "code",
   "execution_count": 45,
   "metadata": {
    "scrolled": true
   },
   "outputs": [
    {
     "data": {
      "image/png": "[encoded data removed]",
      "text/plain": [
       "<Figure size 432x288 with 1 Axes>"
      ]
     },
     "metadata": {
      "needs_background": "light"
     },
     "output_type": "display_data"
    }
   ],
   "source": [
    "ax = gen2.plot.bar(x='Genre', y = 'Frequency', stacked=True, title = \"Géneros mas populares en el Billboard\")"
   ]
  },
  {
   "cell_type": "markdown",
   "metadata": {},
   "source": [
    "En esta tabla se pueden ver los premios grammy del 2018:"
   ]
  },
  {
   "cell_type": "code",
   "execution_count": 11,
   "metadata": {
    "scrolled": false
   },
   "outputs": [
    {
     "name": "stdout",
     "output_type": "stream",
     "text": [
      "(428, 7)\n"
     ]
    },
    {
     "data": {
      "text/html": [
       "<div>\n",
       "<style scoped>\n",
       "    .dataframe tbody tr th:only-of-type {\n",
       "        vertical-align: middle;\n",
       "    }\n",
       "\n",
       "    .dataframe tbody tr th {\n",
       "        vertical-align: top;\n",
       "    }\n",
       "\n",
       "    .dataframe thead th {\n",
       "        text-align: right;\n",
       "    }\n",
       "</style>\n",
       "<table border=\"1\" class=\"dataframe\">\n",
       "  <thead>\n",
       "    <tr style=\"text-align: right;\">\n",
       "      <th></th>\n",
       "      <th>Column1</th>\n",
       "      <th>X</th>\n",
       "      <th>GrammyAward</th>\n",
       "      <th>GrammyYear</th>\n",
       "      <th>Genre</th>\n",
       "      <th>Name</th>\n",
       "      <th>Artist</th>\n",
       "    </tr>\n",
       "  </thead>\n",
       "  <tbody>\n",
       "    <tr>\n",
       "      <th>0</th>\n",
       "      <td>1</td>\n",
       "      <td>0</td>\n",
       "      <td>Record Of The Year</td>\n",
       "      <td>2018</td>\n",
       "      <td>General</td>\n",
       "      <td>this is America</td>\n",
       "      <td>Childish Gambino</td>\n",
       "    </tr>\n",
       "    <tr>\n",
       "      <th>1</th>\n",
       "      <td>2</td>\n",
       "      <td>1</td>\n",
       "      <td>Song Of The Year</td>\n",
       "      <td>2018</td>\n",
       "      <td>General</td>\n",
       "      <td>this is America</td>\n",
       "      <td>Childish Gambino</td>\n",
       "    </tr>\n",
       "    <tr>\n",
       "      <th>2</th>\n",
       "      <td>3</td>\n",
       "      <td>2</td>\n",
       "      <td>Best Pop Solo Performance</td>\n",
       "      <td>2018</td>\n",
       "      <td>Pop</td>\n",
       "      <td>Joanne (where Do you Think You're Goin'?)</td>\n",
       "      <td>Lady Gaga</td>\n",
       "    </tr>\n",
       "    <tr>\n",
       "      <th>3</th>\n",
       "      <td>4</td>\n",
       "      <td>3</td>\n",
       "      <td>Best Pop Duo/Group Performance</td>\n",
       "      <td>2018</td>\n",
       "      <td>Pop</td>\n",
       "      <td>Shallow</td>\n",
       "      <td>Lady Gaga &amp; Bradley Cooper</td>\n",
       "    </tr>\n",
       "    <tr>\n",
       "      <th>4</th>\n",
       "      <td>5</td>\n",
       "      <td>4</td>\n",
       "      <td>Best Dance Recording</td>\n",
       "      <td>2018</td>\n",
       "      <td>Dance/Electronic Music</td>\n",
       "      <td>Electricity</td>\n",
       "      <td>Silk City &amp; Dua Lipa Featuring Diplo &amp; Mark Ro...</td>\n",
       "    </tr>\n",
       "  </tbody>\n",
       "</table>\n",
       "</div>"
      ],
      "text/plain": [
       "   Column1  X                     GrammyAward  GrammyYear  \\\n",
       "0        1  0              Record Of The Year        2018   \n",
       "1        2  1                Song Of The Year        2018   \n",
       "2        3  2       Best Pop Solo Performance        2018   \n",
       "3        4  3  Best Pop Duo/Group Performance        2018   \n",
       "4        5  4            Best Dance Recording        2018   \n",
       "\n",
       "                    Genre                                       Name  \\\n",
       "0                 General                            this is America   \n",
       "1                 General                            this is America   \n",
       "2                     Pop  Joanne (where Do you Think You're Goin'?)   \n",
       "3                     Pop                                    Shallow   \n",
       "4  Dance/Electronic Music                                Electricity   \n",
       "\n",
       "                                              Artist  \n",
       "0                                   Childish Gambino  \n",
       "1                                   Childish Gambino  \n",
       "2                                          Lady Gaga  \n",
       "3                         Lady Gaga & Bradley Cooper  \n",
       "4  Silk City & Dua Lipa Featuring Diplo & Mark Ro...  "
      ]
     },
     "execution_count": 11,
     "metadata": {},
     "output_type": "execute_result"
    }
   ],
   "source": [
    "print(grammySongs.shape)#dimensión de la tabla de canciones ganadora de los grammy's.\n",
    "grammySongs.head()"
   ]
  },
  {
   "cell_type": "markdown",
   "metadata": {},
   "source": [
    "En esta tabla se muestran los artistas con mayor número de seguidores en spotify:"
   ]
  },
  {
   "cell_type": "code",
   "execution_count": 12,
   "metadata": {},
   "outputs": [
    {
     "data": {
      "image/png": "[encoded data removed]",
      "text/plain": [
       "<Figure size 432x288 with 1 Axes>"
      ]
     },
     "metadata": {
      "needs_background": "light"
     },
     "output_type": "display_data"
    }
   ],
   "source": [
    "artist_p = artistDf.sort_values(by = ['Followers'], ascending=False)\n",
    "artist_p = artist_p.head(17)\n",
    "artist_p = artist_p.drop([769, 828]) #elimina play y cold, ya que eran versiones repetidas de coldplay\n",
    "ax = artist_p.plot.bar(x= 'Artist', y = 'Followers', stacked= True, title = \"Artistas con mas seguidores en Spotify\")"
   ]
  },
  {
   "cell_type": "markdown",
   "metadata": {},
   "source": [
    "La siguiente matriz de correlación muestra como se comparan las variables de los artistas en spotify:"
   ]
  },
  {
   "cell_type": "code",
   "execution_count": 13,
   "metadata": {},
   "outputs": [
    {
     "data": {
      "text/plain": [
       "<AxesSubplot:>"
      ]
     },
     "execution_count": 13,
     "metadata": {},
     "output_type": "execute_result"
    },
    {
     "data": {
      "image/png": "[encoded data removed]",
      "text/plain": [
       "<Figure size 720x576 with 2 Axes>"
      ]
     },
     "metadata": {
      "needs_background": "light"
     },
     "output_type": "display_data"
    }
   ],
   "source": [
    "import seaborn as sns\n",
    "import matplotlib.pyplot as pl\n",
    "import numpy as np\n",
    "f, ax = pl.subplots(figsize=(10, 8))\n",
    "corr = artistDf.corr()\n",
    "sns.heatmap(corr, mask=np.zeros_like(corr, dtype=bool), cmap=sns.diverging_palette(220, 10, as_cmap=True),\n",
    "            square=True, ax=ax)"
   ]
  },
  {
   "cell_type": "markdown",
   "metadata": {},
   "source": [
    "En el siguiente gráfico se observa que el artista que tiene más grammy's por canciones es Adele y la banda con más premios es U2:"
   ]
  },
  {
   "cell_type": "code",
   "execution_count": 19,
   "metadata": {
    "scrolled": true
   },
   "outputs": [
    {
     "data": {
      "image/png": "[encoded data removed]",
      "text/plain": [
       "<Figure size 432x288 with 1 Axes>"
      ]
     },
     "metadata": {
      "needs_background": "light"
     },
     "output_type": "display_data"
    }
   ],
   "source": [
    "winners = grammySongs.loc[:, ['Artist']]\n",
    "gen3 = winners.groupby(winners.columns.tolist(),as_index=False).size().rename(columns={'size':'Awards'})\n",
    "gen4 = gen3.sort_values(by = ['Awards'], ascending=False).head(20)\n",
    "grs = gen4.plot.bar(x= 'Artist', y = 'Awards', stacked= True, title = 'Artistas con más Grammys por canciones')\n"
   ]
  },
  {
   "cell_type": "markdown",
   "metadata": {},
   "source": [
    "El siguiente diagrama de cajas representa la distribución de los atributos,  filtrados por las canciones que aparecen en la tabla de billboard 100:"
   ]
  },
  {
   "cell_type": "code",
   "execution_count": 15,
   "metadata": {},
   "outputs": [
    {
     "name": "stdout",
     "output_type": "stream",
     "text": [
      "(3193, 28)\n"
     ]
    },
    {
     "data": {
      "text/plain": [
       "<AxesSubplot:title={'center':'Distribucion de los atributos de las canciones más populares'}>"
      ]
     },
     "execution_count": 15,
     "metadata": {},
     "output_type": "execute_result"
    },
    {
     "data": {
      "image/png": "[encoded data removed]",
      "text/plain": [
       "<Figure size 432x288 with 1 Axes>"
      ]
     },
     "metadata": {
      "needs_background": "light"
     },
     "output_type": "display_data"
    }
   ],
   "source": [
    "\n",
    "songAttributes = songAttributes.rename(columns = {\"Artist\" : \"Artists\"})\n",
    "songAttributes.head()\n",
    "sa = (\n",
    "    songAttributes.merge(billboardHot100, \n",
    "              on=['Name', 'Artists'],\n",
    "              how='left', \n",
    "              indicator=True)\n",
    "    .query('_merge == \"both\"')\n",
    "    .drop(columns='_merge')\n",
    ")\n",
    "sa = sa.drop_duplicates(subset = [\"Name\", \"Artists\"])\n",
    "print(sa.shape)\n",
    "sa.iloc[:,[1, 4, 6, 8, 9]].plot.box(stacked=True, fontsize = 8, title = \"Distribucion de los atributos de las canciones más populares\")\n",
    "\n"
   ]
  },
  {
   "cell_type": "markdown",
   "metadata": {},
   "source": [
    "Tabla de los atributos de canciones que estuvieron alguna vez en el Billboard:"
   ]
  },
  {
   "cell_type": "code",
   "execution_count": 16,
   "metadata": {},
   "outputs": [
    {
     "data": {
      "text/html": [
       "<div>\n",
       "<style scoped>\n",
       "    .dataframe tbody tr th:only-of-type {\n",
       "        vertical-align: middle;\n",
       "    }\n",
       "\n",
       "    .dataframe tbody tr th {\n",
       "        vertical-align: top;\n",
       "    }\n",
       "\n",
       "    .dataframe thead th {\n",
       "        text-align: right;\n",
       "    }\n",
       "</style>\n",
       "<table border=\"1\" class=\"dataframe\">\n",
       "  <thead>\n",
       "    <tr style=\"text-align: right;\">\n",
       "      <th></th>\n",
       "      <th>Unnamed: 0_x</th>\n",
       "      <th>Acousticness</th>\n",
       "      <th>Album</th>\n",
       "      <th>Artists</th>\n",
       "      <th>Danceability</th>\n",
       "      <th>Duration</th>\n",
       "      <th>Energy</th>\n",
       "      <th>Explicit</th>\n",
       "      <th>Instrumentalness</th>\n",
       "      <th>Liveness</th>\n",
       "      <th>...</th>\n",
       "      <th>Unnamed: 0_y</th>\n",
       "      <th>Weekly.rank</th>\n",
       "      <th>Peak.position</th>\n",
       "      <th>Weeks.on.chart</th>\n",
       "      <th>Week</th>\n",
       "      <th>Date</th>\n",
       "      <th>Genre</th>\n",
       "      <th>Writing.Credits</th>\n",
       "      <th>Lyrics</th>\n",
       "      <th>Features</th>\n",
       "    </tr>\n",
       "  </thead>\n",
       "  <tbody>\n",
       "    <tr>\n",
       "      <th>59</th>\n",
       "      <td>59</td>\n",
       "      <td>0.000877</td>\n",
       "      <td>Dosage</td>\n",
       "      <td>Collective Soul</td>\n",
       "      <td>0.547</td>\n",
       "      <td>173267</td>\n",
       "      <td>0.902</td>\n",
       "      <td>False</td>\n",
       "      <td>0.000563</td>\n",
       "      <td>0.0839</td>\n",
       "      <td>...</td>\n",
       "      <td>97222.0</td>\n",
       "      <td>96.0</td>\n",
       "      <td>73.0</td>\n",
       "      <td>20.0</td>\n",
       "      <td>1999-07-12</td>\n",
       "      <td>NaN</td>\n",
       "      <td>Hockey,Gaming,Soundtrack,Rock</td>\n",
       "      <td>Collective soul</td>\n",
       "      <td>Heavy \\nComplicate this world you wrapped for ...</td>\n",
       "      <td>NaN</td>\n",
       "    </tr>\n",
       "    <tr>\n",
       "      <th>185</th>\n",
       "      <td>33</td>\n",
       "      <td>0.587000</td>\n",
       "      <td>Live At Open Air Gampel (2004)</td>\n",
       "      <td>Everlast</td>\n",
       "      <td>0.316</td>\n",
       "      <td>396896</td>\n",
       "      <td>0.634</td>\n",
       "      <td>False</td>\n",
       "      <td>0.000019</td>\n",
       "      <td>0.9070</td>\n",
       "      <td>...</td>\n",
       "      <td>96997.0</td>\n",
       "      <td>47.0</td>\n",
       "      <td>13.0</td>\n",
       "      <td>33.0</td>\n",
       "      <td>1999-07-26</td>\n",
       "      <td>NaN</td>\n",
       "      <td>Rap,Rock</td>\n",
       "      <td>Everlast</td>\n",
       "      <td>What It's Like \\nWe've all seen the man at the...</td>\n",
       "      <td>NaN</td>\n",
       "    </tr>\n",
       "    <tr>\n",
       "      <th>328</th>\n",
       "      <td>20</td>\n",
       "      <td>0.028100</td>\n",
       "      <td>Something In The Air</td>\n",
       "      <td>Lila McCann</td>\n",
       "      <td>0.644</td>\n",
       "      <td>212360</td>\n",
       "      <td>0.785</td>\n",
       "      <td>False</td>\n",
       "      <td>0.000001</td>\n",
       "      <td>0.0996</td>\n",
       "      <td>...</td>\n",
       "      <td>96948.0</td>\n",
       "      <td>92.0</td>\n",
       "      <td>41.0</td>\n",
       "      <td>19.0</td>\n",
       "      <td>1999-08-02</td>\n",
       "      <td>NaN</td>\n",
       "      <td>Pop</td>\n",
       "      <td>NaN</td>\n",
       "      <td>With You \\nLast night I couldn't sleep\\nI foun...</td>\n",
       "      <td>NaN</td>\n",
       "    </tr>\n",
       "    <tr>\n",
       "      <th>356</th>\n",
       "      <td>0</td>\n",
       "      <td>0.055200</td>\n",
       "      <td>Jordan Knight</td>\n",
       "      <td>Jordan Knight</td>\n",
       "      <td>0.830</td>\n",
       "      <td>289760</td>\n",
       "      <td>0.655</td>\n",
       "      <td>False</td>\n",
       "      <td>0.000001</td>\n",
       "      <td>0.0567</td>\n",
       "      <td>...</td>\n",
       "      <td>96858.0</td>\n",
       "      <td>91.0</td>\n",
       "      <td>10.0</td>\n",
       "      <td>20.0</td>\n",
       "      <td>1999-08-09</td>\n",
       "      <td>NaN</td>\n",
       "      <td>Pop</td>\n",
       "      <td>Jimmy jam, Robin thicke, Terry lewis, Jordan k...</td>\n",
       "      <td>Give It to You \\nYou say it's been too long\\nS...</td>\n",
       "      <td>NaN</td>\n",
       "    </tr>\n",
       "    <tr>\n",
       "      <th>842</th>\n",
       "      <td>34</td>\n",
       "      <td>0.046400</td>\n",
       "      <td>Terry Dexter (U.S. Version)</td>\n",
       "      <td>Terry Dexter</td>\n",
       "      <td>0.546</td>\n",
       "      <td>242347</td>\n",
       "      <td>0.618</td>\n",
       "      <td>False</td>\n",
       "      <td>0.000000</td>\n",
       "      <td>0.0298</td>\n",
       "      <td>...</td>\n",
       "      <td>96775.0</td>\n",
       "      <td>99.0</td>\n",
       "      <td>NaN</td>\n",
       "      <td>NaN</td>\n",
       "      <td>1999-08-16</td>\n",
       "      <td>NaN</td>\n",
       "      <td>Pop</td>\n",
       "      <td>NaN</td>\n",
       "      <td>Better Than Me \\nBoy, I got my eyes on you\\nGu...</td>\n",
       "      <td>NaN</td>\n",
       "    </tr>\n",
       "  </tbody>\n",
       "</table>\n",
       "<p>5 rows × 28 columns</p>\n",
       "</div>"
      ],
      "text/plain": [
       "     Unnamed: 0_x  Acousticness                           Album  \\\n",
       "59             59      0.000877                          Dosage   \n",
       "185            33      0.587000  Live At Open Air Gampel (2004)   \n",
       "328            20      0.028100            Something In The Air   \n",
       "356             0      0.055200                   Jordan Knight   \n",
       "842            34      0.046400     Terry Dexter (U.S. Version)   \n",
       "\n",
       "             Artists  Danceability  Duration  Energy  Explicit  \\\n",
       "59   Collective Soul         0.547    173267   0.902     False   \n",
       "185         Everlast         0.316    396896   0.634     False   \n",
       "328      Lila McCann         0.644    212360   0.785     False   \n",
       "356    Jordan Knight         0.830    289760   0.655     False   \n",
       "842     Terry Dexter         0.546    242347   0.618     False   \n",
       "\n",
       "     Instrumentalness  Liveness  ...  Unnamed: 0_y  Weekly.rank Peak.position  \\\n",
       "59           0.000563    0.0839  ...       97222.0         96.0          73.0   \n",
       "185          0.000019    0.9070  ...       96997.0         47.0          13.0   \n",
       "328          0.000001    0.0996  ...       96948.0         92.0          41.0   \n",
       "356          0.000001    0.0567  ...       96858.0         91.0          10.0   \n",
       "842          0.000000    0.0298  ...       96775.0         99.0           NaN   \n",
       "\n",
       "     Weeks.on.chart        Week  Date                          Genre  \\\n",
       "59             20.0  1999-07-12   NaN  Hockey,Gaming,Soundtrack,Rock   \n",
       "185            33.0  1999-07-26   NaN                       Rap,Rock   \n",
       "328            19.0  1999-08-02   NaN                            Pop   \n",
       "356            20.0  1999-08-09   NaN                            Pop   \n",
       "842             NaN  1999-08-16   NaN                            Pop   \n",
       "\n",
       "                                       Writing.Credits  \\\n",
       "59                                     Collective soul   \n",
       "185                                           Everlast   \n",
       "328                                                NaN   \n",
       "356  Jimmy jam, Robin thicke, Terry lewis, Jordan k...   \n",
       "842                                                NaN   \n",
       "\n",
       "                                                Lyrics  Features  \n",
       "59   Heavy \\nComplicate this world you wrapped for ...       NaN  \n",
       "185  What It's Like \\nWe've all seen the man at the...       NaN  \n",
       "328  With You \\nLast night I couldn't sleep\\nI foun...       NaN  \n",
       "356  Give It to You \\nYou say it's been too long\\nS...       NaN  \n",
       "842  Better Than Me \\nBoy, I got my eyes on you\\nGu...       NaN  \n",
       "\n",
       "[5 rows x 28 columns]"
      ]
     },
     "execution_count": 16,
     "metadata": {},
     "output_type": "execute_result"
    }
   ],
   "source": [
    "sa.head()"
   ]
  },
  {
   "cell_type": "markdown",
   "metadata": {},
   "source": [
    "A su vez una tabla con los valores independientes"
   ]
  },
  {
   "cell_type": "code",
   "execution_count": 17,
   "metadata": {},
   "outputs": [
    {
     "name": "stdout",
     "output_type": "stream",
     "text": [
      "(154931, 18)\n"
     ]
    },
    {
     "data": {
      "text/html": [
       "<div>\n",
       "<style scoped>\n",
       "    .dataframe tbody tr th:only-of-type {\n",
       "        vertical-align: middle;\n",
       "    }\n",
       "\n",
       "    .dataframe tbody tr th {\n",
       "        vertical-align: top;\n",
       "    }\n",
       "\n",
       "    .dataframe thead th {\n",
       "        text-align: right;\n",
       "    }\n",
       "</style>\n",
       "<table border=\"1\" class=\"dataframe\">\n",
       "  <thead>\n",
       "    <tr style=\"text-align: right;\">\n",
       "      <th></th>\n",
       "      <th>Unnamed: 0</th>\n",
       "      <th>Acousticness</th>\n",
       "      <th>Album</th>\n",
       "      <th>Artists</th>\n",
       "      <th>Danceability</th>\n",
       "      <th>Duration</th>\n",
       "      <th>Energy</th>\n",
       "      <th>Explicit</th>\n",
       "      <th>Instrumentalness</th>\n",
       "      <th>Liveness</th>\n",
       "      <th>Loudness</th>\n",
       "      <th>Mode</th>\n",
       "      <th>Name</th>\n",
       "      <th>Popularity</th>\n",
       "      <th>Speechiness</th>\n",
       "      <th>Tempo</th>\n",
       "      <th>TimeSignature</th>\n",
       "      <th>Valence</th>\n",
       "    </tr>\n",
       "  </thead>\n",
       "  <tbody>\n",
       "    <tr>\n",
       "      <th>0</th>\n",
       "      <td>0</td>\n",
       "      <td>0.000728</td>\n",
       "      <td>Collective Soul (Deluxe Version)</td>\n",
       "      <td>Collective Soul</td>\n",
       "      <td>0.520</td>\n",
       "      <td>234947</td>\n",
       "      <td>0.904</td>\n",
       "      <td>False</td>\n",
       "      <td>0.010300</td>\n",
       "      <td>0.0634</td>\n",
       "      <td>-5.030</td>\n",
       "      <td>1</td>\n",
       "      <td>Welcome All Again</td>\n",
       "      <td>35</td>\n",
       "      <td>0.0309</td>\n",
       "      <td>106.022</td>\n",
       "      <td>4</td>\n",
       "      <td>0.365</td>\n",
       "    </tr>\n",
       "    <tr>\n",
       "      <th>1</th>\n",
       "      <td>1</td>\n",
       "      <td>0.018200</td>\n",
       "      <td>Collective Soul (Deluxe Version)</td>\n",
       "      <td>Collective Soul</td>\n",
       "      <td>0.581</td>\n",
       "      <td>239573</td>\n",
       "      <td>0.709</td>\n",
       "      <td>False</td>\n",
       "      <td>0.000664</td>\n",
       "      <td>0.1740</td>\n",
       "      <td>-4.909</td>\n",
       "      <td>1</td>\n",
       "      <td>Fuzzy</td>\n",
       "      <td>31</td>\n",
       "      <td>0.0282</td>\n",
       "      <td>120.027</td>\n",
       "      <td>4</td>\n",
       "      <td>0.408</td>\n",
       "    </tr>\n",
       "    <tr>\n",
       "      <th>2</th>\n",
       "      <td>2</td>\n",
       "      <td>0.000473</td>\n",
       "      <td>Collective Soul (Deluxe Version)</td>\n",
       "      <td>Collective Soul</td>\n",
       "      <td>0.572</td>\n",
       "      <td>198400</td>\n",
       "      <td>0.918</td>\n",
       "      <td>False</td>\n",
       "      <td>0.000431</td>\n",
       "      <td>0.0977</td>\n",
       "      <td>-3.324</td>\n",
       "      <td>0</td>\n",
       "      <td>Dig</td>\n",
       "      <td>30</td>\n",
       "      <td>0.0559</td>\n",
       "      <td>144.061</td>\n",
       "      <td>4</td>\n",
       "      <td>0.370</td>\n",
       "    </tr>\n",
       "    <tr>\n",
       "      <th>3</th>\n",
       "      <td>3</td>\n",
       "      <td>0.000970</td>\n",
       "      <td>Collective Soul (Deluxe Version)</td>\n",
       "      <td>Collective Soul</td>\n",
       "      <td>0.596</td>\n",
       "      <td>231453</td>\n",
       "      <td>0.661</td>\n",
       "      <td>False</td>\n",
       "      <td>0.000033</td>\n",
       "      <td>0.1130</td>\n",
       "      <td>-5.051</td>\n",
       "      <td>1</td>\n",
       "      <td>You</td>\n",
       "      <td>35</td>\n",
       "      <td>0.0254</td>\n",
       "      <td>111.975</td>\n",
       "      <td>4</td>\n",
       "      <td>0.183</td>\n",
       "    </tr>\n",
       "    <tr>\n",
       "      <th>4</th>\n",
       "      <td>4</td>\n",
       "      <td>0.000036</td>\n",
       "      <td>Collective Soul (Deluxe Version)</td>\n",
       "      <td>Collective Soul</td>\n",
       "      <td>0.520</td>\n",
       "      <td>222520</td>\n",
       "      <td>0.808</td>\n",
       "      <td>False</td>\n",
       "      <td>0.000010</td>\n",
       "      <td>0.0800</td>\n",
       "      <td>-4.553</td>\n",
       "      <td>0</td>\n",
       "      <td>My Days</td>\n",
       "      <td>21</td>\n",
       "      <td>0.0318</td>\n",
       "      <td>92.721</td>\n",
       "      <td>4</td>\n",
       "      <td>0.666</td>\n",
       "    </tr>\n",
       "  </tbody>\n",
       "</table>\n",
       "</div>"
      ],
      "text/plain": [
       "   Unnamed: 0  Acousticness                             Album  \\\n",
       "0           0      0.000728  Collective Soul (Deluxe Version)   \n",
       "1           1      0.018200  Collective Soul (Deluxe Version)   \n",
       "2           2      0.000473  Collective Soul (Deluxe Version)   \n",
       "3           3      0.000970  Collective Soul (Deluxe Version)   \n",
       "4           4      0.000036  Collective Soul (Deluxe Version)   \n",
       "\n",
       "           Artists  Danceability  Duration  Energy  Explicit  \\\n",
       "0  Collective Soul         0.520    234947   0.904     False   \n",
       "1  Collective Soul         0.581    239573   0.709     False   \n",
       "2  Collective Soul         0.572    198400   0.918     False   \n",
       "3  Collective Soul         0.596    231453   0.661     False   \n",
       "4  Collective Soul         0.520    222520   0.808     False   \n",
       "\n",
       "   Instrumentalness  Liveness  Loudness  Mode               Name  Popularity  \\\n",
       "0          0.010300    0.0634    -5.030     1  Welcome All Again          35   \n",
       "1          0.000664    0.1740    -4.909     1              Fuzzy          31   \n",
       "2          0.000431    0.0977    -3.324     0                Dig          30   \n",
       "3          0.000033    0.1130    -5.051     1                You          35   \n",
       "4          0.000010    0.0800    -4.553     0            My Days          21   \n",
       "\n",
       "   Speechiness    Tempo  TimeSignature  Valence  \n",
       "0       0.0309  106.022              4    0.365  \n",
       "1       0.0282  120.027              4    0.408  \n",
       "2       0.0559  144.061              4    0.370  \n",
       "3       0.0254  111.975              4    0.183  \n",
       "4       0.0318   92.721              4    0.666  "
      ]
     },
     "execution_count": 17,
     "metadata": {},
     "output_type": "execute_result"
    }
   ],
   "source": [
    "print(songAttributes.shape)#dimensión de la tabla song attributes.\n",
    "songAttributes.head()"
   ]
  },
  {
   "cell_type": "code",
   "execution_count": 18,
   "metadata": {
    "scrolled": true
   },
   "outputs": [
    {
     "data": {
      "image/png": "[encoded data removed]",
      "text/plain": [
       "<Figure size 720x360 with 1 Axes>"
      ]
     },
     "metadata": {
      "needs_background": "light"
     },
     "output_type": "display_data"
    }
   ],
   "source": [
    "explicit = songAttributes.Explicit.value_counts(normalize=True)\n",
    "df2 = pd.DataFrame([\n",
    "                    [\"False\",explicit[0]],\n",
    "                    [\"True\",explicit[1]]\n",
    "                    ],\n",
    "                    columns=[\"State\",\"Frecuency\"])\n",
    "\n",
    "\n",
    "ax  = df2.plot.barh(x = \"State\", y = \"Frecuency\", xticks = [k/10 for k in list(range(11))], figsize = (10,5))\n",
    "ax.set(xlabel = \"Frecuencia\", ylabel = \"Estado\", title = \"Frecuencia de Canciones Explícitas Canciones Populares de Spotify\")\n",
    "ax.grid(linestyle='-', linewidth=0.4)\n",
    "plt.show()"
   ]
  },
  {
   "cell_type": "markdown",
   "metadata": {
    "id": "tnPOOOvV-6zK"
   },
   "source": [
    "# Preguntas y problemas"
   ]
  },
  {
   "cell_type": "markdown",
   "metadata": {},
   "source": [
    "Preguntas y problemas\n",
    " Despues de haber analizando y planteado las tablas con sus respectivos datos sabemos que todas las tablas poseen una medida de popularidad, alcance o ventas, que miden la influencia de la canción artista y/o album, al mismo tiempo se puede ver que estos rankings son distintos ya que spotify tiene una base de datos distinta a las demas tablas (Billboard's, Grammy's) Por lo cual podemos manejarnos entre las tablas midiendo la popularidad con las siguientes preguntas:\n",
    " \n",
    "- ¿Que hace que ciertos géneros musicales se mantengan mas tiempo con popularidad?\n",
    "\n",
    "Hay Géneros que se mantienen atemporales y siempre figuran en los charts en el transcurso de los 20 años que se registran como es el caso del POP que es el que aparece más veces en la base de datos.\n",
    "\n",
    "- ¿Qué genero musical llegará al top 1 del Billboard la semana del 13 de Julio del 2019?\n",
    "\n",
    "El objetivo es estudiar basado en los top anteriores ver si hay algún patrón que permita predecir el género musical de la próxima canción en llegar al primer puesto.\n",
    "\n",
    "- ¿Qué conjunto de atributos extraídos de las canciones, representa de mejor manera las diferencias entre géneros? \n",
    "\n",
    "El objetivo de esta pregunta es ver como las canciones pertenecientes a ciertos géneros se diferencian de otras de otros géneros musicales."
   ]
  },
  {
   "cell_type": "markdown",
   "metadata": {},
   "source": [
    "# Metodologías Preguntas"
   ]
  },
  {
   "cell_type": "markdown",
   "metadata": {},
   "source": [
    ">Pregunta 1: Planteamos la pregunta de modo que se puedan agrupar distintas características de los géneros mediante clustering para poder asi encontrar patrones que poseen los géneros con mayor cantidad de apariciones en el chart del billboard y los patrones que poseen los géneros que no perduran en este último, para asi comparar estos atributos y determinar si existen ciertos patrones convincentes para determinar canciones que perduren en el billboard y/o tengan un mayor número de apariciones\n",
    "de modo que se agruparan las tablas de los billboardhot100, songatributes, grammyawards y ArtistDF para tener distintas agrupaciones posibles para analizar der forma más efectiva los datasets.\n"
   ]
  },
  {
   "cell_type": "markdown",
   "metadata": {},
   "source": [
    ">Pregunta 2: El objetivo de la pregunta es entrenar un clasificador que permita encontrar patrones y predecir el comportamiento del billboard para así encontrar la canción top 1 de una semana, y de ésta manera predecir la semana siguiente a la última del dataset. Se puede probar con distintos algoritmos de clasificación y usar gridSearchCV para encontrar el mejor algoritmo y los mejores parámetros que permitan predecirla. También se puede utilizar cross validation para entrenar el clasificador con distintos subconjuntos y así iterar para obtener mejores resultados. Para no utilizar tantos géneros distintos y extraños, se considerarán los 6 géneros más populares en el Billboard."
   ]
  },
  {
   "cell_type": "markdown",
   "metadata": {},
   "source": [
    ">Pregunta 3: Como no tenemos en la tabla de songAttributes no tiene como atributo el género musical de la canción, se tiene a mano una tabla (sa, del gráfico de cajas) que solo tiene las canciones que estuvieron en el billboard y en songAttributes donde se puede obtener los atributos de las canciones y su género respectivo, la idea es generar cluster's que en teoría deberían agruparse según géneros musicales por lo primero se evaluará la pureza de estos, por lo que se usáran distintas formas de hacer cluster's, es decir, se usarán métodos como k-means, los dendogramas, etc. Si no se obtienen cluster's puros se procederá con subconjuntos de atributos para así encontrar donde más se diferencian los géneros musicales. Para facilitar el estudio de esto se tomarán los géneros musicales más populares anteriormente encontrados, asignando uno por canción, si la canción no tiene un género popular se le asignará uno que tenga cierto sentido o se dejará como outlier de los datos."
   ]
  },
  {
   "cell_type": "code",
   "execution_count": null,
   "metadata": {},
   "outputs": [],
   "source": []
  }
 ],
 "metadata": {
  "colab": {
   "provenance": []
  },
  "kernelspec": {
   "display_name": "Python 3 (ipykernel)",
   "language": "python",
   "name": "python3"
  },
  "language_info": {
   "codemirror_mode": {
    "name": "ipython",
    "version": 3
   },
   "file_extension": ".py",
   "mimetype": "text/x-python",
   "name": "python",
   "nbconvert_exporter": "python",
   "pygments_lexer": "ipython3",
   "version": "3.9.12"
  },
  "vscode": {
   "interpreter": {
    "hash": "b17c1a5022d052bb9c4a02d0d913da2d95460e62742ebcd7751f2ae871a25653"
   }
  }
 },
 "nbformat": 4,
 "nbformat_minor": 1
}
