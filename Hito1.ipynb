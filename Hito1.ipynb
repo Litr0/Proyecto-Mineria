{
  "cells": [
    {
      "cell_type": "markdown",
      "metadata": {
        "id": "1ZtWGAlV-6y9"
      },
      "source": [
        "# Hito 1\n",
        "**Nombres:** Gonzalo Sobarzo, Hernán Ulloa, Alexander Reisenegger, Ignacio Huenchumil.\n",
        "\n",
        "**Fecha:** Septiembre 2022\n",
        "\n",
        "**Grupo:** 11\n",
        "\n",
        "**Curso:** CC5205\n",
        "\n",
        "**Cuerpo docente:** Andres Abeliuk, Hernán Sarmiento,  Cinthia Sánchez, Jorge Ortiz"
      ]
    },
    {
      "cell_type": "markdown",
      "metadata": {
        "id": "RI5HO0KT-6zF"
      },
      "source": [
        "# Introducción\n",
        "Como equipo buscamos una base de datos de música para así llevar a cabo un estudio de datos para poder predecir (y corroborar) distintos comportamientos de los consumidores de música, como por ejemplo, buscar potenciales hits sabiendo la trayectoria del artista o tal vez un posible remix al ver la popularidad de la canción original de modo que se estudiaran distintas influencia de los atributos de las canciones en su éxito.\n",
        "\n",
        "Nuestra base de datos consta de distintos premios y certificaciones para canciones, albumes, artistas y a su vez cuanto tiempo se mantuvo popular, de modo que solo se muestran canciones que sean éxitos del momento tanto en spotify como en la lista de billboard, esto sera útil para poder predecir distintos atributos de una canción o artista y así enfocar nuestro proyecto al análisis de tendecias musicales.\n",
        "\n"
      ]
    },
    {
      "cell_type": "markdown",
      "metadata": {
        "id": "npUkPiMH-6zI"
      },
      "source": [
        "# Exploración de datos\n"
      ]
    },
    {
      "cell_type": "markdown",
      "metadata": {
        "id": "tnPOOOvV-6zK"
      },
      "source": [
        "# Preguntas y problemas"
      ]
    }
  ],
  "metadata": {
    "kernelspec": {
      "display_name": "Python 3",
      "language": "python",
      "name": "python3"
    },
    "language_info": {
      "codemirror_mode": {
        "name": "ipython",
        "version": 3
      },
      "file_extension": ".py",
      "mimetype": "text/x-python",
      "name": "python",
      "nbconvert_exporter": "python",
      "pygments_lexer": "ipython3",
      "version": "3.8.5"
    },
    "colab": {
      "provenance": []
    }
  },
  "nbformat": 4,
  "nbformat_minor": 0
}