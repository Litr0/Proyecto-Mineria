{
  "cells": [
    {
      "cell_type": "markdown",
      "metadata": {
        "id": "1ZtWGAlV-6y9"
      },
      "source": [
        "# Hito 1\n",
        "**Nombres:** Gonzalo Sobarzo, Hernán Ulloa, Alexander Reisenegger, Ignacio Huenchumil.\n",
        "\n",
        "**Fecha:** Septiembre 2022\n",
        "\n",
        "**Grupo:** 11\n",
        "\n",
        "**Curso:** CC5205\n",
        "\n",
        "**Cuerpo docente:** Andres Abeliuk, Hernán Sarmiento,  Cinthia Sánchez, Jorge Ortiz"
      ]
    },
    {
      "cell_type": "markdown",
      "metadata": {
        "id": "RI5HO0KT-6zF"
      },
      "source": [
        "# Introducción\n",
        "Como equipo buscamos una base de datos de música para así llevar a cabo un estudio de datos para poder predecir (y corroborar) distintos comportamientos de los consumidores de música, a su vez, poder investigar sobre los artistas y su impacto en el medio viendo sus ventas y su duarción estando en el ranking mundial ya sea en spotify o en los grammys. este tipo de influencias se pueden ir analizando para llegar a diferentes concluciones como por ejemplo, buscar potenciales hits sabiendo la trayectoria del artista o tal vez un posible remix al ver la popularidad de la canción original de modo que se estudiaran distintas influencias de los atributos de las canciones en su éxito y cuanto perduran en el tiempo con mineria de datos para asi buscar efectivamente patrones dentro de nuestra base de datos para poder llegar a esos resultados o encontrar patrones desconocidos para darles una explicación a ciertos fenomenos ocurridos dentro del mundo de la música.\n",
        "\n",
        "Nuestra base de datos consta de distintos premios y certificaciones para canciones, albumes, artistas y a su vez cuanto tiempo se mantuvo popular, de modo que solo se muestran canciones que sean éxitos del momento o sus respectivos artistas, tanto en spotify como en la lista de billboard, lo que nos deja una muestra de datos mucho más valiosa, esto sera útil para poder predecir distintos atributos de una canción o artista y así enfocar nuestro proyecto al análisis de tendecias musicales globales.\n",
        "\n",
        "Al tener una base de datos estática que llega hasta el año 2019 podemos revisar ciertos resultados de patrones que obtengamos y compararlo a la actualidad para poder finalemnte corroborar lo acertado o equivocado que estaban ciertas predicciones y/o patrones que eran lógicas en ese tiempo (1999 - 2019). Esto es sumamente util ya que poder verificar ciertas predicciones puede ayudar a la interpretación de los datos para asi tener conclusiones más acertadas y actuales, mientras que al tambien poderse descartar ayuda a no profundizar mucho dentro de una predicción que es una causa perdida asi optimizando el tiempo de trabajo con investigación muscial.\n"
      ]
    },
    {
      "cell_type": "markdown",
      "metadata": {
        "id": "npUkPiMH-6zI"
      },
      "source": [
        "# Exploración de datos\n",
        "El dataset consiste de 8 tablas, una que contiene datos de las canciones que aparecen en la lista billboard 100 cada semana desde 1999 hasta 2019, incluyendo datos como el título, los artistas, los géneros de la cancion, artistas invitados y cuántas semanas ha pasado en el top hasta la fecha, teniendo en cuenta la cantidad de semanas en la lista billboard se puede saber de forma directa la longevidad de el éxito musical del artista en cuestion,  también una tabla que contiene datos de cada artista que ha aparecido en esa lista en dicho período de tiempo, posee atributos como el género musical, sus seguidores y si son solistas o un grupo. También incluye 2 listas de los premios Grammy en el mismo intervalo de tiempo, una sobre canciones y una sobre los álbumes. Además una tabla de singles y una de álbumes según su certificación RIAA, también en el mismo período (certifica cuántas copias vendieron, por ejemplo certificación diamante, platino, multi platino, oro, diamante varias veces, entre otros). Por último hay 2 tablas de las canciones más populares de spotify desde 2016 hasta 2019, también semanales. Una tiene los datos generales del top 200 semanal como la cantidad de reproducciones y el nombre entre otros, y la otra tiene atributos para cada canción como por ejemplo energía, si está en modo mayor o menor, bailabilidad, duración, si es explicita o no, etc.\n",
        "\n",
        "Hay múltiples dudas que se puede plantear al respecto, por ejemplo la canción Radioactive de Imagine Dragons pasó casi 2 años en el Billboard 100, y sería interesante analizar por qué una canción mantiene su popularidad, mientras otras sólo se quedan en la fama por un corto período."
      ]
    },
    {
      "cell_type": "code",
      "execution_count": null,
      "metadata": {
        "id": "RA0U6cHBjDAu"
      },
      "outputs": [],
      "source": [
        "import pandas as pd\n",
        "\n",
        "spotifyWeeklyTop = pd.read_csv('data/kaggle/BillboardFromLast20/spotifyWeeklyTop200Streams.csv')\n",
        "songAttributes = pd.read_csv('data/kaggle/BillboardFromLast20/songAttributes_1999-2019.csv')\n",
        "riaaSingleCerts = pd.read_csv('data/kaggle/BillboardFromLast20/riaaSingleCerts_1999-2019.csv')\n",
        "riaaAlbumCerts = pd.read_csv('data/kaggle/BillboardFromLast20/riaaAlbumCerts_1999-2019.csv')\n",
        "grammySongs = pd.read_csv('data/kaggle/BillboardFromLast20/grammySongs_1999-2019.csv')\n",
        "grammyAlbums = pd.read_csv('data/kaggle/BillboardFromLast20/grammyAlbums_199-2019.csv')\n",
        "billboardHot100 = pd.read_csv('data/kaggle/BillboardFromLast20/billboardHot100_1999-2019.csv')\n"
      ]
    },
    {
      "cell_type": "markdown",
      "metadata": {
        "id": "tnPOOOvV-6zK"
      },
      "source": [
        "# Preguntas y problemas\n",
        " Despues de haber analizando y planteado las tablas con sus respectivos datos se puede ver que estos rankings son diferentes ya que son bases de datos distintas entre ellas (Spotify, RIAA, Billboars, Grammys), ademas se puede revisar en que momento de la historia estas canciones tubieron impacto y cuando dejaron de tener repercusión dentro del medio, que es util para referenciar ciertas canciones a momentos que fueron noticia mundial en su momento y por último sabemos que todas las tablas poseen una medida de popularidad, alcance o ventas, que miden la influencia de la canción artista y/o album, son bastante representativas para la influencia del artista tanto en premios como en reproducciones , Por lo cual podemos manejarnos entre las tablas midiendo la popularidad con las siguientes preguntas:\n",
        "- ¿Que hace que ciertos géneros musicales se mantengan mas tiempo con popularidad?\n",
        "- ¿Que hace que ciertas canciones suenan mas, mucho tiempo despues de haber salido? (se puede ver con los remix, mashups, covers).\n",
        "- ¿Ciertos generos se benefician de ser o no explicitos? (metal, rap, trap y memes son buenos puntos de referncia).\n"
      ]
    }
  ],
  "metadata": {
    "colab": {
      "provenance": []
    },
    "kernelspec": {
      "display_name": "Python 3.10.4 ('u-md')",
      "language": "python",
      "name": "python3"
    },
    "language_info": {
      "codemirror_mode": {
        "name": "ipython",
        "version": 3
      },
      "file_extension": ".py",
      "mimetype": "text/x-python",
      "name": "python",
      "nbconvert_exporter": "python",
      "pygments_lexer": "ipython3",
      "version": "3.10.4"
    },
    "vscode": {
      "interpreter": {
        "hash": "b17c1a5022d052bb9c4a02d0d913da2d95460e62742ebcd7751f2ae871a25653"
      }
    }
  },
  "nbformat": 4,
  "nbformat_minor": 0
}