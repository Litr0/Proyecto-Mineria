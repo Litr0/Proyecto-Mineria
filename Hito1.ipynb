{
 "cells": [
  {
   "cell_type": "markdown",
   "metadata": {
    "id": "1ZtWGAlV-6y9"
   },
   "source": [
    "# Hito 2\n",
    "**Nombres:** Gonzalo Sobarzo, Hernán Ulloa, Alexander Reisenegger, Ignacio Huenchumil.\n",
    "\n",
    "**Fecha:** Noviembre 2022\n",
    "\n",
    "**Grupo:** 11\n",
    "\n",
    "**Curso:** CC5205\n",
    "\n",
    "**Cuerpo docente:** Andres Abeliuk, Hernán Sarmiento,  Cinthia Sánchez, Jorge Ortiz"
   ]
  },
  {
   "cell_type": "markdown",
   "metadata": {
    "id": "RI5HO0KT-6zF"
   },
   "source": [
    "# Introducción\n",
    "Como equipo buscamos una base de datos de música para así llevar a cabo un estudio de datos para poder predecir (y corroborar) distintos comportamientos de los consumidores de música, como por ejemplo, buscar potenciales hits sabiendo la trayectoria del artista o tal vez un posible remix al ver la popularidad de la canción original de modo que se estudiaran distintas influencia de los atributos de las canciones en su éxito.\n",
    "\n",
    "Nuestra base de datos consta de distintos premios y certificaciones para canciones, albumes, artistas y a su vez cuanto tiempo se mantuvo popular, de modo que solo se muestran canciones que sean éxitos del momento tanto en spotify como en la lista de billboard, esto sera útil para poder predecir distintos atributos de una canción o artista y así enfocar nuestro proyecto al análisis de tendecias musicales.\n",
    "\n"
   ]
  },
  {
   "cell_type": "markdown",
   "metadata": {
    "id": "npUkPiMH-6zI"
   },
   "source": [
    "# Exploración de datos\n",
    "El dataset consiste de 8 tablas (fuente del dataset:https://www.kaggle.com/datasets/danield2255/data-on-songs-from-billboard-19992019), una que contiene datos de las canciones que aparecen en la lista billboard 100 cada semana desde 1999 hasta 2019, incluyendo datos como el título, los artistas, los géneros de la cancion, artistas invitados y cuántas semanas ha pasado en el top hasta la fecha, y tabién una tabla que contiene datos de cada artista que ha aparecido en esa lista en dicho período de tiempo. También incluye 2 listas de los premios Grammy en el mismo intervalo de tiempo, una sobre canciones y una sobre los álbumes. Además una tabla de singles y una de álbumes según su certificación RIAA, también en el mismo período (certifica cuántas copias vendieron, por ejemplo certificación diamante, platino, multi platino, oro, diamante varias veces, entre otros). Por último hay 2 tablas de las canciones más populares de spotify desde 2016 hasta 2019, también semanales. Una tiene los datos generales del top 200 semanal como la cantidad de reproducciones y el nombre entre otros, y la otra tiene atributos para cada canción como por ejemplo energía, si está en modo mayor o menor, bailabilidad, etc.\n",
    "\n",
    "Hay múltiples dudas que se puede plantear al respecto, por ejemplo la canción Radioactive de Imagine Dragons pasó casi 2 años en el Billboard 100, y sería interesante analizar por qué una canción mantiene su popularidad, mientras otras sólo se quedan en la fama por un corto período.\n"
   ]
  },
  {
   "cell_type": "code",
   "execution_count": 1,
   "metadata": {},
   "outputs": [],
   "source": [
    "import pandas as pd\n",
    "import matplotlib.pyplot as plt\n",
    "import seaborn as sns\n",
    "import numpy as np"
   ]
  },
  {
   "cell_type": "code",
   "execution_count": 2,
   "metadata": {
    "id": "RA0U6cHBjDAu"
   },
   "outputs": [],
   "source": [
    "artistDf = pd.read_csv('data/artistDf.csv')\n",
    "spotifyWeeklyTop = pd.read_csv('data/spotifyWeeklyTop200Streams.csv')\n",
    "songAttributes = pd.read_csv('data/songAttributes_1999-2019.csv')\n",
    "grammySongs = pd.read_csv('data/grammySongs_1999-2019.csv', sep = ';')\n",
    "billboardHot100 = pd.read_csv('data/billboardHot100_1999-2019.csv')"
   ]
  },
  {
   "cell_type": "markdown",
   "metadata": {},
   "source": [
    "En la siguiente tabla se ve que Imagine Dragons Paso 87 semanas en el Chart:"
   ]
  },
  {
   "cell_type": "code",
   "execution_count": 3,
   "metadata": {
    "scrolled": false
   },
   "outputs": [
    {
     "data": {
      "text/html": [
       "<div>\n",
       "<style scoped>\n",
       "    .dataframe tbody tr th:only-of-type {\n",
       "        vertical-align: middle;\n",
       "    }\n",
       "\n",
       "    .dataframe tbody tr th {\n",
       "        vertical-align: top;\n",
       "    }\n",
       "\n",
       "    .dataframe thead th {\n",
       "        text-align: right;\n",
       "    }\n",
       "</style>\n",
       "<table border=\"1\" class=\"dataframe\">\n",
       "  <thead>\n",
       "    <tr style=\"text-align: right;\">\n",
       "      <th></th>\n",
       "      <th>Unnamed: 0</th>\n",
       "      <th>Artists</th>\n",
       "      <th>Name</th>\n",
       "      <th>Weekly.rank</th>\n",
       "      <th>Peak.position</th>\n",
       "      <th>Weeks.on.chart</th>\n",
       "      <th>Week</th>\n",
       "      <th>Date</th>\n",
       "      <th>Genre</th>\n",
       "      <th>Writing.Credits</th>\n",
       "      <th>Lyrics</th>\n",
       "      <th>Features</th>\n",
       "    </tr>\n",
       "  </thead>\n",
       "  <tbody>\n",
       "    <tr>\n",
       "      <th>25705</th>\n",
       "      <td>25706</td>\n",
       "      <td>Imagine Dragons</td>\n",
       "      <td>Radioactive</td>\n",
       "      <td>49</td>\n",
       "      <td>3.0</td>\n",
       "      <td>87.0</td>\n",
       "      <td>2014-05-09</td>\n",
       "      <td>February 14, 2012</td>\n",
       "      <td>Adult Alternative,Dubstep,Alternative Pop,Alte...</td>\n",
       "      <td>Imagine dragons, Daniel platzman, Wayne sermon...</td>\n",
       "      <td>Radioactive \\nWhoah-oh\\nWhoah-oh\\nWhoah-oh\\nWh...</td>\n",
       "      <td>NaN</td>\n",
       "    </tr>\n",
       "    <tr>\n",
       "      <th>26334</th>\n",
       "      <td>26335</td>\n",
       "      <td>AWOLNATION</td>\n",
       "      <td>Sail</td>\n",
       "      <td>45</td>\n",
       "      <td>17.0</td>\n",
       "      <td>79.0</td>\n",
       "      <td>2014-03-21</td>\n",
       "      <td>November 8, 2010</td>\n",
       "      <td>Electro-Pop,Pop-Rock,Alternative Rock,Industri...</td>\n",
       "      <td>Aaron bruno</td>\n",
       "      <td>Sail \\nSail!\\nThis is how I show my love\\nI ma...</td>\n",
       "      <td>NaN</td>\n",
       "    </tr>\n",
       "  </tbody>\n",
       "</table>\n",
       "</div>"
      ],
      "text/plain": [
       "       Unnamed: 0          Artists         Name  Weekly.rank  Peak.position  \\\n",
       "25705       25706  Imagine Dragons  Radioactive           49            3.0   \n",
       "26334       26335       AWOLNATION         Sail           45           17.0   \n",
       "\n",
       "       Weeks.on.chart        Week               Date  \\\n",
       "25705            87.0  2014-05-09  February 14, 2012   \n",
       "26334            79.0  2014-03-21   November 8, 2010   \n",
       "\n",
       "                                                   Genre  \\\n",
       "25705  Adult Alternative,Dubstep,Alternative Pop,Alte...   \n",
       "26334  Electro-Pop,Pop-Rock,Alternative Rock,Industri...   \n",
       "\n",
       "                                         Writing.Credits  \\\n",
       "25705  Imagine dragons, Daniel platzman, Wayne sermon...   \n",
       "26334                                        Aaron bruno   \n",
       "\n",
       "                                                  Lyrics Features  \n",
       "25705  Radioactive \\nWhoah-oh\\nWhoah-oh\\nWhoah-oh\\nWh...      NaN  \n",
       "26334  Sail \\nSail!\\nThis is how I show my love\\nI ma...      NaN  "
      ]
     },
     "execution_count": 3,
     "metadata": {},
     "output_type": "execute_result"
    }
   ],
   "source": [
    "songs = billboardHot100.drop_duplicates(subset = ['Artists', 'Name'])\n",
    "songs.sort_values(by = ['Weeks.on.chart'], ascending = False).head(2)"
   ]
  },
  {
   "cell_type": "markdown",
   "metadata": {},
   "source": [
    "En esta tabla se puede ver una descripción de cada artista"
   ]
  },
  {
   "cell_type": "code",
   "execution_count": 4,
   "metadata": {},
   "outputs": [
    {
     "name": "stdout",
     "output_type": "stream",
     "text": [
      "(1035, 8)\n"
     ]
    },
    {
     "data": {
      "text/html": [
       "<div>\n",
       "<style scoped>\n",
       "    .dataframe tbody tr th:only-of-type {\n",
       "        vertical-align: middle;\n",
       "    }\n",
       "\n",
       "    .dataframe tbody tr th {\n",
       "        vertical-align: top;\n",
       "    }\n",
       "\n",
       "    .dataframe thead th {\n",
       "        text-align: right;\n",
       "    }\n",
       "</style>\n",
       "<table border=\"1\" class=\"dataframe\">\n",
       "  <thead>\n",
       "    <tr style=\"text-align: right;\">\n",
       "      <th></th>\n",
       "      <th>X</th>\n",
       "      <th>Artist</th>\n",
       "      <th>Followers</th>\n",
       "      <th>Genres</th>\n",
       "      <th>NumAlbums</th>\n",
       "      <th>YearFirstAlbum</th>\n",
       "      <th>Gender</th>\n",
       "      <th>Group.Solo</th>\n",
       "    </tr>\n",
       "  </thead>\n",
       "  <tbody>\n",
       "    <tr>\n",
       "      <th>0</th>\n",
       "      <td>0</td>\n",
       "      <td>Ed Sheeran</td>\n",
       "      <td>52698756</td>\n",
       "      <td>pop,uk pop</td>\n",
       "      <td>8</td>\n",
       "      <td>2011</td>\n",
       "      <td>M</td>\n",
       "      <td>Solo</td>\n",
       "    </tr>\n",
       "    <tr>\n",
       "      <th>1</th>\n",
       "      <td>1</td>\n",
       "      <td>Justin Bieber</td>\n",
       "      <td>30711450</td>\n",
       "      <td>canadian pop,dance pop,pop,post-teen pop</td>\n",
       "      <td>10</td>\n",
       "      <td>2009</td>\n",
       "      <td>M</td>\n",
       "      <td>Solo</td>\n",
       "    </tr>\n",
       "    <tr>\n",
       "      <th>2</th>\n",
       "      <td>2</td>\n",
       "      <td>Jonas Brothers</td>\n",
       "      <td>3069527</td>\n",
       "      <td>boy band,dance pop,pop,post-teen pop</td>\n",
       "      <td>10</td>\n",
       "      <td>2006</td>\n",
       "      <td>M</td>\n",
       "      <td>Group</td>\n",
       "    </tr>\n",
       "    <tr>\n",
       "      <th>3</th>\n",
       "      <td>3</td>\n",
       "      <td>Drake</td>\n",
       "      <td>41420478</td>\n",
       "      <td>canadian hip hop,canadian pop,hip hop,pop rap,...</td>\n",
       "      <td>11</td>\n",
       "      <td>2010</td>\n",
       "      <td>M</td>\n",
       "      <td>Solo</td>\n",
       "    </tr>\n",
       "    <tr>\n",
       "      <th>4</th>\n",
       "      <td>4</td>\n",
       "      <td>Chris Brown</td>\n",
       "      <td>9676862</td>\n",
       "      <td>dance pop,pop,pop rap,r&amp;b,rap</td>\n",
       "      <td>6</td>\n",
       "      <td>2005</td>\n",
       "      <td>M</td>\n",
       "      <td>Solo</td>\n",
       "    </tr>\n",
       "  </tbody>\n",
       "</table>\n",
       "</div>"
      ],
      "text/plain": [
       "   X          Artist  Followers  \\\n",
       "0  0      Ed Sheeran   52698756   \n",
       "1  1   Justin Bieber   30711450   \n",
       "2  2  Jonas Brothers    3069527   \n",
       "3  3           Drake   41420478   \n",
       "4  4     Chris Brown    9676862   \n",
       "\n",
       "                                              Genres  NumAlbums  \\\n",
       "0                                         pop,uk pop          8   \n",
       "1           canadian pop,dance pop,pop,post-teen pop         10   \n",
       "2               boy band,dance pop,pop,post-teen pop         10   \n",
       "3  canadian hip hop,canadian pop,hip hop,pop rap,...         11   \n",
       "4                      dance pop,pop,pop rap,r&b,rap          6   \n",
       "\n",
       "   YearFirstAlbum Gender Group.Solo  \n",
       "0            2011      M       Solo  \n",
       "1            2009      M       Solo  \n",
       "2            2006      M      Group  \n",
       "3            2010      M       Solo  \n",
       "4            2005      M       Solo  "
      ]
     },
     "execution_count": 4,
     "metadata": {},
     "output_type": "execute_result"
    }
   ],
   "source": [
    "print(artistDf.shape)#dimensión de la tabla de Artists\n",
    "artistDf.head()"
   ]
  },
  {
   "cell_type": "markdown",
   "metadata": {},
   "source": [
    "A continuación contaremos los que hace cada artista:"
   ]
  },
  {
   "cell_type": "code",
   "execution_count": 5,
   "metadata": {},
   "outputs": [
    {
     "data": {
      "text/html": [
       "<div>\n",
       "<style scoped>\n",
       "    .dataframe tbody tr th:only-of-type {\n",
       "        vertical-align: middle;\n",
       "    }\n",
       "\n",
       "    .dataframe tbody tr th {\n",
       "        vertical-align: top;\n",
       "    }\n",
       "\n",
       "    .dataframe thead th {\n",
       "        text-align: right;\n",
       "    }\n",
       "</style>\n",
       "<table border=\"1\" class=\"dataframe\">\n",
       "  <thead>\n",
       "    <tr style=\"text-align: right;\">\n",
       "      <th></th>\n",
       "      <th>X</th>\n",
       "      <th>Artist</th>\n",
       "      <th>Followers</th>\n",
       "      <th>Genres</th>\n",
       "      <th>NumAlbums</th>\n",
       "      <th>YearFirstAlbum</th>\n",
       "      <th>Gender</th>\n",
       "      <th>Group.Solo</th>\n",
       "    </tr>\n",
       "  </thead>\n",
       "  <tbody>\n",
       "    <tr>\n",
       "      <th>225</th>\n",
       "      <td>225</td>\n",
       "      <td>\"Weird Al\" Yankovic</td>\n",
       "      <td>428071</td>\n",
       "      <td>antiviral pop,comedy rock,comic</td>\n",
       "      <td>14</td>\n",
       "      <td>1983</td>\n",
       "      <td>M</td>\n",
       "      <td>Solo</td>\n",
       "    </tr>\n",
       "  </tbody>\n",
       "</table>\n",
       "</div>"
      ],
      "text/plain": [
       "       X               Artist  Followers                           Genres  \\\n",
       "225  225  \"Weird Al\" Yankovic     428071  antiviral pop,comedy rock,comic   \n",
       "\n",
       "     NumAlbums  YearFirstAlbum Gender Group.Solo  \n",
       "225         14            1983      M       Solo  "
      ]
     },
     "execution_count": 5,
     "metadata": {},
     "output_type": "execute_result"
    }
   ],
   "source": [
    "artistDf[artistDf['Artist'] == '\"Weird Al\" Yankovic']"
   ]
  },
  {
   "cell_type": "markdown",
   "metadata": {},
   "source": [
    "Como se observa en la siguiente lista obtenemos la cantidad de géneros musicales que maneja cada artista:"
   ]
  },
  {
   "cell_type": "code",
   "execution_count": 6,
   "metadata": {},
   "outputs": [
    {
     "name": "stderr",
     "output_type": "stream",
     "text": [
      "C:\\Users\\User\\AppData\\Local\\Temp\\ipykernel_7240\\1828432080.py:1: FutureWarning: Using the level keyword in DataFrame and Series aggregations is deprecated and will be removed in a future version. Use groupby instead. df.sum(level=1) should use df.groupby(level=1).sum().\n",
      "  genres_vect = artistDf.Genres.str.split(',', expand = True).stack().str.get_dummies().sum(level=0)\n"
     ]
    },
    {
     "data": {
      "text/plain": [
       "Artist\n",
       "\"Weird Al\" Yankovic     3\n",
       "10 Years                5\n",
       "112                    13\n",
       "2 Chainz                8\n",
       "2 Pistols               4\n",
       "Name: Total_Genres, dtype: int64"
      ]
     },
     "execution_count": 6,
     "metadata": {},
     "output_type": "execute_result"
    }
   ],
   "source": [
    "genres_vect = artistDf.Genres.str.split(',', expand = True).stack().str.get_dummies().sum(level=0)\n",
    "genres_vect['Artist'] = artistDf['Artist']\n",
    "genres_sum = genres_vect.groupby(['Artist']).sum().assign(Total_Genres = lambda x: x.sum(axis = 1))\n",
    "genres_sum['Total_Genres'].head()"
   ]
  },
  {
   "cell_type": "markdown",
   "metadata": {},
   "source": [
    "Podemos observar de forma simple el promedio de géneros que manejan los artistas del df y el máximo de géneros que maneja un único artista siendo este Arcade Fire con 16 géneros en total:"
   ]
  },
  {
   "cell_type": "code",
   "execution_count": 7,
   "metadata": {},
   "outputs": [
    {
     "name": "stdout",
     "output_type": "stream",
     "text": [
      "Promedio por artista: 5.333661417322834\n"
     ]
    },
    {
     "data": {
      "text/plain": [
       "Artist\n",
       "Arcade Fire    16\n",
       "Name: Total_Genres, dtype: int64"
      ]
     },
     "execution_count": 7,
     "metadata": {},
     "output_type": "execute_result"
    }
   ],
   "source": [
    "print(\"Promedio por artista: \" + str(genres_sum['Total_Genres'].mean()))\n",
    "genres_sum['Total_Genres'].sort_values(ascending = False).head(1)"
   ]
  },
  {
   "cell_type": "markdown",
   "metadata": {},
   "source": [
    "Ahora se muestra la tabla de datos con el top 5 de spotify la semana del 20 de julio de 2018"
   ]
  },
  {
   "cell_type": "code",
   "execution_count": 8,
   "metadata": {},
   "outputs": [
    {
     "name": "stdout",
     "output_type": "stream",
     "text": [
      "(26395, 6)\n"
     ]
    },
    {
     "data": {
      "text/html": [
       "<div>\n",
       "<style scoped>\n",
       "    .dataframe tbody tr th:only-of-type {\n",
       "        vertical-align: middle;\n",
       "    }\n",
       "\n",
       "    .dataframe tbody tr th {\n",
       "        vertical-align: top;\n",
       "    }\n",
       "\n",
       "    .dataframe thead th {\n",
       "        text-align: right;\n",
       "    }\n",
       "</style>\n",
       "<table border=\"1\" class=\"dataframe\">\n",
       "  <thead>\n",
       "    <tr style=\"text-align: right;\">\n",
       "      <th></th>\n",
       "      <th>Unnamed: 0</th>\n",
       "      <th>Name</th>\n",
       "      <th>Artist</th>\n",
       "      <th>Features</th>\n",
       "      <th>Streams</th>\n",
       "      <th>Week</th>\n",
       "    </tr>\n",
       "  </thead>\n",
       "  <tbody>\n",
       "    <tr>\n",
       "      <th>0</th>\n",
       "      <td>0</td>\n",
       "      <td>In My Feelings</td>\n",
       "      <td>Drake</td>\n",
       "      <td>NaN</td>\n",
       "      <td>30747676</td>\n",
       "      <td>2018-07-20</td>\n",
       "    </tr>\n",
       "    <tr>\n",
       "      <th>1</th>\n",
       "      <td>1</td>\n",
       "      <td>Lucid Dreams</td>\n",
       "      <td>Juice WRLD</td>\n",
       "      <td>NaN</td>\n",
       "      <td>12930705</td>\n",
       "      <td>2018-07-20</td>\n",
       "    </tr>\n",
       "    <tr>\n",
       "      <th>2</th>\n",
       "      <td>2</td>\n",
       "      <td>Nonstop</td>\n",
       "      <td>Drake</td>\n",
       "      <td>NaN</td>\n",
       "      <td>12312859</td>\n",
       "      <td>2018-07-20</td>\n",
       "    </tr>\n",
       "    <tr>\n",
       "      <th>3</th>\n",
       "      <td>3</td>\n",
       "      <td>God is a woman</td>\n",
       "      <td>Ariana Grande</td>\n",
       "      <td>NaN</td>\n",
       "      <td>10771324</td>\n",
       "      <td>2018-07-20</td>\n",
       "    </tr>\n",
       "    <tr>\n",
       "      <th>4</th>\n",
       "      <td>4</td>\n",
       "      <td>SAD!</td>\n",
       "      <td>XXXTENTACION</td>\n",
       "      <td>NaN</td>\n",
       "      <td>10503061</td>\n",
       "      <td>2018-07-20</td>\n",
       "    </tr>\n",
       "  </tbody>\n",
       "</table>\n",
       "</div>"
      ],
      "text/plain": [
       "   Unnamed: 0            Name         Artist Features   Streams        Week\n",
       "0           0  In My Feelings          Drake      NaN  30747676  2018-07-20\n",
       "1           1    Lucid Dreams     Juice WRLD      NaN  12930705  2018-07-20\n",
       "2           2         Nonstop          Drake      NaN  12312859  2018-07-20\n",
       "3           3  God is a woman  Ariana Grande      NaN  10771324  2018-07-20\n",
       "4           4            SAD!   XXXTENTACION      NaN  10503061  2018-07-20"
      ]
     },
     "execution_count": 8,
     "metadata": {},
     "output_type": "execute_result"
    }
   ],
   "source": [
    "print(spotifyWeeklyTop.shape) #dimensión de la tabla de canciones semanales en spotify.\n",
    "spotifyWeeklyTop.head()"
   ]
  },
  {
   "cell_type": "markdown",
   "metadata": {},
   "source": [
    "Tabla de datos con el top 5 de Billboarhot100 la semana del 6 de julio de 2019"
   ]
  },
  {
   "cell_type": "code",
   "execution_count": 9,
   "metadata": {},
   "outputs": [
    {
     "name": "stdout",
     "output_type": "stream",
     "text": [
      "(97225, 12)\n"
     ]
    },
    {
     "data": {
      "text/html": [
       "<div>\n",
       "<style scoped>\n",
       "    .dataframe tbody tr th:only-of-type {\n",
       "        vertical-align: middle;\n",
       "    }\n",
       "\n",
       "    .dataframe tbody tr th {\n",
       "        vertical-align: top;\n",
       "    }\n",
       "\n",
       "    .dataframe thead th {\n",
       "        text-align: right;\n",
       "    }\n",
       "</style>\n",
       "<table border=\"1\" class=\"dataframe\">\n",
       "  <thead>\n",
       "    <tr style=\"text-align: right;\">\n",
       "      <th></th>\n",
       "      <th>Unnamed: 0</th>\n",
       "      <th>Artists</th>\n",
       "      <th>Name</th>\n",
       "      <th>Weekly.rank</th>\n",
       "      <th>Peak.position</th>\n",
       "      <th>Weeks.on.chart</th>\n",
       "      <th>Week</th>\n",
       "      <th>Date</th>\n",
       "      <th>Genre</th>\n",
       "      <th>Writing.Credits</th>\n",
       "      <th>Lyrics</th>\n",
       "      <th>Features</th>\n",
       "    </tr>\n",
       "  </thead>\n",
       "  <tbody>\n",
       "    <tr>\n",
       "      <th>0</th>\n",
       "      <td>1</td>\n",
       "      <td>Lil Nas,</td>\n",
       "      <td>Old Town Road</td>\n",
       "      <td>1</td>\n",
       "      <td>1.0</td>\n",
       "      <td>7.0</td>\n",
       "      <td>2019-07-06</td>\n",
       "      <td>April 5, 2019</td>\n",
       "      <td>Country,Atlanta,Alternative Country,Hip-Hop,Tr...</td>\n",
       "      <td>Jozzy, Atticus ross, Trent reznor, Billy ray c...</td>\n",
       "      <td>Old Town Road Remix \\nOh, oh-oh\\nOh\\nYeah, I'm...</td>\n",
       "      <td>Billy Ray Cyrus</td>\n",
       "    </tr>\n",
       "    <tr>\n",
       "      <th>1</th>\n",
       "      <td>2</td>\n",
       "      <td>Shawn Mendes, Camila Cabello</td>\n",
       "      <td>Senorita</td>\n",
       "      <td>2</td>\n",
       "      <td>NaN</td>\n",
       "      <td>NaN</td>\n",
       "      <td>2019-07-06</td>\n",
       "      <td>June 21, 2019</td>\n",
       "      <td>Pop</td>\n",
       "      <td>Cashmere cat, Jack patterson, Charli xcx, Benn...</td>\n",
       "      <td>Senorita \\nI love it when you call me senorita...</td>\n",
       "      <td>NaN</td>\n",
       "    </tr>\n",
       "  </tbody>\n",
       "</table>\n",
       "</div>"
      ],
      "text/plain": [
       "   Unnamed: 0                       Artists           Name  Weekly.rank  \\\n",
       "0           1                      Lil Nas,  Old Town Road            1   \n",
       "1           2  Shawn Mendes, Camila Cabello       Senorita            2   \n",
       "\n",
       "   Peak.position  Weeks.on.chart        Week           Date  \\\n",
       "0            1.0             7.0  2019-07-06  April 5, 2019   \n",
       "1            NaN             NaN  2019-07-06  June 21, 2019   \n",
       "\n",
       "                                               Genre  \\\n",
       "0  Country,Atlanta,Alternative Country,Hip-Hop,Tr...   \n",
       "1                                                Pop   \n",
       "\n",
       "                                     Writing.Credits  \\\n",
       "0  Jozzy, Atticus ross, Trent reznor, Billy ray c...   \n",
       "1  Cashmere cat, Jack patterson, Charli xcx, Benn...   \n",
       "\n",
       "                                              Lyrics         Features  \n",
       "0  Old Town Road Remix \\nOh, oh-oh\\nOh\\nYeah, I'm...  Billy Ray Cyrus  \n",
       "1  Senorita \\nI love it when you call me senorita...              NaN  "
      ]
     },
     "execution_count": 9,
     "metadata": {},
     "output_type": "execute_result"
    }
   ],
   "source": [
    "print(billboardHot100.shape)#dimensión de la tabla de las canciones en el billboard.\n",
    "billboardHot100.head(2)"
   ]
  },
  {
   "cell_type": "code",
   "execution_count": 10,
   "metadata": {},
   "outputs": [],
   "source": [
    "dicc = {}\n",
    "i = 0\n",
    "for row, col in songs.iterrows():\n",
    "    aux = col['Genre'].split(',')\n",
    "    for k in aux:\n",
    "        if k in aux:\n",
    "            dicc[k] = dicc.get(k,0) + 1\n",
    "        i+=1"
   ]
  },
  {
   "cell_type": "code",
   "execution_count": 11,
   "metadata": {},
   "outputs": [],
   "source": [
    "gen = pd.DataFrame([[key, dicc[key]] for key in dicc.keys()], columns=['Genre', 'Frequency'])\n",
    "gen1_5 = gen.sort_values(by = ['Frequency'], ascending=False)"
   ]
  },
  {
   "cell_type": "code",
   "execution_count": 12,
   "metadata": {
    "scrolled": true
   },
   "outputs": [
    {
     "data": {
      "text/plain": [
       "(334, 2)"
      ]
     },
     "execution_count": 12,
     "metadata": {},
     "output_type": "execute_result"
    }
   ],
   "source": [
    "gen1_5 = gen.sort_values(by = ['Frequency'], ascending=False)\n",
    "gen1_5.shape"
   ]
  },
  {
   "cell_type": "markdown",
   "metadata": {},
   "source": [
    "En total hay 334 generos, por lo que conviene filtrar los 20 mas populares para el gráfico"
   ]
  },
  {
   "cell_type": "code",
   "execution_count": 13,
   "metadata": {},
   "outputs": [
    {
     "data": {
      "text/html": [
       "<div>\n",
       "<style scoped>\n",
       "    .dataframe tbody tr th:only-of-type {\n",
       "        vertical-align: middle;\n",
       "    }\n",
       "\n",
       "    .dataframe tbody tr th {\n",
       "        vertical-align: top;\n",
       "    }\n",
       "\n",
       "    .dataframe thead th {\n",
       "        text-align: right;\n",
       "    }\n",
       "</style>\n",
       "<table border=\"1\" class=\"dataframe\">\n",
       "  <thead>\n",
       "    <tr style=\"text-align: right;\">\n",
       "      <th></th>\n",
       "      <th>Genre</th>\n",
       "      <th>Frequency</th>\n",
       "    </tr>\n",
       "  </thead>\n",
       "  <tbody>\n",
       "    <tr>\n",
       "      <th>9</th>\n",
       "      <td>Pop</td>\n",
       "      <td>2994</td>\n",
       "    </tr>\n",
       "    <tr>\n",
       "      <th>8</th>\n",
       "      <td>Rap</td>\n",
       "      <td>2465</td>\n",
       "    </tr>\n",
       "    <tr>\n",
       "      <th>46</th>\n",
       "      <td>Rock</td>\n",
       "      <td>1538</td>\n",
       "    </tr>\n",
       "    <tr>\n",
       "      <th>30</th>\n",
       "      <td>R&amp;;B</td>\n",
       "      <td>1335</td>\n",
       "    </tr>\n",
       "    <tr>\n",
       "      <th>0</th>\n",
       "      <td>Country</td>\n",
       "      <td>1255</td>\n",
       "    </tr>\n",
       "    <tr>\n",
       "      <th>4</th>\n",
       "      <td>Trap</td>\n",
       "      <td>563</td>\n",
       "    </tr>\n",
       "    <tr>\n",
       "      <th>24</th>\n",
       "      <td>Pop-Rock</td>\n",
       "      <td>428</td>\n",
       "    </tr>\n",
       "    <tr>\n",
       "      <th>41</th>\n",
       "      <td>Alternative Rock</td>\n",
       "      <td>364</td>\n",
       "    </tr>\n",
       "    <tr>\n",
       "      <th>33</th>\n",
       "      <td>Soundtrack</td>\n",
       "      <td>357</td>\n",
       "    </tr>\n",
       "    <tr>\n",
       "      <th>20</th>\n",
       "      <td>Canada</td>\n",
       "      <td>327</td>\n",
       "    </tr>\n",
       "  </tbody>\n",
       "</table>\n",
       "</div>"
      ],
      "text/plain": [
       "               Genre  Frequency\n",
       "9                Pop       2994\n",
       "8                Rap       2465\n",
       "46              Rock       1538\n",
       "30              R&;B       1335\n",
       "0            Country       1255\n",
       "4               Trap        563\n",
       "24          Pop-Rock        428\n",
       "41  Alternative Rock        364\n",
       "33        Soundtrack        357\n",
       "20            Canada        327"
      ]
     },
     "execution_count": 13,
     "metadata": {},
     "output_type": "execute_result"
    }
   ],
   "source": [
    "gen2 = gen1_5.head(10)\n",
    "gen2"
   ]
  },
  {
   "cell_type": "markdown",
   "metadata": {},
   "source": [
    "En este gráfico de tablas se pueden ver los géneros mas recurrentes en el billboard top 100:"
   ]
  },
  {
   "cell_type": "code",
   "execution_count": 14,
   "metadata": {
    "scrolled": true
   },
   "outputs": [
    {
     "data": {
      "image/png": "[encoded data removed]",
      "text/plain": [
       "<Figure size 432x288 with 1 Axes>"
      ]
     },
     "metadata": {
      "needs_background": "light"
     },
     "output_type": "display_data"
    }
   ],
   "source": [
    "ax = gen2.plot.bar(x='Genre', y = 'Frequency', stacked=True, title = \"Géneros mas populares en el Billboard\")"
   ]
  },
  {
   "cell_type": "markdown",
   "metadata": {},
   "source": [
    "En esta tabla se pueden ver los premios grammy del 2018:"
   ]
  },
  {
   "cell_type": "code",
   "execution_count": 15,
   "metadata": {
    "scrolled": false
   },
   "outputs": [
    {
     "name": "stdout",
     "output_type": "stream",
     "text": [
      "(428, 7)\n"
     ]
    },
    {
     "data": {
      "text/html": [
       "<div>\n",
       "<style scoped>\n",
       "    .dataframe tbody tr th:only-of-type {\n",
       "        vertical-align: middle;\n",
       "    }\n",
       "\n",
       "    .dataframe tbody tr th {\n",
       "        vertical-align: top;\n",
       "    }\n",
       "\n",
       "    .dataframe thead th {\n",
       "        text-align: right;\n",
       "    }\n",
       "</style>\n",
       "<table border=\"1\" class=\"dataframe\">\n",
       "  <thead>\n",
       "    <tr style=\"text-align: right;\">\n",
       "      <th></th>\n",
       "      <th>Column1</th>\n",
       "      <th>X</th>\n",
       "      <th>GrammyAward</th>\n",
       "      <th>GrammyYear</th>\n",
       "      <th>Genre</th>\n",
       "      <th>Name</th>\n",
       "      <th>Artist</th>\n",
       "    </tr>\n",
       "  </thead>\n",
       "  <tbody>\n",
       "    <tr>\n",
       "      <th>0</th>\n",
       "      <td>1</td>\n",
       "      <td>0</td>\n",
       "      <td>Record Of The Year</td>\n",
       "      <td>2018</td>\n",
       "      <td>General</td>\n",
       "      <td>this is America</td>\n",
       "      <td>Childish Gambino</td>\n",
       "    </tr>\n",
       "    <tr>\n",
       "      <th>1</th>\n",
       "      <td>2</td>\n",
       "      <td>1</td>\n",
       "      <td>Song Of The Year</td>\n",
       "      <td>2018</td>\n",
       "      <td>General</td>\n",
       "      <td>this is America</td>\n",
       "      <td>Childish Gambino</td>\n",
       "    </tr>\n",
       "    <tr>\n",
       "      <th>2</th>\n",
       "      <td>3</td>\n",
       "      <td>2</td>\n",
       "      <td>Best Pop Solo Performance</td>\n",
       "      <td>2018</td>\n",
       "      <td>Pop</td>\n",
       "      <td>Joanne (where Do you Think You're Goin'?)</td>\n",
       "      <td>Lady Gaga</td>\n",
       "    </tr>\n",
       "    <tr>\n",
       "      <th>3</th>\n",
       "      <td>4</td>\n",
       "      <td>3</td>\n",
       "      <td>Best Pop Duo/Group Performance</td>\n",
       "      <td>2018</td>\n",
       "      <td>Pop</td>\n",
       "      <td>Shallow</td>\n",
       "      <td>Lady Gaga &amp; Bradley Cooper</td>\n",
       "    </tr>\n",
       "    <tr>\n",
       "      <th>4</th>\n",
       "      <td>5</td>\n",
       "      <td>4</td>\n",
       "      <td>Best Dance Recording</td>\n",
       "      <td>2018</td>\n",
       "      <td>Dance/Electronic Music</td>\n",
       "      <td>Electricity</td>\n",
       "      <td>Silk City &amp; Dua Lipa Featuring Diplo &amp; Mark Ro...</td>\n",
       "    </tr>\n",
       "  </tbody>\n",
       "</table>\n",
       "</div>"
      ],
      "text/plain": [
       "   Column1  X                     GrammyAward  GrammyYear  \\\n",
       "0        1  0              Record Of The Year        2018   \n",
       "1        2  1                Song Of The Year        2018   \n",
       "2        3  2       Best Pop Solo Performance        2018   \n",
       "3        4  3  Best Pop Duo/Group Performance        2018   \n",
       "4        5  4            Best Dance Recording        2018   \n",
       "\n",
       "                    Genre                                       Name  \\\n",
       "0                 General                            this is America   \n",
       "1                 General                            this is America   \n",
       "2                     Pop  Joanne (where Do you Think You're Goin'?)   \n",
       "3                     Pop                                    Shallow   \n",
       "4  Dance/Electronic Music                                Electricity   \n",
       "\n",
       "                                              Artist  \n",
       "0                                   Childish Gambino  \n",
       "1                                   Childish Gambino  \n",
       "2                                          Lady Gaga  \n",
       "3                         Lady Gaga & Bradley Cooper  \n",
       "4  Silk City & Dua Lipa Featuring Diplo & Mark Ro...  "
      ]
     },
     "execution_count": 15,
     "metadata": {},
     "output_type": "execute_result"
    }
   ],
   "source": [
    "print(grammySongs.shape)#dimensión de la tabla de canciones ganadora de los grammy's.\n",
    "grammySongs.head()"
   ]
  },
  {
   "cell_type": "markdown",
   "metadata": {},
   "source": [
    "En esta tabla se muestran los artistas con mayor número de seguidores en spotify:"
   ]
  },
  {
   "cell_type": "code",
   "execution_count": 16,
   "metadata": {},
   "outputs": [
    {
     "data": {
      "image/png": "[encoded data removed]",
      "text/plain": [
       "<Figure size 432x288 with 1 Axes>"
      ]
     },
     "metadata": {
      "needs_background": "light"
     },
     "output_type": "display_data"
    }
   ],
   "source": [
    "artist_p = artistDf.sort_values(by = ['Followers'], ascending=False)\n",
    "artist_p = artist_p.head(17)\n",
    "artist_p = artist_p.drop([769, 828]) #elimina play y cold, ya que eran versiones repetidas de coldplay\n",
    "ax = artist_p.plot.bar(x= 'Artist', y = 'Followers', stacked= True, title = \"Artistas con mas seguidores en Spotify\")"
   ]
  },
  {
   "cell_type": "markdown",
   "metadata": {},
   "source": [
    "La siguiente matriz de correlación muestra como se comparan las variables de los artistas en spotify:"
   ]
  },
  {
   "cell_type": "code",
   "execution_count": 17,
   "metadata": {},
   "outputs": [
    {
     "data": {
      "text/plain": [
       "<AxesSubplot:>"
      ]
     },
     "execution_count": 17,
     "metadata": {},
     "output_type": "execute_result"
    },
    {
     "data": {
      "image/png": "[encoded data removed]",
      "text/plain": [
       "<Figure size 720x576 with 2 Axes>"
      ]
     },
     "metadata": {
      "needs_background": "light"
     },
     "output_type": "display_data"
    }
   ],
   "source": [
    "f, ax = plt.subplots(figsize=(10, 8))\n",
    "corr = artistDf.corr()\n",
    "sns.heatmap(corr, mask=np.zeros_like(corr, dtype=bool), cmap=sns.diverging_palette(220, 10, as_cmap=True),\n",
    "            square=True, ax=ax)"
   ]
  },
  {
   "cell_type": "markdown",
   "metadata": {},
   "source": [
    "En el siguiente gráfico se observa que el artista que tiene más grammy's por canciones es Adele y la banda con más premios es U2:"
   ]
  },
  {
   "cell_type": "code",
   "execution_count": 18,
   "metadata": {
    "scrolled": true
   },
   "outputs": [
    {
     "data": {
      "image/png": "[encoded data removed]",
      "text/plain": [
       "<Figure size 432x288 with 1 Axes>"
      ]
     },
     "metadata": {
      "needs_background": "light"
     },
     "output_type": "display_data"
    }
   ],
   "source": [
    "winners = grammySongs.loc[:, ['Artist']]\n",
    "gen3 = winners.groupby(winners.columns.tolist(),as_index=False).size().rename(columns={'size':'Awards'})\n",
    "gen4 = gen3.sort_values(by = ['Awards'], ascending=False).head(20)\n",
    "grs = gen4.plot.bar(x= 'Artist', y = 'Awards', stacked= True, title = 'Artistas con más Grammys por canciones')"
   ]
  },
  {
   "cell_type": "markdown",
   "metadata": {},
   "source": [
    "El siguiente diagrama de cajas representa la distribución de los atributos,  filtrados por las canciones que aparecen en la tabla de billboard 100:"
   ]
  },
  {
   "cell_type": "code",
   "execution_count": 19,
   "metadata": {},
   "outputs": [
    {
     "name": "stdout",
     "output_type": "stream",
     "text": [
      "(3193, 28)\n"
     ]
    },
    {
     "data": {
      "text/plain": [
       "<AxesSubplot:title={'center':'Distribucion de los atributos de las canciones más populares'}>"
      ]
     },
     "execution_count": 19,
     "metadata": {},
     "output_type": "execute_result"
    },
    {
     "data": {
      "image/png": "[encoded data removed]",
      "text/plain": [
       "<Figure size 432x288 with 1 Axes>"
      ]
     },
     "metadata": {
      "needs_background": "light"
     },
     "output_type": "display_data"
    }
   ],
   "source": [
    "\n",
    "songAttributes1 = songAttributes.rename(columns = {\"Artist\" : \"Artists\"})\n",
    "songAttributes1.head()\n",
    "sa = (\n",
    "    songAttributes1.merge(billboardHot100, \n",
    "              on=['Name', 'Artists'],\n",
    "              how='left', \n",
    "              indicator=True)\n",
    "    .query('_merge == \"both\"')\n",
    "    .drop(columns='_merge')\n",
    ")\n",
    "sa = sa.drop_duplicates(subset = [\"Name\", \"Artists\"])\n",
    "print(sa.shape)\n",
    "sa.iloc[:,[1, 4, 6, 8, 9]].plot.box(stacked=True, fontsize = 8, title = \"Distribucion de los atributos de las canciones más populares\")\n",
    "\n"
   ]
  },
  {
   "cell_type": "markdown",
   "metadata": {},
   "source": [
    "Tabla de los atributos de canciones que estuvieron alguna vez en el Billboard:"
   ]
  },
  {
   "cell_type": "code",
   "execution_count": 20,
   "metadata": {},
   "outputs": [
    {
     "data": {
      "text/html": [
       "<div>\n",
       "<style scoped>\n",
       "    .dataframe tbody tr th:only-of-type {\n",
       "        vertical-align: middle;\n",
       "    }\n",
       "\n",
       "    .dataframe tbody tr th {\n",
       "        vertical-align: top;\n",
       "    }\n",
       "\n",
       "    .dataframe thead th {\n",
       "        text-align: right;\n",
       "    }\n",
       "</style>\n",
       "<table border=\"1\" class=\"dataframe\">\n",
       "  <thead>\n",
       "    <tr style=\"text-align: right;\">\n",
       "      <th></th>\n",
       "      <th>Unnamed: 0_x</th>\n",
       "      <th>Acousticness</th>\n",
       "      <th>Album</th>\n",
       "      <th>Artists</th>\n",
       "      <th>Danceability</th>\n",
       "      <th>Duration</th>\n",
       "      <th>Energy</th>\n",
       "      <th>Explicit</th>\n",
       "      <th>Instrumentalness</th>\n",
       "      <th>Liveness</th>\n",
       "      <th>...</th>\n",
       "      <th>Unnamed: 0_y</th>\n",
       "      <th>Weekly.rank</th>\n",
       "      <th>Peak.position</th>\n",
       "      <th>Weeks.on.chart</th>\n",
       "      <th>Week</th>\n",
       "      <th>Date</th>\n",
       "      <th>Genre</th>\n",
       "      <th>Writing.Credits</th>\n",
       "      <th>Lyrics</th>\n",
       "      <th>Features</th>\n",
       "    </tr>\n",
       "  </thead>\n",
       "  <tbody>\n",
       "    <tr>\n",
       "      <th>59</th>\n",
       "      <td>59</td>\n",
       "      <td>0.000877</td>\n",
       "      <td>Dosage</td>\n",
       "      <td>Collective Soul</td>\n",
       "      <td>0.547</td>\n",
       "      <td>173267</td>\n",
       "      <td>0.902</td>\n",
       "      <td>False</td>\n",
       "      <td>0.000563</td>\n",
       "      <td>0.0839</td>\n",
       "      <td>...</td>\n",
       "      <td>97222.0</td>\n",
       "      <td>96.0</td>\n",
       "      <td>73.0</td>\n",
       "      <td>20.0</td>\n",
       "      <td>1999-07-12</td>\n",
       "      <td>NaN</td>\n",
       "      <td>Hockey,Gaming,Soundtrack,Rock</td>\n",
       "      <td>Collective soul</td>\n",
       "      <td>Heavy \\nComplicate this world you wrapped for ...</td>\n",
       "      <td>NaN</td>\n",
       "    </tr>\n",
       "    <tr>\n",
       "      <th>185</th>\n",
       "      <td>33</td>\n",
       "      <td>0.587000</td>\n",
       "      <td>Live At Open Air Gampel (2004)</td>\n",
       "      <td>Everlast</td>\n",
       "      <td>0.316</td>\n",
       "      <td>396896</td>\n",
       "      <td>0.634</td>\n",
       "      <td>False</td>\n",
       "      <td>0.000019</td>\n",
       "      <td>0.9070</td>\n",
       "      <td>...</td>\n",
       "      <td>96997.0</td>\n",
       "      <td>47.0</td>\n",
       "      <td>13.0</td>\n",
       "      <td>33.0</td>\n",
       "      <td>1999-07-26</td>\n",
       "      <td>NaN</td>\n",
       "      <td>Rap,Rock</td>\n",
       "      <td>Everlast</td>\n",
       "      <td>What It's Like \\nWe've all seen the man at the...</td>\n",
       "      <td>NaN</td>\n",
       "    </tr>\n",
       "  </tbody>\n",
       "</table>\n",
       "<p>2 rows × 28 columns</p>\n",
       "</div>"
      ],
      "text/plain": [
       "     Unnamed: 0_x  Acousticness                           Album  \\\n",
       "59             59      0.000877                          Dosage   \n",
       "185            33      0.587000  Live At Open Air Gampel (2004)   \n",
       "\n",
       "             Artists  Danceability  Duration  Energy  Explicit  \\\n",
       "59   Collective Soul         0.547    173267   0.902     False   \n",
       "185         Everlast         0.316    396896   0.634     False   \n",
       "\n",
       "     Instrumentalness  Liveness  ...  Unnamed: 0_y  Weekly.rank Peak.position  \\\n",
       "59           0.000563    0.0839  ...       97222.0         96.0          73.0   \n",
       "185          0.000019    0.9070  ...       96997.0         47.0          13.0   \n",
       "\n",
       "     Weeks.on.chart        Week  Date                          Genre  \\\n",
       "59             20.0  1999-07-12   NaN  Hockey,Gaming,Soundtrack,Rock   \n",
       "185            33.0  1999-07-26   NaN                       Rap,Rock   \n",
       "\n",
       "     Writing.Credits                                             Lyrics  \\\n",
       "59   Collective soul  Heavy \\nComplicate this world you wrapped for ...   \n",
       "185         Everlast  What It's Like \\nWe've all seen the man at the...   \n",
       "\n",
       "     Features  \n",
       "59        NaN  \n",
       "185       NaN  \n",
       "\n",
       "[2 rows x 28 columns]"
      ]
     },
     "execution_count": 20,
     "metadata": {},
     "output_type": "execute_result"
    }
   ],
   "source": [
    "sa.head(2)"
   ]
  },
  {
   "cell_type": "markdown",
   "metadata": {},
   "source": [
    "A su vez una tabla con los valores independientes"
   ]
  },
  {
   "cell_type": "code",
   "execution_count": 21,
   "metadata": {},
   "outputs": [
    {
     "name": "stdout",
     "output_type": "stream",
     "text": [
      "(154931, 18)\n"
     ]
    },
    {
     "data": {
      "text/html": [
       "<div>\n",
       "<style scoped>\n",
       "    .dataframe tbody tr th:only-of-type {\n",
       "        vertical-align: middle;\n",
       "    }\n",
       "\n",
       "    .dataframe tbody tr th {\n",
       "        vertical-align: top;\n",
       "    }\n",
       "\n",
       "    .dataframe thead th {\n",
       "        text-align: right;\n",
       "    }\n",
       "</style>\n",
       "<table border=\"1\" class=\"dataframe\">\n",
       "  <thead>\n",
       "    <tr style=\"text-align: right;\">\n",
       "      <th></th>\n",
       "      <th>Unnamed: 0</th>\n",
       "      <th>Acousticness</th>\n",
       "      <th>Album</th>\n",
       "      <th>Artist</th>\n",
       "      <th>Danceability</th>\n",
       "      <th>Duration</th>\n",
       "      <th>Energy</th>\n",
       "      <th>Explicit</th>\n",
       "      <th>Instrumentalness</th>\n",
       "      <th>Liveness</th>\n",
       "      <th>Loudness</th>\n",
       "      <th>Mode</th>\n",
       "      <th>Name</th>\n",
       "      <th>Popularity</th>\n",
       "      <th>Speechiness</th>\n",
       "      <th>Tempo</th>\n",
       "      <th>TimeSignature</th>\n",
       "      <th>Valence</th>\n",
       "    </tr>\n",
       "  </thead>\n",
       "  <tbody>\n",
       "    <tr>\n",
       "      <th>0</th>\n",
       "      <td>0</td>\n",
       "      <td>0.000728</td>\n",
       "      <td>Collective Soul (Deluxe Version)</td>\n",
       "      <td>Collective Soul</td>\n",
       "      <td>0.520</td>\n",
       "      <td>234947</td>\n",
       "      <td>0.904</td>\n",
       "      <td>False</td>\n",
       "      <td>0.010300</td>\n",
       "      <td>0.0634</td>\n",
       "      <td>-5.030</td>\n",
       "      <td>1</td>\n",
       "      <td>Welcome All Again</td>\n",
       "      <td>35</td>\n",
       "      <td>0.0309</td>\n",
       "      <td>106.022</td>\n",
       "      <td>4</td>\n",
       "      <td>0.365</td>\n",
       "    </tr>\n",
       "    <tr>\n",
       "      <th>1</th>\n",
       "      <td>1</td>\n",
       "      <td>0.018200</td>\n",
       "      <td>Collective Soul (Deluxe Version)</td>\n",
       "      <td>Collective Soul</td>\n",
       "      <td>0.581</td>\n",
       "      <td>239573</td>\n",
       "      <td>0.709</td>\n",
       "      <td>False</td>\n",
       "      <td>0.000664</td>\n",
       "      <td>0.1740</td>\n",
       "      <td>-4.909</td>\n",
       "      <td>1</td>\n",
       "      <td>Fuzzy</td>\n",
       "      <td>31</td>\n",
       "      <td>0.0282</td>\n",
       "      <td>120.027</td>\n",
       "      <td>4</td>\n",
       "      <td>0.408</td>\n",
       "    </tr>\n",
       "  </tbody>\n",
       "</table>\n",
       "</div>"
      ],
      "text/plain": [
       "   Unnamed: 0  Acousticness                             Album  \\\n",
       "0           0      0.000728  Collective Soul (Deluxe Version)   \n",
       "1           1      0.018200  Collective Soul (Deluxe Version)   \n",
       "\n",
       "            Artist  Danceability  Duration  Energy  Explicit  \\\n",
       "0  Collective Soul         0.520    234947   0.904     False   \n",
       "1  Collective Soul         0.581    239573   0.709     False   \n",
       "\n",
       "   Instrumentalness  Liveness  Loudness  Mode               Name  Popularity  \\\n",
       "0          0.010300    0.0634    -5.030     1  Welcome All Again          35   \n",
       "1          0.000664    0.1740    -4.909     1              Fuzzy          31   \n",
       "\n",
       "   Speechiness    Tempo  TimeSignature  Valence  \n",
       "0       0.0309  106.022              4    0.365  \n",
       "1       0.0282  120.027              4    0.408  "
      ]
     },
     "execution_count": 21,
     "metadata": {},
     "output_type": "execute_result"
    }
   ],
   "source": [
    "print(songAttributes.shape) #dimensión de la tabla song attributes.\n",
    "songAttributes.head(2)"
   ]
  },
  {
   "cell_type": "code",
   "execution_count": 22,
   "metadata": {
    "scrolled": true
   },
   "outputs": [
    {
     "data": {
      "image/png": "[encoded data removed]",
      "text/plain": [
       "<Figure size 576x288 with 1 Axes>"
      ]
     },
     "metadata": {
      "needs_background": "light"
     },
     "output_type": "display_data"
    }
   ],
   "source": [
    "explicit = songAttributes.Explicit.value_counts(normalize=True)\n",
    "df2 = pd.DataFrame([\n",
    "                    [\"False\",explicit[0]],\n",
    "                    [\"True\",explicit[1]]\n",
    "                    ],\n",
    "                    columns=[\"State\",\"Frecuency\"])\n",
    "\n",
    "ax  = df2.plot.barh(x = \"State\", y = \"Frecuency\", xticks = [k/10 for k in list(range(11))], figsize = (8,4))\n",
    "ax.set(xlabel = \"Frecuencia\", ylabel = \"Estado\", title = \"Frecuencia de Canciones Explícitas Canciones Populares de Spotify\")\n",
    "ax.grid(linestyle='-', linewidth=0.4)\n",
    "plt.show()"
   ]
  },
  {
   "cell_type": "markdown",
   "metadata": {
    "id": "tnPOOOvV-6zK"
   },
   "source": [
    "# Preguntas y problemas"
   ]
  },
  {
   "cell_type": "markdown",
   "metadata": {},
   "source": [
    "Preguntas y problemas\n",
    " Despues de haber analizando y planteado las tablas con sus respectivos datos sabemos que todas las tablas poseen una medida de popularidad, alcance o ventas, que miden la influencia de la canción artista y/o album, al mismo tiempo se puede ver que estos rankings son distintos ya que spotify tiene una base de datos distinta a las demas tablas (Billboard's, Grammy's) Por lo cual podemos manejarnos entre las tablas midiendo la popularidad con las siguientes preguntas:\n",
    " \n",
    "- ¿Que atributo hace que ciertos géneros musicales se mantengan mas tiempo con popularidad?\n",
    "\n",
    "Hay Géneros que se mantienen atemporales y siempre figuran en los charts en el transcurso de los 20 años que se registran como es el caso del POP que es el que aparece más veces en la base de datos.\n",
    "\n",
    "- ¿Qué genero musical llegará al top 1 del Billboard la semana del 13 de Julio del 2019?\n",
    "\n",
    "El objetivo es estudiar basado en los top anteriores ver si hay algún patrón que permita predecir el género musical de la próxima canción en llegar al primer puesto.\n",
    "\n",
    "- ¿Qué conjunto de atributos extraídos de las canciones, representa de mejor manera las diferencias entre géneros? \n",
    "\n",
    "El objetivo de esta pregunta es ver como las canciones pertenecientes a ciertos géneros se diferencian de otras de otros géneros musicales."
   ]
  },
  {
   "cell_type": "markdown",
   "metadata": {},
   "source": [
    "# Metodologías Preguntas"
   ]
  },
  {
   "cell_type": "markdown",
   "metadata": {},
   "source": [
    "# Pregunta 1"
   ]
  },
  {
   "cell_type": "markdown",
   "metadata": {},
   "source": [
    ">Planteamos la pregunta de modo que se puedan agrupar distintas características de los géneros mediante varios \"joins\" de las tablas de los billboardhot100, songatributes y artistDF para tener una mayor variedad posible para analizar der forma más efectiva los dataframes, para así poder encontrar patrones que poseen los géneros con mayor cantidad de apariciones en el chart del billboard y los patrones que poseen los géneros que no perduran en este último, luego se procedera con un data cleaning para solo tener datos comparables y ademas para separar las distintas canciones según su género(que es el enfoque de esta pregunta), mediante distintos tipos de clustering, es decir, se usarán distintos métodos como k-means, los dendogramas,DSBCAN . Si no se obtienen cluster's puros se procederá con subconjuntos de atributos para así encontrar donde más se manifiestan los géneros musicales para así comparar los resultados y ver cual entrega información más valiosa para éste analisis.\n"
   ]
  },
  {
   "cell_type": "markdown",
   "metadata": {},
   "source": [
    "Se crea tabla con las canciones con una cantidad mayor o igual de 10 semanas en el Billboard que como equipo se considera como éxito y se dropean los elementos no númericos y se vectorizan los géneros musicales contenidos en cada fila:"
   ]
  },
  {
   "cell_type": "code",
   "execution_count": 51,
   "metadata": {
    "scrolled": false
   },
   "outputs": [
    {
     "name": "stderr",
     "output_type": "stream",
     "text": [
      "C:\\Users\\User\\AppData\\Local\\Temp\\ipykernel_7240\\3258382153.py:3: FutureWarning: Using the level keyword in DataFrame and Series aggregations is deprecated and will be removed in a future version. Use groupby instead. df.sum(level=1) should use df.groupby(level=1).sum().\n",
      "  vect_genres = JTA_table.Genre.str.split(',', expand = True).stack().str.get_dummies().sum(level=0)\n"
     ]
    }
   ],
   "source": [
    "JTA_table_check = sa \n",
    "JTA_table = JTA_table_check.drop(columns= [\"Unnamed: 0_x\",'Unnamed: 0_y',\"Album\", 'Lyrics', 'Writing.Credits', 'Features', 'Date', 'Week','Peak.position'])\n",
    "vect_genres = JTA_table.Genre.str.split(',', expand = True).stack().str.get_dummies().sum(level=0)\n",
    "JTA_table['Weeks.on.chart'] = JTA_table['Weeks.on.chart'].fillna(0)\n"
   ]
  },
  {
   "cell_type": "code",
   "execution_count": 24,
   "metadata": {},
   "outputs": [
    {
     "data": {
      "text/html": [
       "<div>\n",
       "<style scoped>\n",
       "    .dataframe tbody tr th:only-of-type {\n",
       "        vertical-align: middle;\n",
       "    }\n",
       "\n",
       "    .dataframe tbody tr th {\n",
       "        vertical-align: top;\n",
       "    }\n",
       "\n",
       "    .dataframe thead th {\n",
       "        text-align: right;\n",
       "    }\n",
       "</style>\n",
       "<table border=\"1\" class=\"dataframe\">\n",
       "  <thead>\n",
       "    <tr style=\"text-align: right;\">\n",
       "      <th></th>\n",
       "      <th>Acousticness</th>\n",
       "      <th>Artists</th>\n",
       "      <th>Danceability</th>\n",
       "      <th>Duration</th>\n",
       "      <th>Energy</th>\n",
       "      <th>Explicit</th>\n",
       "      <th>Instrumentalness</th>\n",
       "      <th>Liveness</th>\n",
       "      <th>Loudness</th>\n",
       "      <th>Mode</th>\n",
       "      <th>Name</th>\n",
       "      <th>Popularity</th>\n",
       "      <th>Speechiness</th>\n",
       "      <th>Tempo</th>\n",
       "      <th>TimeSignature</th>\n",
       "      <th>Valence</th>\n",
       "      <th>Weekly.rank</th>\n",
       "      <th>Weeks.on.chart</th>\n",
       "      <th>Genre</th>\n",
       "    </tr>\n",
       "  </thead>\n",
       "  <tbody>\n",
       "    <tr>\n",
       "      <th>59</th>\n",
       "      <td>0.000877</td>\n",
       "      <td>Collective Soul</td>\n",
       "      <td>0.547</td>\n",
       "      <td>173267</td>\n",
       "      <td>0.902</td>\n",
       "      <td>False</td>\n",
       "      <td>0.000563</td>\n",
       "      <td>0.0839</td>\n",
       "      <td>-5.560</td>\n",
       "      <td>1</td>\n",
       "      <td>Heavy</td>\n",
       "      <td>50</td>\n",
       "      <td>0.0371</td>\n",
       "      <td>106.923</td>\n",
       "      <td>4</td>\n",
       "      <td>0.548</td>\n",
       "      <td>96.0</td>\n",
       "      <td>20.0</td>\n",
       "      <td>Hockey,Gaming,Soundtrack,Rock</td>\n",
       "    </tr>\n",
       "    <tr>\n",
       "      <th>185</th>\n",
       "      <td>0.587000</td>\n",
       "      <td>Everlast</td>\n",
       "      <td>0.316</td>\n",
       "      <td>396896</td>\n",
       "      <td>0.634</td>\n",
       "      <td>False</td>\n",
       "      <td>0.000019</td>\n",
       "      <td>0.9070</td>\n",
       "      <td>-11.822</td>\n",
       "      <td>1</td>\n",
       "      <td>What It's Like</td>\n",
       "      <td>21</td>\n",
       "      <td>0.0624</td>\n",
       "      <td>176.628</td>\n",
       "      <td>4</td>\n",
       "      <td>0.500</td>\n",
       "      <td>47.0</td>\n",
       "      <td>33.0</td>\n",
       "      <td>Rap,Rock</td>\n",
       "    </tr>\n",
       "    <tr>\n",
       "      <th>328</th>\n",
       "      <td>0.028100</td>\n",
       "      <td>Lila McCann</td>\n",
       "      <td>0.644</td>\n",
       "      <td>212360</td>\n",
       "      <td>0.785</td>\n",
       "      <td>False</td>\n",
       "      <td>0.000001</td>\n",
       "      <td>0.0996</td>\n",
       "      <td>-6.118</td>\n",
       "      <td>1</td>\n",
       "      <td>With You</td>\n",
       "      <td>29</td>\n",
       "      <td>0.0294</td>\n",
       "      <td>127.900</td>\n",
       "      <td>4</td>\n",
       "      <td>0.628</td>\n",
       "      <td>92.0</td>\n",
       "      <td>19.0</td>\n",
       "      <td>Pop</td>\n",
       "    </tr>\n",
       "    <tr>\n",
       "      <th>356</th>\n",
       "      <td>0.055200</td>\n",
       "      <td>Jordan Knight</td>\n",
       "      <td>0.830</td>\n",
       "      <td>289760</td>\n",
       "      <td>0.655</td>\n",
       "      <td>False</td>\n",
       "      <td>0.000001</td>\n",
       "      <td>0.0567</td>\n",
       "      <td>-7.072</td>\n",
       "      <td>1</td>\n",
       "      <td>Give It To You</td>\n",
       "      <td>43</td>\n",
       "      <td>0.0544</td>\n",
       "      <td>134.869</td>\n",
       "      <td>4</td>\n",
       "      <td>0.653</td>\n",
       "      <td>91.0</td>\n",
       "      <td>20.0</td>\n",
       "      <td>Pop</td>\n",
       "    </tr>\n",
       "    <tr>\n",
       "      <th>842</th>\n",
       "      <td>0.046400</td>\n",
       "      <td>Terry Dexter</td>\n",
       "      <td>0.546</td>\n",
       "      <td>242347</td>\n",
       "      <td>0.618</td>\n",
       "      <td>False</td>\n",
       "      <td>0.000000</td>\n",
       "      <td>0.0298</td>\n",
       "      <td>-7.741</td>\n",
       "      <td>0</td>\n",
       "      <td>Better Than Me</td>\n",
       "      <td>9</td>\n",
       "      <td>0.2260</td>\n",
       "      <td>143.269</td>\n",
       "      <td>3</td>\n",
       "      <td>0.641</td>\n",
       "      <td>99.0</td>\n",
       "      <td>0.0</td>\n",
       "      <td>Pop</td>\n",
       "    </tr>\n",
       "  </tbody>\n",
       "</table>\n",
       "</div>"
      ],
      "text/plain": [
       "     Acousticness          Artists  Danceability  Duration  Energy  Explicit  \\\n",
       "59       0.000877  Collective Soul         0.547    173267   0.902     False   \n",
       "185      0.587000         Everlast         0.316    396896   0.634     False   \n",
       "328      0.028100      Lila McCann         0.644    212360   0.785     False   \n",
       "356      0.055200    Jordan Knight         0.830    289760   0.655     False   \n",
       "842      0.046400     Terry Dexter         0.546    242347   0.618     False   \n",
       "\n",
       "     Instrumentalness  Liveness  Loudness  Mode            Name  Popularity  \\\n",
       "59           0.000563    0.0839    -5.560     1           Heavy          50   \n",
       "185          0.000019    0.9070   -11.822     1  What It's Like          21   \n",
       "328          0.000001    0.0996    -6.118     1        With You          29   \n",
       "356          0.000001    0.0567    -7.072     1  Give It To You          43   \n",
       "842          0.000000    0.0298    -7.741     0  Better Than Me           9   \n",
       "\n",
       "     Speechiness    Tempo  TimeSignature  Valence  Weekly.rank  \\\n",
       "59        0.0371  106.923              4    0.548         96.0   \n",
       "185       0.0624  176.628              4    0.500         47.0   \n",
       "328       0.0294  127.900              4    0.628         92.0   \n",
       "356       0.0544  134.869              4    0.653         91.0   \n",
       "842       0.2260  143.269              3    0.641         99.0   \n",
       "\n",
       "     Weeks.on.chart                          Genre  \n",
       "59             20.0  Hockey,Gaming,Soundtrack,Rock  \n",
       "185            33.0                       Rap,Rock  \n",
       "328            19.0                            Pop  \n",
       "356            20.0                            Pop  \n",
       "842             0.0                            Pop  "
      ]
     },
     "execution_count": 24,
     "metadata": {},
     "output_type": "execute_result"
    }
   ],
   "source": [
    "JTA_table.head()"
   ]
  },
  {
   "cell_type": "code",
   "execution_count": 25,
   "metadata": {},
   "outputs": [
    {
     "data": {
      "text/html": [
       "<div>\n",
       "<style scoped>\n",
       "    .dataframe tbody tr th:only-of-type {\n",
       "        vertical-align: middle;\n",
       "    }\n",
       "\n",
       "    .dataframe tbody tr th {\n",
       "        vertical-align: top;\n",
       "    }\n",
       "\n",
       "    .dataframe thead th {\n",
       "        text-align: right;\n",
       "    }\n",
       "</style>\n",
       "<table border=\"1\" class=\"dataframe\">\n",
       "  <thead>\n",
       "    <tr style=\"text-align: right;\">\n",
       "      <th></th>\n",
       "      <th>Acoustic</th>\n",
       "      <th>Adult Alternative</th>\n",
       "      <th>Adult Contemporary</th>\n",
       "      <th>Afrobeats</th>\n",
       "      <th>Alternative</th>\n",
       "      <th>Alternative Country</th>\n",
       "      <th>Alternative Dance</th>\n",
       "      <th>Alternative Metal</th>\n",
       "      <th>Alternative Pop</th>\n",
       "      <th>Alternative R&amp;;B</th>\n",
       "      <th>...</th>\n",
       "      <th>Trance</th>\n",
       "      <th>Trap</th>\n",
       "      <th>Trip-Hop</th>\n",
       "      <th>Tropical House</th>\n",
       "      <th>UK</th>\n",
       "      <th>UK Rap</th>\n",
       "      <th>Underground Hip-Hop</th>\n",
       "      <th>West Coast</th>\n",
       "      <th>Worship</th>\n",
       "      <th>\\xd0\\xa0\\xd0\\xbe\\xd1\\x81\\xd1\\x81\\xd0\\xb8\\xd1\\x8f (Russia)</th>\n",
       "    </tr>\n",
       "  </thead>\n",
       "  <tbody>\n",
       "    <tr>\n",
       "      <th>59</th>\n",
       "      <td>0</td>\n",
       "      <td>0</td>\n",
       "      <td>0</td>\n",
       "      <td>0</td>\n",
       "      <td>0</td>\n",
       "      <td>0</td>\n",
       "      <td>0</td>\n",
       "      <td>0</td>\n",
       "      <td>0</td>\n",
       "      <td>0</td>\n",
       "      <td>...</td>\n",
       "      <td>0</td>\n",
       "      <td>0</td>\n",
       "      <td>0</td>\n",
       "      <td>0</td>\n",
       "      <td>0</td>\n",
       "      <td>0</td>\n",
       "      <td>0</td>\n",
       "      <td>0</td>\n",
       "      <td>0</td>\n",
       "      <td>0</td>\n",
       "    </tr>\n",
       "    <tr>\n",
       "      <th>185</th>\n",
       "      <td>0</td>\n",
       "      <td>0</td>\n",
       "      <td>0</td>\n",
       "      <td>0</td>\n",
       "      <td>0</td>\n",
       "      <td>0</td>\n",
       "      <td>0</td>\n",
       "      <td>0</td>\n",
       "      <td>0</td>\n",
       "      <td>0</td>\n",
       "      <td>...</td>\n",
       "      <td>0</td>\n",
       "      <td>0</td>\n",
       "      <td>0</td>\n",
       "      <td>0</td>\n",
       "      <td>0</td>\n",
       "      <td>0</td>\n",
       "      <td>0</td>\n",
       "      <td>0</td>\n",
       "      <td>0</td>\n",
       "      <td>0</td>\n",
       "    </tr>\n",
       "    <tr>\n",
       "      <th>328</th>\n",
       "      <td>0</td>\n",
       "      <td>0</td>\n",
       "      <td>0</td>\n",
       "      <td>0</td>\n",
       "      <td>0</td>\n",
       "      <td>0</td>\n",
       "      <td>0</td>\n",
       "      <td>0</td>\n",
       "      <td>0</td>\n",
       "      <td>0</td>\n",
       "      <td>...</td>\n",
       "      <td>0</td>\n",
       "      <td>0</td>\n",
       "      <td>0</td>\n",
       "      <td>0</td>\n",
       "      <td>0</td>\n",
       "      <td>0</td>\n",
       "      <td>0</td>\n",
       "      <td>0</td>\n",
       "      <td>0</td>\n",
       "      <td>0</td>\n",
       "    </tr>\n",
       "    <tr>\n",
       "      <th>356</th>\n",
       "      <td>0</td>\n",
       "      <td>0</td>\n",
       "      <td>0</td>\n",
       "      <td>0</td>\n",
       "      <td>0</td>\n",
       "      <td>0</td>\n",
       "      <td>0</td>\n",
       "      <td>0</td>\n",
       "      <td>0</td>\n",
       "      <td>0</td>\n",
       "      <td>...</td>\n",
       "      <td>0</td>\n",
       "      <td>0</td>\n",
       "      <td>0</td>\n",
       "      <td>0</td>\n",
       "      <td>0</td>\n",
       "      <td>0</td>\n",
       "      <td>0</td>\n",
       "      <td>0</td>\n",
       "      <td>0</td>\n",
       "      <td>0</td>\n",
       "    </tr>\n",
       "    <tr>\n",
       "      <th>842</th>\n",
       "      <td>0</td>\n",
       "      <td>0</td>\n",
       "      <td>0</td>\n",
       "      <td>0</td>\n",
       "      <td>0</td>\n",
       "      <td>0</td>\n",
       "      <td>0</td>\n",
       "      <td>0</td>\n",
       "      <td>0</td>\n",
       "      <td>0</td>\n",
       "      <td>...</td>\n",
       "      <td>0</td>\n",
       "      <td>0</td>\n",
       "      <td>0</td>\n",
       "      <td>0</td>\n",
       "      <td>0</td>\n",
       "      <td>0</td>\n",
       "      <td>0</td>\n",
       "      <td>0</td>\n",
       "      <td>0</td>\n",
       "      <td>0</td>\n",
       "    </tr>\n",
       "  </tbody>\n",
       "</table>\n",
       "<p>5 rows × 230 columns</p>\n",
       "</div>"
      ],
      "text/plain": [
       "     Acoustic  Adult Alternative  Adult Contemporary  Afrobeats  Alternative  \\\n",
       "59          0                  0                   0          0            0   \n",
       "185         0                  0                   0          0            0   \n",
       "328         0                  0                   0          0            0   \n",
       "356         0                  0                   0          0            0   \n",
       "842         0                  0                   0          0            0   \n",
       "\n",
       "     Alternative Country  Alternative Dance  Alternative Metal  \\\n",
       "59                     0                  0                  0   \n",
       "185                    0                  0                  0   \n",
       "328                    0                  0                  0   \n",
       "356                    0                  0                  0   \n",
       "842                    0                  0                  0   \n",
       "\n",
       "     Alternative Pop  Alternative R&;B  ...  Trance  Trap  Trip-Hop  \\\n",
       "59                 0                 0  ...       0     0         0   \n",
       "185                0                 0  ...       0     0         0   \n",
       "328                0                 0  ...       0     0         0   \n",
       "356                0                 0  ...       0     0         0   \n",
       "842                0                 0  ...       0     0         0   \n",
       "\n",
       "     Tropical House  UK  UK Rap  Underground Hip-Hop  West Coast  Worship  \\\n",
       "59                0   0       0                    0           0        0   \n",
       "185               0   0       0                    0           0        0   \n",
       "328               0   0       0                    0           0        0   \n",
       "356               0   0       0                    0           0        0   \n",
       "842               0   0       0                    0           0        0   \n",
       "\n",
       "     \\xd0\\xa0\\xd0\\xbe\\xd1\\x81\\xd1\\x81\\xd0\\xb8\\xd1\\x8f (Russia)  \n",
       "59                                                   0          \n",
       "185                                                  0          \n",
       "328                                                  0          \n",
       "356                                                  0          \n",
       "842                                                  0          \n",
       "\n",
       "[5 rows x 230 columns]"
      ]
     },
     "execution_count": 25,
     "metadata": {},
     "output_type": "execute_result"
    }
   ],
   "source": [
    "vect_genres.head()"
   ]
  },
  {
   "cell_type": "code",
   "execution_count": 201,
   "metadata": {},
   "outputs": [
    {
     "data": {
      "text/html": [
       "<div>\n",
       "<style scoped>\n",
       "    .dataframe tbody tr th:only-of-type {\n",
       "        vertical-align: middle;\n",
       "    }\n",
       "\n",
       "    .dataframe tbody tr th {\n",
       "        vertical-align: top;\n",
       "    }\n",
       "\n",
       "    .dataframe thead th {\n",
       "        text-align: right;\n",
       "    }\n",
       "</style>\n",
       "<table border=\"1\" class=\"dataframe\">\n",
       "  <thead>\n",
       "    <tr style=\"text-align: right;\">\n",
       "      <th></th>\n",
       "      <th>Acousticness</th>\n",
       "      <th>Danceability</th>\n",
       "      <th>Duration</th>\n",
       "      <th>Energy</th>\n",
       "      <th>Explicit</th>\n",
       "      <th>Instrumentalness</th>\n",
       "      <th>Liveness</th>\n",
       "      <th>Loudness</th>\n",
       "      <th>Mode</th>\n",
       "      <th>Popularity</th>\n",
       "      <th>...</th>\n",
       "      <th>Trap</th>\n",
       "      <th>Trip-Hop</th>\n",
       "      <th>Tropical House</th>\n",
       "      <th>UK</th>\n",
       "      <th>UK Rap</th>\n",
       "      <th>Underground Hip-Hop</th>\n",
       "      <th>West Coast</th>\n",
       "      <th>Worship</th>\n",
       "      <th>\\xd0\\xa0\\xd0\\xbe\\xd1\\x81\\xd1\\x81\\xd0\\xb8\\xd1\\x8f (Russia)</th>\n",
       "      <th>NumAlbums</th>\n",
       "    </tr>\n",
       "  </thead>\n",
       "  <tbody>\n",
       "    <tr>\n",
       "      <th>0</th>\n",
       "      <td>0.000877</td>\n",
       "      <td>0.547</td>\n",
       "      <td>173267</td>\n",
       "      <td>0.902</td>\n",
       "      <td>0</td>\n",
       "      <td>0.000563</td>\n",
       "      <td>0.0839</td>\n",
       "      <td>-5.560</td>\n",
       "      <td>1</td>\n",
       "      <td>50</td>\n",
       "      <td>...</td>\n",
       "      <td>0</td>\n",
       "      <td>0</td>\n",
       "      <td>0</td>\n",
       "      <td>0</td>\n",
       "      <td>0</td>\n",
       "      <td>0</td>\n",
       "      <td>0</td>\n",
       "      <td>0</td>\n",
       "      <td>0</td>\n",
       "      <td>12.0</td>\n",
       "    </tr>\n",
       "    <tr>\n",
       "      <th>1</th>\n",
       "      <td>0.587000</td>\n",
       "      <td>0.316</td>\n",
       "      <td>396896</td>\n",
       "      <td>0.634</td>\n",
       "      <td>0</td>\n",
       "      <td>0.000019</td>\n",
       "      <td>0.9070</td>\n",
       "      <td>-11.822</td>\n",
       "      <td>1</td>\n",
       "      <td>21</td>\n",
       "      <td>...</td>\n",
       "      <td>0</td>\n",
       "      <td>0</td>\n",
       "      <td>0</td>\n",
       "      <td>0</td>\n",
       "      <td>0</td>\n",
       "      <td>0</td>\n",
       "      <td>0</td>\n",
       "      <td>0</td>\n",
       "      <td>0</td>\n",
       "      <td>11.0</td>\n",
       "    </tr>\n",
       "    <tr>\n",
       "      <th>2</th>\n",
       "      <td>0.028100</td>\n",
       "      <td>0.644</td>\n",
       "      <td>212360</td>\n",
       "      <td>0.785</td>\n",
       "      <td>0</td>\n",
       "      <td>0.000001</td>\n",
       "      <td>0.0996</td>\n",
       "      <td>-6.118</td>\n",
       "      <td>1</td>\n",
       "      <td>29</td>\n",
       "      <td>...</td>\n",
       "      <td>0</td>\n",
       "      <td>0</td>\n",
       "      <td>0</td>\n",
       "      <td>0</td>\n",
       "      <td>0</td>\n",
       "      <td>0</td>\n",
       "      <td>0</td>\n",
       "      <td>0</td>\n",
       "      <td>0</td>\n",
       "      <td>4.0</td>\n",
       "    </tr>\n",
       "    <tr>\n",
       "      <th>3</th>\n",
       "      <td>0.055200</td>\n",
       "      <td>0.830</td>\n",
       "      <td>289760</td>\n",
       "      <td>0.655</td>\n",
       "      <td>0</td>\n",
       "      <td>0.000001</td>\n",
       "      <td>0.0567</td>\n",
       "      <td>-7.072</td>\n",
       "      <td>1</td>\n",
       "      <td>43</td>\n",
       "      <td>...</td>\n",
       "      <td>0</td>\n",
       "      <td>0</td>\n",
       "      <td>0</td>\n",
       "      <td>0</td>\n",
       "      <td>0</td>\n",
       "      <td>0</td>\n",
       "      <td>0</td>\n",
       "      <td>0</td>\n",
       "      <td>0</td>\n",
       "      <td>4.0</td>\n",
       "    </tr>\n",
       "    <tr>\n",
       "      <th>4</th>\n",
       "      <td>0.046400</td>\n",
       "      <td>0.546</td>\n",
       "      <td>242347</td>\n",
       "      <td>0.618</td>\n",
       "      <td>0</td>\n",
       "      <td>0.000000</td>\n",
       "      <td>0.0298</td>\n",
       "      <td>-7.741</td>\n",
       "      <td>0</td>\n",
       "      <td>9</td>\n",
       "      <td>...</td>\n",
       "      <td>0</td>\n",
       "      <td>0</td>\n",
       "      <td>0</td>\n",
       "      <td>0</td>\n",
       "      <td>0</td>\n",
       "      <td>0</td>\n",
       "      <td>0</td>\n",
       "      <td>0</td>\n",
       "      <td>0</td>\n",
       "      <td>3.0</td>\n",
       "    </tr>\n",
       "    <tr>\n",
       "      <th>...</th>\n",
       "      <td>...</td>\n",
       "      <td>...</td>\n",
       "      <td>...</td>\n",
       "      <td>...</td>\n",
       "      <td>...</td>\n",
       "      <td>...</td>\n",
       "      <td>...</td>\n",
       "      <td>...</td>\n",
       "      <td>...</td>\n",
       "      <td>...</td>\n",
       "      <td>...</td>\n",
       "      <td>...</td>\n",
       "      <td>...</td>\n",
       "      <td>...</td>\n",
       "      <td>...</td>\n",
       "      <td>...</td>\n",
       "      <td>...</td>\n",
       "      <td>...</td>\n",
       "      <td>...</td>\n",
       "      <td>...</td>\n",
       "      <td>...</td>\n",
       "    </tr>\n",
       "    <tr>\n",
       "      <th>3192</th>\n",
       "      <td>0.251000</td>\n",
       "      <td>0.838</td>\n",
       "      <td>237333</td>\n",
       "      <td>0.492</td>\n",
       "      <td>0</td>\n",
       "      <td>0.000000</td>\n",
       "      <td>0.2620</td>\n",
       "      <td>-5.690</td>\n",
       "      <td>0</td>\n",
       "      <td>73</td>\n",
       "      <td>...</td>\n",
       "      <td>0</td>\n",
       "      <td>0</td>\n",
       "      <td>0</td>\n",
       "      <td>1</td>\n",
       "      <td>0</td>\n",
       "      <td>0</td>\n",
       "      <td>0</td>\n",
       "      <td>0</td>\n",
       "      <td>0</td>\n",
       "      <td>8.0</td>\n",
       "    </tr>\n",
       "    <tr>\n",
       "      <th>3193</th>\n",
       "      <td>0.914000</td>\n",
       "      <td>0.589</td>\n",
       "      <td>221107</td>\n",
       "      <td>0.242</td>\n",
       "      <td>0</td>\n",
       "      <td>0.000000</td>\n",
       "      <td>0.0887</td>\n",
       "      <td>-10.517</td>\n",
       "      <td>1</td>\n",
       "      <td>80</td>\n",
       "      <td>...</td>\n",
       "      <td>0</td>\n",
       "      <td>0</td>\n",
       "      <td>0</td>\n",
       "      <td>1</td>\n",
       "      <td>0</td>\n",
       "      <td>0</td>\n",
       "      <td>0</td>\n",
       "      <td>0</td>\n",
       "      <td>0</td>\n",
       "      <td>8.0</td>\n",
       "    </tr>\n",
       "    <tr>\n",
       "      <th>3194</th>\n",
       "      <td>0.448000</td>\n",
       "      <td>0.747</td>\n",
       "      <td>191147</td>\n",
       "      <td>0.760</td>\n",
       "      <td>0</td>\n",
       "      <td>0.000000</td>\n",
       "      <td>0.1530</td>\n",
       "      <td>-4.294</td>\n",
       "      <td>1</td>\n",
       "      <td>72</td>\n",
       "      <td>...</td>\n",
       "      <td>0</td>\n",
       "      <td>0</td>\n",
       "      <td>0</td>\n",
       "      <td>1</td>\n",
       "      <td>0</td>\n",
       "      <td>0</td>\n",
       "      <td>0</td>\n",
       "      <td>0</td>\n",
       "      <td>0</td>\n",
       "      <td>8.0</td>\n",
       "    </tr>\n",
       "    <tr>\n",
       "      <th>3195</th>\n",
       "      <td>0.669000</td>\n",
       "      <td>0.642</td>\n",
       "      <td>258373</td>\n",
       "      <td>0.289</td>\n",
       "      <td>0</td>\n",
       "      <td>0.000000</td>\n",
       "      <td>0.1800</td>\n",
       "      <td>-9.918</td>\n",
       "      <td>1</td>\n",
       "      <td>27</td>\n",
       "      <td>...</td>\n",
       "      <td>0</td>\n",
       "      <td>0</td>\n",
       "      <td>0</td>\n",
       "      <td>1</td>\n",
       "      <td>0</td>\n",
       "      <td>0</td>\n",
       "      <td>0</td>\n",
       "      <td>0</td>\n",
       "      <td>0</td>\n",
       "      <td>8.0</td>\n",
       "    </tr>\n",
       "    <tr>\n",
       "      <th>3196</th>\n",
       "      <td>0.562000</td>\n",
       "      <td>0.592</td>\n",
       "      <td>185093</td>\n",
       "      <td>0.637</td>\n",
       "      <td>0</td>\n",
       "      <td>0.000000</td>\n",
       "      <td>0.1300</td>\n",
       "      <td>-8.480</td>\n",
       "      <td>1</td>\n",
       "      <td>22</td>\n",
       "      <td>...</td>\n",
       "      <td>0</td>\n",
       "      <td>0</td>\n",
       "      <td>0</td>\n",
       "      <td>1</td>\n",
       "      <td>0</td>\n",
       "      <td>0</td>\n",
       "      <td>0</td>\n",
       "      <td>0</td>\n",
       "      <td>0</td>\n",
       "      <td>8.0</td>\n",
       "    </tr>\n",
       "  </tbody>\n",
       "</table>\n",
       "<p>3175 rows × 247 columns</p>\n",
       "</div>"
      ],
      "text/plain": [
       "      Acousticness  Danceability  Duration  Energy  Explicit  \\\n",
       "0         0.000877         0.547    173267   0.902         0   \n",
       "1         0.587000         0.316    396896   0.634         0   \n",
       "2         0.028100         0.644    212360   0.785         0   \n",
       "3         0.055200         0.830    289760   0.655         0   \n",
       "4         0.046400         0.546    242347   0.618         0   \n",
       "...            ...           ...       ...     ...       ...   \n",
       "3192      0.251000         0.838    237333   0.492         0   \n",
       "3193      0.914000         0.589    221107   0.242         0   \n",
       "3194      0.448000         0.747    191147   0.760         0   \n",
       "3195      0.669000         0.642    258373   0.289         0   \n",
       "3196      0.562000         0.592    185093   0.637         0   \n",
       "\n",
       "      Instrumentalness  Liveness  Loudness  Mode  Popularity  ...  Trap  \\\n",
       "0             0.000563    0.0839    -5.560     1          50  ...     0   \n",
       "1             0.000019    0.9070   -11.822     1          21  ...     0   \n",
       "2             0.000001    0.0996    -6.118     1          29  ...     0   \n",
       "3             0.000001    0.0567    -7.072     1          43  ...     0   \n",
       "4             0.000000    0.0298    -7.741     0           9  ...     0   \n",
       "...                ...       ...       ...   ...         ...  ...   ...   \n",
       "3192          0.000000    0.2620    -5.690     0          73  ...     0   \n",
       "3193          0.000000    0.0887   -10.517     1          80  ...     0   \n",
       "3194          0.000000    0.1530    -4.294     1          72  ...     0   \n",
       "3195          0.000000    0.1800    -9.918     1          27  ...     0   \n",
       "3196          0.000000    0.1300    -8.480     1          22  ...     0   \n",
       "\n",
       "      Trip-Hop  Tropical House  UK  UK Rap  Underground Hip-Hop  West Coast  \\\n",
       "0            0               0   0       0                    0           0   \n",
       "1            0               0   0       0                    0           0   \n",
       "2            0               0   0       0                    0           0   \n",
       "3            0               0   0       0                    0           0   \n",
       "4            0               0   0       0                    0           0   \n",
       "...        ...             ...  ..     ...                  ...         ...   \n",
       "3192         0               0   1       0                    0           0   \n",
       "3193         0               0   1       0                    0           0   \n",
       "3194         0               0   1       0                    0           0   \n",
       "3195         0               0   1       0                    0           0   \n",
       "3196         0               0   1       0                    0           0   \n",
       "\n",
       "      Worship  \\xd0\\xa0\\xd0\\xbe\\xd1\\x81\\xd1\\x81\\xd0\\xb8\\xd1\\x8f (Russia)  \\\n",
       "0           0                                                  0           \n",
       "1           0                                                  0           \n",
       "2           0                                                  0           \n",
       "3           0                                                  0           \n",
       "4           0                                                  0           \n",
       "...       ...                                                ...           \n",
       "3192        0                                                  0           \n",
       "3193        0                                                  0           \n",
       "3194        0                                                  0           \n",
       "3195        0                                                  0           \n",
       "3196        0                                                  0           \n",
       "\n",
       "      NumAlbums  \n",
       "0          12.0  \n",
       "1          11.0  \n",
       "2           4.0  \n",
       "3           4.0  \n",
       "4           3.0  \n",
       "...         ...  \n",
       "3192        8.0  \n",
       "3193        8.0  \n",
       "3194        8.0  \n",
       "3195        8.0  \n",
       "3196        8.0  \n",
       "\n",
       "[3175 rows x 247 columns]"
      ]
     },
     "execution_count": 201,
     "metadata": {},
     "output_type": "execute_result"
    }
   ],
   "source": [
    "Numeric_genres = JTA_table.join(vect_genres)\n",
    "ArtistDf=artistDf.rename(columns = {\"Artist\" : \"Artists\"})\n",
    "Numeric_genres = (\n",
    "    Numeric_genres.merge(ArtistDf, \n",
    "            on=['Artists'],\n",
    "            how='left', \n",
    "            indicator=True)\n",
    "    .query('_merge == \"both\"')\n",
    "    .drop(columns='_merge')\n",
    ")\n",
    "Numeric_genres_check = Numeric_genres\n",
    "#lineas de codigo para modificar parametros\n",
    "Numeric_genres = Numeric_genres.drop(columns = ['Genre', 'Name', 'Artists','X','Genres','YearFirstAlbum','Gender','Group.Solo','Followers'])\n",
    "Numeric_genres['Explicit'] = Numeric_genres['Explicit'].astype(int)\n",
    "Numeric_genres\n"
   ]
  },
  {
   "cell_type": "code",
   "execution_count": 202,
   "metadata": {},
   "outputs": [
    {
     "data": {
      "image/png": "[encoded data removed]",
      "text/plain": [
       "<Figure size 720x360 with 1 Axes>"
      ]
     },
     "metadata": {
      "needs_background": "light"
     },
     "output_type": "display_data"
    }
   ],
   "source": [
    "from sklearn.decomposition import PCA\n",
    "from sklearn.cluster import KMeans\n",
    "pca1 = PCA(n_components=2).fit(Numeric_genres)\n",
    "rates_pca1 = pca1.transform(Numeric_genres)\n",
    "rates_pca1.shape\n",
    "\n",
    "fig, ax = plt.subplots(sharex=True, figsize = (10,5))\n",
    "plt.scatter(rates_pca1[:,0], rates_pca1[:,1])\n",
    "plt.title('Distribución PCA')\n",
    "plt.show()"
   ]
  },
  {
   "cell_type": "code",
   "execution_count": 203,
   "metadata": {},
   "outputs": [
    {
     "data": {
      "image/png": "[encoded data removed]",
      "text/plain": [
       "<Figure size 432x288 with 1 Axes>"
      ]
     },
     "metadata": {
      "needs_background": "light"
     },
     "output_type": "display_data"
    }
   ],
   "source": [
    "SSE1 = []\n",
    "numClusters = list(range(1, 20))\n",
    "for k in numClusters:\n",
    "    k_means1 = KMeans(n_clusters=k, n_init=20, max_iter= 300, random_state=1)\n",
    "    k_means1.fit(Numeric_genres)\n",
    "    SSE1.append(k_means1.inertia_)\n",
    "\n",
    "plt.plot(numClusters, SSE1, marker=\"o\")\n",
    "plt.xlabel('Número de Clusters')\n",
    "plt.ylabel('SSE')\n",
    "plt.show()"
   ]
  },
  {
   "cell_type": "code",
   "execution_count": 220,
   "metadata": {},
   "outputs": [
    {
     "data": {
      "text/plain": [
       "array([ 579,  405,  970,   16,  167, 1038], dtype=int64)"
      ]
     },
     "execution_count": 220,
     "metadata": {},
     "output_type": "execute_result"
    }
   ],
   "source": [
    "kmeans1 =  KMeans(n_clusters=6, n_init = 20, max_iter= 300 , random_state=42)\n",
    "kmeans1.fit(Numeric_genres)\n",
    "y_pred1 = kmeans1.labels_\n",
    "np.bincount(y_pred1)"
   ]
  },
  {
   "cell_type": "code",
   "execution_count": 221,
   "metadata": {
    "scrolled": true
   },
   "outputs": [
    {
     "data": {
      "text/plain": [
       "Text(0.5, 1.0, \"k-means cluster's k = 6\")"
      ]
     },
     "execution_count": 221,
     "metadata": {},
     "output_type": "execute_result"
    },
    {
     "data": {
      "image/png": "[encoded data removed]",
      "text/plain": [
       "<Figure size 864x288 with 1 Axes>"
      ]
     },
     "metadata": {
      "needs_background": "light"
     },
     "output_type": "display_data"
    }
   ],
   "source": [
    "fig, ax = plt.subplots(sharex=True, figsize = (12, 4))\n",
    "plt.scatter(rates_pca1[:, 0], rates_pca1[:, 1], c= kmeans1.labels_)\n",
    "plt.title(\"k-means cluster's k = 6\")"
   ]
  },
  {
   "cell_type": "code",
   "execution_count": 238,
   "metadata": {
    "scrolled": true
   },
   "outputs": [
    {
     "data": {
      "text/html": [
       "<div>\n",
       "<style scoped>\n",
       "    .dataframe tbody tr th:only-of-type {\n",
       "        vertical-align: middle;\n",
       "    }\n",
       "\n",
       "    .dataframe tbody tr th {\n",
       "        vertical-align: top;\n",
       "    }\n",
       "\n",
       "    .dataframe thead th {\n",
       "        text-align: right;\n",
       "    }\n",
       "</style>\n",
       "<table border=\"1\" class=\"dataframe\">\n",
       "  <thead>\n",
       "    <tr style=\"text-align: right;\">\n",
       "      <th></th>\n",
       "      <th>Weekly.rank</th>\n",
       "      <th>Weeks.on.chart</th>\n",
       "      <th>Name</th>\n",
       "      <th>Artists</th>\n",
       "      <th>Cluster_kmeans</th>\n",
       "    </tr>\n",
       "  </thead>\n",
       "  <tbody>\n",
       "    <tr>\n",
       "      <th>2440</th>\n",
       "      <td>3.0</td>\n",
       "      <td>30.0</td>\n",
       "      <td>All I Want For Christmas Is You</td>\n",
       "      <td>Mariah Carey</td>\n",
       "      <td>5</td>\n",
       "    </tr>\n",
       "    <tr>\n",
       "      <th>3126</th>\n",
       "      <td>6.0</td>\n",
       "      <td>17.0</td>\n",
       "      <td>Sucker</td>\n",
       "      <td>Jonas Brothers</td>\n",
       "      <td>1</td>\n",
       "    </tr>\n",
       "    <tr>\n",
       "      <th>2430</th>\n",
       "      <td>8.0</td>\n",
       "      <td>25.0</td>\n",
       "      <td>Jingle Bell Rock</td>\n",
       "      <td>Bobby Helms</td>\n",
       "      <td>1</td>\n",
       "    </tr>\n",
       "    <tr>\n",
       "      <th>2429</th>\n",
       "      <td>9.0</td>\n",
       "      <td>27.0</td>\n",
       "      <td>Rockin' Around The Christmas Tree</td>\n",
       "      <td>Brenda Lee</td>\n",
       "      <td>1</td>\n",
       "    </tr>\n",
       "    <tr>\n",
       "      <th>3125</th>\n",
       "      <td>11.0</td>\n",
       "      <td>0.0</td>\n",
       "      <td>A Little Bit Longer</td>\n",
       "      <td>Jonas Brothers</td>\n",
       "      <td>2</td>\n",
       "    </tr>\n",
       "    <tr>\n",
       "      <th>2812</th>\n",
       "      <td>12.0</td>\n",
       "      <td>0.0</td>\n",
       "      <td>Hair</td>\n",
       "      <td>Lady Gaga</td>\n",
       "      <td>4</td>\n",
       "    </tr>\n",
       "    <tr>\n",
       "      <th>2964</th>\n",
       "      <td>13.0</td>\n",
       "      <td>0.0</td>\n",
       "      <td>State Of Grace</td>\n",
       "      <td>Taylor Swift</td>\n",
       "      <td>0</td>\n",
       "    </tr>\n",
       "    <tr>\n",
       "      <th>3158</th>\n",
       "      <td>13.0</td>\n",
       "      <td>2.0</td>\n",
       "      <td>Heartbreaker</td>\n",
       "      <td>Justin Bieber</td>\n",
       "      <td>0</td>\n",
       "    </tr>\n",
       "    <tr>\n",
       "      <th>3005</th>\n",
       "      <td>13.0</td>\n",
       "      <td>2.0</td>\n",
       "      <td>You Need To Calm Down</td>\n",
       "      <td>Taylor Swift</td>\n",
       "      <td>1</td>\n",
       "    </tr>\n",
       "    <tr>\n",
       "      <th>2393</th>\n",
       "      <td>14.0</td>\n",
       "      <td>25.0</td>\n",
       "      <td>Billie Jean</td>\n",
       "      <td>Michael Jackson</td>\n",
       "      <td>0</td>\n",
       "    </tr>\n",
       "    <tr>\n",
       "      <th>1493</th>\n",
       "      <td>18.0</td>\n",
       "      <td>4.0</td>\n",
       "      <td>The Christmas Song</td>\n",
       "      <td>Christina Aguilera</td>\n",
       "      <td>0</td>\n",
       "    </tr>\n",
       "    <tr>\n",
       "      <th>3187</th>\n",
       "      <td>21.0</td>\n",
       "      <td>57.0</td>\n",
       "      <td>Perfect</td>\n",
       "      <td>Ed Sheeran</td>\n",
       "      <td>0</td>\n",
       "    </tr>\n",
       "    <tr>\n",
       "      <th>2905</th>\n",
       "      <td>24.0</td>\n",
       "      <td>11.0</td>\n",
       "      <td>Hey Look Ma, I Made It</td>\n",
       "      <td>Panic! At The Disco</td>\n",
       "      <td>1</td>\n",
       "    </tr>\n",
       "    <tr>\n",
       "      <th>1427</th>\n",
       "      <td>25.0</td>\n",
       "      <td>22.0</td>\n",
       "      <td>Livin' On A Prayer</td>\n",
       "      <td>Bon Jovi</td>\n",
       "      <td>5</td>\n",
       "    </tr>\n",
       "    <tr>\n",
       "      <th>2991</th>\n",
       "      <td>26.0</td>\n",
       "      <td>0.0</td>\n",
       "      <td>Superman</td>\n",
       "      <td>Taylor Swift</td>\n",
       "      <td>0</td>\n",
       "    </tr>\n",
       "  </tbody>\n",
       "</table>\n",
       "</div>"
      ],
      "text/plain": [
       "      Weekly.rank  Weeks.on.chart                               Name  \\\n",
       "2440          3.0            30.0    All I Want For Christmas Is You   \n",
       "3126          6.0            17.0                             Sucker   \n",
       "2430          8.0            25.0                   Jingle Bell Rock   \n",
       "2429          9.0            27.0  Rockin' Around The Christmas Tree   \n",
       "3125         11.0             0.0                A Little Bit Longer   \n",
       "2812         12.0             0.0                               Hair   \n",
       "2964         13.0             0.0                     State Of Grace   \n",
       "3158         13.0             2.0                       Heartbreaker   \n",
       "3005         13.0             2.0              You Need To Calm Down   \n",
       "2393         14.0            25.0                        Billie Jean   \n",
       "1493         18.0             4.0                 The Christmas Song   \n",
       "3187         21.0            57.0                            Perfect   \n",
       "2905         24.0            11.0             Hey Look Ma, I Made It   \n",
       "1427         25.0            22.0                 Livin' On A Prayer   \n",
       "2991         26.0             0.0                           Superman   \n",
       "\n",
       "                  Artists  Cluster_kmeans  \n",
       "2440         Mariah Carey               5  \n",
       "3126       Jonas Brothers               1  \n",
       "2430          Bobby Helms               1  \n",
       "2429           Brenda Lee               1  \n",
       "3125       Jonas Brothers               2  \n",
       "2812            Lady Gaga               4  \n",
       "2964         Taylor Swift               0  \n",
       "3158        Justin Bieber               0  \n",
       "3005         Taylor Swift               1  \n",
       "2393      Michael Jackson               0  \n",
       "1493   Christina Aguilera               0  \n",
       "3187           Ed Sheeran               0  \n",
       "2905  Panic! At The Disco               1  \n",
       "1427             Bon Jovi               5  \n",
       "2991         Taylor Swift               0  "
      ]
     },
     "execution_count": 238,
     "metadata": {},
     "output_type": "execute_result"
    }
   ],
   "source": [
    "Numeric_genres_check['Cluster_kmeans'] = y_pred1\n",
    "Numeric_sorted = Numeric_genres_check.sort_values(by = ['Weekly.rank'], ascending = True)\n",
    "#Numeric_sorted = Numeric_sorted[Numeric_sorted['Weeks.on.chart'] >= 0]\n",
    "Numeric_sorted[['Weeks.on.chart', 'Name', 'Artists', 'Genres', 'Cluster_kmeans']]\n",
    "a= Numeric_sorted[Numeric_sorted['Cluster_kmeans']>=0]\n",
    "a[['Weekly.rank','Weeks.on.chart','Name','Artists','Cluster_kmeans']].head(15)\n",
    "#a['Followers'].value_counts()"
   ]
  },
  {
   "cell_type": "code",
   "execution_count": 228,
   "metadata": {},
   "outputs": [
    {
     "data": {
      "text/html": [
       "<div>\n",
       "<style scoped>\n",
       "    .dataframe tbody tr th:only-of-type {\n",
       "        vertical-align: middle;\n",
       "    }\n",
       "\n",
       "    .dataframe tbody tr th {\n",
       "        vertical-align: top;\n",
       "    }\n",
       "\n",
       "    .dataframe thead th {\n",
       "        text-align: right;\n",
       "    }\n",
       "</style>\n",
       "<table border=\"1\" class=\"dataframe\">\n",
       "  <thead>\n",
       "    <tr style=\"text-align: right;\">\n",
       "      <th></th>\n",
       "      <th>Acousticness</th>\n",
       "      <th>Danceability</th>\n",
       "      <th>Duration</th>\n",
       "      <th>Energy</th>\n",
       "      <th>Explicit</th>\n",
       "      <th>Instrumentalness</th>\n",
       "      <th>Liveness</th>\n",
       "      <th>Loudness</th>\n",
       "      <th>Mode</th>\n",
       "      <th>Popularity</th>\n",
       "      <th>Speechiness</th>\n",
       "      <th>Tempo</th>\n",
       "      <th>TimeSignature</th>\n",
       "      <th>Valence</th>\n",
       "      <th>Weekly.rank</th>\n",
       "      <th>Weeks.on.chart</th>\n",
       "    </tr>\n",
       "  </thead>\n",
       "  <tbody>\n",
       "    <tr>\n",
       "      <th>0</th>\n",
       "      <td>0.170097</td>\n",
       "      <td>0.619401</td>\n",
       "      <td>278522.948187</td>\n",
       "      <td>0.678135</td>\n",
       "      <td>0.309154</td>\n",
       "      <td>0.007566</td>\n",
       "      <td>0.192366</td>\n",
       "      <td>-6.046696</td>\n",
       "      <td>0.663212</td>\n",
       "      <td>43.360967</td>\n",
       "      <td>0.112826</td>\n",
       "      <td>121.271706</td>\n",
       "      <td>3.979275</td>\n",
       "      <td>0.483213</td>\n",
       "      <td>76.796200</td>\n",
       "      <td>15.357513</td>\n",
       "    </tr>\n",
       "    <tr>\n",
       "      <th>1</th>\n",
       "      <td>0.156040</td>\n",
       "      <td>0.621973</td>\n",
       "      <td>175967.477723</td>\n",
       "      <td>0.743649</td>\n",
       "      <td>0.183168</td>\n",
       "      <td>0.009148</td>\n",
       "      <td>0.202523</td>\n",
       "      <td>-5.551928</td>\n",
       "      <td>0.759901</td>\n",
       "      <td>43.002475</td>\n",
       "      <td>0.085962</td>\n",
       "      <td>124.720693</td>\n",
       "      <td>3.982673</td>\n",
       "      <td>0.616043</td>\n",
       "      <td>80.168317</td>\n",
       "      <td>12.774752</td>\n",
       "    </tr>\n",
       "    <tr>\n",
       "      <th>2</th>\n",
       "      <td>0.147114</td>\n",
       "      <td>0.621680</td>\n",
       "      <td>210944.898969</td>\n",
       "      <td>0.726254</td>\n",
       "      <td>0.179381</td>\n",
       "      <td>0.006096</td>\n",
       "      <td>0.182259</td>\n",
       "      <td>-5.617049</td>\n",
       "      <td>0.706186</td>\n",
       "      <td>43.255670</td>\n",
       "      <td>0.090454</td>\n",
       "      <td>123.251731</td>\n",
       "      <td>3.987629</td>\n",
       "      <td>0.552003</td>\n",
       "      <td>76.884536</td>\n",
       "      <td>16.057732</td>\n",
       "    </tr>\n",
       "    <tr>\n",
       "      <th>3</th>\n",
       "      <td>0.178252</td>\n",
       "      <td>0.492063</td>\n",
       "      <td>481435.937500</td>\n",
       "      <td>0.672188</td>\n",
       "      <td>0.187500</td>\n",
       "      <td>0.046228</td>\n",
       "      <td>0.262044</td>\n",
       "      <td>-7.637375</td>\n",
       "      <td>0.500000</td>\n",
       "      <td>40.875000</td>\n",
       "      <td>0.131525</td>\n",
       "      <td>120.993938</td>\n",
       "      <td>4.000000</td>\n",
       "      <td>0.356213</td>\n",
       "      <td>83.875000</td>\n",
       "      <td>11.125000</td>\n",
       "    </tr>\n",
       "    <tr>\n",
       "      <th>4</th>\n",
       "      <td>0.199641</td>\n",
       "      <td>0.589671</td>\n",
       "      <td>337253.730539</td>\n",
       "      <td>0.642850</td>\n",
       "      <td>0.341317</td>\n",
       "      <td>0.020666</td>\n",
       "      <td>0.236331</td>\n",
       "      <td>-6.857419</td>\n",
       "      <td>0.586826</td>\n",
       "      <td>42.137725</td>\n",
       "      <td>0.131030</td>\n",
       "      <td>123.991862</td>\n",
       "      <td>3.928144</td>\n",
       "      <td>0.435749</td>\n",
       "      <td>78.017964</td>\n",
       "      <td>11.928144</td>\n",
       "    </tr>\n",
       "    <tr>\n",
       "      <th>5</th>\n",
       "      <td>0.165487</td>\n",
       "      <td>0.601988</td>\n",
       "      <td>241121.353224</td>\n",
       "      <td>0.693712</td>\n",
       "      <td>0.205967</td>\n",
       "      <td>0.007590</td>\n",
       "      <td>0.180018</td>\n",
       "      <td>-5.863618</td>\n",
       "      <td>0.715111</td>\n",
       "      <td>41.475457</td>\n",
       "      <td>0.088893</td>\n",
       "      <td>122.171784</td>\n",
       "      <td>3.964389</td>\n",
       "      <td>0.496021</td>\n",
       "      <td>77.444658</td>\n",
       "      <td>15.667950</td>\n",
       "    </tr>\n",
       "  </tbody>\n",
       "</table>\n",
       "</div>"
      ],
      "text/plain": [
       "   Acousticness  Danceability       Duration    Energy  Explicit  \\\n",
       "0      0.170097      0.619401  278522.948187  0.678135  0.309154   \n",
       "1      0.156040      0.621973  175967.477723  0.743649  0.183168   \n",
       "2      0.147114      0.621680  210944.898969  0.726254  0.179381   \n",
       "3      0.178252      0.492063  481435.937500  0.672188  0.187500   \n",
       "4      0.199641      0.589671  337253.730539  0.642850  0.341317   \n",
       "5      0.165487      0.601988  241121.353224  0.693712  0.205967   \n",
       "\n",
       "   Instrumentalness  Liveness  Loudness      Mode  Popularity  Speechiness  \\\n",
       "0          0.007566  0.192366 -6.046696  0.663212   43.360967     0.112826   \n",
       "1          0.009148  0.202523 -5.551928  0.759901   43.002475     0.085962   \n",
       "2          0.006096  0.182259 -5.617049  0.706186   43.255670     0.090454   \n",
       "3          0.046228  0.262044 -7.637375  0.500000   40.875000     0.131525   \n",
       "4          0.020666  0.236331 -6.857419  0.586826   42.137725     0.131030   \n",
       "5          0.007590  0.180018 -5.863618  0.715111   41.475457     0.088893   \n",
       "\n",
       "        Tempo  TimeSignature   Valence  Weekly.rank  Weeks.on.chart  \n",
       "0  121.271706       3.979275  0.483213    76.796200       15.357513  \n",
       "1  124.720693       3.982673  0.616043    80.168317       12.774752  \n",
       "2  123.251731       3.987629  0.552003    76.884536       16.057732  \n",
       "3  120.993938       4.000000  0.356213    83.875000       11.125000  \n",
       "4  123.991862       3.928144  0.435749    78.017964       11.928144  \n",
       "5  122.171784       3.964389  0.496021    77.444658       15.667950  "
      ]
     },
     "execution_count": 228,
     "metadata": {},
     "output_type": "execute_result"
    }
   ],
   "source": [
    "centroids = kmeans1.cluster_centers_\n",
    "promedio = pd.DataFrame(centroids, columns=Numeric_genres.columns)\n",
    "promedio. iloc[:, 0:16]"
   ]
  },
  {
   "cell_type": "code",
   "execution_count": 229,
   "metadata": {},
   "outputs": [
    {
     "data": {
      "text/html": [
       "<div>\n",
       "<style scoped>\n",
       "    .dataframe tbody tr th:only-of-type {\n",
       "        vertical-align: middle;\n",
       "    }\n",
       "\n",
       "    .dataframe tbody tr th {\n",
       "        vertical-align: top;\n",
       "    }\n",
       "\n",
       "    .dataframe thead th {\n",
       "        text-align: right;\n",
       "    }\n",
       "</style>\n",
       "<table border=\"1\" class=\"dataframe\">\n",
       "  <thead>\n",
       "    <tr style=\"text-align: right;\">\n",
       "      <th></th>\n",
       "      <th>NumAlbums</th>\n",
       "    </tr>\n",
       "  </thead>\n",
       "  <tbody>\n",
       "    <tr>\n",
       "      <th>0</th>\n",
       "      <td>12.053541</td>\n",
       "    </tr>\n",
       "    <tr>\n",
       "      <th>1</th>\n",
       "      <td>11.566832</td>\n",
       "    </tr>\n",
       "    <tr>\n",
       "      <th>2</th>\n",
       "      <td>10.696907</td>\n",
       "    </tr>\n",
       "    <tr>\n",
       "      <th>3</th>\n",
       "      <td>11.437500</td>\n",
       "    </tr>\n",
       "    <tr>\n",
       "      <th>4</th>\n",
       "      <td>12.892216</td>\n",
       "    </tr>\n",
       "    <tr>\n",
       "      <th>5</th>\n",
       "      <td>11.320500</td>\n",
       "    </tr>\n",
       "  </tbody>\n",
       "</table>\n",
       "</div>"
      ],
      "text/plain": [
       "   NumAlbums\n",
       "0  12.053541\n",
       "1  11.566832\n",
       "2  10.696907\n",
       "3  11.437500\n",
       "4  12.892216\n",
       "5  11.320500"
      ]
     },
     "execution_count": 229,
     "metadata": {},
     "output_type": "execute_result"
    }
   ],
   "source": [
    "promedio. iloc[:, 246:247]"
   ]
  },
  {
   "cell_type": "code",
   "execution_count": 134,
   "metadata": {},
   "outputs": [],
   "source": [
    "from scipy.cluster.hierarchy import dendrogram, linkage\n",
    "from sklearn.cluster import AgglomerativeClustering"
   ]
  },
  {
   "cell_type": "code",
   "execution_count": 135,
   "metadata": {},
   "outputs": [],
   "source": [
    "names = Numeric_genres_check['Name']\n",
    "Y = Numeric_genres_check['Genres']\n",
    "X = Numeric_genres_check.drop(columns = ['Genre', 'Name', 'Artists','X','Genres','YearFirstAlbum','Gender','Group.Solo'])"
   ]
  },
  {
   "cell_type": "code",
   "execution_count": 124,
   "metadata": {},
   "outputs": [
    {
     "data": {
      "text/plain": [
       "[]"
      ]
     },
     "execution_count": 124,
     "metadata": {},
     "output_type": "execute_result"
    },
    {
     "data": {
      "image/png": "[encoded data removed]",
      "text/plain": [
       "<Figure size 720x360 with 1 Axes>"
      ]
     },
     "metadata": {
      "needs_background": "light"
     },
     "output_type": "display_data"
    }
   ],
   "source": [
    "fig, ax = plt.subplots(sharex=True, figsize = (10,5))\n",
    "Z = linkage(X, method='ward', metric='euclidean') # distancia maxima entre putnos\n",
    "plt.axvline(x= 40, color='r', linestyle='--')\n",
    "dn = dendrogram(Z, labels = ['' for k in range(0,len(X))], orientation='right')\n",
    "plt.title('Dendograma linkage : Ward')\n",
    "plt.plot()"
   ]
  },
  {
   "cell_type": "code",
   "execution_count": 145,
   "metadata": {},
   "outputs": [],
   "source": [
    "distance = 140000000\n",
    "\n",
    "ward_euclidean = AgglomerativeClustering(linkage='ward',\n",
    "                                affinity='euclidean',\n",
    "                                n_clusters=None,\n",
    "                                distance_threshold=distance).fit(X)"
   ]
  },
  {
   "cell_type": "code",
   "execution_count": 146,
   "metadata": {},
   "outputs": [
    {
     "data": {
      "image/png": "[encoded data removed]",
      "text/plain": [
       "<Figure size 720x360 with 1 Axes>"
      ]
     },
     "metadata": {
      "needs_background": "light"
     },
     "output_type": "display_data"
    },
    {
     "data": {
      "text/plain": [
       "array([0, 1, 2, 3], dtype=int64)"
      ]
     },
     "execution_count": 146,
     "metadata": {},
     "output_type": "execute_result"
    }
   ],
   "source": [
    "fig, ax = plt.subplots(sharex=True, figsize = (10,5))\n",
    "plt.scatter(rates_pca1[:,0],rates_pca1[:,1], c= ward_euclidean.labels_)\n",
    "plt.title('Agglomeraty clustering linkage: Ward').set_fontsize(14)\n",
    "plt.show()\n",
    "np.unique(ward_euclidean.labels_)"
   ]
  },
  {
   "cell_type": "code",
   "execution_count": 32,
   "metadata": {},
   "outputs": [],
   "source": [
    "from sklearn.cluster import DBSCAN\n",
    "from sklearn.neighbors import NearestNeighbors"
   ]
  },
  {
   "cell_type": "code",
   "execution_count": 33,
   "metadata": {
    "scrolled": true
   },
   "outputs": [
    {
     "data": {
      "image/png": "[encoded data removed]",
      "text/plain": [
       "<Figure size 432x288 with 1 Axes>"
      ]
     },
     "metadata": {
      "needs_background": "light"
     },
     "output_type": "display_data"
    }
   ],
   "source": [
    "N = 50\n",
    "nbrs = NearestNeighbors(n_neighbors=N).fit(Numeric_genres)\n",
    "distances, indices = nbrs.kneighbors(Numeric_genres)\n",
    "\n",
    "distances = np.sort(distances, axis=0)\n",
    "distances = distances[:,1]\n",
    "plt.axhline(y= 30000, color='r', linestyle='--')\n",
    "plt.plot(distances)\n",
    "plt.show()"
   ]
  },
  {
   "cell_type": "code",
   "execution_count": 34,
   "metadata": {},
   "outputs": [
    {
     "data": {
      "image/png": "[encoded data removed]",
      "text/plain": [
       "<Figure size 720x360 with 1 Axes>"
      ]
     },
     "metadata": {
      "needs_background": "light"
     },
     "output_type": "display_data"
    },
    {
     "name": "stdout",
     "output_type": "stream",
     "text": [
      "[-1  0  1  2  3  4  5  6  7  8  9 10 11 12 13 14 15 16 17 18 19]\n"
     ]
    }
   ],
   "source": [
    "dbscan1 = DBSCAN(eps= 20000, min_samples= 20).fit(Numeric_genres)\n",
    "fig, ax = plt.subplots(sharex=True, figsize = (10,5))\n",
    "plt.scatter(rates_pca1[:,0], rates_pca1[:,1], c = dbscan1.labels_)\n",
    "plt.title('DSBCAN')\n",
    "plt.show()\n",
    "print(np.unique(dbscan1.labels_))"
   ]
  },
  {
   "cell_type": "markdown",
   "metadata": {},
   "source": [
    "# Pregunta 2"
   ]
  },
  {
   "cell_type": "markdown",
   "metadata": {},
   "source": [
    ">El objetivo de la pregunta es entrenar un clasificador que permita encontrar patrones y predecir el comportamiento del billboard para así encontrar la canción top 1 de una semana, y de ésta manera predecir la semana siguiente a la última del dataset. Se puede probar con distintos algoritmos de clasificación y usar gridSearchCV para encontrar el mejor algoritmo y los mejores parámetros que permitan predecirla. También se puede utilizar cross validation para entrenar el clasificador con distintos subconjuntos y así iterar para obtener mejores resultados. Para no utilizar tantos géneros distintos y extraños, se considerarán los 20 géneros más populares en el Billboard y se seleccionará uno de éstos para cada canción. La tabla donde se realizará la predicción será una tabla que contendrá, por cada semana, los datos de todas las 100 canciones del billboard hot 100 de la semana anterior, y la clase de género de la canción top 1 de la semana."
   ]
  },
  {
   "cell_type": "markdown",
   "metadata": {},
   "source": [
    "Inicialmente se crea una tabla que contiene los géneros de todas las canciones del billboard acotados a una lista más corta, pero que los representa a todos. Ésto se hace porque hay en total más de 300 géneros y cada canción tiene de 1 a 10."
   ]
  },
  {
   "cell_type": "code",
   "execution_count": 33,
   "metadata": {},
   "outputs": [
    {
     "data": {
      "text/html": [
       "<div>\n",
       "<style scoped>\n",
       "    .dataframe tbody tr th:only-of-type {\n",
       "        vertical-align: middle;\n",
       "    }\n",
       "\n",
       "    .dataframe tbody tr th {\n",
       "        vertical-align: top;\n",
       "    }\n",
       "\n",
       "    .dataframe thead th {\n",
       "        text-align: right;\n",
       "    }\n",
       "</style>\n",
       "<table border=\"1\" class=\"dataframe\">\n",
       "  <thead>\n",
       "    <tr style=\"text-align: right;\">\n",
       "      <th></th>\n",
       "      <th>gen</th>\n",
       "    </tr>\n",
       "  </thead>\n",
       "  <tbody>\n",
       "    <tr>\n",
       "      <th>0</th>\n",
       "      <td>Country</td>\n",
       "    </tr>\n",
       "    <tr>\n",
       "      <th>1</th>\n",
       "      <td>Pop</td>\n",
       "    </tr>\n",
       "    <tr>\n",
       "      <th>2</th>\n",
       "      <td>Alternative</td>\n",
       "    </tr>\n",
       "    <tr>\n",
       "      <th>3</th>\n",
       "      <td>Pop</td>\n",
       "    </tr>\n",
       "    <tr>\n",
       "      <th>4</th>\n",
       "      <td>Pop</td>\n",
       "    </tr>\n",
       "    <tr>\n",
       "      <th>...</th>\n",
       "      <td>...</td>\n",
       "    </tr>\n",
       "    <tr>\n",
       "      <th>97220</th>\n",
       "      <td>Pop</td>\n",
       "    </tr>\n",
       "    <tr>\n",
       "      <th>97221</th>\n",
       "      <td>Rock</td>\n",
       "    </tr>\n",
       "    <tr>\n",
       "      <th>97222</th>\n",
       "      <td>Country</td>\n",
       "    </tr>\n",
       "    <tr>\n",
       "      <th>97223</th>\n",
       "      <td>Rap</td>\n",
       "    </tr>\n",
       "    <tr>\n",
       "      <th>97224</th>\n",
       "      <td>Rock</td>\n",
       "    </tr>\n",
       "  </tbody>\n",
       "</table>\n",
       "<p>97225 rows × 1 columns</p>\n",
       "</div>"
      ],
      "text/plain": [
       "               gen\n",
       "0          Country\n",
       "1              Pop\n",
       "2      Alternative\n",
       "3              Pop\n",
       "4              Pop\n",
       "...            ...\n",
       "97220          Pop\n",
       "97221         Rock\n",
       "97222      Country\n",
       "97223          Rap\n",
       "97224         Rock\n",
       "\n",
       "[97225 rows x 1 columns]"
      ]
     },
     "execution_count": 33,
     "metadata": {},
     "output_type": "execute_result"
    }
   ],
   "source": [
    "study_table = billboardHot100\n",
    "genres = pd.DataFrame(study_table[\"Genre\"])\n",
    "genres2 = genres.dropna(axis = 1)\n",
    "genres2.columns = ['gen']\n",
    "normal_genres = [ 'Rock', 'Country', 'Alternative', 'Country', 'Rap', 'Pop', 'R&;B']\n",
    "for i, row in genres.iterrows():\n",
    "    for j in row:\n",
    "        for word in normal_genres:\n",
    "            word2 = word\n",
    "            word2.lower()\n",
    "            if j.find(word)!=-1 or j.find(word2)!=-1:\n",
    "                genres2.at[i, 'gen'] = word\n",
    "                break\n",
    "        break\n",
    "genres2\n"
   ]
  },
  {
   "cell_type": "code",
   "execution_count": 34,
   "metadata": {},
   "outputs": [
    {
     "data": {
      "text/html": [
       "<div>\n",
       "<style scoped>\n",
       "    .dataframe tbody tr th:only-of-type {\n",
       "        vertical-align: middle;\n",
       "    }\n",
       "\n",
       "    .dataframe tbody tr th {\n",
       "        vertical-align: top;\n",
       "    }\n",
       "\n",
       "    .dataframe thead th {\n",
       "        text-align: right;\n",
       "    }\n",
       "</style>\n",
       "<table border=\"1\" class=\"dataframe\">\n",
       "  <thead>\n",
       "    <tr style=\"text-align: right;\">\n",
       "      <th></th>\n",
       "      <th>gen</th>\n",
       "      <th>count</th>\n",
       "    </tr>\n",
       "  </thead>\n",
       "  <tbody>\n",
       "    <tr>\n",
       "      <th>4</th>\n",
       "      <td>Rap</td>\n",
       "      <td>28866</td>\n",
       "    </tr>\n",
       "    <tr>\n",
       "      <th>5</th>\n",
       "      <td>Rock</td>\n",
       "      <td>26751</td>\n",
       "    </tr>\n",
       "    <tr>\n",
       "      <th>2</th>\n",
       "      <td>Pop</td>\n",
       "      <td>23492</td>\n",
       "    </tr>\n",
       "    <tr>\n",
       "      <th>1</th>\n",
       "      <td>Country</td>\n",
       "      <td>12106</td>\n",
       "    </tr>\n",
       "    <tr>\n",
       "      <th>3</th>\n",
       "      <td>R&amp;;B</td>\n",
       "      <td>4069</td>\n",
       "    </tr>\n",
       "    <tr>\n",
       "      <th>0</th>\n",
       "      <td>Alternative</td>\n",
       "      <td>1941</td>\n",
       "    </tr>\n",
       "  </tbody>\n",
       "</table>\n",
       "</div>"
      ],
      "text/plain": [
       "           gen  count\n",
       "4          Rap  28866\n",
       "5         Rock  26751\n",
       "2          Pop  23492\n",
       "1      Country  12106\n",
       "3         R&;B   4069\n",
       "0  Alternative   1941"
      ]
     },
     "execution_count": 34,
     "metadata": {},
     "output_type": "execute_result"
    }
   ],
   "source": [
    "genres3 = genres2.groupby(genres2.columns.tolist(),as_index=False).size().rename(columns={'size':'count'})\n",
    "genres3 = genres3.sort_values(by = \"count\", ascending = False)\n",
    "genres3.head(50) #para analizar los datos de genres2"
   ]
  },
  {
   "cell_type": "markdown",
   "metadata": {},
   "source": [
    "Aquí se genera una tabla con cada semana, y los datos que aparecen en el billboard de todas las canciones de la semana anterior. Cada fila de la tabla representa una semana con las canciones correspondientes.\n",
    "Tiene también una columna que representa el género del top 1 de la semana actual, lo que servirá de clase para realizar la predicción."
   ]
  },
  {
   "cell_type": "code",
   "execution_count": 35,
   "metadata": {
    "scrolled": false
   },
   "outputs": [
    {
     "name": "stdout",
     "output_type": "stream",
     "text": [
      "(1043,)\n",
      "(0, 502)\n"
     ]
    }
   ],
   "source": [
    "#7-06-2019 top100genero, top100nombre, top100artista..., top99genero...  top1genero (no anhadir nada mas del top1)\n",
    "billboardColumns = ['Artists', 'Name', 'Weeks.on.chart', 'Date' ,'Genre']\n",
    "columnas = ['semana', 'top1prediccion']\n",
    "for i in range(1, 101):\n",
    "    for name in billboardColumns:\n",
    "        string ='top' + str(i) + name\n",
    "        columnas.append(string)\n",
    "weeks = pd.DataFrame(billboardHot100['Week'])\n",
    "weeks = weeks.drop_duplicates( subset = [\"Week\"], ignore_index = True)\n",
    "weeks = weeks['Week']\n",
    "\n",
    "tablaPrediccion = pd.DataFrame(columns = columnas)\n",
    "print(weeks.shape)\n",
    "print(tablaPrediccion.shape)\n",
    "for i in range(len(weeks)-1):\n",
    "    currentWeek = weeks[i]\n",
    "    data = [currentWeek]\n",
    "    oldWeek = weeks[i+1]\n",
    "    for  row in billboardHot100.itertuples():\n",
    "        j = row.Index\n",
    "        if(row.Week == currentWeek and row._4==1):\n",
    "            data.append(genres2.at[j, 'gen'])\n",
    "        if(row.Week == oldWeek):\n",
    "            for word in billboardColumns:\n",
    "                if word!='Genre':\n",
    "                    data.append(billboardHot100.at[j, word])\n",
    "                else:\n",
    "                    data.append(genres2.at[j, 'gen'])\n",
    "    while(len(data) < 502):\n",
    "        data.append(\"None\")\n",
    "    tablaPrediccion.loc[len(tablaPrediccion)] = data"
   ]
  },
  {
   "cell_type": "code",
   "execution_count": 36,
   "metadata": {
    "scrolled": true
   },
   "outputs": [],
   "source": [
    "#limpieza de datos de la tabla generada, ya que en la tabla original faltan algunos top 1\n",
    "genresmaximos = genres3['gen'].to_numpy()\n",
    "tablaPrediccion2 = tablaPrediccion[tablaPrediccion.top1prediccion.isin(genresmaximos)]"
   ]
  },
  {
   "cell_type": "markdown",
   "metadata": {},
   "source": [
    "Luego se vectorizan los datos de la tabla para poder aplicarle un clasificador que prediga la clase (género) del top 1 utilizando los datos de la semana anterior."
   ]
  },
  {
   "cell_type": "code",
   "execution_count": 37,
   "metadata": {
    "scrolled": true
   },
   "outputs": [
    {
     "ename": "AttributeError",
     "evalue": "'CountVectorizer' object has no attribute 'get_feature_names'",
     "output_type": "error",
     "traceback": [
      "\u001b[1;31m---------------------------------------------------------------------------\u001b[0m",
      "\u001b[1;31mAttributeError\u001b[0m                            Traceback (most recent call last)",
      "\u001b[1;32m<ipython-input-37-ed85f9594e05>\u001b[0m in \u001b[0;36m<module>\u001b[1;34m\u001b[0m\n\u001b[0;32m     55\u001b[0m         \u001b[1;32mif\u001b[0m \u001b[0mtype\u001b[0m\u001b[1;33m(\u001b[0m\u001b[0mvector\u001b[0m\u001b[1;33m)\u001b[0m \u001b[1;33m==\u001b[0m \u001b[0mint\u001b[0m\u001b[1;33m:\u001b[0m\u001b[1;33m\u001b[0m\u001b[1;33m\u001b[0m\u001b[0m\n\u001b[0;32m     56\u001b[0m             \u001b[0mvector\u001b[0m \u001b[1;33m=\u001b[0m \u001b[0mvectorizer\u001b[0m\u001b[1;33m.\u001b[0m\u001b[0mfit_transform\u001b[0m\u001b[1;33m(\u001b[0m\u001b[0mtablaPrediccion3\u001b[0m\u001b[1;33m[\u001b[0m\u001b[0mword\u001b[0m\u001b[1;33m]\u001b[0m\u001b[1;33m)\u001b[0m\u001b[1;33m.\u001b[0m\u001b[0mtoarray\u001b[0m\u001b[1;33m(\u001b[0m\u001b[1;33m)\u001b[0m\u001b[1;33m\u001b[0m\u001b[1;33m\u001b[0m\u001b[0m\n\u001b[1;32m---> 57\u001b[1;33m             \u001b[0mvector\u001b[0m \u001b[1;33m=\u001b[0m \u001b[0mpd\u001b[0m\u001b[1;33m.\u001b[0m\u001b[0mDataFrame\u001b[0m\u001b[1;33m(\u001b[0m\u001b[0mvector\u001b[0m\u001b[1;33m,\u001b[0m \u001b[0mcolumns\u001b[0m\u001b[1;33m=\u001b[0m\u001b[0mvectorizer\u001b[0m\u001b[1;33m.\u001b[0m\u001b[0mget_feature_names\u001b[0m\u001b[1;33m(\u001b[0m\u001b[1;33m)\u001b[0m\u001b[1;33m)\u001b[0m\u001b[1;33m\u001b[0m\u001b[1;33m\u001b[0m\u001b[0m\n\u001b[0m\u001b[0;32m     58\u001b[0m         \u001b[1;32melse\u001b[0m\u001b[1;33m:\u001b[0m\u001b[1;33m\u001b[0m\u001b[1;33m\u001b[0m\u001b[0m\n\u001b[0;32m     59\u001b[0m             \u001b[0mvector2\u001b[0m \u001b[1;33m=\u001b[0m \u001b[0mvectorizer\u001b[0m\u001b[1;33m.\u001b[0m\u001b[0mfit_transform\u001b[0m\u001b[1;33m(\u001b[0m\u001b[0mtablaPrediccion3\u001b[0m\u001b[1;33m[\u001b[0m\u001b[0mword\u001b[0m\u001b[1;33m]\u001b[0m\u001b[1;33m)\u001b[0m\u001b[1;33m.\u001b[0m\u001b[0mtoarray\u001b[0m\u001b[1;33m(\u001b[0m\u001b[1;33m)\u001b[0m\u001b[1;33m\u001b[0m\u001b[1;33m\u001b[0m\u001b[0m\n",
      "\u001b[1;31mAttributeError\u001b[0m: 'CountVectorizer' object has no attribute 'get_feature_names'"
     ]
    }
   ],
   "source": [
    "import requests\n",
    "import re\n",
    "import string\n",
    "from sklearn.feature_extraction.text import CountVectorizer\n",
    "from sklearn.preprocessing import OneHotEncoder\n",
    "\n",
    "stopwords_list = 'english'\n",
    "\n",
    "def remove_vowels_accents(text):\n",
    "    return (\n",
    "        text.replace(\"á\", \"a\")\n",
    "        .replace(\"é\", \"e\")\n",
    "        .replace(\"í\", \"i\")\n",
    "        .replace(\"ó\", \"o\")\n",
    "        .replace(\"ú\", \"u\")\n",
    "        .replace(\"ü\", \"u\")\n",
    "    )\n",
    "\n",
    "def remove_stopwords(text, stopwords_list):\n",
    "    return \" \".join(\n",
    "        [word for word in str(text).split() if word not in stopwords_list]\n",
    "    )\n",
    "\n",
    "def reduce_spam(text):\n",
    "    text = re.sub(r\"(\\w+)(\\s+\\1){2,}\", r\"\\1\", text)\n",
    "    text = re.sub(r\"(\\w+\\s+\\w+)(\\s+\\1){2,}\", r\"\\1\", text)\n",
    "    return text\n",
    "\n",
    "def remove_unprintable_(text):\n",
    "    printable = set(string.printable + \"ñáéíóúü\" + \"ÑÁÉÍÓÚÜ\")\n",
    "    text = \"\".join(filter(lambda x: x in printable, text))\n",
    "    return text\n",
    "\n",
    "def remove_punctuation(text):\n",
    "    pattern = re.compile(r\"[^\\w\\sáéíóúüñÁÉÍÓÚÜÑ]\")\n",
    "    t = pattern.sub(r\" \", text)\n",
    "    return re.sub(\" +\", \" \", t)\n",
    "\n",
    "def preprocesar(text):\n",
    "    text = text.lower()\n",
    "    text = remove_unprintable_(text)\n",
    "    text = remove_punctuation(text)\n",
    "    text = reduce_spam(text)\n",
    "    text = remove_stopwords(text, stopwords_list)\n",
    "    text = remove_vowels_accents(text)\n",
    "    return text.strip()\n",
    "\n",
    "vectorizer = CountVectorizer(preprocessor=preprocesar, min_df=2)\n",
    "tablaPrediccion3 = tablaPrediccion2.drop(columns = [\"top1prediccion\", \"semana\"])\n",
    "vector = 0\n",
    "for word in tablaPrediccion3.columns:\n",
    "    if (\"Weeks.on.chart\" in word or \"Date\" in word):\n",
    "        x=1\n",
    "    else:\n",
    "        if type(vector) == int:\n",
    "            vector = vectorizer.fit_transform(tablaPrediccion3[word]).toarray()\n",
    "            vector = pd.DataFrame(vector, columns=vectorizer.get_feature_names_out())\n",
    "        else:\n",
    "            vector2 = vectorizer.fit_transform(tablaPrediccion3[word]).toarray()\n",
    "            vector2 = pd.DataFrame(vector2, columns=vectorizer.get_feature_names_out())\n",
    "            pd.concat([vector, vector2], axis = 1)"
   ]
  },
  {
   "cell_type": "code",
   "execution_count": null,
   "metadata": {},
   "outputs": [],
   "source": [
    "X = vector\n",
    "y = tablaPrediccion2[\"top1prediccion\"]\n",
    "y2 = pd.DataFrame(y)\n",
    "\n",
    "df_vectorizado = pd.concat([y, X], axis=1)\n",
    "df_vectorizado.dropna(subset = \"top1prediccion\")[50:150]"
   ]
  },
  {
   "cell_type": "code",
   "execution_count": null,
   "metadata": {
    "scrolled": true
   },
   "outputs": [],
   "source": [
    "test = y2.groupby(y2.columns.tolist(),as_index=False).size().rename(columns={'size':'count'})\n",
    "test = test.sort_values(by = \"count\", ascending = False)\n",
    "test.head() #para analizar los datos de la tabla"
   ]
  },
  {
   "cell_type": "markdown",
   "metadata": {},
   "source": [
    "Finalmente se le aplica el clasificador"
   ]
  },
  {
   "cell_type": "code",
   "execution_count": null,
   "metadata": {
    "scrolled": true
   },
   "outputs": [],
   "source": [
    "from sklearn.tree import DecisionTreeClassifier\n",
    "from sklearn.metrics import accuracy_score\n",
    "from sklearn.metrics import classification_report\n",
    "from sklearn.model_selection import train_test_split\n",
    "\n",
    "clf = DecisionTreeClassifier(random_state = 2)\n",
    "X_train, X_test, y_train, y_test = train_test_split(X, y, test_size=0.30, random_state=2, stratify=y)\n",
    "clf.fit(X_train, y_train)\n",
    "y_pred = clf.predict(X_test)\n",
    "print(\"Accuracy:\", accuracy_score(y_test, y_pred))\n",
    "print(classification_report(y_test, y_pred))"
   ]
  },
  {
   "cell_type": "markdown",
   "metadata": {},
   "source": [
    "Los resultados son aceptables, pero podrían ser mejores. Para el próximo hito se cambiará la forma en la que se realiza la vectorización, de manera que se utilizará OneHotEncoder para los nombres de artistas y los géneros, y se separarán los datos del top."
   ]
  },
  {
   "cell_type": "markdown",
   "metadata": {},
   "source": [
    "# Pregunta 3"
   ]
  },
  {
   "cell_type": "markdown",
   "metadata": {},
   "source": [
    ">Como la tabla de 'songAttributes' no tiene el atributo de género musical de la canción, se utiliza la tabla de 'artistDf' que contienen informarción de los artistas incluyendo su género musical. la idea es generar cluster's que en teoría deberían agruparse según géneros musicales por lo primero se evaluará la pureza de estos, por lo que se usáran distintas formas de hacer cluster's, es decir, se usarán métodos como k-means, los dendogramas, etc. Si no se obtienen cluster's puros se procederá con subconjuntos de atributos para así encontrar donde más se diferencian los géneros musicales. Para facilitar el estudio de esto se tomarán los géneros musicales que aparecen primero en la tabla de 'artistDf' y posteriormente mediante clustering dar etiquetas más claras a cada canción."
   ]
  },
  {
   "cell_type": "markdown",
   "metadata": {},
   "source": [
    "## Data cleaning"
   ]
  },
  {
   "cell_type": "code",
   "execution_count": 40,
   "metadata": {},
   "outputs": [],
   "source": [
    "from sklearn.decomposition import PCA\n",
    "from sklearn.cluster import KMeans"
   ]
  },
  {
   "cell_type": "markdown",
   "metadata": {},
   "source": [
    "Se visualizan el contenido de las Dataframe que son relevantes para desarrollar esta pregunta."
   ]
  },
  {
   "cell_type": "code",
   "execution_count": 41,
   "metadata": {},
   "outputs": [
    {
     "data": {
      "text/html": [
       "<div>\n",
       "<style scoped>\n",
       "    .dataframe tbody tr th:only-of-type {\n",
       "        vertical-align: middle;\n",
       "    }\n",
       "\n",
       "    .dataframe tbody tr th {\n",
       "        vertical-align: top;\n",
       "    }\n",
       "\n",
       "    .dataframe thead th {\n",
       "        text-align: right;\n",
       "    }\n",
       "</style>\n",
       "<table border=\"1\" class=\"dataframe\">\n",
       "  <thead>\n",
       "    <tr style=\"text-align: right;\">\n",
       "      <th></th>\n",
       "      <th>Unnamed: 0</th>\n",
       "      <th>Acousticness</th>\n",
       "      <th>Album</th>\n",
       "      <th>Artist</th>\n",
       "      <th>Danceability</th>\n",
       "      <th>Duration</th>\n",
       "      <th>Energy</th>\n",
       "      <th>Explicit</th>\n",
       "      <th>Instrumentalness</th>\n",
       "      <th>Liveness</th>\n",
       "      <th>Loudness</th>\n",
       "      <th>Mode</th>\n",
       "      <th>Name</th>\n",
       "      <th>Popularity</th>\n",
       "      <th>Speechiness</th>\n",
       "      <th>Tempo</th>\n",
       "      <th>TimeSignature</th>\n",
       "      <th>Valence</th>\n",
       "    </tr>\n",
       "  </thead>\n",
       "  <tbody>\n",
       "    <tr>\n",
       "      <th>0</th>\n",
       "      <td>0</td>\n",
       "      <td>0.000728</td>\n",
       "      <td>Collective Soul (Deluxe Version)</td>\n",
       "      <td>Collective Soul</td>\n",
       "      <td>0.520</td>\n",
       "      <td>234947</td>\n",
       "      <td>0.904</td>\n",
       "      <td>False</td>\n",
       "      <td>0.010300</td>\n",
       "      <td>0.0634</td>\n",
       "      <td>-5.030</td>\n",
       "      <td>1</td>\n",
       "      <td>Welcome All Again</td>\n",
       "      <td>35</td>\n",
       "      <td>0.0309</td>\n",
       "      <td>106.022</td>\n",
       "      <td>4</td>\n",
       "      <td>0.365</td>\n",
       "    </tr>\n",
       "    <tr>\n",
       "      <th>1</th>\n",
       "      <td>1</td>\n",
       "      <td>0.018200</td>\n",
       "      <td>Collective Soul (Deluxe Version)</td>\n",
       "      <td>Collective Soul</td>\n",
       "      <td>0.581</td>\n",
       "      <td>239573</td>\n",
       "      <td>0.709</td>\n",
       "      <td>False</td>\n",
       "      <td>0.000664</td>\n",
       "      <td>0.1740</td>\n",
       "      <td>-4.909</td>\n",
       "      <td>1</td>\n",
       "      <td>Fuzzy</td>\n",
       "      <td>31</td>\n",
       "      <td>0.0282</td>\n",
       "      <td>120.027</td>\n",
       "      <td>4</td>\n",
       "      <td>0.408</td>\n",
       "    </tr>\n",
       "  </tbody>\n",
       "</table>\n",
       "</div>"
      ],
      "text/plain": [
       "   Unnamed: 0  Acousticness                             Album  \\\n",
       "0           0      0.000728  Collective Soul (Deluxe Version)   \n",
       "1           1      0.018200  Collective Soul (Deluxe Version)   \n",
       "\n",
       "            Artist  Danceability  Duration  Energy  Explicit  \\\n",
       "0  Collective Soul         0.520    234947   0.904     False   \n",
       "1  Collective Soul         0.581    239573   0.709     False   \n",
       "\n",
       "   Instrumentalness  Liveness  Loudness  Mode               Name  Popularity  \\\n",
       "0          0.010300    0.0634    -5.030     1  Welcome All Again          35   \n",
       "1          0.000664    0.1740    -4.909     1              Fuzzy          31   \n",
       "\n",
       "   Speechiness    Tempo  TimeSignature  Valence  \n",
       "0       0.0309  106.022              4    0.365  \n",
       "1       0.0282  120.027              4    0.408  "
      ]
     },
     "execution_count": 41,
     "metadata": {},
     "output_type": "execute_result"
    }
   ],
   "source": [
    "songAttributes.head(2)"
   ]
  },
  {
   "cell_type": "code",
   "execution_count": 42,
   "metadata": {},
   "outputs": [
    {
     "data": {
      "text/html": [
       "<div>\n",
       "<style scoped>\n",
       "    .dataframe tbody tr th:only-of-type {\n",
       "        vertical-align: middle;\n",
       "    }\n",
       "\n",
       "    .dataframe tbody tr th {\n",
       "        vertical-align: top;\n",
       "    }\n",
       "\n",
       "    .dataframe thead th {\n",
       "        text-align: right;\n",
       "    }\n",
       "</style>\n",
       "<table border=\"1\" class=\"dataframe\">\n",
       "  <thead>\n",
       "    <tr style=\"text-align: right;\">\n",
       "      <th></th>\n",
       "      <th>X</th>\n",
       "      <th>Artist</th>\n",
       "      <th>Followers</th>\n",
       "      <th>Genres</th>\n",
       "      <th>NumAlbums</th>\n",
       "      <th>YearFirstAlbum</th>\n",
       "      <th>Gender</th>\n",
       "      <th>Group.Solo</th>\n",
       "    </tr>\n",
       "  </thead>\n",
       "  <tbody>\n",
       "    <tr>\n",
       "      <th>0</th>\n",
       "      <td>0</td>\n",
       "      <td>Ed Sheeran</td>\n",
       "      <td>52698756</td>\n",
       "      <td>pop,uk pop</td>\n",
       "      <td>8</td>\n",
       "      <td>2011</td>\n",
       "      <td>M</td>\n",
       "      <td>Solo</td>\n",
       "    </tr>\n",
       "    <tr>\n",
       "      <th>1</th>\n",
       "      <td>1</td>\n",
       "      <td>Justin Bieber</td>\n",
       "      <td>30711450</td>\n",
       "      <td>canadian pop,dance pop,pop,post-teen pop</td>\n",
       "      <td>10</td>\n",
       "      <td>2009</td>\n",
       "      <td>M</td>\n",
       "      <td>Solo</td>\n",
       "    </tr>\n",
       "  </tbody>\n",
       "</table>\n",
       "</div>"
      ],
      "text/plain": [
       "   X         Artist  Followers                                    Genres  \\\n",
       "0  0     Ed Sheeran   52698756                                pop,uk pop   \n",
       "1  1  Justin Bieber   30711450  canadian pop,dance pop,pop,post-teen pop   \n",
       "\n",
       "   NumAlbums  YearFirstAlbum Gender Group.Solo  \n",
       "0          8            2011      M       Solo  \n",
       "1         10            2009      M       Solo  "
      ]
     },
     "execution_count": 42,
     "metadata": {},
     "output_type": "execute_result"
    }
   ],
   "source": [
    "artistDf.head(2)"
   ]
  },
  {
   "cell_type": "markdown",
   "metadata": {},
   "source": [
    "Se procede a crear el dataframe donde se trabajará agregando de 'aristDf' el género(s) músical de cada canción y dejando el parámetro 'Explicit' expresado de forma binaria, tambiém se tomo una muestra aleatoria del dataset a utilizar de dimensión de 2000 filas:"
   ]
  },
  {
   "cell_type": "code",
   "execution_count": 43,
   "metadata": {},
   "outputs": [],
   "source": [
    "data_cleaned = songAttributes.merge(artistDf.loc[:,['Artist', 'Genres']],\n",
    "                                on = ['Artist'],\n",
    "                                how = 'inner',\n",
    "                                indicator = False)\n",
    "\n",
    "data_cleaned = data_cleaned.drop(labels = ['Unnamed: 0'], axis = 1)\n",
    "data_cleaned['Explicit'] = data_cleaned['Explicit'].astype(int)\n",
    "\n",
    "\n",
    "idx = data_cleaned.columns.get_loc(\"Name\")\n",
    "columns = data_cleaned.columns.to_list()[idx:idx+1] + data_cleaned.columns.to_list()[1: idx] + data_cleaned.columns.to_list()[0:1] + data_cleaned.columns.to_list()[idx+1:] #webeo para cambiar el orden de columnas\n",
    "data_cleaned = data_cleaned[columns]\n",
    "\n",
    "data_cleaned_sample = data_cleaned.sample(n = 4000, replace = False, random_state= 27)"
   ]
  },
  {
   "cell_type": "code",
   "execution_count": 44,
   "metadata": {},
   "outputs": [
    {
     "data": {
      "text/html": [
       "<div>\n",
       "<style scoped>\n",
       "    .dataframe tbody tr th:only-of-type {\n",
       "        vertical-align: middle;\n",
       "    }\n",
       "\n",
       "    .dataframe tbody tr th {\n",
       "        vertical-align: top;\n",
       "    }\n",
       "\n",
       "    .dataframe thead th {\n",
       "        text-align: right;\n",
       "    }\n",
       "</style>\n",
       "<table border=\"1\" class=\"dataframe\">\n",
       "  <thead>\n",
       "    <tr style=\"text-align: right;\">\n",
       "      <th></th>\n",
       "      <th>Name</th>\n",
       "      <th>Album</th>\n",
       "      <th>Artist</th>\n",
       "      <th>Danceability</th>\n",
       "      <th>Duration</th>\n",
       "      <th>Energy</th>\n",
       "      <th>Explicit</th>\n",
       "      <th>Instrumentalness</th>\n",
       "      <th>Liveness</th>\n",
       "      <th>Loudness</th>\n",
       "      <th>Mode</th>\n",
       "      <th>Acousticness</th>\n",
       "      <th>Popularity</th>\n",
       "      <th>Speechiness</th>\n",
       "      <th>Tempo</th>\n",
       "      <th>TimeSignature</th>\n",
       "      <th>Valence</th>\n",
       "      <th>Genres</th>\n",
       "    </tr>\n",
       "  </thead>\n",
       "  <tbody>\n",
       "    <tr>\n",
       "      <th>105914</th>\n",
       "      <td>True Colors (Glee Cast Version)</td>\n",
       "      <td>Glee: The Music, The Complete Season One</td>\n",
       "      <td>Glee Cast</td>\n",
       "      <td>0.611</td>\n",
       "      <td>214000</td>\n",
       "      <td>0.387</td>\n",
       "      <td>0</td>\n",
       "      <td>0.0</td>\n",
       "      <td>0.2130</td>\n",
       "      <td>-7.949</td>\n",
       "      <td>1</td>\n",
       "      <td>0.1180</td>\n",
       "      <td>36</td>\n",
       "      <td>0.0242</td>\n",
       "      <td>85.978</td>\n",
       "      <td>4</td>\n",
       "      <td>0.335</td>\n",
       "      <td>glee club,hollywood,pop,post-teen pop</td>\n",
       "    </tr>\n",
       "    <tr>\n",
       "      <th>30003</th>\n",
       "      <td>No Soy El Aire</td>\n",
       "      <td>Habítame Siempre (Bonus Tracks Version)</td>\n",
       "      <td>Thalia</td>\n",
       "      <td>0.362</td>\n",
       "      <td>246413</td>\n",
       "      <td>0.596</td>\n",
       "      <td>0</td>\n",
       "      <td>0.0</td>\n",
       "      <td>0.0755</td>\n",
       "      <td>-7.054</td>\n",
       "      <td>0</td>\n",
       "      <td>0.0369</td>\n",
       "      <td>41</td>\n",
       "      <td>0.0338</td>\n",
       "      <td>148.471</td>\n",
       "      <td>4</td>\n",
       "      <td>0.201</td>\n",
       "      <td>dance pop,latin,latin pop,mexican pop,pop,trop...</td>\n",
       "    </tr>\n",
       "  </tbody>\n",
       "</table>\n",
       "</div>"
      ],
      "text/plain": [
       "                                   Name  \\\n",
       "105914  True Colors (Glee Cast Version)   \n",
       "30003                    No Soy El Aire   \n",
       "\n",
       "                                           Album     Artist  Danceability  \\\n",
       "105914  Glee: The Music, The Complete Season One  Glee Cast         0.611   \n",
       "30003    Habítame Siempre (Bonus Tracks Version)     Thalia         0.362   \n",
       "\n",
       "        Duration  Energy  Explicit  Instrumentalness  Liveness  Loudness  \\\n",
       "105914    214000   0.387         0               0.0    0.2130    -7.949   \n",
       "30003     246413   0.596         0               0.0    0.0755    -7.054   \n",
       "\n",
       "        Mode  Acousticness  Popularity  Speechiness    Tempo  TimeSignature  \\\n",
       "105914     1        0.1180          36       0.0242   85.978              4   \n",
       "30003      0        0.0369          41       0.0338  148.471              4   \n",
       "\n",
       "        Valence                                             Genres  \n",
       "105914    0.335              glee club,hollywood,pop,post-teen pop  \n",
       "30003     0.201  dance pop,latin,latin pop,mexican pop,pop,trop...  "
      ]
     },
     "execution_count": 44,
     "metadata": {},
     "output_type": "execute_result"
    }
   ],
   "source": [
    "data_cleaned_sample.head(2)"
   ]
  },
  {
   "cell_type": "markdown",
   "metadata": {},
   "source": [
    " Se eliminan atributos de texto que no pueden ser utilizados en KMeans como el nombre del artista, el nombre del albúm y el nombre de la canción por ser datos en forma de texto (lo mismo se hizo para cada metodología de clustering):"
   ]
  },
  {
   "cell_type": "code",
   "execution_count": 45,
   "metadata": {},
   "outputs": [],
   "source": [
    "# se eliminan atributos de texto que no pueden ser utilizados en KMeans\n",
    "data_k_means = data_cleaned_sample.drop(columns = ['Album','Artist', 'Name'])\n",
    "data_k_means = data_k_means.drop(columns = ['Duration','Popularity','Tempo','TimeSignature','Genres'])"
   ]
  },
  {
   "cell_type": "markdown",
   "metadata": {},
   "source": [
    "De esta forma se toma el conjunto `[Danceability, Energy, Explicit, Instrumentalness, Liveness, Loudness, Mode, Acousticness, Speechiness, Valence]` para hacer el clustering en K-means y el resto de los métodos, ya que se considera que cosas como Popularidad no son relevantes, ya que no aportan elementos musicales de las composiciones, se descartó Duración y Tempo ya que al no estar normalizados ocasionaría problemas para el desarrollo del clustering, también se saco 'Time Signature', ya que no se comprende bien lo que evalua o lo que se mide, ya que en el dataset original de kaggle no se encontró una explicación satisfactoria de este:"
   ]
  },
  {
   "cell_type": "markdown",
   "metadata": {},
   "source": [
    "Quedando así la tabla para agrupar las canciones:"
   ]
  },
  {
   "cell_type": "code",
   "execution_count": 46,
   "metadata": {},
   "outputs": [
    {
     "data": {
      "text/html": [
       "<div>\n",
       "<style scoped>\n",
       "    .dataframe tbody tr th:only-of-type {\n",
       "        vertical-align: middle;\n",
       "    }\n",
       "\n",
       "    .dataframe tbody tr th {\n",
       "        vertical-align: top;\n",
       "    }\n",
       "\n",
       "    .dataframe thead th {\n",
       "        text-align: right;\n",
       "    }\n",
       "</style>\n",
       "<table border=\"1\" class=\"dataframe\">\n",
       "  <thead>\n",
       "    <tr style=\"text-align: right;\">\n",
       "      <th></th>\n",
       "      <th>Danceability</th>\n",
       "      <th>Energy</th>\n",
       "      <th>Explicit</th>\n",
       "      <th>Instrumentalness</th>\n",
       "      <th>Liveness</th>\n",
       "      <th>Loudness</th>\n",
       "      <th>Mode</th>\n",
       "      <th>Acousticness</th>\n",
       "      <th>Speechiness</th>\n",
       "      <th>Valence</th>\n",
       "    </tr>\n",
       "  </thead>\n",
       "  <tbody>\n",
       "    <tr>\n",
       "      <th>105914</th>\n",
       "      <td>0.611</td>\n",
       "      <td>0.387</td>\n",
       "      <td>0</td>\n",
       "      <td>0.000000</td>\n",
       "      <td>0.2130</td>\n",
       "      <td>-7.949</td>\n",
       "      <td>1</td>\n",
       "      <td>0.1180</td>\n",
       "      <td>0.0242</td>\n",
       "      <td>0.335</td>\n",
       "    </tr>\n",
       "    <tr>\n",
       "      <th>30003</th>\n",
       "      <td>0.362</td>\n",
       "      <td>0.596</td>\n",
       "      <td>0</td>\n",
       "      <td>0.000000</td>\n",
       "      <td>0.0755</td>\n",
       "      <td>-7.054</td>\n",
       "      <td>0</td>\n",
       "      <td>0.0369</td>\n",
       "      <td>0.0338</td>\n",
       "      <td>0.201</td>\n",
       "    </tr>\n",
       "    <tr>\n",
       "      <th>36149</th>\n",
       "      <td>0.680</td>\n",
       "      <td>0.605</td>\n",
       "      <td>0</td>\n",
       "      <td>0.000094</td>\n",
       "      <td>0.3000</td>\n",
       "      <td>-6.745</td>\n",
       "      <td>1</td>\n",
       "      <td>0.2630</td>\n",
       "      <td>0.0258</td>\n",
       "      <td>0.677</td>\n",
       "    </tr>\n",
       "    <tr>\n",
       "      <th>14723</th>\n",
       "      <td>0.732</td>\n",
       "      <td>0.572</td>\n",
       "      <td>0</td>\n",
       "      <td>0.000000</td>\n",
       "      <td>0.1250</td>\n",
       "      <td>-7.426</td>\n",
       "      <td>1</td>\n",
       "      <td>0.3890</td>\n",
       "      <td>0.2950</td>\n",
       "      <td>0.816</td>\n",
       "    </tr>\n",
       "    <tr>\n",
       "      <th>76273</th>\n",
       "      <td>0.926</td>\n",
       "      <td>0.665</td>\n",
       "      <td>0</td>\n",
       "      <td>0.000000</td>\n",
       "      <td>0.0645</td>\n",
       "      <td>-4.866</td>\n",
       "      <td>0</td>\n",
       "      <td>0.1060</td>\n",
       "      <td>0.2600</td>\n",
       "      <td>0.220</td>\n",
       "    </tr>\n",
       "  </tbody>\n",
       "</table>\n",
       "</div>"
      ],
      "text/plain": [
       "        Danceability  Energy  Explicit  Instrumentalness  Liveness  Loudness  \\\n",
       "105914         0.611   0.387         0          0.000000    0.2130    -7.949   \n",
       "30003          0.362   0.596         0          0.000000    0.0755    -7.054   \n",
       "36149          0.680   0.605         0          0.000094    0.3000    -6.745   \n",
       "14723          0.732   0.572         0          0.000000    0.1250    -7.426   \n",
       "76273          0.926   0.665         0          0.000000    0.0645    -4.866   \n",
       "\n",
       "        Mode  Acousticness  Speechiness  Valence  \n",
       "105914     1        0.1180       0.0242    0.335  \n",
       "30003      0        0.0369       0.0338    0.201  \n",
       "36149      1        0.2630       0.0258    0.677  \n",
       "14723      1        0.3890       0.2950    0.816  \n",
       "76273      0        0.1060       0.2600    0.220  "
      ]
     },
     "execution_count": 46,
     "metadata": {},
     "output_type": "execute_result"
    }
   ],
   "source": [
    "data_k_means.head()"
   ]
  },
  {
   "cell_type": "markdown",
   "metadata": {},
   "source": [
    "Se prodeció a reducir la dimensionalidad mediante PCA para poder gráficar los datos en un gráfico:"
   ]
  },
  {
   "cell_type": "code",
   "execution_count": 47,
   "metadata": {},
   "outputs": [
    {
     "data": {
      "text/plain": [
       "(4000, 2)"
      ]
     },
     "execution_count": 47,
     "metadata": {},
     "output_type": "execute_result"
    }
   ],
   "source": [
    "pca = PCA(n_components=2).fit(data_k_means)\n",
    "rates_pca = pca.transform(data_k_means)\n",
    "rates_pca.shape"
   ]
  },
  {
   "cell_type": "code",
   "execution_count": 48,
   "metadata": {},
   "outputs": [
    {
     "data": {
      "image/png": "[encoded data removed]",
      "text/plain": [
       "<Figure size 720x360 with 1 Axes>"
      ]
     },
     "metadata": {
      "needs_background": "light"
     },
     "output_type": "display_data"
    }
   ],
   "source": [
    "fig, ax = plt.subplots(sharex=True, figsize = (10,5))\n",
    "plt.scatter(rates_pca[:,0], rates_pca[:,1])\n",
    "plt.title('Distribución PCA')\n",
    "plt.show()"
   ]
  },
  {
   "cell_type": "markdown",
   "metadata": {},
   "source": [
    "Método de la rodilla para obtener el número óptimo de cluster's, donde se opta por usar `k = 4` para k-means:"
   ]
  },
  {
   "cell_type": "code",
   "execution_count": 49,
   "metadata": {},
   "outputs": [
    {
     "data": {
      "image/png": "[encoded data removed]",
      "text/plain": [
       "<Figure size 432x288 with 1 Axes>"
      ]
     },
     "metadata": {
      "needs_background": "light"
     },
     "output_type": "display_data"
    }
   ],
   "source": [
    "SSE = []\n",
    "numClusters = list(range(1, 20))\n",
    "for k in numClusters:\n",
    "    k_means = KMeans(n_clusters=k, n_init=20, max_iter= 300, random_state=1)\n",
    "    k_means.fit(data_k_means)\n",
    "    SSE.append(k_means.inertia_)\n",
    "\n",
    "plt.plot(numClusters, SSE, marker=\"o\")\n",
    "plt.xlabel('Número de Clusters')\n",
    "plt.ylabel('SSE')\n",
    "plt.show()"
   ]
  },
  {
   "cell_type": "code",
   "execution_count": 50,
   "metadata": {},
   "outputs": [
    {
     "data": {
      "text/plain": [
       "array([1380,  580, 1940,  100], dtype=int64)"
      ]
     },
     "execution_count": 50,
     "metadata": {},
     "output_type": "execute_result"
    }
   ],
   "source": [
    "kmeans =  KMeans(n_clusters=4, n_init = 20, random_state=1)\n",
    "kmeans.fit(data_k_means)\n",
    "y_pred = kmeans.labels_\n",
    "np.bincount(y_pred)"
   ]
  },
  {
   "cell_type": "markdown",
   "metadata": {},
   "source": [
    "## K-means:"
   ]
  },
  {
   "cell_type": "markdown",
   "metadata": {},
   "source": [
    "Se procede a ejecutar k-means para poder agrupar en cluster's los datos:"
   ]
  },
  {
   "cell_type": "code",
   "execution_count": 51,
   "metadata": {},
   "outputs": [
    {
     "data": {
      "text/plain": [
       "array([1380,  580, 1940,  100], dtype=int64)"
      ]
     },
     "execution_count": 51,
     "metadata": {},
     "output_type": "execute_result"
    }
   ],
   "source": [
    "kmeans =  KMeans(n_clusters=4, n_init = 20, max_iter= 300 , random_state=1)\n",
    "kmeans.fit(data_k_means)\n",
    "y_pred = kmeans.labels_\n",
    "np.bincount(y_pred)"
   ]
  },
  {
   "cell_type": "code",
   "execution_count": 52,
   "metadata": {},
   "outputs": [
    {
     "data": {
      "text/plain": [
       "Text(0.5, 1.0, \"k-means cluster's k = 4\")"
      ]
     },
     "execution_count": 52,
     "metadata": {},
     "output_type": "execute_result"
    },
    {
     "data": {
      "image/png": "[encoded data removed]",
      "text/plain": [
       "<Figure size 864x288 with 1 Axes>"
      ]
     },
     "metadata": {
      "needs_background": "light"
     },
     "output_type": "display_data"
    }
   ],
   "source": [
    "fig, ax = plt.subplots(sharex=True, figsize = (12, 4))\n",
    "plt.scatter(rates_pca[:, 0], rates_pca[:, 1], c= kmeans.labels_)\n",
    "plt.title(\"k-means cluster's k = 4\")"
   ]
  },
  {
   "cell_type": "markdown",
   "metadata": {},
   "source": [
    "## Clustering Jerárquico"
   ]
  },
  {
   "cell_type": "markdown",
   "metadata": {},
   "source": [
    "En esta sección se aplicaron los distintos métodos de clustering jerárquico menos Single que al no lograr un dendograma muy útil se decidió por descartarlo por temas de espacio del informe. A continuación se limpian los datos de la misma forma que en k-means:"
   ]
  },
  {
   "cell_type": "code",
   "execution_count": 53,
   "metadata": {},
   "outputs": [],
   "source": [
    "from scipy.cluster.hierarchy import dendrogram, linkage\n",
    "from sklearn.cluster import AgglomerativeClustering"
   ]
  },
  {
   "cell_type": "code",
   "execution_count": 54,
   "metadata": {},
   "outputs": [],
   "source": [
    "names = data_cleaned_sample['Name']\n",
    "Y = data_cleaned_sample['Genres']\n",
    "X = data_cleaned_sample.drop(columns = ['Album','Artist', 'Name', 'Genres', 'Duration','Popularity','Tempo','TimeSignature'])"
   ]
  },
  {
   "cell_type": "code",
   "execution_count": 55,
   "metadata": {},
   "outputs": [
    {
     "data": {
      "text/html": [
       "<div>\n",
       "<style scoped>\n",
       "    .dataframe tbody tr th:only-of-type {\n",
       "        vertical-align: middle;\n",
       "    }\n",
       "\n",
       "    .dataframe tbody tr th {\n",
       "        vertical-align: top;\n",
       "    }\n",
       "\n",
       "    .dataframe thead th {\n",
       "        text-align: right;\n",
       "    }\n",
       "</style>\n",
       "<table border=\"1\" class=\"dataframe\">\n",
       "  <thead>\n",
       "    <tr style=\"text-align: right;\">\n",
       "      <th></th>\n",
       "      <th>Danceability</th>\n",
       "      <th>Energy</th>\n",
       "      <th>Explicit</th>\n",
       "      <th>Instrumentalness</th>\n",
       "      <th>Liveness</th>\n",
       "      <th>Loudness</th>\n",
       "      <th>Mode</th>\n",
       "      <th>Acousticness</th>\n",
       "      <th>Speechiness</th>\n",
       "      <th>Valence</th>\n",
       "    </tr>\n",
       "  </thead>\n",
       "  <tbody>\n",
       "    <tr>\n",
       "      <th>105914</th>\n",
       "      <td>0.611</td>\n",
       "      <td>0.387</td>\n",
       "      <td>0</td>\n",
       "      <td>0.0</td>\n",
       "      <td>0.2130</td>\n",
       "      <td>-7.949</td>\n",
       "      <td>1</td>\n",
       "      <td>0.1180</td>\n",
       "      <td>0.0242</td>\n",
       "      <td>0.335</td>\n",
       "    </tr>\n",
       "    <tr>\n",
       "      <th>30003</th>\n",
       "      <td>0.362</td>\n",
       "      <td>0.596</td>\n",
       "      <td>0</td>\n",
       "      <td>0.0</td>\n",
       "      <td>0.0755</td>\n",
       "      <td>-7.054</td>\n",
       "      <td>0</td>\n",
       "      <td>0.0369</td>\n",
       "      <td>0.0338</td>\n",
       "      <td>0.201</td>\n",
       "    </tr>\n",
       "  </tbody>\n",
       "</table>\n",
       "</div>"
      ],
      "text/plain": [
       "        Danceability  Energy  Explicit  Instrumentalness  Liveness  Loudness  \\\n",
       "105914         0.611   0.387         0               0.0    0.2130    -7.949   \n",
       "30003          0.362   0.596         0               0.0    0.0755    -7.054   \n",
       "\n",
       "        Mode  Acousticness  Speechiness  Valence  \n",
       "105914     1        0.1180       0.0242    0.335  \n",
       "30003      0        0.0369       0.0338    0.201  "
      ]
     },
     "execution_count": 55,
     "metadata": {},
     "output_type": "execute_result"
    }
   ],
   "source": [
    "X.head(2)"
   ]
  },
  {
   "cell_type": "markdown",
   "metadata": {},
   "source": [
    "### WARD"
   ]
  },
  {
   "cell_type": "markdown",
   "metadata": {},
   "source": [
    "Procediendo con el método ward se opto por cortar en `x = 40`, ya que con eso se logra unos cluster's de tamaño más o menos uniforme:"
   ]
  },
  {
   "cell_type": "code",
   "execution_count": 56,
   "metadata": {},
   "outputs": [
    {
     "data": {
      "text/plain": [
       "[]"
      ]
     },
     "execution_count": 56,
     "metadata": {},
     "output_type": "execute_result"
    },
    {
     "data": {
      "image/png": "[encoded data removed]",
      "text/plain": [
       "<Figure size 720x360 with 1 Axes>"
      ]
     },
     "metadata": {
      "needs_background": "light"
     },
     "output_type": "display_data"
    }
   ],
   "source": [
    "fig, ax = plt.subplots(sharex=True, figsize = (10,5))\n",
    "Z = linkage(X, method='ward', metric='euclidean') # distancia maxima entre putnos\n",
    "plt.axvline(x= 40, color='r', linestyle='--')\n",
    "dn = dendrogram(Z, labels = ['' for k in range(0,len(X))], orientation='right')\n",
    "plt.title('Dendograma linkage : Ward')\n",
    "plt.plot()"
   ]
  },
  {
   "cell_type": "code",
   "execution_count": 78,
   "metadata": {},
   "outputs": [],
   "source": [
    "distance = 40\n",
    "\n",
    "ward_euclidean = AgglomerativeClustering(linkage='ward',\n",
    "                                metric='euclidean',\n",
    "                                n_clusters=None,\n",
    "                                distance_threshold=distance).fit(X)"
   ]
  },
  {
   "cell_type": "markdown",
   "metadata": {},
   "source": [
    "Quedando de la siguiente forma distribuidos los cluster's donde dio que habían 5 de estos: "
   ]
  },
  {
   "cell_type": "code",
   "execution_count": 79,
   "metadata": {},
   "outputs": [
    {
     "data": {
      "image/png": "[encoded data removed]",
      "text/plain": [
       "<Figure size 720x360 with 1 Axes>"
      ]
     },
     "metadata": {
      "needs_background": "light"
     },
     "output_type": "display_data"
    },
    {
     "data": {
      "text/plain": [
       "array([0, 1, 2, 3, 4, 5, 6, 7, 8], dtype=int64)"
      ]
     },
     "execution_count": 79,
     "metadata": {},
     "output_type": "execute_result"
    }
   ],
   "source": [
    "fig, ax = plt.subplots(sharex=True, figsize = (10,5))\n",
    "plt.scatter(rates_pca[:,0],rates_pca[:,1], c= ward_euclidean.labels_)\n",
    "plt.title('Agglomeraty clustering linkage: Ward').set_fontsize(14)\n",
    "plt.show()\n",
    "np.unique(ward_euclidean.labels_)"
   ]
  },
  {
   "cell_type": "markdown",
   "metadata": {},
   "source": [
    "### COMPLETE"
   ]
  },
  {
   "cell_type": "markdown",
   "metadata": {},
   "source": [
    "Con complete se decidió por cortar en `x = 0.1`: "
   ]
  },
  {
   "cell_type": "code",
   "execution_count": 59,
   "metadata": {},
   "outputs": [
    {
     "data": {
      "text/plain": [
       "Text(0.5, 1.0, 'Dendograma linkage : Complete')"
      ]
     },
     "execution_count": 59,
     "metadata": {},
     "output_type": "execute_result"
    },
    {
     "data": {
      "image/png": "[encoded data removed]",
      "text/plain": [
       "<Figure size 720x360 with 1 Axes>"
      ]
     },
     "metadata": {
      "needs_background": "light"
     },
     "output_type": "display_data"
    }
   ],
   "source": [
    "fig, ax = plt.subplots(sharex=True, figsize = (10,5))\n",
    "Z = linkage(X, method='complete', metric='cosine') # distancia maxima entre putnos\n",
    "dn = dendrogram(Z, labels = None,orientation='right')\n",
    "plt.axvline(x= 0.1, color='r', linestyle='--')\n",
    "dn = dendrogram(Z, labels = ['' for k in range(0,len(X))], orientation='right')\n",
    "plt.title('Dendograma linkage : Complete')"
   ]
  },
  {
   "cell_type": "code",
   "execution_count": 80,
   "metadata": {},
   "outputs": [],
   "source": [
    "distance = 0.1\n",
    "\n",
    "complete_cosine = AgglomerativeClustering(linkage='complete',\n",
    "                                metric='cosine',\n",
    "                                n_clusters=None,\n",
    "                                distance_threshold= distance).fit(X)"
   ]
  },
  {
   "cell_type": "markdown",
   "metadata": {},
   "source": [
    "Quedando de la siguiente forma la distribución de los cluster's, donde dio que habían 11 de estos:"
   ]
  },
  {
   "cell_type": "code",
   "execution_count": 61,
   "metadata": {},
   "outputs": [
    {
     "data": {
      "image/png": "[encoded data removed]",
      "text/plain": [
       "<Figure size 720x360 with 1 Axes>"
      ]
     },
     "metadata": {
      "needs_background": "light"
     },
     "output_type": "display_data"
    },
    {
     "data": {
      "text/plain": [
       "array([ 0,  1,  2,  3,  4,  5,  6,  7,  8,  9, 10, 11, 12, 13, 14],\n",
       "      dtype=int64)"
      ]
     },
     "execution_count": 61,
     "metadata": {},
     "output_type": "execute_result"
    }
   ],
   "source": [
    "fig, ax = plt.subplots(sharex=True, figsize = (10,5))\n",
    "plt.scatter(rates_pca[:,0],rates_pca[:,1], c= complete_cosine.labels_)\n",
    "plt.title('Agglomeraty clustering linkage: Complete').set_fontsize(14)\n",
    "plt.show()\n",
    "np.unique(complete_cosine.labels_)"
   ]
  },
  {
   "cell_type": "markdown",
   "metadata": {},
   "source": [
    "### Average"
   ]
  },
  {
   "cell_type": "markdown",
   "metadata": {},
   "source": [
    "A diferencia de los otros métodos en este se opto por tomar `k = 4` directamente: "
   ]
  },
  {
   "cell_type": "code",
   "execution_count": 62,
   "metadata": {},
   "outputs": [
    {
     "data": {
      "image/png": "[encoded data removed]",
      "text/plain": [
       "<Figure size 720x360 with 1 Axes>"
      ]
     },
     "metadata": {
      "needs_background": "light"
     },
     "output_type": "display_data"
    }
   ],
   "source": [
    "fig, ax = plt.subplots(sharex=True, figsize = (10,5))\n",
    "Z = linkage(X, method='average', metric='cosine')\n",
    "plt.axvline(x= 0.05, color='r', linestyle='--')\n",
    "dn = dendrogram(Z, labels= None,orientation='right')"
   ]
  },
  {
   "cell_type": "code",
   "execution_count": 81,
   "metadata": {},
   "outputs": [],
   "source": [
    "distance = 0.12\n",
    "n_clusters = None\n",
    "\n",
    "average_cosine = AgglomerativeClustering(linkage='average',\n",
    "                                metric='cosine',\n",
    "                                n_clusters=n_clusters,\n",
    "                                distance_threshold= distance).fit(X)"
   ]
  },
  {
   "cell_type": "markdown",
   "metadata": {},
   "source": [
    "Quedando la siguiente distribución de cluster's con 6 de estos:"
   ]
  },
  {
   "cell_type": "code",
   "execution_count": 82,
   "metadata": {},
   "outputs": [
    {
     "data": {
      "image/png": "[encoded data removed]",
      "text/plain": [
       "<Figure size 720x360 with 1 Axes>"
      ]
     },
     "metadata": {
      "needs_background": "light"
     },
     "output_type": "display_data"
    },
    {
     "data": {
      "text/plain": [
       "array([0, 1, 2, 3, 4, 5, 6], dtype=int64)"
      ]
     },
     "execution_count": 82,
     "metadata": {},
     "output_type": "execute_result"
    }
   ],
   "source": [
    "fig, ax = plt.subplots(sharex=True, figsize = (10,5))\n",
    "plt.scatter(rates_pca[:,0],rates_pca[:,1], c= average_cosine.labels_)\n",
    "plt.title('Agglomeraty clustering linkage: Average').set_fontsize(14)\n",
    "plt.show()\n",
    "np.unique(average_cosine.labels_)"
   ]
  },
  {
   "cell_type": "markdown",
   "metadata": {},
   "source": [
    "## DBSCAN"
   ]
  },
  {
   "cell_type": "markdown",
   "metadata": {},
   "source": [
    "Para DBSCAN se procedió con el método de la rodilla para decidir el valor de `eps` donde se llegó que `eps = 0.72` y `min_samples = 14` :"
   ]
  },
  {
   "cell_type": "code",
   "execution_count": 65,
   "metadata": {},
   "outputs": [],
   "source": [
    "from sklearn.cluster import DBSCAN\n",
    "from sklearn.neighbors import NearestNeighbors"
   ]
  },
  {
   "cell_type": "code",
   "execution_count": 66,
   "metadata": {
    "scrolled": true
   },
   "outputs": [
    {
     "data": {
      "image/png": "[encoded data removed]",
      "text/plain": [
       "<Figure size 432x288 with 1 Axes>"
      ]
     },
     "metadata": {
      "needs_background": "light"
     },
     "output_type": "display_data"
    }
   ],
   "source": [
    "N = 14\n",
    "nbrs = NearestNeighbors(n_neighbors=N).fit(X)\n",
    "distances, indices = nbrs.kneighbors(X)\n",
    "\n",
    "distances = np.sort(distances, axis=0)\n",
    "distances = distances[:,1]\n",
    "plt.axhline(y= 0.81, color='r', linestyle='--')\n",
    "plt.plot(distances)\n",
    "plt.show()"
   ]
  },
  {
   "cell_type": "markdown",
   "metadata": {},
   "source": [
    "Posteriormente se vió que se formaron 4 cluster's:"
   ]
  },
  {
   "cell_type": "code",
   "execution_count": 67,
   "metadata": {},
   "outputs": [
    {
     "data": {
      "image/png": "[encoded data removed]",
      "text/plain": [
       "<Figure size 720x360 with 1 Axes>"
      ]
     },
     "metadata": {
      "needs_background": "light"
     },
     "output_type": "display_data"
    },
    {
     "name": "stdout",
     "output_type": "stream",
     "text": [
      "[-1  0  1  2  3]\n"
     ]
    }
   ],
   "source": [
    "dbscan = DBSCAN(eps= 0.82, min_samples= 14).fit(X)\n",
    "fig, ax = plt.subplots(sharex=True, figsize = (10,5))\n",
    "plt.scatter(rates_pca[:,0], rates_pca[:,1], c = dbscan.labels_)\n",
    "plt.title('DSBCAN')\n",
    "plt.show()\n",
    "print(np.unique(dbscan.labels_))"
   ]
  },
  {
   "cell_type": "markdown",
   "metadata": {},
   "source": [
    "Se puede ver a continuación la distribución de los cluster's mediante DBSCAN. Se va considerar la clase `-1` corresponde a ruido debido a que no se adaptan a ningún cluster."
   ]
  },
  {
   "cell_type": "code",
   "execution_count": 68,
   "metadata": {},
   "outputs": [
    {
     "data": {
      "text/plain": [
       "(array([-1,  0,  1,  2,  3], dtype=int64),\n",
       " array([ 224, 2112,  822,  518,  324], dtype=int64))"
      ]
     },
     "execution_count": 68,
     "metadata": {},
     "output_type": "execute_result"
    }
   ],
   "source": [
    "np.unique(dbscan.labels_, return_counts = True)"
   ]
  },
  {
   "cell_type": "markdown",
   "metadata": {
    "tags": [
     "parameters"
    ]
   },
   "source": [
    "## Metricas de Evaluación"
   ]
  },
  {
   "cell_type": "markdown",
   "metadata": {},
   "source": [
    "Se evaluan los puntajes de silhoutte de los modelos realizados anteriormente, donde en DBSCAN para obtener un valor más adecuado se decidio filtrar el ruido obtenido al realizar el procedimiento:"
   ]
  },
  {
   "cell_type": "code",
   "execution_count": 69,
   "metadata": {},
   "outputs": [
    {
     "name": "stdout",
     "output_type": "stream",
     "text": [
      "Dataset X K-Means\t 0.4509206794571098\n",
      "Dataset X Ward \t 0.2783986455924594\n",
      "Dataset X Complete\t -0.0021932121277941125\n",
      "Dataset X Average \t 0.16915808575224367\n",
      "Dataset X DBSCAN\t 0.5990707234350278\n"
     ]
    }
   ],
   "source": [
    "from sklearn.metrics import silhouette_score\n",
    "\n",
    "print(\"Dataset X K-Means\\t\", silhouette_score(data_k_means, kmeans.labels_))\n",
    "print(\"Dataset X Ward \\t\", silhouette_score(X, ward_euclidean.labels_))\n",
    "print(\"Dataset X Complete\\t\", silhouette_score(X, complete_cosine.labels_))\n",
    "print(\"Dataset X Average \\t\", silhouette_score(X, average_cosine.labels_))\n",
    "print(\"Dataset X DBSCAN\\t\", silhouette_score(X, dbscan.labels_ >= 0))\n",
    "\n",
    "\n"
   ]
  },
  {
   "cell_type": "markdown",
   "metadata": {},
   "source": [
    "## Evaluación de Resultados"
   ]
  },
  {
   "cell_type": "markdown",
   "metadata": {},
   "source": [
    "Viendo que DBSCAN obtuvo el valor más cercano a 1 de los métodos utilizados se procederá a estudiar este para obtener la respuesta de la pregunta 3, por lo que se concatenan el ID de cada cluster a la tabla con los `dbscan.labels_`: "
   ]
  },
  {
   "cell_type": "code",
   "execution_count": 70,
   "metadata": {},
   "outputs": [
    {
     "data": {
      "text/html": [
       "<div>\n",
       "<style scoped>\n",
       "    .dataframe tbody tr th:only-of-type {\n",
       "        vertical-align: middle;\n",
       "    }\n",
       "\n",
       "    .dataframe tbody tr th {\n",
       "        vertical-align: top;\n",
       "    }\n",
       "\n",
       "    .dataframe thead th {\n",
       "        text-align: right;\n",
       "    }\n",
       "</style>\n",
       "<table border=\"1\" class=\"dataframe\">\n",
       "  <thead>\n",
       "    <tr style=\"text-align: right;\">\n",
       "      <th></th>\n",
       "      <th>Name</th>\n",
       "      <th>Album</th>\n",
       "      <th>Artist</th>\n",
       "      <th>Danceability</th>\n",
       "      <th>Duration</th>\n",
       "      <th>Energy</th>\n",
       "      <th>Explicit</th>\n",
       "      <th>Instrumentalness</th>\n",
       "      <th>Liveness</th>\n",
       "      <th>Loudness</th>\n",
       "      <th>Mode</th>\n",
       "      <th>Acousticness</th>\n",
       "      <th>Popularity</th>\n",
       "      <th>Speechiness</th>\n",
       "      <th>Tempo</th>\n",
       "      <th>TimeSignature</th>\n",
       "      <th>Valence</th>\n",
       "      <th>Genres</th>\n",
       "      <th>Cluster ID</th>\n",
       "    </tr>\n",
       "  </thead>\n",
       "  <tbody>\n",
       "    <tr>\n",
       "      <th>105914</th>\n",
       "      <td>True Colors (Glee Cast Version)</td>\n",
       "      <td>Glee: The Music, The Complete Season One</td>\n",
       "      <td>Glee Cast</td>\n",
       "      <td>0.611</td>\n",
       "      <td>214000</td>\n",
       "      <td>0.387</td>\n",
       "      <td>0</td>\n",
       "      <td>0.0</td>\n",
       "      <td>0.2130</td>\n",
       "      <td>-7.949</td>\n",
       "      <td>1</td>\n",
       "      <td>0.1180</td>\n",
       "      <td>36</td>\n",
       "      <td>0.0242</td>\n",
       "      <td>85.978</td>\n",
       "      <td>4</td>\n",
       "      <td>0.335</td>\n",
       "      <td>glee club,hollywood,pop,post-teen pop</td>\n",
       "      <td>0</td>\n",
       "    </tr>\n",
       "    <tr>\n",
       "      <th>30003</th>\n",
       "      <td>No Soy El Aire</td>\n",
       "      <td>Habítame Siempre (Bonus Tracks Version)</td>\n",
       "      <td>Thalia</td>\n",
       "      <td>0.362</td>\n",
       "      <td>246413</td>\n",
       "      <td>0.596</td>\n",
       "      <td>0</td>\n",
       "      <td>0.0</td>\n",
       "      <td>0.0755</td>\n",
       "      <td>-7.054</td>\n",
       "      <td>0</td>\n",
       "      <td>0.0369</td>\n",
       "      <td>41</td>\n",
       "      <td>0.0338</td>\n",
       "      <td>148.471</td>\n",
       "      <td>4</td>\n",
       "      <td>0.201</td>\n",
       "      <td>dance pop,latin,latin pop,mexican pop,pop,trop...</td>\n",
       "      <td>1</td>\n",
       "    </tr>\n",
       "  </tbody>\n",
       "</table>\n",
       "</div>"
      ],
      "text/plain": [
       "                                   Name  \\\n",
       "105914  True Colors (Glee Cast Version)   \n",
       "30003                    No Soy El Aire   \n",
       "\n",
       "                                           Album     Artist  Danceability  \\\n",
       "105914  Glee: The Music, The Complete Season One  Glee Cast         0.611   \n",
       "30003    Habítame Siempre (Bonus Tracks Version)     Thalia         0.362   \n",
       "\n",
       "        Duration  Energy  Explicit  Instrumentalness  Liveness  Loudness  \\\n",
       "105914    214000   0.387         0               0.0    0.2130    -7.949   \n",
       "30003     246413   0.596         0               0.0    0.0755    -7.054   \n",
       "\n",
       "        Mode  Acousticness  Popularity  Speechiness    Tempo  TimeSignature  \\\n",
       "105914     1        0.1180          36       0.0242   85.978              4   \n",
       "30003      0        0.0369          41       0.0338  148.471              4   \n",
       "\n",
       "        Valence                                             Genres  Cluster ID  \n",
       "105914    0.335              glee club,hollywood,pop,post-teen pop           0  \n",
       "30003     0.201  dance pop,latin,latin pop,mexican pop,pop,trop...           1  "
      ]
     },
     "execution_count": 70,
     "metadata": {},
     "output_type": "execute_result"
    }
   ],
   "source": [
    "DBSCAN_results = data_cleaned_sample.copy()\n",
    "DBSCAN_results['Cluster ID'] = dbscan.labels_\n",
    "DBSCAN_results.head(2)"
   ]
  },
  {
   "cell_type": "markdown",
   "metadata": {},
   "source": [
    "Se crea un Dataframe para cada las instancias de cada clase."
   ]
  },
  {
   "cell_type": "code",
   "execution_count": 71,
   "metadata": {},
   "outputs": [],
   "source": [
    "cluster_0 = DBSCAN_results[DBSCAN_results['Cluster ID'] == 0] \n",
    "cluster_1 = DBSCAN_results[DBSCAN_results['Cluster ID'] == 1]\n",
    "cluster_2 = DBSCAN_results[DBSCAN_results['Cluster ID'] == 2]\n",
    "cluster_3 = DBSCAN_results[DBSCAN_results['Cluster ID'] == 3]"
   ]
  },
  {
   "cell_type": "markdown",
   "metadata": {},
   "source": [
    "En este caso dado que el mejor coeficiente de Silloute se obtiene con el modelo de DBSCAN se evaluaran por **inspección** los clusters. La forma de evaluar las diferencias entre los atributos entre los cluster's va a ser tomando muestras aleatorias y coomparar los valores que componen a cada muestra y así evaluar el conjunto donde se destaca más las diferencias númericas."
   ]
  },
  {
   "cell_type": "code",
   "execution_count": 72,
   "metadata": {},
   "outputs": [
    {
     "data": {
      "text/html": [
       "<div>\n",
       "<style scoped>\n",
       "    .dataframe tbody tr th:only-of-type {\n",
       "        vertical-align: middle;\n",
       "    }\n",
       "\n",
       "    .dataframe tbody tr th {\n",
       "        vertical-align: top;\n",
       "    }\n",
       "\n",
       "    .dataframe thead th {\n",
       "        text-align: right;\n",
       "    }\n",
       "</style>\n",
       "<table border=\"1\" class=\"dataframe\">\n",
       "  <thead>\n",
       "    <tr style=\"text-align: right;\">\n",
       "      <th></th>\n",
       "      <th>Name</th>\n",
       "      <th>Album</th>\n",
       "      <th>Artist</th>\n",
       "      <th>Danceability</th>\n",
       "      <th>Duration</th>\n",
       "      <th>Energy</th>\n",
       "      <th>Explicit</th>\n",
       "      <th>Instrumentalness</th>\n",
       "      <th>Liveness</th>\n",
       "      <th>Loudness</th>\n",
       "      <th>Mode</th>\n",
       "      <th>Acousticness</th>\n",
       "      <th>Popularity</th>\n",
       "      <th>Speechiness</th>\n",
       "      <th>Tempo</th>\n",
       "      <th>TimeSignature</th>\n",
       "      <th>Valence</th>\n",
       "      <th>Genres</th>\n",
       "      <th>Cluster ID</th>\n",
       "    </tr>\n",
       "  </thead>\n",
       "  <tbody>\n",
       "    <tr>\n",
       "      <th>134749</th>\n",
       "      <td>Moonlight Mood</td>\n",
       "      <td>Moonlight Sinatra</td>\n",
       "      <td>Frank Sinatra</td>\n",
       "      <td>0.308</td>\n",
       "      <td>188893</td>\n",
       "      <td>0.142</td>\n",
       "      <td>0</td>\n",
       "      <td>0.000001</td>\n",
       "      <td>0.0878</td>\n",
       "      <td>-14.929</td>\n",
       "      <td>1</td>\n",
       "      <td>0.702</td>\n",
       "      <td>18</td>\n",
       "      <td>0.0277</td>\n",
       "      <td>91.503</td>\n",
       "      <td>3</td>\n",
       "      <td>0.176</td>\n",
       "      <td>adult standards,easy listening,lounge</td>\n",
       "      <td>0</td>\n",
       "    </tr>\n",
       "  </tbody>\n",
       "</table>\n",
       "</div>"
      ],
      "text/plain": [
       "                  Name              Album         Artist  Danceability  \\\n",
       "134749  Moonlight Mood  Moonlight Sinatra  Frank Sinatra         0.308   \n",
       "\n",
       "        Duration  Energy  Explicit  Instrumentalness  Liveness  Loudness  \\\n",
       "134749    188893   0.142         0          0.000001    0.0878   -14.929   \n",
       "\n",
       "        Mode  Acousticness  Popularity  Speechiness   Tempo  TimeSignature  \\\n",
       "134749     1         0.702          18       0.0277  91.503              3   \n",
       "\n",
       "        Valence                                 Genres  Cluster ID  \n",
       "134749    0.176  adult standards,easy listening,lounge           0  "
      ]
     },
     "execution_count": 72,
     "metadata": {},
     "output_type": "execute_result"
    }
   ],
   "source": [
    "cluster_0.sample()"
   ]
  },
  {
   "cell_type": "code",
   "execution_count": 73,
   "metadata": {},
   "outputs": [
    {
     "data": {
      "text/html": [
       "<div>\n",
       "<style scoped>\n",
       "    .dataframe tbody tr th:only-of-type {\n",
       "        vertical-align: middle;\n",
       "    }\n",
       "\n",
       "    .dataframe tbody tr th {\n",
       "        vertical-align: top;\n",
       "    }\n",
       "\n",
       "    .dataframe thead th {\n",
       "        text-align: right;\n",
       "    }\n",
       "</style>\n",
       "<table border=\"1\" class=\"dataframe\">\n",
       "  <thead>\n",
       "    <tr style=\"text-align: right;\">\n",
       "      <th></th>\n",
       "      <th>Name</th>\n",
       "      <th>Album</th>\n",
       "      <th>Artist</th>\n",
       "      <th>Danceability</th>\n",
       "      <th>Duration</th>\n",
       "      <th>Energy</th>\n",
       "      <th>Explicit</th>\n",
       "      <th>Instrumentalness</th>\n",
       "      <th>Liveness</th>\n",
       "      <th>Loudness</th>\n",
       "      <th>Mode</th>\n",
       "      <th>Acousticness</th>\n",
       "      <th>Popularity</th>\n",
       "      <th>Speechiness</th>\n",
       "      <th>Tempo</th>\n",
       "      <th>TimeSignature</th>\n",
       "      <th>Valence</th>\n",
       "      <th>Genres</th>\n",
       "      <th>Cluster ID</th>\n",
       "    </tr>\n",
       "  </thead>\n",
       "  <tbody>\n",
       "    <tr>\n",
       "      <th>97536</th>\n",
       "      <td>I Shake, I Move</td>\n",
       "      <td>Party Rock</td>\n",
       "      <td>LMFAO</td>\n",
       "      <td>0.871</td>\n",
       "      <td>184107</td>\n",
       "      <td>0.745</td>\n",
       "      <td>1</td>\n",
       "      <td>0.0</td>\n",
       "      <td>0.141</td>\n",
       "      <td>-5.396</td>\n",
       "      <td>1</td>\n",
       "      <td>0.0474</td>\n",
       "      <td>30</td>\n",
       "      <td>0.199</td>\n",
       "      <td>130.983</td>\n",
       "      <td>4</td>\n",
       "      <td>0.861</td>\n",
       "      <td>dance pop,pop,pop rap</td>\n",
       "      <td>2</td>\n",
       "    </tr>\n",
       "  </tbody>\n",
       "</table>\n",
       "</div>"
      ],
      "text/plain": [
       "                  Name       Album Artist  Danceability  Duration  Energy  \\\n",
       "97536  I Shake, I Move  Party Rock  LMFAO         0.871    184107   0.745   \n",
       "\n",
       "       Explicit  Instrumentalness  Liveness  Loudness  Mode  Acousticness  \\\n",
       "97536         1               0.0     0.141    -5.396     1        0.0474   \n",
       "\n",
       "       Popularity  Speechiness    Tempo  TimeSignature  Valence  \\\n",
       "97536          30        0.199  130.983              4    0.861   \n",
       "\n",
       "                      Genres  Cluster ID  \n",
       "97536  dance pop,pop,pop rap           2  "
      ]
     },
     "execution_count": 73,
     "metadata": {},
     "output_type": "execute_result"
    }
   ],
   "source": [
    "cluster_2.sample()"
   ]
  },
  {
   "cell_type": "markdown",
   "metadata": {},
   "source": [
    "Se puede observar que la mayoria de canciones que poseen rap o \"hip-hop\" como género convergen en ser explicitas, con una bailabilidad y energía alta y ser muy \"acusticas, a su vez se puede ver que para figurar en esta lista, las canciones deben tener muy bajo el valor de \"Liveness\", por otra parte las canciones pop y metal difieren ejn casi todos sus parametros exceptuando los valores \"Instrumentalness\" y \"Mode\" valores que posiblemente seran removidos para una mayor segregación de los grupos de géneros, a su vez se tiene que ciertos géneros seran agrupados de forma inevitable en un mismo género como puede ser el rap y el hip-hop o el rock y el metal por lo cual se necesitara de un analisís más grupal de los géneros que coincidan en nuestros clusters"
   ]
  },
  {
   "cell_type": "markdown",
   "metadata": {},
   "source": [
    "Para evaluar si los cluster logran asociar una tendencia en los atributos a un género o conjunto de géneros, se contabilizaran los generos asociados a cada instancia para todas las instancia de un mismo cluster. "
   ]
  },
  {
   "cell_type": "code",
   "execution_count": 74,
   "metadata": {},
   "outputs": [],
   "source": [
    "def contarGen(df):\n",
    "    dicc = {}\n",
    "    i = 0\n",
    "    for row, col in df.iterrows():\n",
    "        if type(col['Genres']) == float:\n",
    "            continue\n",
    "        aux = col['Genres'].split(',')\n",
    "        for k in aux:\n",
    "            if k in aux:\n",
    "                dicc[k] = dicc.get(k,0) + 1\n",
    "            i+=1\n",
    "    gen = pd.DataFrame([[key, dicc[key]] for key in dicc.keys()], columns=['Genre', 'Frequency'])\n",
    "    gen1_5 = gen.sort_values(by = ['Frequency'], ascending=False)\n",
    "    return gen1_5"
   ]
  },
  {
   "cell_type": "code",
   "execution_count": 75,
   "metadata": {},
   "outputs": [
    {
     "data": {
      "text/html": [
       "<div>\n",
       "<style scoped>\n",
       "    .dataframe tbody tr th:only-of-type {\n",
       "        vertical-align: middle;\n",
       "    }\n",
       "\n",
       "    .dataframe tbody tr th {\n",
       "        vertical-align: top;\n",
       "    }\n",
       "\n",
       "    .dataframe thead th {\n",
       "        text-align: right;\n",
       "    }\n",
       "</style>\n",
       "<table border=\"1\" class=\"dataframe\">\n",
       "  <thead>\n",
       "    <tr style=\"text-align: right;\">\n",
       "      <th></th>\n",
       "      <th>Genre</th>\n",
       "      <th>Frequency</th>\n",
       "    </tr>\n",
       "  </thead>\n",
       "  <tbody>\n",
       "    <tr>\n",
       "      <th>0</th>\n",
       "      <td>dance pop</td>\n",
       "      <td>217</td>\n",
       "    </tr>\n",
       "    <tr>\n",
       "      <th>4</th>\n",
       "      <td>pop</td>\n",
       "      <td>208</td>\n",
       "    </tr>\n",
       "    <tr>\n",
       "      <th>13</th>\n",
       "      <td>r&amp;b</td>\n",
       "      <td>142</td>\n",
       "    </tr>\n",
       "    <tr>\n",
       "      <th>16</th>\n",
       "      <td>urban contemporary</td>\n",
       "      <td>132</td>\n",
       "    </tr>\n",
       "    <tr>\n",
       "      <th>11</th>\n",
       "      <td>pop rap</td>\n",
       "      <td>126</td>\n",
       "    </tr>\n",
       "    <tr>\n",
       "      <th>7</th>\n",
       "      <td>hip hop</td>\n",
       "      <td>125</td>\n",
       "    </tr>\n",
       "    <tr>\n",
       "      <th>8</th>\n",
       "      <td>hip pop</td>\n",
       "      <td>111</td>\n",
       "    </tr>\n",
       "    <tr>\n",
       "      <th>9</th>\n",
       "      <td>neo soul</td>\n",
       "      <td>94</td>\n",
       "    </tr>\n",
       "  </tbody>\n",
       "</table>\n",
       "</div>"
      ],
      "text/plain": [
       "                 Genre  Frequency\n",
       "0            dance pop        217\n",
       "4                  pop        208\n",
       "13                 r&b        142\n",
       "16  urban contemporary        132\n",
       "11             pop rap        126\n",
       "7              hip hop        125\n",
       "8              hip pop        111\n",
       "9             neo soul         94"
      ]
     },
     "execution_count": 75,
     "metadata": {},
     "output_type": "execute_result"
    }
   ],
   "source": [
    "contarGen(cluster_1).head(8)"
   ]
  },
  {
   "cell_type": "code",
   "execution_count": 76,
   "metadata": {},
   "outputs": [
    {
     "data": {
      "text/html": [
       "<div>\n",
       "<style scoped>\n",
       "    .dataframe tbody tr th:only-of-type {\n",
       "        vertical-align: middle;\n",
       "    }\n",
       "\n",
       "    .dataframe tbody tr th {\n",
       "        vertical-align: top;\n",
       "    }\n",
       "\n",
       "    .dataframe thead th {\n",
       "        text-align: right;\n",
       "    }\n",
       "</style>\n",
       "<table border=\"1\" class=\"dataframe\">\n",
       "  <thead>\n",
       "    <tr style=\"text-align: right;\">\n",
       "      <th></th>\n",
       "      <th>Genre</th>\n",
       "      <th>Frequency</th>\n",
       "    </tr>\n",
       "  </thead>\n",
       "  <tbody>\n",
       "    <tr>\n",
       "      <th>9</th>\n",
       "      <td>pop rap</td>\n",
       "      <td>382</td>\n",
       "    </tr>\n",
       "    <tr>\n",
       "      <th>10</th>\n",
       "      <td>rap</td>\n",
       "      <td>367</td>\n",
       "    </tr>\n",
       "    <tr>\n",
       "      <th>18</th>\n",
       "      <td>hip hop</td>\n",
       "      <td>320</td>\n",
       "    </tr>\n",
       "    <tr>\n",
       "      <th>11</th>\n",
       "      <td>southern hip hop</td>\n",
       "      <td>303</td>\n",
       "    </tr>\n",
       "    <tr>\n",
       "      <th>8</th>\n",
       "      <td>gangster rap</td>\n",
       "      <td>276</td>\n",
       "    </tr>\n",
       "    <tr>\n",
       "      <th>12</th>\n",
       "      <td>trap music</td>\n",
       "      <td>253</td>\n",
       "    </tr>\n",
       "    <tr>\n",
       "      <th>7</th>\n",
       "      <td>dirty south rap</td>\n",
       "      <td>175</td>\n",
       "    </tr>\n",
       "    <tr>\n",
       "      <th>13</th>\n",
       "      <td>pop</td>\n",
       "      <td>112</td>\n",
       "    </tr>\n",
       "  </tbody>\n",
       "</table>\n",
       "</div>"
      ],
      "text/plain": [
       "               Genre  Frequency\n",
       "9            pop rap        382\n",
       "10               rap        367\n",
       "18           hip hop        320\n",
       "11  southern hip hop        303\n",
       "8       gangster rap        276\n",
       "12        trap music        253\n",
       "7    dirty south rap        175\n",
       "13               pop        112"
      ]
     },
     "execution_count": 76,
     "metadata": {},
     "output_type": "execute_result"
    }
   ],
   "source": [
    "contarGen(cluster_2).head(8)"
   ]
  },
  {
   "cell_type": "code",
   "execution_count": 77,
   "metadata": {},
   "outputs": [
    {
     "data": {
      "text/html": [
       "<div>\n",
       "<style scoped>\n",
       "    .dataframe tbody tr th:only-of-type {\n",
       "        vertical-align: middle;\n",
       "    }\n",
       "\n",
       "    .dataframe tbody tr th {\n",
       "        vertical-align: top;\n",
       "    }\n",
       "\n",
       "    .dataframe thead th {\n",
       "        text-align: right;\n",
       "    }\n",
       "</style>\n",
       "<table border=\"1\" class=\"dataframe\">\n",
       "  <thead>\n",
       "    <tr style=\"text-align: right;\">\n",
       "      <th></th>\n",
       "      <th>Genre</th>\n",
       "      <th>Frequency</th>\n",
       "    </tr>\n",
       "  </thead>\n",
       "  <tbody>\n",
       "    <tr>\n",
       "      <th>4</th>\n",
       "      <td>pop rap</td>\n",
       "      <td>259</td>\n",
       "    </tr>\n",
       "    <tr>\n",
       "      <th>5</th>\n",
       "      <td>rap</td>\n",
       "      <td>248</td>\n",
       "    </tr>\n",
       "    <tr>\n",
       "      <th>2</th>\n",
       "      <td>hip hop</td>\n",
       "      <td>215</td>\n",
       "    </tr>\n",
       "    <tr>\n",
       "      <th>10</th>\n",
       "      <td>southern hip hop</td>\n",
       "      <td>206</td>\n",
       "    </tr>\n",
       "    <tr>\n",
       "      <th>11</th>\n",
       "      <td>gangster rap</td>\n",
       "      <td>181</td>\n",
       "    </tr>\n",
       "    <tr>\n",
       "      <th>13</th>\n",
       "      <td>trap music</td>\n",
       "      <td>163</td>\n",
       "    </tr>\n",
       "    <tr>\n",
       "      <th>18</th>\n",
       "      <td>dirty south rap</td>\n",
       "      <td>125</td>\n",
       "    </tr>\n",
       "    <tr>\n",
       "      <th>1</th>\n",
       "      <td>hardcore hip hop</td>\n",
       "      <td>75</td>\n",
       "    </tr>\n",
       "  </tbody>\n",
       "</table>\n",
       "</div>"
      ],
      "text/plain": [
       "               Genre  Frequency\n",
       "4            pop rap        259\n",
       "5                rap        248\n",
       "2            hip hop        215\n",
       "10  southern hip hop        206\n",
       "11      gangster rap        181\n",
       "13        trap music        163\n",
       "18   dirty south rap        125\n",
       "1   hardcore hip hop         75"
      ]
     },
     "execution_count": 77,
     "metadata": {},
     "output_type": "execute_result"
    }
   ],
   "source": [
    "contarGen(cluster_3).head(8)"
   ]
  },
  {
   "cell_type": "markdown",
   "metadata": {},
   "source": [
    "Se puede apreciar que orientar nuestro análisis a los generos musicales puede beneficiarnos de muchas maneras debido a que no poseen diferencias muy marcadas a dia de hoy y las canciones en particular poseen muchos géneros lo cual al ser investigado podria entregarnos si la música se volvio repetitiva, lo cual indicaria clusters muy coincidientes entre sí, o que la música esta en auge debido a las nuevas tecnologias y es posible determinar la integridad de los géneros mediante el análisis, por lo cual unos resultados poco claros es justo lo que podriamos estar enfrentando."
   ]
  },
  {
   "cell_type": "markdown",
   "metadata": {},
   "source": [
    "Se puede apreciar para los primeros cluster's que no existe una relevancia de un género sobre los otros, incluso existen generos comunes a todos los cluster's como el pop. Esto nos indica que para la selección de datos y elección de parámetros del modelo no fue posible asociar los atributos de las canciones con un conjunto de géneros que sigan una misma tendencia músical. Lo anterior como equipo se asocia a que dentro de un mismo genero, existen variaciones que exploran otras corrientes musicales, provocando la difuminación de atributos marcados de las asociadas al género puro. Es por tanto que se concluye que no existen una relación clara entre atributos y generos."
   ]
  },
  {
   "cell_type": "markdown",
   "metadata": {},
   "source": [
    "Se espera para el Hito 3 explorar variantes de los modelos empleados y de los atributos de la data utilizados para confirmar los resultados actuales o encontrar una combinación que proporciones una clasificación de cluster's relevantes."
   ]
  },
  {
   "cell_type": "markdown",
   "metadata": {},
   "source": [
    "## Participación"
   ]
  },
  {
   "cell_type": "markdown",
   "metadata": {},
   "source": [
    "Para el hito 2 Hernán trabajo en el preprocesamiento de las tablas para la primera pregunta, además de redactar esta pregunta, a su vez trabajo en arreglar algunas combinaciones de tablas para su futura utilización en las preguntas. Alexander se encargó de redactar y preparar la pregunta 2, preprocesando la tabla y aplicando modelos de clasificación los cuales no resultaron en primer momento por lo cual se encargó de reformular el Dataframe para ajustarlo al modelo a utilizar. Gonzalo se encargó de formular la tercera preguntas y su posible resolución proponiendo métodos como clustering y clasificación, ajustar los parámetros de los modelo y evaluar los resultados. Finalmente Ignacio se encargó de realizar los gráficos, configurar los modelos, dendogramas, preprocesar las tablas a utilizar y evaluar los resultados obtenidos de la pregunta 3."
   ]
  }
 ],
 "metadata": {
  "colab": {
   "provenance": []
  },
  "kernelspec": {
   "display_name": "Python 3 (ipykernel)",
   "language": "python",
   "name": "python3"
  },
  "language_info": {
   "codemirror_mode": {
    "name": "ipython",
    "version": 3
   },
   "file_extension": ".py",
   "mimetype": "text/x-python",
   "name": "python",
   "nbconvert_exporter": "python",
   "pygments_lexer": "ipython3",
   "version": "3.9.12"
  },
  "vscode": {
   "interpreter": {
    "hash": "b17c1a5022d052bb9c4a02d0d913da2d95460e62742ebcd7751f2ae871a25653"
   }
  }
 },
 "nbformat": 4,
 "nbformat_minor": 1
}
