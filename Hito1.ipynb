{
  "cells": [
    {
      "cell_type": "markdown",
      "metadata": {
        "id": "1ZtWGAlV-6y9"
      },
      "source": [
        "# Hito 1\n",
        "**Nombres:** Gonzalo Sobarzo, Hernán Ulloa, Alexander Reisenegger, Ignacio Huenchumil.\n",
        "\n",
        "**Fecha:** Septiembre 2022\n",
        "\n",
        "**Grupo:** 11\n",
        "\n",
        "**Curso:** CC5205\n",
        "\n",
        "**Cuerpo docente:** Andres Abeliuk, Hernán Sarmiento,  Cinthia Sánchez, Jorge Ortiz"
      ]
    },
    {
      "cell_type": "markdown",
      "metadata": {
        "id": "RI5HO0KT-6zF"
      },
      "source": [
        "# Introducción\n",
        "Como equipo buscamos una base de datos de música para así llevar a cabo un estudio de datos para poder predecir (y corroborar) distintos comportamientos de los consumidores de música, como por ejemplo, buscar potenciales hits sabiendo la trayectoria del artista o tal vez un posible remix al ver la popularidad de la canción original de modo que se estudiaran distintas influencia de los atributos de las canciones en su éxito.\n",
        "\n",
        "Nuestra base de datos consta de distintos premios y certificaciones para canciones, albumes, artistas y a su vez cuanto tiempo se mantuvo popular, de modo que solo se muestran canciones que sean éxitos del momento tanto en spotify como en la lista de billboard, esto sera útil para poder predecir distintos atributos de una canción o artista y así enfocar nuestro proyecto al análisis de tendecias musicales.\n",
        "\n"
      ]
    },
    {
      "cell_type": "markdown",
      "metadata": {
        "id": "npUkPiMH-6zI"
      },
      "source": [
        "# Exploración de datos\n",
        "El dataset consiste de 8 tablas, una que contiene datos de las canciones que aparecen en la lista billboard 100 cada semana desde 1999 hasta 2019, incluyendo datos como el título, los artistas, los géneros de la cancion, artistas invitados y cuántas semanas ha pasado en el top hasta la fecha, y tabién una tabla que contiene datos de cada artista que ha aparecido en esa lista en dicho período de tiempo. También incluye 2 listas de los premios Grammy en el mismo intervalo de tiempo, una sobre canciones y una sobre los álbumes. Además una tabla de singles y una de álbumes según su certificación RIAA, también en el mismo período (certifica cuántas copias vendieron, por ejemplo certificación diamante, platino, multi platino, oro, diamante varias veces, entre otros). Por último hay 2 tablas de las canciones más populares de spotify desde 2016 hasta 2019, también semanales. Una tiene los datos generales del top 200 semanal como la cantidad de reproducciones y el nombre entre otros, y la otra tiene atributos para cada canción como por ejemplo energía, si está en modo mayor o menor, bailabilidad, etc.\n",
        "\n",
        "Hay múltiples dudas que se puede plantear al respecto, por ejemplo la canción Radioactive de Imagine Dragons pasó casi 2 años en el Billboard 100, y sería interesante analizar por qué una canción mantiene su popularidad, mientras otras sólo se quedan en la fama por un corto período.\n"
      ]
    },
    {
      "cell_type": "code",
      "execution_count": 59,
      "metadata": {
        "id": "RA0U6cHBjDAu"
      },
      "outputs": [],
      "source": [
        "import pandas as pd\n",
        "\n",
        "artistDf = pd.read_csv('data/artistDf.csv')\n",
        "spotifyWeeklyTop = pd.read_csv('data/spotifyWeeklyTop200Streams.csv')\n",
        "songAttributes = pd.read_csv('data/songAttributes_1999-2019.csv')\n",
        "riaaSingleCerts = pd.read_csv('data/riaaSingleCerts_1999-2019.csv')\n",
        "riaaAlbumCerts = pd.read_csv('data/riaaAlbumCerts_1999-2019.csv')\n",
        "grammySongs = pd.read_csv('data/grammySongs_1999-2019.csv')\n",
        "grammyAlbums = pd.read_csv('data/grammyAlbums_199-2019.csv')\n",
        "billboardHot100 = pd.read_csv('data/billboardHot100_1999-2019.csv')\n"
      ]
    },
    {
      "cell_type": "code",
      "execution_count": 3,
      "metadata": {},
      "outputs": [
        {
          "data": {
            "text/html": [
              "<div>\n",
              "<style scoped>\n",
              "    .dataframe tbody tr th:only-of-type {\n",
              "        vertical-align: middle;\n",
              "    }\n",
              "\n",
              "    .dataframe tbody tr th {\n",
              "        vertical-align: top;\n",
              "    }\n",
              "\n",
              "    .dataframe thead th {\n",
              "        text-align: right;\n",
              "    }\n",
              "</style>\n",
              "<table border=\"1\" class=\"dataframe\">\n",
              "  <thead>\n",
              "    <tr style=\"text-align: right;\">\n",
              "      <th></th>\n",
              "      <th>Unnamed: 0</th>\n",
              "      <th>Name</th>\n",
              "      <th>Artist</th>\n",
              "      <th>Features</th>\n",
              "      <th>Streams</th>\n",
              "      <th>Week</th>\n",
              "    </tr>\n",
              "  </thead>\n",
              "  <tbody>\n",
              "    <tr>\n",
              "      <th>0</th>\n",
              "      <td>0</td>\n",
              "      <td>In My Feelings</td>\n",
              "      <td>Drake</td>\n",
              "      <td>NaN</td>\n",
              "      <td>30747676</td>\n",
              "      <td>2018-07-20</td>\n",
              "    </tr>\n",
              "    <tr>\n",
              "      <th>1</th>\n",
              "      <td>1</td>\n",
              "      <td>Lucid Dreams</td>\n",
              "      <td>Juice WRLD</td>\n",
              "      <td>NaN</td>\n",
              "      <td>12930705</td>\n",
              "      <td>2018-07-20</td>\n",
              "    </tr>\n",
              "    <tr>\n",
              "      <th>2</th>\n",
              "      <td>2</td>\n",
              "      <td>Nonstop</td>\n",
              "      <td>Drake</td>\n",
              "      <td>NaN</td>\n",
              "      <td>12312859</td>\n",
              "      <td>2018-07-20</td>\n",
              "    </tr>\n",
              "    <tr>\n",
              "      <th>3</th>\n",
              "      <td>3</td>\n",
              "      <td>God is a woman</td>\n",
              "      <td>Ariana Grande</td>\n",
              "      <td>NaN</td>\n",
              "      <td>10771324</td>\n",
              "      <td>2018-07-20</td>\n",
              "    </tr>\n",
              "    <tr>\n",
              "      <th>4</th>\n",
              "      <td>4</td>\n",
              "      <td>SAD!</td>\n",
              "      <td>XXXTENTACION</td>\n",
              "      <td>NaN</td>\n",
              "      <td>10503061</td>\n",
              "      <td>2018-07-20</td>\n",
              "    </tr>\n",
              "  </tbody>\n",
              "</table>\n",
              "</div>"
            ],
            "text/plain": [
              "   Unnamed: 0            Name         Artist Features   Streams        Week\n",
              "0           0  In My Feelings          Drake      NaN  30747676  2018-07-20\n",
              "1           1    Lucid Dreams     Juice WRLD      NaN  12930705  2018-07-20\n",
              "2           2         Nonstop          Drake      NaN  12312859  2018-07-20\n",
              "3           3  God is a woman  Ariana Grande      NaN  10771324  2018-07-20\n",
              "4           4            SAD!   XXXTENTACION      NaN  10503061  2018-07-20"
            ]
          },
          "execution_count": 3,
          "metadata": {},
          "output_type": "execute_result"
        }
      ],
      "source": [
        "spotifyWeeklyTop.head()"
      ]
    },
    {
      "cell_type": "code",
      "execution_count": 4,
      "metadata": {},
      "outputs": [
        {
          "data": {
            "text/html": [
              "<div>\n",
              "<style scoped>\n",
              "    .dataframe tbody tr th:only-of-type {\n",
              "        vertical-align: middle;\n",
              "    }\n",
              "\n",
              "    .dataframe tbody tr th {\n",
              "        vertical-align: top;\n",
              "    }\n",
              "\n",
              "    .dataframe thead th {\n",
              "        text-align: right;\n",
              "    }\n",
              "</style>\n",
              "<table border=\"1\" class=\"dataframe\">\n",
              "  <thead>\n",
              "    <tr style=\"text-align: right;\">\n",
              "      <th></th>\n",
              "      <th>Unnamed: 0</th>\n",
              "      <th>Artists</th>\n",
              "      <th>Name</th>\n",
              "      <th>Weekly.rank</th>\n",
              "      <th>Peak.position</th>\n",
              "      <th>Weeks.on.chart</th>\n",
              "      <th>Week</th>\n",
              "      <th>Date</th>\n",
              "      <th>Genre</th>\n",
              "      <th>Writing.Credits</th>\n",
              "      <th>Lyrics</th>\n",
              "      <th>Features</th>\n",
              "    </tr>\n",
              "  </thead>\n",
              "  <tbody>\n",
              "    <tr>\n",
              "      <th>0</th>\n",
              "      <td>1</td>\n",
              "      <td>Lil Nas,</td>\n",
              "      <td>Old Town Road</td>\n",
              "      <td>1</td>\n",
              "      <td>1.0</td>\n",
              "      <td>7.0</td>\n",
              "      <td>2019-07-06</td>\n",
              "      <td>April 5, 2019</td>\n",
              "      <td>Country,Atlanta,Alternative Country,Hip-Hop,Tr...</td>\n",
              "      <td>Jozzy, Atticus ross, Trent reznor, Billy ray c...</td>\n",
              "      <td>Old Town Road Remix \\nOh, oh-oh\\nOh\\nYeah, I'm...</td>\n",
              "      <td>Billy Ray Cyrus</td>\n",
              "    </tr>\n",
              "    <tr>\n",
              "      <th>1</th>\n",
              "      <td>2</td>\n",
              "      <td>Shawn Mendes, Camila Cabello</td>\n",
              "      <td>Senorita</td>\n",
              "      <td>2</td>\n",
              "      <td>NaN</td>\n",
              "      <td>NaN</td>\n",
              "      <td>2019-07-06</td>\n",
              "      <td>June 21, 2019</td>\n",
              "      <td>Pop</td>\n",
              "      <td>Cashmere cat, Jack patterson, Charli xcx, Benn...</td>\n",
              "      <td>Senorita \\nI love it when you call me senorita...</td>\n",
              "      <td>NaN</td>\n",
              "    </tr>\n",
              "    <tr>\n",
              "      <th>2</th>\n",
              "      <td>3</td>\n",
              "      <td>Billie Eilish</td>\n",
              "      <td>Bad Guy</td>\n",
              "      <td>3</td>\n",
              "      <td>2.0</td>\n",
              "      <td>13.0</td>\n",
              "      <td>2019-07-06</td>\n",
              "      <td>March 29, 2019</td>\n",
              "      <td>Hip-Hop,Dark Pop,House,Trap,Memes,Alternative ...</td>\n",
              "      <td>Billie eilish, Finneas</td>\n",
              "      <td>bad guy \\nWhite shirt now red, my bloody nose\\...</td>\n",
              "      <td>NaN</td>\n",
              "    </tr>\n",
              "    <tr>\n",
              "      <th>3</th>\n",
              "      <td>4</td>\n",
              "      <td>Khalid</td>\n",
              "      <td>Talk</td>\n",
              "      <td>4</td>\n",
              "      <td>3.0</td>\n",
              "      <td>20.0</td>\n",
              "      <td>2019-07-06</td>\n",
              "      <td>February 7, 2019</td>\n",
              "      <td>Synth-Pop,Pop</td>\n",
              "      <td>Howard lawrence, Guy lawrence, Khalid</td>\n",
              "      <td>Talk \\nCan we just talk? Can we just talk?\\nTa...</td>\n",
              "      <td>NaN</td>\n",
              "    </tr>\n",
              "    <tr>\n",
              "      <th>4</th>\n",
              "      <td>5</td>\n",
              "      <td>Ed Sheeran, Justin Bieber</td>\n",
              "      <td>I Don't Care</td>\n",
              "      <td>5</td>\n",
              "      <td>2.0</td>\n",
              "      <td>7.0</td>\n",
              "      <td>2019-07-06</td>\n",
              "      <td>May 10, 2019</td>\n",
              "      <td>Canada,UK,Dance,Dance-Pop,Pop</td>\n",
              "      <td>Ed sheeran, Justin bieber, Shellback, Max mart...</td>\n",
              "      <td>I Don't Care \\nI'm at a party I don't wanna be...</td>\n",
              "      <td>NaN</td>\n",
              "    </tr>\n",
              "  </tbody>\n",
              "</table>\n",
              "</div>"
            ],
            "text/plain": [
              "   Unnamed: 0                       Artists           Name  Weekly.rank  \\\n",
              "0           1                      Lil Nas,  Old Town Road            1   \n",
              "1           2  Shawn Mendes, Camila Cabello       Senorita            2   \n",
              "2           3                 Billie Eilish        Bad Guy            3   \n",
              "3           4                        Khalid           Talk            4   \n",
              "4           5     Ed Sheeran, Justin Bieber   I Don't Care            5   \n",
              "\n",
              "   Peak.position  Weeks.on.chart        Week              Date  \\\n",
              "0            1.0             7.0  2019-07-06     April 5, 2019   \n",
              "1            NaN             NaN  2019-07-06     June 21, 2019   \n",
              "2            2.0            13.0  2019-07-06    March 29, 2019   \n",
              "3            3.0            20.0  2019-07-06  February 7, 2019   \n",
              "4            2.0             7.0  2019-07-06      May 10, 2019   \n",
              "\n",
              "                                               Genre  \\\n",
              "0  Country,Atlanta,Alternative Country,Hip-Hop,Tr...   \n",
              "1                                                Pop   \n",
              "2  Hip-Hop,Dark Pop,House,Trap,Memes,Alternative ...   \n",
              "3                                      Synth-Pop,Pop   \n",
              "4                      Canada,UK,Dance,Dance-Pop,Pop   \n",
              "\n",
              "                                     Writing.Credits  \\\n",
              "0  Jozzy, Atticus ross, Trent reznor, Billy ray c...   \n",
              "1  Cashmere cat, Jack patterson, Charli xcx, Benn...   \n",
              "2                             Billie eilish, Finneas   \n",
              "3              Howard lawrence, Guy lawrence, Khalid   \n",
              "4  Ed sheeran, Justin bieber, Shellback, Max mart...   \n",
              "\n",
              "                                              Lyrics         Features  \n",
              "0  Old Town Road Remix \\nOh, oh-oh\\nOh\\nYeah, I'm...  Billy Ray Cyrus  \n",
              "1  Senorita \\nI love it when you call me senorita...              NaN  \n",
              "2  bad guy \\nWhite shirt now red, my bloody nose\\...              NaN  \n",
              "3  Talk \\nCan we just talk? Can we just talk?\\nTa...              NaN  \n",
              "4  I Don't Care \\nI'm at a party I don't wanna be...              NaN  "
            ]
          },
          "execution_count": 4,
          "metadata": {},
          "output_type": "execute_result"
        }
      ],
      "source": [
        "billboardHot100.head()"
      ]
    },
    {
      "cell_type": "code",
      "execution_count": 49,
      "metadata": {},
      "outputs": [
        {
          "data": {
            "text/plain": [
              "(97225, 12)"
            ]
          },
          "execution_count": 49,
          "metadata": {},
          "output_type": "execute_result"
        }
      ],
      "source": [
        "billboardHot100.shape\n"
      ]
    },
    {
      "cell_type": "code",
      "execution_count": 52,
      "metadata": {},
      "outputs": [],
      "source": [
        "songs = billboardHot100.drop_duplicates(subset = ['Artists', 'Name'])\n"
      ]
    },
    {
      "cell_type": "code",
      "execution_count": 53,
      "metadata": {},
      "outputs": [],
      "source": [
        "dicc = {}\n",
        "for row, col in songs.iterrows():\n",
        "    aux = col['Genre'].split(',')\n",
        "    for k in aux:\n",
        "        if k in aux:\n",
        "            dicc[k] = dicc.get(k,0) + 1\n",
        "\n"
      ]
    },
    {
      "cell_type": "code",
      "execution_count": 54,
      "metadata": {},
      "outputs": [],
      "source": [
        "\n",
        "gen = pd.DataFrame([[key, dicc[key]] for key in dicc.keys()], columns=['Genre', 'Frecuency'])"
      ]
    },
    {
      "cell_type": "code",
      "execution_count": 68,
      "metadata": {},
      "outputs": [
        {
          "data": {
            "text/html": [
              "<div>\n",
              "<style scoped>\n",
              "    .dataframe tbody tr th:only-of-type {\n",
              "        vertical-align: middle;\n",
              "    }\n",
              "\n",
              "    .dataframe tbody tr th {\n",
              "        vertical-align: top;\n",
              "    }\n",
              "\n",
              "    .dataframe thead th {\n",
              "        text-align: right;\n",
              "    }\n",
              "</style>\n",
              "<table border=\"1\" class=\"dataframe\">\n",
              "  <thead>\n",
              "    <tr style=\"text-align: right;\">\n",
              "      <th></th>\n",
              "      <th>Genre</th>\n",
              "      <th>Frecuency</th>\n",
              "    </tr>\n",
              "  </thead>\n",
              "  <tbody>\n",
              "    <tr>\n",
              "      <th>9</th>\n",
              "      <td>Pop</td>\n",
              "      <td>2994</td>\n",
              "    </tr>\n",
              "    <tr>\n",
              "      <th>8</th>\n",
              "      <td>Rap</td>\n",
              "      <td>2465</td>\n",
              "    </tr>\n",
              "    <tr>\n",
              "      <th>46</th>\n",
              "      <td>Rock</td>\n",
              "      <td>1538</td>\n",
              "    </tr>\n",
              "    <tr>\n",
              "      <th>30</th>\n",
              "      <td>R&amp;;B</td>\n",
              "      <td>1335</td>\n",
              "    </tr>\n",
              "    <tr>\n",
              "      <th>0</th>\n",
              "      <td>Country</td>\n",
              "      <td>1255</td>\n",
              "    </tr>\n",
              "    <tr>\n",
              "      <th>4</th>\n",
              "      <td>Trap</td>\n",
              "      <td>563</td>\n",
              "    </tr>\n",
              "    <tr>\n",
              "      <th>24</th>\n",
              "      <td>Pop-Rock</td>\n",
              "      <td>428</td>\n",
              "    </tr>\n",
              "    <tr>\n",
              "      <th>41</th>\n",
              "      <td>Alternative Rock</td>\n",
              "      <td>364</td>\n",
              "    </tr>\n",
              "    <tr>\n",
              "      <th>33</th>\n",
              "      <td>Soundtrack</td>\n",
              "      <td>357</td>\n",
              "    </tr>\n",
              "    <tr>\n",
              "      <th>20</th>\n",
              "      <td>Canada</td>\n",
              "      <td>327</td>\n",
              "    </tr>\n",
              "    <tr>\n",
              "      <th>17</th>\n",
              "      <td>Electro-Pop</td>\n",
              "      <td>273</td>\n",
              "    </tr>\n",
              "    <tr>\n",
              "      <th>37</th>\n",
              "      <td>Electronic</td>\n",
              "      <td>265</td>\n",
              "    </tr>\n",
              "    <tr>\n",
              "      <th>3</th>\n",
              "      <td>Hip-Hop</td>\n",
              "      <td>232</td>\n",
              "    </tr>\n",
              "    <tr>\n",
              "      <th>76</th>\n",
              "      <td>Soul</td>\n",
              "      <td>231</td>\n",
              "    </tr>\n",
              "    <tr>\n",
              "      <th>21</th>\n",
              "      <td>UK</td>\n",
              "      <td>221</td>\n",
              "    </tr>\n",
              "    <tr>\n",
              "      <th>15</th>\n",
              "      <td>Dance-Pop</td>\n",
              "      <td>213</td>\n",
              "    </tr>\n",
              "    <tr>\n",
              "      <th>16</th>\n",
              "      <td>Dance</td>\n",
              "      <td>206</td>\n",
              "    </tr>\n",
              "    <tr>\n",
              "      <th>13</th>\n",
              "      <td>Alternative</td>\n",
              "      <td>200</td>\n",
              "    </tr>\n",
              "    <tr>\n",
              "      <th>39</th>\n",
              "      <td>Adult Alternative</td>\n",
              "      <td>199</td>\n",
              "    </tr>\n",
              "    <tr>\n",
              "      <th>60</th>\n",
              "      <td>Screen</td>\n",
              "      <td>199</td>\n",
              "    </tr>\n",
              "  </tbody>\n",
              "</table>\n",
              "</div>"
            ],
            "text/plain": [
              "                Genre  Frecuency\n",
              "9                 Pop       2994\n",
              "8                 Rap       2465\n",
              "46               Rock       1538\n",
              "30               R&;B       1335\n",
              "0             Country       1255\n",
              "4                Trap        563\n",
              "24           Pop-Rock        428\n",
              "41   Alternative Rock        364\n",
              "33         Soundtrack        357\n",
              "20             Canada        327\n",
              "17        Electro-Pop        273\n",
              "37         Electronic        265\n",
              "3             Hip-Hop        232\n",
              "76               Soul        231\n",
              "21                 UK        221\n",
              "15          Dance-Pop        213\n",
              "16              Dance        206\n",
              "13        Alternative        200\n",
              "39  Adult Alternative        199\n",
              "60             Screen        199"
            ]
          },
          "execution_count": 68,
          "metadata": {},
          "output_type": "execute_result"
        }
      ],
      "source": [
        "gen2 = gen.sort_values(by = ['Frecuency'], ascending=False).head(20)\n",
        "gen2"
      ]
    },
    {
      "cell_type": "code",
      "execution_count": 69,
      "metadata": {},
      "outputs": [
        {
          "data": {
            "image/png": "[encoded data removed]",
            "text/plain": [
              "<Figure size 640x480 with 1 Axes>"
            ]
          },
          "metadata": {},
          "output_type": "display_data"
        }
      ],
      "source": [
        "ax = gen2.plot.bar(x='Genre', y = 'Frecuency', stacked=True)"
      ]
    },
    {
      "cell_type": "code",
      "execution_count": 80,
      "metadata": {},
      "outputs": [
        {
          "data": {
            "image/png": "[encoded data removed]",
            "text/plain": [
              "<Figure size 640x480 with 1 Axes>"
            ]
          },
          "metadata": {},
          "output_type": "display_data"
        }
      ],
      "source": [
        "artist_p = artistDf.sort_values(by = ['Followers'], ascending=False)\n",
        "artist_p = artist_p.head(17)\n",
        "artist_p = artist_p.drop([769, 828]) #elimina play y cold\n",
        "ax = artist_p.plot.bar(x= 'Artist', y = 'Followers', stacked= True)"
      ]
    },
    {
      "cell_type": "code",
      "execution_count": null,
      "metadata": {},
      "outputs": [],
      "source": []
    },
    {
      "cell_type": "markdown",
      "metadata": {
        "id": "tnPOOOvV-6zK"
      },
      "source": [
        "# Preguntas y problemas"
      ]
    },
    {
      "cell_type": "markdown",
      "metadata": {},
      "source": [
        "Preguntas y problemas\n",
        " Despues de haber analizando y planteado las tablas con sus respectivos datos sabemos que todas las tablas poseen una medida de popularidad, alcance o ventas, que miden la influencia de la canción artista y/o album, al mismo tiempo se puede ver que estos rankings son distintos ya que spotify tiene una base de datos distinta a las demas tablas (RIAA, Billboars, Grammys) Por lo cual podemos manejarnos entre las tablas midiendo la popularidad con las siguientes preguntas:\n",
        "- ¿Que hace que ciertos géneros musicales se mantengan mas tiempo con popularidad?\n",
        "- ¿Que hace que ciertas canciones suenan mas, mucho tiempo despues de haber salido? (se puede ver con los rmx).\n",
        "- ¿Que hace que ciertos generos se benefician de ser explicit? (metal, rap y trap a mi parecer pero creo poder pillar mas)."
      ]
    }
  ],
  "metadata": {
    "colab": {
      "provenance": []
    },
    "kernelspec": {
      "display_name": "Python 3.10.4 ('u-md')",
      "language": "python",
      "name": "python3"
    },
    "language_info": {
      "codemirror_mode": {
        "name": "ipython",
        "version": 3
      },
      "file_extension": ".py",
      "mimetype": "text/x-python",
      "name": "python",
      "nbconvert_exporter": "python",
      "pygments_lexer": "ipython3",
      "version": "3.10.4"
    },
    "vscode": {
      "interpreter": {
        "hash": "b17c1a5022d052bb9c4a02d0d913da2d95460e62742ebcd7751f2ae871a25653"
      }
    }
  },
  "nbformat": 4,
  "nbformat_minor": 0
}
