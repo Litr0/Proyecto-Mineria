{
 "cells": [
  {
   "cell_type": "markdown",
   "metadata": {
    "id": "1ZtWGAlV-6y9"
   },
   "source": [
    "# Hito 2\n",
    "**Nombres:** Gonzalo Sobarzo, Hernán Ulloa, Alexander Reisenegger, Ignacio Huenchumil.\n",
    "\n",
    "**Fecha:** Noviembre 2022\n",
    "\n",
    "**Grupo:** 11\n",
    "\n",
    "**Curso:** CC5205\n",
    "\n",
    "**Cuerpo docente:** Andres Abeliuk, Hernán Sarmiento,  Cinthia Sánchez, Jorge Ortiz"
   ]
  },
  {
   "cell_type": "markdown",
   "metadata": {
    "id": "RI5HO0KT-6zF"
   },
   "source": [
    "# Introducción\n",
    "Como equipo buscamos una base de datos de música para así llevar a cabo un estudio de datos para poder predecir (y corroborar) distintos comportamientos de los consumidores de música, como por ejemplo, buscar potenciales hits sabiendo la trayectoria del artista o tal vez un posible remix al ver la popularidad de la canción original de modo que se estudiaran distintas influencia de los atributos de las canciones en su éxito.\n",
    "\n",
    "Nuestra base de datos consta de distintos premios y certificaciones para canciones, albumes, artistas y a su vez cuanto tiempo se mantuvo popular, de modo que solo se muestran canciones que sean éxitos del momento tanto en spotify como en la lista de billboard, esto sera útil para poder predecir distintos atributos de una canción o artista y así enfocar nuestro proyecto al análisis de tendecias musicales.\n",
    "\n"
   ]
  },
  {
   "cell_type": "markdown",
   "metadata": {
    "id": "npUkPiMH-6zI"
   },
   "source": [
    "# Exploración de datos\n",
    "El dataset consiste de 8 tablas (fuente del dataset:https://www.kaggle.com/datasets/danield2255/data-on-songs-from-billboard-19992019), una que contiene datos de las canciones que aparecen en la lista billboard 100 cada semana desde 1999 hasta 2019, incluyendo datos como el título, los artistas, los géneros de la cancion, artistas invitados y cuántas semanas ha pasado en el top hasta la fecha, y tabién una tabla que contiene datos de cada artista que ha aparecido en esa lista en dicho período de tiempo. También incluye 2 listas de los premios Grammy en el mismo intervalo de tiempo, una sobre canciones y una sobre los álbumes. Además una tabla de singles y una de álbumes según su certificación RIAA, también en el mismo período (certifica cuántas copias vendieron, por ejemplo certificación diamante, platino, multi platino, oro, diamante varias veces, entre otros). Por último hay 2 tablas de las canciones más populares de spotify desde 2016 hasta 2019, también semanales. Una tiene los datos generales del top 200 semanal como la cantidad de reproducciones y el nombre entre otros, y la otra tiene atributos para cada canción como por ejemplo energía, si está en modo mayor o menor, bailabilidad, etc.\n",
    "\n",
    "Hay múltiples dudas que se puede plantear al respecto, por ejemplo la canción Radioactive de Imagine Dragons pasó casi 2 años en el Billboard 100, y sería interesante analizar por qué una canción mantiene su popularidad, mientras otras sólo se quedan en la fama por un corto período.\n"
   ]
  },
  {
   "cell_type": "code",
   "execution_count": 1,
   "metadata": {},
   "outputs": [],
   "source": [
    "import pandas as pd\n",
    "import matplotlib.pyplot as plt\n",
    "import seaborn as sns\n",
    "import numpy as np"
   ]
  },
  {
   "cell_type": "code",
   "execution_count": 2,
   "metadata": {
    "id": "RA0U6cHBjDAu"
   },
   "outputs": [],
   "source": [
    "artistDf = pd.read_csv('data/artistDf.csv')\n",
    "spotifyWeeklyTop = pd.read_csv('data/spotifyWeeklyTop200Streams.csv')\n",
    "songAttributes = pd.read_csv('data/songAttributes_1999-2019.csv')\n",
    "grammySongs = pd.read_csv('data/grammySongs_1999-2019.csv', sep = ';')\n",
    "billboardHot100 = pd.read_csv('data/billboardHot100_1999-2019.csv')"
   ]
  },
  {
   "cell_type": "markdown",
   "metadata": {},
   "source": [
    "En la siguiente tabla se ve que Imagine Dragons Paso 87 semanas en el Chart:"
   ]
  },
  {
   "cell_type": "code",
   "execution_count": 3,
   "metadata": {
    "scrolled": false
   },
   "outputs": [
    {
     "data": {
      "text/html": [
       "<div>\n",
       "<style scoped>\n",
       "    .dataframe tbody tr th:only-of-type {\n",
       "        vertical-align: middle;\n",
       "    }\n",
       "\n",
       "    .dataframe tbody tr th {\n",
       "        vertical-align: top;\n",
       "    }\n",
       "\n",
       "    .dataframe thead th {\n",
       "        text-align: right;\n",
       "    }\n",
       "</style>\n",
       "<table border=\"1\" class=\"dataframe\">\n",
       "  <thead>\n",
       "    <tr style=\"text-align: right;\">\n",
       "      <th></th>\n",
       "      <th>Unnamed: 0</th>\n",
       "      <th>Artists</th>\n",
       "      <th>Name</th>\n",
       "      <th>Weekly.rank</th>\n",
       "      <th>Peak.position</th>\n",
       "      <th>Weeks.on.chart</th>\n",
       "      <th>Week</th>\n",
       "      <th>Date</th>\n",
       "      <th>Genre</th>\n",
       "      <th>Writing.Credits</th>\n",
       "      <th>Lyrics</th>\n",
       "      <th>Features</th>\n",
       "    </tr>\n",
       "  </thead>\n",
       "  <tbody>\n",
       "    <tr>\n",
       "      <th>25705</th>\n",
       "      <td>25706</td>\n",
       "      <td>Imagine Dragons</td>\n",
       "      <td>Radioactive</td>\n",
       "      <td>49</td>\n",
       "      <td>3.0</td>\n",
       "      <td>87.0</td>\n",
       "      <td>2014-05-09</td>\n",
       "      <td>February 14, 2012</td>\n",
       "      <td>Adult Alternative,Dubstep,Alternative Pop,Alte...</td>\n",
       "      <td>Imagine dragons, Daniel platzman, Wayne sermon...</td>\n",
       "      <td>Radioactive \\nWhoah-oh\\nWhoah-oh\\nWhoah-oh\\nWh...</td>\n",
       "      <td>NaN</td>\n",
       "    </tr>\n",
       "    <tr>\n",
       "      <th>26334</th>\n",
       "      <td>26335</td>\n",
       "      <td>AWOLNATION</td>\n",
       "      <td>Sail</td>\n",
       "      <td>45</td>\n",
       "      <td>17.0</td>\n",
       "      <td>79.0</td>\n",
       "      <td>2014-03-21</td>\n",
       "      <td>November 8, 2010</td>\n",
       "      <td>Electro-Pop,Pop-Rock,Alternative Rock,Industri...</td>\n",
       "      <td>Aaron bruno</td>\n",
       "      <td>Sail \\nSail!\\nThis is how I show my love\\nI ma...</td>\n",
       "      <td>NaN</td>\n",
       "    </tr>\n",
       "  </tbody>\n",
       "</table>\n",
       "</div>"
      ],
      "text/plain": [
       "       Unnamed: 0          Artists         Name  Weekly.rank  Peak.position  \\\n",
       "25705       25706  Imagine Dragons  Radioactive           49            3.0   \n",
       "26334       26335       AWOLNATION         Sail           45           17.0   \n",
       "\n",
       "       Weeks.on.chart        Week               Date  \\\n",
       "25705            87.0  2014-05-09  February 14, 2012   \n",
       "26334            79.0  2014-03-21   November 8, 2010   \n",
       "\n",
       "                                                   Genre  \\\n",
       "25705  Adult Alternative,Dubstep,Alternative Pop,Alte...   \n",
       "26334  Electro-Pop,Pop-Rock,Alternative Rock,Industri...   \n",
       "\n",
       "                                         Writing.Credits  \\\n",
       "25705  Imagine dragons, Daniel platzman, Wayne sermon...   \n",
       "26334                                        Aaron bruno   \n",
       "\n",
       "                                                  Lyrics Features  \n",
       "25705  Radioactive \\nWhoah-oh\\nWhoah-oh\\nWhoah-oh\\nWh...      NaN  \n",
       "26334  Sail \\nSail!\\nThis is how I show my love\\nI ma...      NaN  "
      ]
     },
     "execution_count": 3,
     "metadata": {},
     "output_type": "execute_result"
    }
   ],
   "source": [
    "songs = billboardHot100.drop_duplicates(subset = ['Artists', 'Name'])\n",
    "songs.sort_values(by = ['Weeks.on.chart'], ascending = False).head(2)"
   ]
  },
  {
   "cell_type": "markdown",
   "metadata": {},
   "source": [
    "En esta tabla se puede ver una descripción de cada artista"
   ]
  },
  {
   "cell_type": "code",
   "execution_count": 4,
   "metadata": {},
   "outputs": [
    {
     "name": "stdout",
     "output_type": "stream",
     "text": [
      "(1035, 8)\n"
     ]
    },
    {
     "data": {
      "text/html": [
       "<div>\n",
       "<style scoped>\n",
       "    .dataframe tbody tr th:only-of-type {\n",
       "        vertical-align: middle;\n",
       "    }\n",
       "\n",
       "    .dataframe tbody tr th {\n",
       "        vertical-align: top;\n",
       "    }\n",
       "\n",
       "    .dataframe thead th {\n",
       "        text-align: right;\n",
       "    }\n",
       "</style>\n",
       "<table border=\"1\" class=\"dataframe\">\n",
       "  <thead>\n",
       "    <tr style=\"text-align: right;\">\n",
       "      <th></th>\n",
       "      <th>X</th>\n",
       "      <th>Artist</th>\n",
       "      <th>Followers</th>\n",
       "      <th>Genres</th>\n",
       "      <th>NumAlbums</th>\n",
       "      <th>YearFirstAlbum</th>\n",
       "      <th>Gender</th>\n",
       "      <th>Group.Solo</th>\n",
       "    </tr>\n",
       "  </thead>\n",
       "  <tbody>\n",
       "    <tr>\n",
       "      <th>0</th>\n",
       "      <td>0</td>\n",
       "      <td>Ed Sheeran</td>\n",
       "      <td>52698756</td>\n",
       "      <td>pop,uk pop</td>\n",
       "      <td>8</td>\n",
       "      <td>2011</td>\n",
       "      <td>M</td>\n",
       "      <td>Solo</td>\n",
       "    </tr>\n",
       "    <tr>\n",
       "      <th>1</th>\n",
       "      <td>1</td>\n",
       "      <td>Justin Bieber</td>\n",
       "      <td>30711450</td>\n",
       "      <td>canadian pop,dance pop,pop,post-teen pop</td>\n",
       "      <td>10</td>\n",
       "      <td>2009</td>\n",
       "      <td>M</td>\n",
       "      <td>Solo</td>\n",
       "    </tr>\n",
       "    <tr>\n",
       "      <th>2</th>\n",
       "      <td>2</td>\n",
       "      <td>Jonas Brothers</td>\n",
       "      <td>3069527</td>\n",
       "      <td>boy band,dance pop,pop,post-teen pop</td>\n",
       "      <td>10</td>\n",
       "      <td>2006</td>\n",
       "      <td>M</td>\n",
       "      <td>Group</td>\n",
       "    </tr>\n",
       "    <tr>\n",
       "      <th>3</th>\n",
       "      <td>3</td>\n",
       "      <td>Drake</td>\n",
       "      <td>41420478</td>\n",
       "      <td>canadian hip hop,canadian pop,hip hop,pop rap,...</td>\n",
       "      <td>11</td>\n",
       "      <td>2010</td>\n",
       "      <td>M</td>\n",
       "      <td>Solo</td>\n",
       "    </tr>\n",
       "    <tr>\n",
       "      <th>4</th>\n",
       "      <td>4</td>\n",
       "      <td>Chris Brown</td>\n",
       "      <td>9676862</td>\n",
       "      <td>dance pop,pop,pop rap,r&amp;b,rap</td>\n",
       "      <td>6</td>\n",
       "      <td>2005</td>\n",
       "      <td>M</td>\n",
       "      <td>Solo</td>\n",
       "    </tr>\n",
       "  </tbody>\n",
       "</table>\n",
       "</div>"
      ],
      "text/plain": [
       "   X          Artist  Followers  \\\n",
       "0  0      Ed Sheeran   52698756   \n",
       "1  1   Justin Bieber   30711450   \n",
       "2  2  Jonas Brothers    3069527   \n",
       "3  3           Drake   41420478   \n",
       "4  4     Chris Brown    9676862   \n",
       "\n",
       "                                              Genres  NumAlbums  \\\n",
       "0                                         pop,uk pop          8   \n",
       "1           canadian pop,dance pop,pop,post-teen pop         10   \n",
       "2               boy band,dance pop,pop,post-teen pop         10   \n",
       "3  canadian hip hop,canadian pop,hip hop,pop rap,...         11   \n",
       "4                      dance pop,pop,pop rap,r&b,rap          6   \n",
       "\n",
       "   YearFirstAlbum Gender Group.Solo  \n",
       "0            2011      M       Solo  \n",
       "1            2009      M       Solo  \n",
       "2            2006      M      Group  \n",
       "3            2010      M       Solo  \n",
       "4            2005      M       Solo  "
      ]
     },
     "execution_count": 4,
     "metadata": {},
     "output_type": "execute_result"
    }
   ],
   "source": [
    "print(artistDf.shape)#dimensión de la tabla de Artists\n",
    "artistDf.head()"
   ]
  },
  {
   "cell_type": "markdown",
   "metadata": {},
   "source": [
    "A continuación contaremos los que hace cada artista:"
   ]
  },
  {
   "cell_type": "code",
   "execution_count": 5,
   "metadata": {},
   "outputs": [
    {
     "data": {
      "text/html": [
       "<div>\n",
       "<style scoped>\n",
       "    .dataframe tbody tr th:only-of-type {\n",
       "        vertical-align: middle;\n",
       "    }\n",
       "\n",
       "    .dataframe tbody tr th {\n",
       "        vertical-align: top;\n",
       "    }\n",
       "\n",
       "    .dataframe thead th {\n",
       "        text-align: right;\n",
       "    }\n",
       "</style>\n",
       "<table border=\"1\" class=\"dataframe\">\n",
       "  <thead>\n",
       "    <tr style=\"text-align: right;\">\n",
       "      <th></th>\n",
       "      <th>X</th>\n",
       "      <th>Artist</th>\n",
       "      <th>Followers</th>\n",
       "      <th>Genres</th>\n",
       "      <th>NumAlbums</th>\n",
       "      <th>YearFirstAlbum</th>\n",
       "      <th>Gender</th>\n",
       "      <th>Group.Solo</th>\n",
       "    </tr>\n",
       "  </thead>\n",
       "  <tbody>\n",
       "    <tr>\n",
       "      <th>225</th>\n",
       "      <td>225</td>\n",
       "      <td>\"Weird Al\" Yankovic</td>\n",
       "      <td>428071</td>\n",
       "      <td>antiviral pop,comedy rock,comic</td>\n",
       "      <td>14</td>\n",
       "      <td>1983</td>\n",
       "      <td>M</td>\n",
       "      <td>Solo</td>\n",
       "    </tr>\n",
       "  </tbody>\n",
       "</table>\n",
       "</div>"
      ],
      "text/plain": [
       "       X               Artist  Followers                           Genres  \\\n",
       "225  225  \"Weird Al\" Yankovic     428071  antiviral pop,comedy rock,comic   \n",
       "\n",
       "     NumAlbums  YearFirstAlbum Gender Group.Solo  \n",
       "225         14            1983      M       Solo  "
      ]
     },
     "execution_count": 5,
     "metadata": {},
     "output_type": "execute_result"
    }
   ],
   "source": [
    "artistDf[artistDf['Artist'] == '\"Weird Al\" Yankovic']"
   ]
  },
  {
   "cell_type": "markdown",
   "metadata": {},
   "source": [
    "Como se observa en la siguiente lista obtenemos la cantidad de géneros musicales que maneja cada artista:"
   ]
  },
  {
   "cell_type": "code",
   "execution_count": 6,
   "metadata": {},
   "outputs": [
    {
     "name": "stderr",
     "output_type": "stream",
     "text": [
      "C:\\Users\\areis\\AppData\\Local\\Temp\\ipykernel_9916\\32977944.py:1: FutureWarning: Using the level keyword in DataFrame and Series aggregations is deprecated and will be removed in a future version. Use groupby instead. df.sum(level=1) should use df.groupby(level=1).sum().\n",
      "  genres_vect = artistDf.Genres.str.split(',', expand = True).stack().str.get_dummies().sum(level=0)\n"
     ]
    },
    {
     "data": {
      "text/plain": [
       "Artist\n",
       "\"Weird Al\" Yankovic     3\n",
       "10 Years                5\n",
       "112                    13\n",
       "2 Chainz                8\n",
       "2 Pistols               4\n",
       "                       ..\n",
       "k.d. lang              10\n",
       "matchbox twenty         3\n",
       "t.A.T.u.                2\n",
       "twenty one pilots       3\n",
       "will.i.am               4\n",
       "Name: Total_Genres, Length: 1016, dtype: int64"
      ]
     },
     "execution_count": 6,
     "metadata": {},
     "output_type": "execute_result"
    }
   ],
   "source": [
    "genres_vect = artistDf.Genres.str.split(',', expand = True).stack().str.get_dummies().sum(level=0)\n",
    "genres_vect['Artist'] = artistDf['Artist']\n",
    "genres_sum = genres_vect.groupby(['Artist']).sum().assign(Total_Genres = lambda x: x.sum(axis = 1))\n",
    "genres_sum['Total_Genres']"
   ]
  },
  {
   "cell_type": "markdown",
   "metadata": {},
   "source": [
    "Podemos observar de forma simple el promedio de géneros que manejan los artistas del df y el máximo de géneros que maneja un único artista siendo este Arcade Fire con 16 géneros en total:"
   ]
  },
  {
   "cell_type": "code",
   "execution_count": 7,
   "metadata": {},
   "outputs": [
    {
     "name": "stdout",
     "output_type": "stream",
     "text": [
      "Promedio por artista: 5.333661417322834\n"
     ]
    },
    {
     "data": {
      "text/plain": [
       "Artist\n",
       "Arcade Fire    16\n",
       "Name: Total_Genres, dtype: int64"
      ]
     },
     "execution_count": 7,
     "metadata": {},
     "output_type": "execute_result"
    }
   ],
   "source": [
    "print(\"Promedio por artista: \" + str(genres_sum['Total_Genres'].mean()))\n",
    "genres_sum['Total_Genres'].sort_values(ascending = False).head(1)"
   ]
  },
  {
   "cell_type": "markdown",
   "metadata": {},
   "source": [
    "Ahora se muestra la tabla de datos con el top 5 de spotify la semana del 20 de julio de 2018"
   ]
  },
  {
   "cell_type": "code",
   "execution_count": 8,
   "metadata": {},
   "outputs": [
    {
     "name": "stdout",
     "output_type": "stream",
     "text": [
      "(26395, 6)\n"
     ]
    },
    {
     "data": {
      "text/html": [
       "<div>\n",
       "<style scoped>\n",
       "    .dataframe tbody tr th:only-of-type {\n",
       "        vertical-align: middle;\n",
       "    }\n",
       "\n",
       "    .dataframe tbody tr th {\n",
       "        vertical-align: top;\n",
       "    }\n",
       "\n",
       "    .dataframe thead th {\n",
       "        text-align: right;\n",
       "    }\n",
       "</style>\n",
       "<table border=\"1\" class=\"dataframe\">\n",
       "  <thead>\n",
       "    <tr style=\"text-align: right;\">\n",
       "      <th></th>\n",
       "      <th>Unnamed: 0</th>\n",
       "      <th>Name</th>\n",
       "      <th>Artist</th>\n",
       "      <th>Features</th>\n",
       "      <th>Streams</th>\n",
       "      <th>Week</th>\n",
       "    </tr>\n",
       "  </thead>\n",
       "  <tbody>\n",
       "    <tr>\n",
       "      <th>0</th>\n",
       "      <td>0</td>\n",
       "      <td>In My Feelings</td>\n",
       "      <td>Drake</td>\n",
       "      <td>NaN</td>\n",
       "      <td>30747676</td>\n",
       "      <td>2018-07-20</td>\n",
       "    </tr>\n",
       "    <tr>\n",
       "      <th>1</th>\n",
       "      <td>1</td>\n",
       "      <td>Lucid Dreams</td>\n",
       "      <td>Juice WRLD</td>\n",
       "      <td>NaN</td>\n",
       "      <td>12930705</td>\n",
       "      <td>2018-07-20</td>\n",
       "    </tr>\n",
       "    <tr>\n",
       "      <th>2</th>\n",
       "      <td>2</td>\n",
       "      <td>Nonstop</td>\n",
       "      <td>Drake</td>\n",
       "      <td>NaN</td>\n",
       "      <td>12312859</td>\n",
       "      <td>2018-07-20</td>\n",
       "    </tr>\n",
       "    <tr>\n",
       "      <th>3</th>\n",
       "      <td>3</td>\n",
       "      <td>God is a woman</td>\n",
       "      <td>Ariana Grande</td>\n",
       "      <td>NaN</td>\n",
       "      <td>10771324</td>\n",
       "      <td>2018-07-20</td>\n",
       "    </tr>\n",
       "    <tr>\n",
       "      <th>4</th>\n",
       "      <td>4</td>\n",
       "      <td>SAD!</td>\n",
       "      <td>XXXTENTACION</td>\n",
       "      <td>NaN</td>\n",
       "      <td>10503061</td>\n",
       "      <td>2018-07-20</td>\n",
       "    </tr>\n",
       "  </tbody>\n",
       "</table>\n",
       "</div>"
      ],
      "text/plain": [
       "   Unnamed: 0            Name         Artist Features   Streams        Week\n",
       "0           0  In My Feelings          Drake      NaN  30747676  2018-07-20\n",
       "1           1    Lucid Dreams     Juice WRLD      NaN  12930705  2018-07-20\n",
       "2           2         Nonstop          Drake      NaN  12312859  2018-07-20\n",
       "3           3  God is a woman  Ariana Grande      NaN  10771324  2018-07-20\n",
       "4           4            SAD!   XXXTENTACION      NaN  10503061  2018-07-20"
      ]
     },
     "execution_count": 8,
     "metadata": {},
     "output_type": "execute_result"
    }
   ],
   "source": [
    "print(spotifyWeeklyTop.shape) #dimensión de la tabla de canciones semanales en spotify.\n",
    "spotifyWeeklyTop.head()"
   ]
  },
  {
   "cell_type": "markdown",
   "metadata": {},
   "source": [
    "Tabla de datos con el top 5 de Billboarhot100 la semana del 6 de julio de 2019"
   ]
  },
  {
   "cell_type": "code",
   "execution_count": 9,
   "metadata": {},
   "outputs": [
    {
     "name": "stdout",
     "output_type": "stream",
     "text": [
      "(97225, 12)\n"
     ]
    },
    {
     "data": {
      "text/html": [
       "<div>\n",
       "<style scoped>\n",
       "    .dataframe tbody tr th:only-of-type {\n",
       "        vertical-align: middle;\n",
       "    }\n",
       "\n",
       "    .dataframe tbody tr th {\n",
       "        vertical-align: top;\n",
       "    }\n",
       "\n",
       "    .dataframe thead th {\n",
       "        text-align: right;\n",
       "    }\n",
       "</style>\n",
       "<table border=\"1\" class=\"dataframe\">\n",
       "  <thead>\n",
       "    <tr style=\"text-align: right;\">\n",
       "      <th></th>\n",
       "      <th>Unnamed: 0</th>\n",
       "      <th>Artists</th>\n",
       "      <th>Name</th>\n",
       "      <th>Weekly.rank</th>\n",
       "      <th>Peak.position</th>\n",
       "      <th>Weeks.on.chart</th>\n",
       "      <th>Week</th>\n",
       "      <th>Date</th>\n",
       "      <th>Genre</th>\n",
       "      <th>Writing.Credits</th>\n",
       "      <th>Lyrics</th>\n",
       "      <th>Features</th>\n",
       "    </tr>\n",
       "  </thead>\n",
       "  <tbody>\n",
       "    <tr>\n",
       "      <th>0</th>\n",
       "      <td>1</td>\n",
       "      <td>Lil Nas,</td>\n",
       "      <td>Old Town Road</td>\n",
       "      <td>1</td>\n",
       "      <td>1.0</td>\n",
       "      <td>7.0</td>\n",
       "      <td>2019-07-06</td>\n",
       "      <td>April 5, 2019</td>\n",
       "      <td>Country,Atlanta,Alternative Country,Hip-Hop,Tr...</td>\n",
       "      <td>Jozzy, Atticus ross, Trent reznor, Billy ray c...</td>\n",
       "      <td>Old Town Road Remix \\nOh, oh-oh\\nOh\\nYeah, I'm...</td>\n",
       "      <td>Billy Ray Cyrus</td>\n",
       "    </tr>\n",
       "    <tr>\n",
       "      <th>1</th>\n",
       "      <td>2</td>\n",
       "      <td>Shawn Mendes, Camila Cabello</td>\n",
       "      <td>Senorita</td>\n",
       "      <td>2</td>\n",
       "      <td>NaN</td>\n",
       "      <td>NaN</td>\n",
       "      <td>2019-07-06</td>\n",
       "      <td>June 21, 2019</td>\n",
       "      <td>Pop</td>\n",
       "      <td>Cashmere cat, Jack patterson, Charli xcx, Benn...</td>\n",
       "      <td>Senorita \\nI love it when you call me senorita...</td>\n",
       "      <td>NaN</td>\n",
       "    </tr>\n",
       "  </tbody>\n",
       "</table>\n",
       "</div>"
      ],
      "text/plain": [
       "   Unnamed: 0                       Artists           Name  Weekly.rank  \\\n",
       "0           1                      Lil Nas,  Old Town Road            1   \n",
       "1           2  Shawn Mendes, Camila Cabello       Senorita            2   \n",
       "\n",
       "   Peak.position  Weeks.on.chart        Week           Date  \\\n",
       "0            1.0             7.0  2019-07-06  April 5, 2019   \n",
       "1            NaN             NaN  2019-07-06  June 21, 2019   \n",
       "\n",
       "                                               Genre  \\\n",
       "0  Country,Atlanta,Alternative Country,Hip-Hop,Tr...   \n",
       "1                                                Pop   \n",
       "\n",
       "                                     Writing.Credits  \\\n",
       "0  Jozzy, Atticus ross, Trent reznor, Billy ray c...   \n",
       "1  Cashmere cat, Jack patterson, Charli xcx, Benn...   \n",
       "\n",
       "                                              Lyrics         Features  \n",
       "0  Old Town Road Remix \\nOh, oh-oh\\nOh\\nYeah, I'm...  Billy Ray Cyrus  \n",
       "1  Senorita \\nI love it when you call me senorita...              NaN  "
      ]
     },
     "execution_count": 9,
     "metadata": {},
     "output_type": "execute_result"
    }
   ],
   "source": [
    "print(billboardHot100.shape)#dimensión de la tabla de las canciones en el billboard.\n",
    "billboardHot100.head(2)"
   ]
  },
  {
   "cell_type": "code",
   "execution_count": 10,
   "metadata": {},
   "outputs": [],
   "source": [
    "dicc = {}\n",
    "i = 0\n",
    "for row, col in songs.iterrows():\n",
    "    aux = col['Genre'].split(',')\n",
    "    for k in aux:\n",
    "        if k in aux:\n",
    "            dicc[k] = dicc.get(k,0) + 1\n",
    "        i+=1"
   ]
  },
  {
   "cell_type": "code",
   "execution_count": 11,
   "metadata": {},
   "outputs": [],
   "source": [
    "gen = pd.DataFrame([[key, dicc[key]] for key in dicc.keys()], columns=['Genre', 'Frequency'])\n",
    "gen1_5 = gen.sort_values(by = ['Frequency'], ascending=False)"
   ]
  },
  {
   "cell_type": "code",
   "execution_count": 12,
   "metadata": {
    "scrolled": true
   },
   "outputs": [
    {
     "data": {
      "text/plain": [
       "(334, 2)"
      ]
     },
     "execution_count": 12,
     "metadata": {},
     "output_type": "execute_result"
    }
   ],
   "source": [
    "gen1_5 = gen.sort_values(by = ['Frequency'], ascending=False)\n",
    "gen1_5.shape"
   ]
  },
  {
   "cell_type": "markdown",
   "metadata": {},
   "source": [
    "En total hay 334 generos, por lo que conviene filtrar los 20 mas populares para el gráfico"
   ]
  },
  {
   "cell_type": "code",
   "execution_count": 13,
   "metadata": {},
   "outputs": [
    {
     "data": {
      "text/html": [
       "<div>\n",
       "<style scoped>\n",
       "    .dataframe tbody tr th:only-of-type {\n",
       "        vertical-align: middle;\n",
       "    }\n",
       "\n",
       "    .dataframe tbody tr th {\n",
       "        vertical-align: top;\n",
       "    }\n",
       "\n",
       "    .dataframe thead th {\n",
       "        text-align: right;\n",
       "    }\n",
       "</style>\n",
       "<table border=\"1\" class=\"dataframe\">\n",
       "  <thead>\n",
       "    <tr style=\"text-align: right;\">\n",
       "      <th></th>\n",
       "      <th>Genre</th>\n",
       "      <th>Frequency</th>\n",
       "    </tr>\n",
       "  </thead>\n",
       "  <tbody>\n",
       "    <tr>\n",
       "      <th>9</th>\n",
       "      <td>Pop</td>\n",
       "      <td>2994</td>\n",
       "    </tr>\n",
       "    <tr>\n",
       "      <th>8</th>\n",
       "      <td>Rap</td>\n",
       "      <td>2465</td>\n",
       "    </tr>\n",
       "    <tr>\n",
       "      <th>46</th>\n",
       "      <td>Rock</td>\n",
       "      <td>1538</td>\n",
       "    </tr>\n",
       "    <tr>\n",
       "      <th>30</th>\n",
       "      <td>R&amp;;B</td>\n",
       "      <td>1335</td>\n",
       "    </tr>\n",
       "    <tr>\n",
       "      <th>0</th>\n",
       "      <td>Country</td>\n",
       "      <td>1255</td>\n",
       "    </tr>\n",
       "    <tr>\n",
       "      <th>4</th>\n",
       "      <td>Trap</td>\n",
       "      <td>563</td>\n",
       "    </tr>\n",
       "    <tr>\n",
       "      <th>24</th>\n",
       "      <td>Pop-Rock</td>\n",
       "      <td>428</td>\n",
       "    </tr>\n",
       "    <tr>\n",
       "      <th>41</th>\n",
       "      <td>Alternative Rock</td>\n",
       "      <td>364</td>\n",
       "    </tr>\n",
       "    <tr>\n",
       "      <th>33</th>\n",
       "      <td>Soundtrack</td>\n",
       "      <td>357</td>\n",
       "    </tr>\n",
       "    <tr>\n",
       "      <th>20</th>\n",
       "      <td>Canada</td>\n",
       "      <td>327</td>\n",
       "    </tr>\n",
       "  </tbody>\n",
       "</table>\n",
       "</div>"
      ],
      "text/plain": [
       "               Genre  Frequency\n",
       "9                Pop       2994\n",
       "8                Rap       2465\n",
       "46              Rock       1538\n",
       "30              R&;B       1335\n",
       "0            Country       1255\n",
       "4               Trap        563\n",
       "24          Pop-Rock        428\n",
       "41  Alternative Rock        364\n",
       "33        Soundtrack        357\n",
       "20            Canada        327"
      ]
     },
     "execution_count": 13,
     "metadata": {},
     "output_type": "execute_result"
    }
   ],
   "source": [
    "gen2 = gen1_5.head(10)\n",
    "gen2"
   ]
  },
  {
   "cell_type": "markdown",
   "metadata": {},
   "source": [
    "En este gráfico de tablas se pueden ver los géneros mas recurrentes en el billboard top 100:"
   ]
  },
  {
   "cell_type": "code",
   "execution_count": 14,
   "metadata": {
    "scrolled": true
   },
   "outputs": [
    {
     "data": {
      "image/png": "[encoded data removed]",
      "text/plain": [
       "<Figure size 432x288 with 1 Axes>"
      ]
     },
     "metadata": {
      "needs_background": "light"
     },
     "output_type": "display_data"
    }
   ],
   "source": [
    "ax = gen2.plot.bar(x='Genre', y = 'Frequency', stacked=True, title = \"Géneros mas populares en el Billboard\")"
   ]
  },
  {
   "cell_type": "markdown",
   "metadata": {},
   "source": [
    "En esta tabla se pueden ver los premios grammy del 2018:"
   ]
  },
  {
   "cell_type": "code",
   "execution_count": 15,
   "metadata": {
    "scrolled": false
   },
   "outputs": [
    {
     "name": "stdout",
     "output_type": "stream",
     "text": [
      "(428, 7)\n"
     ]
    },
    {
     "data": {
      "text/html": [
       "<div>\n",
       "<style scoped>\n",
       "    .dataframe tbody tr th:only-of-type {\n",
       "        vertical-align: middle;\n",
       "    }\n",
       "\n",
       "    .dataframe tbody tr th {\n",
       "        vertical-align: top;\n",
       "    }\n",
       "\n",
       "    .dataframe thead th {\n",
       "        text-align: right;\n",
       "    }\n",
       "</style>\n",
       "<table border=\"1\" class=\"dataframe\">\n",
       "  <thead>\n",
       "    <tr style=\"text-align: right;\">\n",
       "      <th></th>\n",
       "      <th>Column1</th>\n",
       "      <th>X</th>\n",
       "      <th>GrammyAward</th>\n",
       "      <th>GrammyYear</th>\n",
       "      <th>Genre</th>\n",
       "      <th>Name</th>\n",
       "      <th>Artist</th>\n",
       "    </tr>\n",
       "  </thead>\n",
       "  <tbody>\n",
       "    <tr>\n",
       "      <th>0</th>\n",
       "      <td>1</td>\n",
       "      <td>0</td>\n",
       "      <td>Record Of The Year</td>\n",
       "      <td>2018</td>\n",
       "      <td>General</td>\n",
       "      <td>this is America</td>\n",
       "      <td>Childish Gambino</td>\n",
       "    </tr>\n",
       "    <tr>\n",
       "      <th>1</th>\n",
       "      <td>2</td>\n",
       "      <td>1</td>\n",
       "      <td>Song Of The Year</td>\n",
       "      <td>2018</td>\n",
       "      <td>General</td>\n",
       "      <td>this is America</td>\n",
       "      <td>Childish Gambino</td>\n",
       "    </tr>\n",
       "    <tr>\n",
       "      <th>2</th>\n",
       "      <td>3</td>\n",
       "      <td>2</td>\n",
       "      <td>Best Pop Solo Performance</td>\n",
       "      <td>2018</td>\n",
       "      <td>Pop</td>\n",
       "      <td>Joanne (where Do you Think You're Goin'?)</td>\n",
       "      <td>Lady Gaga</td>\n",
       "    </tr>\n",
       "    <tr>\n",
       "      <th>3</th>\n",
       "      <td>4</td>\n",
       "      <td>3</td>\n",
       "      <td>Best Pop Duo/Group Performance</td>\n",
       "      <td>2018</td>\n",
       "      <td>Pop</td>\n",
       "      <td>Shallow</td>\n",
       "      <td>Lady Gaga &amp; Bradley Cooper</td>\n",
       "    </tr>\n",
       "    <tr>\n",
       "      <th>4</th>\n",
       "      <td>5</td>\n",
       "      <td>4</td>\n",
       "      <td>Best Dance Recording</td>\n",
       "      <td>2018</td>\n",
       "      <td>Dance/Electronic Music</td>\n",
       "      <td>Electricity</td>\n",
       "      <td>Silk City &amp; Dua Lipa Featuring Diplo &amp; Mark Ro...</td>\n",
       "    </tr>\n",
       "  </tbody>\n",
       "</table>\n",
       "</div>"
      ],
      "text/plain": [
       "   Column1  X                     GrammyAward  GrammyYear  \\\n",
       "0        1  0              Record Of The Year        2018   \n",
       "1        2  1                Song Of The Year        2018   \n",
       "2        3  2       Best Pop Solo Performance        2018   \n",
       "3        4  3  Best Pop Duo/Group Performance        2018   \n",
       "4        5  4            Best Dance Recording        2018   \n",
       "\n",
       "                    Genre                                       Name  \\\n",
       "0                 General                            this is America   \n",
       "1                 General                            this is America   \n",
       "2                     Pop  Joanne (where Do you Think You're Goin'?)   \n",
       "3                     Pop                                    Shallow   \n",
       "4  Dance/Electronic Music                                Electricity   \n",
       "\n",
       "                                              Artist  \n",
       "0                                   Childish Gambino  \n",
       "1                                   Childish Gambino  \n",
       "2                                          Lady Gaga  \n",
       "3                         Lady Gaga & Bradley Cooper  \n",
       "4  Silk City & Dua Lipa Featuring Diplo & Mark Ro...  "
      ]
     },
     "execution_count": 15,
     "metadata": {},
     "output_type": "execute_result"
    }
   ],
   "source": [
    "print(grammySongs.shape)#dimensión de la tabla de canciones ganadora de los grammy's.\n",
    "grammySongs.head()"
   ]
  },
  {
   "cell_type": "markdown",
   "metadata": {},
   "source": [
    "En esta tabla se muestran los artistas con mayor número de seguidores en spotify:"
   ]
  },
  {
   "cell_type": "code",
   "execution_count": 16,
   "metadata": {},
   "outputs": [
    {
     "data": {
      "image/png": "[encoded data removed]",
      "text/plain": [
       "<Figure size 432x288 with 1 Axes>"
      ]
     },
     "metadata": {
      "needs_background": "light"
     },
     "output_type": "display_data"
    }
   ],
   "source": [
    "artist_p = artistDf.sort_values(by = ['Followers'], ascending=False)\n",
    "artist_p = artist_p.head(17)\n",
    "artist_p = artist_p.drop([769, 828]) #elimina play y cold, ya que eran versiones repetidas de coldplay\n",
    "ax = artist_p.plot.bar(x= 'Artist', y = 'Followers', stacked= True, title = \"Artistas con mas seguidores en Spotify\")"
   ]
  },
  {
   "cell_type": "markdown",
   "metadata": {},
   "source": [
    "La siguiente matriz de correlación muestra como se comparan las variables de los artistas en spotify:"
   ]
  },
  {
   "cell_type": "code",
   "execution_count": 17,
   "metadata": {},
   "outputs": [
    {
     "data": {
      "text/plain": [
       "<AxesSubplot:>"
      ]
     },
     "execution_count": 17,
     "metadata": {},
     "output_type": "execute_result"
    },
    {
     "data": {
      "image/png": "[encoded data removed]",
      "text/plain": [
       "<Figure size 720x576 with 2 Axes>"
      ]
     },
     "metadata": {
      "needs_background": "light"
     },
     "output_type": "display_data"
    }
   ],
   "source": [
    "f, ax = plt.subplots(figsize=(10, 8))\n",
    "corr = artistDf.corr()\n",
    "sns.heatmap(corr, mask=np.zeros_like(corr, dtype=bool), cmap=sns.diverging_palette(220, 10, as_cmap=True),\n",
    "            square=True, ax=ax)"
   ]
  },
  {
   "cell_type": "markdown",
   "metadata": {},
   "source": [
    "En el siguiente gráfico se observa que el artista que tiene más grammy's por canciones es Adele y la banda con más premios es U2:"
   ]
  },
  {
   "cell_type": "code",
   "execution_count": 18,
   "metadata": {
    "scrolled": true
   },
   "outputs": [
    {
     "data": {
      "image/png": "[encoded data removed]",
      "text/plain": [
       "<Figure size 432x288 with 1 Axes>"
      ]
     },
     "metadata": {
      "needs_background": "light"
     },
     "output_type": "display_data"
    }
   ],
   "source": [
    "winners = grammySongs.loc[:, ['Artist']]\n",
    "gen3 = winners.groupby(winners.columns.tolist(),as_index=False).size().rename(columns={'size':'Awards'})\n",
    "gen4 = gen3.sort_values(by = ['Awards'], ascending=False).head(20)\n",
    "grs = gen4.plot.bar(x= 'Artist', y = 'Awards', stacked= True, title = 'Artistas con más Grammys por canciones')"
   ]
  },
  {
   "cell_type": "markdown",
   "metadata": {},
   "source": [
    "El siguiente diagrama de cajas representa la distribución de los atributos,  filtrados por las canciones que aparecen en la tabla de billboard 100:"
   ]
  },
  {
   "cell_type": "code",
   "execution_count": 19,
   "metadata": {},
   "outputs": [
    {
     "name": "stdout",
     "output_type": "stream",
     "text": [
      "(3193, 28)\n"
     ]
    },
    {
     "data": {
      "text/plain": [
       "<AxesSubplot:title={'center':'Distribucion de los atributos de las canciones más populares'}>"
      ]
     },
     "execution_count": 19,
     "metadata": {},
     "output_type": "execute_result"
    },
    {
     "data": {
      "image/png": "[encoded data removed]",
      "text/plain": [
       "<Figure size 432x288 with 1 Axes>"
      ]
     },
     "metadata": {
      "needs_background": "light"
     },
     "output_type": "display_data"
    }
   ],
   "source": [
    "\n",
    "songAttributes1 = songAttributes.rename(columns = {\"Artist\" : \"Artists\"})\n",
    "songAttributes1.head()\n",
    "sa = (\n",
    "    songAttributes1.merge(billboardHot100, \n",
    "              on=['Name', 'Artists'],\n",
    "              how='left', \n",
    "              indicator=True)\n",
    "    .query('_merge == \"both\"')\n",
    "    .drop(columns='_merge')\n",
    ")\n",
    "sa = sa.drop_duplicates(subset = [\"Name\", \"Artists\"])\n",
    "print(sa.shape)\n",
    "sa.iloc[:,[1, 4, 6, 8, 9]].plot.box(stacked=True, fontsize = 8, title = \"Distribucion de los atributos de las canciones más populares\")\n",
    "\n"
   ]
  },
  {
   "cell_type": "markdown",
   "metadata": {},
   "source": [
    "Tabla de los atributos de canciones que estuvieron alguna vez en el Billboard:"
   ]
  },
  {
   "cell_type": "code",
   "execution_count": 20,
   "metadata": {},
   "outputs": [
    {
     "data": {
      "text/html": [
       "<div>\n",
       "<style scoped>\n",
       "    .dataframe tbody tr th:only-of-type {\n",
       "        vertical-align: middle;\n",
       "    }\n",
       "\n",
       "    .dataframe tbody tr th {\n",
       "        vertical-align: top;\n",
       "    }\n",
       "\n",
       "    .dataframe thead th {\n",
       "        text-align: right;\n",
       "    }\n",
       "</style>\n",
       "<table border=\"1\" class=\"dataframe\">\n",
       "  <thead>\n",
       "    <tr style=\"text-align: right;\">\n",
       "      <th></th>\n",
       "      <th>Unnamed: 0_x</th>\n",
       "      <th>Acousticness</th>\n",
       "      <th>Album</th>\n",
       "      <th>Artists</th>\n",
       "      <th>Danceability</th>\n",
       "      <th>Duration</th>\n",
       "      <th>Energy</th>\n",
       "      <th>Explicit</th>\n",
       "      <th>Instrumentalness</th>\n",
       "      <th>Liveness</th>\n",
       "      <th>...</th>\n",
       "      <th>Unnamed: 0_y</th>\n",
       "      <th>Weekly.rank</th>\n",
       "      <th>Peak.position</th>\n",
       "      <th>Weeks.on.chart</th>\n",
       "      <th>Week</th>\n",
       "      <th>Date</th>\n",
       "      <th>Genre</th>\n",
       "      <th>Writing.Credits</th>\n",
       "      <th>Lyrics</th>\n",
       "      <th>Features</th>\n",
       "    </tr>\n",
       "  </thead>\n",
       "  <tbody>\n",
       "    <tr>\n",
       "      <th>59</th>\n",
       "      <td>59</td>\n",
       "      <td>0.000877</td>\n",
       "      <td>Dosage</td>\n",
       "      <td>Collective Soul</td>\n",
       "      <td>0.547</td>\n",
       "      <td>173267</td>\n",
       "      <td>0.902</td>\n",
       "      <td>False</td>\n",
       "      <td>0.000563</td>\n",
       "      <td>0.0839</td>\n",
       "      <td>...</td>\n",
       "      <td>97222.0</td>\n",
       "      <td>96.0</td>\n",
       "      <td>73.0</td>\n",
       "      <td>20.0</td>\n",
       "      <td>1999-07-12</td>\n",
       "      <td>NaN</td>\n",
       "      <td>Hockey,Gaming,Soundtrack,Rock</td>\n",
       "      <td>Collective soul</td>\n",
       "      <td>Heavy \\nComplicate this world you wrapped for ...</td>\n",
       "      <td>NaN</td>\n",
       "    </tr>\n",
       "    <tr>\n",
       "      <th>185</th>\n",
       "      <td>33</td>\n",
       "      <td>0.587000</td>\n",
       "      <td>Live At Open Air Gampel (2004)</td>\n",
       "      <td>Everlast</td>\n",
       "      <td>0.316</td>\n",
       "      <td>396896</td>\n",
       "      <td>0.634</td>\n",
       "      <td>False</td>\n",
       "      <td>0.000019</td>\n",
       "      <td>0.9070</td>\n",
       "      <td>...</td>\n",
       "      <td>96997.0</td>\n",
       "      <td>47.0</td>\n",
       "      <td>13.0</td>\n",
       "      <td>33.0</td>\n",
       "      <td>1999-07-26</td>\n",
       "      <td>NaN</td>\n",
       "      <td>Rap,Rock</td>\n",
       "      <td>Everlast</td>\n",
       "      <td>What It's Like \\nWe've all seen the man at the...</td>\n",
       "      <td>NaN</td>\n",
       "    </tr>\n",
       "  </tbody>\n",
       "</table>\n",
       "<p>2 rows × 28 columns</p>\n",
       "</div>"
      ],
      "text/plain": [
       "     Unnamed: 0_x  Acousticness                           Album  \\\n",
       "59             59      0.000877                          Dosage   \n",
       "185            33      0.587000  Live At Open Air Gampel (2004)   \n",
       "\n",
       "             Artists  Danceability  Duration  Energy  Explicit  \\\n",
       "59   Collective Soul         0.547    173267   0.902     False   \n",
       "185         Everlast         0.316    396896   0.634     False   \n",
       "\n",
       "     Instrumentalness  Liveness  ...  Unnamed: 0_y  Weekly.rank Peak.position  \\\n",
       "59           0.000563    0.0839  ...       97222.0         96.0          73.0   \n",
       "185          0.000019    0.9070  ...       96997.0         47.0          13.0   \n",
       "\n",
       "     Weeks.on.chart        Week  Date                          Genre  \\\n",
       "59             20.0  1999-07-12   NaN  Hockey,Gaming,Soundtrack,Rock   \n",
       "185            33.0  1999-07-26   NaN                       Rap,Rock   \n",
       "\n",
       "     Writing.Credits                                             Lyrics  \\\n",
       "59   Collective soul  Heavy \\nComplicate this world you wrapped for ...   \n",
       "185         Everlast  What It's Like \\nWe've all seen the man at the...   \n",
       "\n",
       "     Features  \n",
       "59        NaN  \n",
       "185       NaN  \n",
       "\n",
       "[2 rows x 28 columns]"
      ]
     },
     "execution_count": 20,
     "metadata": {},
     "output_type": "execute_result"
    }
   ],
   "source": [
    "sa.head(2)"
   ]
  },
  {
   "cell_type": "markdown",
   "metadata": {},
   "source": [
    "A su vez una tabla con los valores independientes"
   ]
  },
  {
   "cell_type": "code",
   "execution_count": 21,
   "metadata": {},
   "outputs": [
    {
     "name": "stdout",
     "output_type": "stream",
     "text": [
      "(154931, 18)\n"
     ]
    },
    {
     "data": {
      "text/html": [
       "<div>\n",
       "<style scoped>\n",
       "    .dataframe tbody tr th:only-of-type {\n",
       "        vertical-align: middle;\n",
       "    }\n",
       "\n",
       "    .dataframe tbody tr th {\n",
       "        vertical-align: top;\n",
       "    }\n",
       "\n",
       "    .dataframe thead th {\n",
       "        text-align: right;\n",
       "    }\n",
       "</style>\n",
       "<table border=\"1\" class=\"dataframe\">\n",
       "  <thead>\n",
       "    <tr style=\"text-align: right;\">\n",
       "      <th></th>\n",
       "      <th>Unnamed: 0</th>\n",
       "      <th>Acousticness</th>\n",
       "      <th>Album</th>\n",
       "      <th>Artist</th>\n",
       "      <th>Danceability</th>\n",
       "      <th>Duration</th>\n",
       "      <th>Energy</th>\n",
       "      <th>Explicit</th>\n",
       "      <th>Instrumentalness</th>\n",
       "      <th>Liveness</th>\n",
       "      <th>Loudness</th>\n",
       "      <th>Mode</th>\n",
       "      <th>Name</th>\n",
       "      <th>Popularity</th>\n",
       "      <th>Speechiness</th>\n",
       "      <th>Tempo</th>\n",
       "      <th>TimeSignature</th>\n",
       "      <th>Valence</th>\n",
       "    </tr>\n",
       "  </thead>\n",
       "  <tbody>\n",
       "    <tr>\n",
       "      <th>0</th>\n",
       "      <td>0</td>\n",
       "      <td>0.000728</td>\n",
       "      <td>Collective Soul (Deluxe Version)</td>\n",
       "      <td>Collective Soul</td>\n",
       "      <td>0.520</td>\n",
       "      <td>234947</td>\n",
       "      <td>0.904</td>\n",
       "      <td>False</td>\n",
       "      <td>0.010300</td>\n",
       "      <td>0.0634</td>\n",
       "      <td>-5.030</td>\n",
       "      <td>1</td>\n",
       "      <td>Welcome All Again</td>\n",
       "      <td>35</td>\n",
       "      <td>0.0309</td>\n",
       "      <td>106.022</td>\n",
       "      <td>4</td>\n",
       "      <td>0.365</td>\n",
       "    </tr>\n",
       "    <tr>\n",
       "      <th>1</th>\n",
       "      <td>1</td>\n",
       "      <td>0.018200</td>\n",
       "      <td>Collective Soul (Deluxe Version)</td>\n",
       "      <td>Collective Soul</td>\n",
       "      <td>0.581</td>\n",
       "      <td>239573</td>\n",
       "      <td>0.709</td>\n",
       "      <td>False</td>\n",
       "      <td>0.000664</td>\n",
       "      <td>0.1740</td>\n",
       "      <td>-4.909</td>\n",
       "      <td>1</td>\n",
       "      <td>Fuzzy</td>\n",
       "      <td>31</td>\n",
       "      <td>0.0282</td>\n",
       "      <td>120.027</td>\n",
       "      <td>4</td>\n",
       "      <td>0.408</td>\n",
       "    </tr>\n",
       "  </tbody>\n",
       "</table>\n",
       "</div>"
      ],
      "text/plain": [
       "   Unnamed: 0  Acousticness                             Album  \\\n",
       "0           0      0.000728  Collective Soul (Deluxe Version)   \n",
       "1           1      0.018200  Collective Soul (Deluxe Version)   \n",
       "\n",
       "            Artist  Danceability  Duration  Energy  Explicit  \\\n",
       "0  Collective Soul         0.520    234947   0.904     False   \n",
       "1  Collective Soul         0.581    239573   0.709     False   \n",
       "\n",
       "   Instrumentalness  Liveness  Loudness  Mode               Name  Popularity  \\\n",
       "0          0.010300    0.0634    -5.030     1  Welcome All Again          35   \n",
       "1          0.000664    0.1740    -4.909     1              Fuzzy          31   \n",
       "\n",
       "   Speechiness    Tempo  TimeSignature  Valence  \n",
       "0       0.0309  106.022              4    0.365  \n",
       "1       0.0282  120.027              4    0.408  "
      ]
     },
     "execution_count": 21,
     "metadata": {},
     "output_type": "execute_result"
    }
   ],
   "source": [
    "print(songAttributes.shape) #dimensión de la tabla song attributes.\n",
    "songAttributes.head(2)"
   ]
  },
  {
   "cell_type": "code",
   "execution_count": 22,
   "metadata": {
    "scrolled": true
   },
   "outputs": [
    {
     "data": {
      "image/png": "[encoded data removed]",
      "text/plain": [
       "<Figure size 576x288 with 1 Axes>"
      ]
     },
     "metadata": {
      "needs_background": "light"
     },
     "output_type": "display_data"
    }
   ],
   "source": [
    "explicit = songAttributes.Explicit.value_counts(normalize=True)\n",
    "df2 = pd.DataFrame([\n",
    "                    [\"False\",explicit[0]],\n",
    "                    [\"True\",explicit[1]]\n",
    "                    ],\n",
    "                    columns=[\"State\",\"Frecuency\"])\n",
    "\n",
    "ax  = df2.plot.barh(x = \"State\", y = \"Frecuency\", xticks = [k/10 for k in list(range(11))], figsize = (8,4))\n",
    "ax.set(xlabel = \"Frecuencia\", ylabel = \"Estado\", title = \"Frecuencia de Canciones Explícitas Canciones Populares de Spotify\")\n",
    "ax.grid(linestyle='-', linewidth=0.4)\n",
    "plt.show()"
   ]
  },
  {
   "cell_type": "markdown",
   "metadata": {
    "id": "tnPOOOvV-6zK"
   },
   "source": [
    "# Preguntas y problemas"
   ]
  },
  {
   "cell_type": "markdown",
   "metadata": {},
   "source": [
    "Preguntas y problemas\n",
    " Despues de haber analizando y planteado las tablas con sus respectivos datos sabemos que todas las tablas poseen una medida de popularidad, alcance o ventas, que miden la influencia de la canción artista y/o album, al mismo tiempo se puede ver que estos rankings son distintos ya que spotify tiene una base de datos distinta a las demas tablas (Billboard's, Grammy's) Por lo cual podemos manejarnos entre las tablas midiendo la popularidad con las siguientes preguntas:\n",
    " \n",
    "- ¿Que atributo hace que ciertos géneros musicales se mantengan mas tiempo con popularidad?\n",
    "\n",
    "Hay Géneros que se mantienen atemporales y siempre figuran en los charts en el transcurso de los 20 años que se registran como es el caso del POP que es el que aparece más veces en la base de datos.\n",
    "\n",
    "- ¿Qué genero musical llegará al top 1 del Billboard la semana del 13 de Julio del 2019?\n",
    "\n",
    "El objetivo es estudiar basado en los top anteriores ver si hay algún patrón que permita predecir el género musical de la próxima canción en llegar al primer puesto.\n",
    "\n",
    "- ¿Qué conjunto de atributos extraídos de las canciones, representa de mejor manera las diferencias entre géneros? \n",
    "\n",
    "El objetivo de esta pregunta es ver como las canciones pertenecientes a ciertos géneros se diferencian de otras de otros géneros musicales."
   ]
  },
  {
   "cell_type": "markdown",
   "metadata": {},
   "source": [
    "# Metodologías Preguntas"
   ]
  },
  {
   "cell_type": "markdown",
   "metadata": {},
   "source": [
    "# Pregunta 1"
   ]
  },
  {
   "cell_type": "markdown",
   "metadata": {},
   "source": [
    ">Planteamos la pregunta de modo que se puedan agrupar distintas características de los géneros mediante varios \"joins\" de las tablas de los billboardhot100, songatributes y artistDF para tener una mayor variedad posible para analizar der forma más efectiva los dataframes, para así poder encontrar patrones que poseen los géneros con mayor cantidad de apariciones en el chart del billboard y los patrones que poseen los géneros que no perduran en este último, luego se procedera con un data cleaning para solo tener datos comparables y ademas para separar las distintas canciones según su género(que es el enfoque de esta pregunta), mediante distintos tipos de clustering, es decir, se usarán distintos métodos como k-means, los dendogramas,DSBCAN . Si no se obtienen cluster's puros se procederá con subconjuntos de atributos para así encontrar donde más se manifiestan los géneros musicales para así comparar los resultados y ver cual entrega información más valiosa para éste analisis.\n"
   ]
  },
  {
   "cell_type": "markdown",
   "metadata": {},
   "source": [
    "Se crea tabla con las canciones con una cantidad mayor o igual de 10 semanas en el Billboard que como equipo se considera como éxito y se dropean los elementos no númericos y se vectorizan los géneros musicales contenidos en cada fila:"
   ]
  },
  {
   "cell_type": "code",
   "execution_count": 23,
   "metadata": {
    "scrolled": false
   },
   "outputs": [
    {
     "name": "stderr",
     "output_type": "stream",
     "text": [
      "C:\\Users\\areis\\AppData\\Local\\Temp\\ipykernel_9916\\1847939867.py:3: FutureWarning: Using the level keyword in DataFrame and Series aggregations is deprecated and will be removed in a future version. Use groupby instead. df.sum(level=1) should use df.groupby(level=1).sum().\n",
      "  vect_genres = JTA_table.Genre.str.split(',', expand = True).stack().str.get_dummies().sum(level=0)\n"
     ]
    }
   ],
   "source": [
    "JTA_table_check = sa \n",
    "JTA_table = JTA_table_check.drop(columns= [\"Unnamed: 0_x\",'Unnamed: 0_y',\"Album\", 'Lyrics', 'Writing.Credits', 'Features', 'Date', 'Week','Peak.position'])\n",
    "vect_genres = JTA_table.Genre.str.split(',', expand = True).stack().str.get_dummies().sum(level=0)\n",
    "JTA_table['Weeks.on.chart'] = JTA_table['Weeks.on.chart'].fillna(0)"
   ]
  },
  {
   "cell_type": "code",
   "execution_count": 24,
   "metadata": {},
   "outputs": [
    {
     "data": {
      "text/html": [
       "<div>\n",
       "<style scoped>\n",
       "    .dataframe tbody tr th:only-of-type {\n",
       "        vertical-align: middle;\n",
       "    }\n",
       "\n",
       "    .dataframe tbody tr th {\n",
       "        vertical-align: top;\n",
       "    }\n",
       "\n",
       "    .dataframe thead th {\n",
       "        text-align: right;\n",
       "    }\n",
       "</style>\n",
       "<table border=\"1\" class=\"dataframe\">\n",
       "  <thead>\n",
       "    <tr style=\"text-align: right;\">\n",
       "      <th></th>\n",
       "      <th>Acousticness</th>\n",
       "      <th>Artists</th>\n",
       "      <th>Danceability</th>\n",
       "      <th>Duration</th>\n",
       "      <th>Energy</th>\n",
       "      <th>Explicit</th>\n",
       "      <th>Instrumentalness</th>\n",
       "      <th>Liveness</th>\n",
       "      <th>Loudness</th>\n",
       "      <th>Mode</th>\n",
       "      <th>Name</th>\n",
       "      <th>Popularity</th>\n",
       "      <th>Speechiness</th>\n",
       "      <th>Tempo</th>\n",
       "      <th>TimeSignature</th>\n",
       "      <th>Valence</th>\n",
       "      <th>Weekly.rank</th>\n",
       "      <th>Weeks.on.chart</th>\n",
       "      <th>Genre</th>\n",
       "    </tr>\n",
       "  </thead>\n",
       "  <tbody>\n",
       "    <tr>\n",
       "      <th>59</th>\n",
       "      <td>0.000877</td>\n",
       "      <td>Collective Soul</td>\n",
       "      <td>0.547</td>\n",
       "      <td>173267</td>\n",
       "      <td>0.902</td>\n",
       "      <td>False</td>\n",
       "      <td>0.000563</td>\n",
       "      <td>0.0839</td>\n",
       "      <td>-5.560</td>\n",
       "      <td>1</td>\n",
       "      <td>Heavy</td>\n",
       "      <td>50</td>\n",
       "      <td>0.0371</td>\n",
       "      <td>106.923</td>\n",
       "      <td>4</td>\n",
       "      <td>0.548</td>\n",
       "      <td>96.0</td>\n",
       "      <td>20.0</td>\n",
       "      <td>Hockey,Gaming,Soundtrack,Rock</td>\n",
       "    </tr>\n",
       "    <tr>\n",
       "      <th>185</th>\n",
       "      <td>0.587000</td>\n",
       "      <td>Everlast</td>\n",
       "      <td>0.316</td>\n",
       "      <td>396896</td>\n",
       "      <td>0.634</td>\n",
       "      <td>False</td>\n",
       "      <td>0.000019</td>\n",
       "      <td>0.9070</td>\n",
       "      <td>-11.822</td>\n",
       "      <td>1</td>\n",
       "      <td>What It's Like</td>\n",
       "      <td>21</td>\n",
       "      <td>0.0624</td>\n",
       "      <td>176.628</td>\n",
       "      <td>4</td>\n",
       "      <td>0.500</td>\n",
       "      <td>47.0</td>\n",
       "      <td>33.0</td>\n",
       "      <td>Rap,Rock</td>\n",
       "    </tr>\n",
       "    <tr>\n",
       "      <th>328</th>\n",
       "      <td>0.028100</td>\n",
       "      <td>Lila McCann</td>\n",
       "      <td>0.644</td>\n",
       "      <td>212360</td>\n",
       "      <td>0.785</td>\n",
       "      <td>False</td>\n",
       "      <td>0.000001</td>\n",
       "      <td>0.0996</td>\n",
       "      <td>-6.118</td>\n",
       "      <td>1</td>\n",
       "      <td>With You</td>\n",
       "      <td>29</td>\n",
       "      <td>0.0294</td>\n",
       "      <td>127.900</td>\n",
       "      <td>4</td>\n",
       "      <td>0.628</td>\n",
       "      <td>92.0</td>\n",
       "      <td>19.0</td>\n",
       "      <td>Pop</td>\n",
       "    </tr>\n",
       "    <tr>\n",
       "      <th>356</th>\n",
       "      <td>0.055200</td>\n",
       "      <td>Jordan Knight</td>\n",
       "      <td>0.830</td>\n",
       "      <td>289760</td>\n",
       "      <td>0.655</td>\n",
       "      <td>False</td>\n",
       "      <td>0.000001</td>\n",
       "      <td>0.0567</td>\n",
       "      <td>-7.072</td>\n",
       "      <td>1</td>\n",
       "      <td>Give It To You</td>\n",
       "      <td>43</td>\n",
       "      <td>0.0544</td>\n",
       "      <td>134.869</td>\n",
       "      <td>4</td>\n",
       "      <td>0.653</td>\n",
       "      <td>91.0</td>\n",
       "      <td>20.0</td>\n",
       "      <td>Pop</td>\n",
       "    </tr>\n",
       "    <tr>\n",
       "      <th>842</th>\n",
       "      <td>0.046400</td>\n",
       "      <td>Terry Dexter</td>\n",
       "      <td>0.546</td>\n",
       "      <td>242347</td>\n",
       "      <td>0.618</td>\n",
       "      <td>False</td>\n",
       "      <td>0.000000</td>\n",
       "      <td>0.0298</td>\n",
       "      <td>-7.741</td>\n",
       "      <td>0</td>\n",
       "      <td>Better Than Me</td>\n",
       "      <td>9</td>\n",
       "      <td>0.2260</td>\n",
       "      <td>143.269</td>\n",
       "      <td>3</td>\n",
       "      <td>0.641</td>\n",
       "      <td>99.0</td>\n",
       "      <td>0.0</td>\n",
       "      <td>Pop</td>\n",
       "    </tr>\n",
       "  </tbody>\n",
       "</table>\n",
       "</div>"
      ],
      "text/plain": [
       "     Acousticness          Artists  Danceability  Duration  Energy  Explicit  \\\n",
       "59       0.000877  Collective Soul         0.547    173267   0.902     False   \n",
       "185      0.587000         Everlast         0.316    396896   0.634     False   \n",
       "328      0.028100      Lila McCann         0.644    212360   0.785     False   \n",
       "356      0.055200    Jordan Knight         0.830    289760   0.655     False   \n",
       "842      0.046400     Terry Dexter         0.546    242347   0.618     False   \n",
       "\n",
       "     Instrumentalness  Liveness  Loudness  Mode            Name  Popularity  \\\n",
       "59           0.000563    0.0839    -5.560     1           Heavy          50   \n",
       "185          0.000019    0.9070   -11.822     1  What It's Like          21   \n",
       "328          0.000001    0.0996    -6.118     1        With You          29   \n",
       "356          0.000001    0.0567    -7.072     1  Give It To You          43   \n",
       "842          0.000000    0.0298    -7.741     0  Better Than Me           9   \n",
       "\n",
       "     Speechiness    Tempo  TimeSignature  Valence  Weekly.rank  \\\n",
       "59        0.0371  106.923              4    0.548         96.0   \n",
       "185       0.0624  176.628              4    0.500         47.0   \n",
       "328       0.0294  127.900              4    0.628         92.0   \n",
       "356       0.0544  134.869              4    0.653         91.0   \n",
       "842       0.2260  143.269              3    0.641         99.0   \n",
       "\n",
       "     Weeks.on.chart                          Genre  \n",
       "59             20.0  Hockey,Gaming,Soundtrack,Rock  \n",
       "185            33.0                       Rap,Rock  \n",
       "328            19.0                            Pop  \n",
       "356            20.0                            Pop  \n",
       "842             0.0                            Pop  "
      ]
     },
     "execution_count": 24,
     "metadata": {},
     "output_type": "execute_result"
    }
   ],
   "source": [
    "JTA_table.head()"
   ]
  },
  {
   "cell_type": "code",
   "execution_count": 25,
   "metadata": {},
   "outputs": [
    {
     "data": {
      "text/html": [
       "<div>\n",
       "<style scoped>\n",
       "    .dataframe tbody tr th:only-of-type {\n",
       "        vertical-align: middle;\n",
       "    }\n",
       "\n",
       "    .dataframe tbody tr th {\n",
       "        vertical-align: top;\n",
       "    }\n",
       "\n",
       "    .dataframe thead th {\n",
       "        text-align: right;\n",
       "    }\n",
       "</style>\n",
       "<table border=\"1\" class=\"dataframe\">\n",
       "  <thead>\n",
       "    <tr style=\"text-align: right;\">\n",
       "      <th></th>\n",
       "      <th>Acoustic</th>\n",
       "      <th>Adult Alternative</th>\n",
       "      <th>Adult Contemporary</th>\n",
       "      <th>Afrobeats</th>\n",
       "      <th>Alternative</th>\n",
       "      <th>Alternative Country</th>\n",
       "      <th>Alternative Dance</th>\n",
       "      <th>Alternative Metal</th>\n",
       "      <th>Alternative Pop</th>\n",
       "      <th>Alternative R&amp;;B</th>\n",
       "      <th>...</th>\n",
       "      <th>Trance</th>\n",
       "      <th>Trap</th>\n",
       "      <th>Trip-Hop</th>\n",
       "      <th>Tropical House</th>\n",
       "      <th>UK</th>\n",
       "      <th>UK Rap</th>\n",
       "      <th>Underground Hip-Hop</th>\n",
       "      <th>West Coast</th>\n",
       "      <th>Worship</th>\n",
       "      <th>\\xd0\\xa0\\xd0\\xbe\\xd1\\x81\\xd1\\x81\\xd0\\xb8\\xd1\\x8f (Russia)</th>\n",
       "    </tr>\n",
       "  </thead>\n",
       "  <tbody>\n",
       "    <tr>\n",
       "      <th>59</th>\n",
       "      <td>0</td>\n",
       "      <td>0</td>\n",
       "      <td>0</td>\n",
       "      <td>0</td>\n",
       "      <td>0</td>\n",
       "      <td>0</td>\n",
       "      <td>0</td>\n",
       "      <td>0</td>\n",
       "      <td>0</td>\n",
       "      <td>0</td>\n",
       "      <td>...</td>\n",
       "      <td>0</td>\n",
       "      <td>0</td>\n",
       "      <td>0</td>\n",
       "      <td>0</td>\n",
       "      <td>0</td>\n",
       "      <td>0</td>\n",
       "      <td>0</td>\n",
       "      <td>0</td>\n",
       "      <td>0</td>\n",
       "      <td>0</td>\n",
       "    </tr>\n",
       "    <tr>\n",
       "      <th>185</th>\n",
       "      <td>0</td>\n",
       "      <td>0</td>\n",
       "      <td>0</td>\n",
       "      <td>0</td>\n",
       "      <td>0</td>\n",
       "      <td>0</td>\n",
       "      <td>0</td>\n",
       "      <td>0</td>\n",
       "      <td>0</td>\n",
       "      <td>0</td>\n",
       "      <td>...</td>\n",
       "      <td>0</td>\n",
       "      <td>0</td>\n",
       "      <td>0</td>\n",
       "      <td>0</td>\n",
       "      <td>0</td>\n",
       "      <td>0</td>\n",
       "      <td>0</td>\n",
       "      <td>0</td>\n",
       "      <td>0</td>\n",
       "      <td>0</td>\n",
       "    </tr>\n",
       "    <tr>\n",
       "      <th>328</th>\n",
       "      <td>0</td>\n",
       "      <td>0</td>\n",
       "      <td>0</td>\n",
       "      <td>0</td>\n",
       "      <td>0</td>\n",
       "      <td>0</td>\n",
       "      <td>0</td>\n",
       "      <td>0</td>\n",
       "      <td>0</td>\n",
       "      <td>0</td>\n",
       "      <td>...</td>\n",
       "      <td>0</td>\n",
       "      <td>0</td>\n",
       "      <td>0</td>\n",
       "      <td>0</td>\n",
       "      <td>0</td>\n",
       "      <td>0</td>\n",
       "      <td>0</td>\n",
       "      <td>0</td>\n",
       "      <td>0</td>\n",
       "      <td>0</td>\n",
       "    </tr>\n",
       "    <tr>\n",
       "      <th>356</th>\n",
       "      <td>0</td>\n",
       "      <td>0</td>\n",
       "      <td>0</td>\n",
       "      <td>0</td>\n",
       "      <td>0</td>\n",
       "      <td>0</td>\n",
       "      <td>0</td>\n",
       "      <td>0</td>\n",
       "      <td>0</td>\n",
       "      <td>0</td>\n",
       "      <td>...</td>\n",
       "      <td>0</td>\n",
       "      <td>0</td>\n",
       "      <td>0</td>\n",
       "      <td>0</td>\n",
       "      <td>0</td>\n",
       "      <td>0</td>\n",
       "      <td>0</td>\n",
       "      <td>0</td>\n",
       "      <td>0</td>\n",
       "      <td>0</td>\n",
       "    </tr>\n",
       "    <tr>\n",
       "      <th>842</th>\n",
       "      <td>0</td>\n",
       "      <td>0</td>\n",
       "      <td>0</td>\n",
       "      <td>0</td>\n",
       "      <td>0</td>\n",
       "      <td>0</td>\n",
       "      <td>0</td>\n",
       "      <td>0</td>\n",
       "      <td>0</td>\n",
       "      <td>0</td>\n",
       "      <td>...</td>\n",
       "      <td>0</td>\n",
       "      <td>0</td>\n",
       "      <td>0</td>\n",
       "      <td>0</td>\n",
       "      <td>0</td>\n",
       "      <td>0</td>\n",
       "      <td>0</td>\n",
       "      <td>0</td>\n",
       "      <td>0</td>\n",
       "      <td>0</td>\n",
       "    </tr>\n",
       "  </tbody>\n",
       "</table>\n",
       "<p>5 rows × 230 columns</p>\n",
       "</div>"
      ],
      "text/plain": [
       "     Acoustic  Adult Alternative  Adult Contemporary  Afrobeats  Alternative  \\\n",
       "59          0                  0                   0          0            0   \n",
       "185         0                  0                   0          0            0   \n",
       "328         0                  0                   0          0            0   \n",
       "356         0                  0                   0          0            0   \n",
       "842         0                  0                   0          0            0   \n",
       "\n",
       "     Alternative Country  Alternative Dance  Alternative Metal  \\\n",
       "59                     0                  0                  0   \n",
       "185                    0                  0                  0   \n",
       "328                    0                  0                  0   \n",
       "356                    0                  0                  0   \n",
       "842                    0                  0                  0   \n",
       "\n",
       "     Alternative Pop  Alternative R&;B  ...  Trance  Trap  Trip-Hop  \\\n",
       "59                 0                 0  ...       0     0         0   \n",
       "185                0                 0  ...       0     0         0   \n",
       "328                0                 0  ...       0     0         0   \n",
       "356                0                 0  ...       0     0         0   \n",
       "842                0                 0  ...       0     0         0   \n",
       "\n",
       "     Tropical House  UK  UK Rap  Underground Hip-Hop  West Coast  Worship  \\\n",
       "59                0   0       0                    0           0        0   \n",
       "185               0   0       0                    0           0        0   \n",
       "328               0   0       0                    0           0        0   \n",
       "356               0   0       0                    0           0        0   \n",
       "842               0   0       0                    0           0        0   \n",
       "\n",
       "     \\xd0\\xa0\\xd0\\xbe\\xd1\\x81\\xd1\\x81\\xd0\\xb8\\xd1\\x8f (Russia)  \n",
       "59                                                   0          \n",
       "185                                                  0          \n",
       "328                                                  0          \n",
       "356                                                  0          \n",
       "842                                                  0          \n",
       "\n",
       "[5 rows x 230 columns]"
      ]
     },
     "execution_count": 25,
     "metadata": {},
     "output_type": "execute_result"
    }
   ],
   "source": [
    "vect_genres.head()"
   ]
  },
  {
   "cell_type": "code",
   "execution_count": 26,
   "metadata": {},
   "outputs": [
    {
     "data": {
      "text/html": [
       "<div>\n",
       "<style scoped>\n",
       "    .dataframe tbody tr th:only-of-type {\n",
       "        vertical-align: middle;\n",
       "    }\n",
       "\n",
       "    .dataframe tbody tr th {\n",
       "        vertical-align: top;\n",
       "    }\n",
       "\n",
       "    .dataframe thead th {\n",
       "        text-align: right;\n",
       "    }\n",
       "</style>\n",
       "<table border=\"1\" class=\"dataframe\">\n",
       "  <thead>\n",
       "    <tr style=\"text-align: right;\">\n",
       "      <th></th>\n",
       "      <th>Acousticness</th>\n",
       "      <th>Danceability</th>\n",
       "      <th>Duration</th>\n",
       "      <th>Energy</th>\n",
       "      <th>Explicit</th>\n",
       "      <th>Instrumentalness</th>\n",
       "      <th>Liveness</th>\n",
       "      <th>Loudness</th>\n",
       "      <th>Mode</th>\n",
       "      <th>Popularity</th>\n",
       "      <th>...</th>\n",
       "      <th>Trip-Hop</th>\n",
       "      <th>Tropical House</th>\n",
       "      <th>UK</th>\n",
       "      <th>UK Rap</th>\n",
       "      <th>Underground Hip-Hop</th>\n",
       "      <th>West Coast</th>\n",
       "      <th>Worship</th>\n",
       "      <th>\\xd0\\xa0\\xd0\\xbe\\xd1\\x81\\xd1\\x81\\xd0\\xb8\\xd1\\x8f (Russia)</th>\n",
       "      <th>Followers</th>\n",
       "      <th>NumAlbums</th>\n",
       "    </tr>\n",
       "  </thead>\n",
       "  <tbody>\n",
       "    <tr>\n",
       "      <th>0</th>\n",
       "      <td>0.000877</td>\n",
       "      <td>0.547</td>\n",
       "      <td>173267</td>\n",
       "      <td>0.902</td>\n",
       "      <td>0</td>\n",
       "      <td>0.000563</td>\n",
       "      <td>0.0839</td>\n",
       "      <td>-5.560</td>\n",
       "      <td>1</td>\n",
       "      <td>50</td>\n",
       "      <td>...</td>\n",
       "      <td>0</td>\n",
       "      <td>0</td>\n",
       "      <td>0</td>\n",
       "      <td>0</td>\n",
       "      <td>0</td>\n",
       "      <td>0</td>\n",
       "      <td>0</td>\n",
       "      <td>0</td>\n",
       "      <td>525701.0</td>\n",
       "      <td>12.0</td>\n",
       "    </tr>\n",
       "    <tr>\n",
       "      <th>1</th>\n",
       "      <td>0.587000</td>\n",
       "      <td>0.316</td>\n",
       "      <td>396896</td>\n",
       "      <td>0.634</td>\n",
       "      <td>0</td>\n",
       "      <td>0.000019</td>\n",
       "      <td>0.9070</td>\n",
       "      <td>-11.822</td>\n",
       "      <td>1</td>\n",
       "      <td>21</td>\n",
       "      <td>...</td>\n",
       "      <td>0</td>\n",
       "      <td>0</td>\n",
       "      <td>0</td>\n",
       "      <td>0</td>\n",
       "      <td>0</td>\n",
       "      <td>0</td>\n",
       "      <td>0</td>\n",
       "      <td>0</td>\n",
       "      <td>200550.0</td>\n",
       "      <td>11.0</td>\n",
       "    </tr>\n",
       "    <tr>\n",
       "      <th>2</th>\n",
       "      <td>0.028100</td>\n",
       "      <td>0.644</td>\n",
       "      <td>212360</td>\n",
       "      <td>0.785</td>\n",
       "      <td>0</td>\n",
       "      <td>0.000001</td>\n",
       "      <td>0.0996</td>\n",
       "      <td>-6.118</td>\n",
       "      <td>1</td>\n",
       "      <td>29</td>\n",
       "      <td>...</td>\n",
       "      <td>0</td>\n",
       "      <td>0</td>\n",
       "      <td>0</td>\n",
       "      <td>0</td>\n",
       "      <td>0</td>\n",
       "      <td>0</td>\n",
       "      <td>0</td>\n",
       "      <td>0</td>\n",
       "      <td>42444.0</td>\n",
       "      <td>4.0</td>\n",
       "    </tr>\n",
       "    <tr>\n",
       "      <th>3</th>\n",
       "      <td>0.055200</td>\n",
       "      <td>0.830</td>\n",
       "      <td>289760</td>\n",
       "      <td>0.655</td>\n",
       "      <td>0</td>\n",
       "      <td>0.000001</td>\n",
       "      <td>0.0567</td>\n",
       "      <td>-7.072</td>\n",
       "      <td>1</td>\n",
       "      <td>43</td>\n",
       "      <td>...</td>\n",
       "      <td>0</td>\n",
       "      <td>0</td>\n",
       "      <td>0</td>\n",
       "      <td>0</td>\n",
       "      <td>0</td>\n",
       "      <td>0</td>\n",
       "      <td>0</td>\n",
       "      <td>0</td>\n",
       "      <td>47229.0</td>\n",
       "      <td>4.0</td>\n",
       "    </tr>\n",
       "    <tr>\n",
       "      <th>4</th>\n",
       "      <td>0.046400</td>\n",
       "      <td>0.546</td>\n",
       "      <td>242347</td>\n",
       "      <td>0.618</td>\n",
       "      <td>0</td>\n",
       "      <td>0.000000</td>\n",
       "      <td>0.0298</td>\n",
       "      <td>-7.741</td>\n",
       "      <td>0</td>\n",
       "      <td>9</td>\n",
       "      <td>...</td>\n",
       "      <td>0</td>\n",
       "      <td>0</td>\n",
       "      <td>0</td>\n",
       "      <td>0</td>\n",
       "      <td>0</td>\n",
       "      <td>0</td>\n",
       "      <td>0</td>\n",
       "      <td>0</td>\n",
       "      <td>790.0</td>\n",
       "      <td>3.0</td>\n",
       "    </tr>\n",
       "    <tr>\n",
       "      <th>...</th>\n",
       "      <td>...</td>\n",
       "      <td>...</td>\n",
       "      <td>...</td>\n",
       "      <td>...</td>\n",
       "      <td>...</td>\n",
       "      <td>...</td>\n",
       "      <td>...</td>\n",
       "      <td>...</td>\n",
       "      <td>...</td>\n",
       "      <td>...</td>\n",
       "      <td>...</td>\n",
       "      <td>...</td>\n",
       "      <td>...</td>\n",
       "      <td>...</td>\n",
       "      <td>...</td>\n",
       "      <td>...</td>\n",
       "      <td>...</td>\n",
       "      <td>...</td>\n",
       "      <td>...</td>\n",
       "      <td>...</td>\n",
       "      <td>...</td>\n",
       "    </tr>\n",
       "    <tr>\n",
       "      <th>3192</th>\n",
       "      <td>0.251000</td>\n",
       "      <td>0.838</td>\n",
       "      <td>237333</td>\n",
       "      <td>0.492</td>\n",
       "      <td>0</td>\n",
       "      <td>0.000000</td>\n",
       "      <td>0.2620</td>\n",
       "      <td>-5.690</td>\n",
       "      <td>0</td>\n",
       "      <td>73</td>\n",
       "      <td>...</td>\n",
       "      <td>0</td>\n",
       "      <td>0</td>\n",
       "      <td>1</td>\n",
       "      <td>0</td>\n",
       "      <td>0</td>\n",
       "      <td>0</td>\n",
       "      <td>0</td>\n",
       "      <td>0</td>\n",
       "      <td>52698756.0</td>\n",
       "      <td>8.0</td>\n",
       "    </tr>\n",
       "    <tr>\n",
       "      <th>3193</th>\n",
       "      <td>0.914000</td>\n",
       "      <td>0.589</td>\n",
       "      <td>221107</td>\n",
       "      <td>0.242</td>\n",
       "      <td>0</td>\n",
       "      <td>0.000000</td>\n",
       "      <td>0.0887</td>\n",
       "      <td>-10.517</td>\n",
       "      <td>1</td>\n",
       "      <td>80</td>\n",
       "      <td>...</td>\n",
       "      <td>0</td>\n",
       "      <td>0</td>\n",
       "      <td>1</td>\n",
       "      <td>0</td>\n",
       "      <td>0</td>\n",
       "      <td>0</td>\n",
       "      <td>0</td>\n",
       "      <td>0</td>\n",
       "      <td>52698756.0</td>\n",
       "      <td>8.0</td>\n",
       "    </tr>\n",
       "    <tr>\n",
       "      <th>3194</th>\n",
       "      <td>0.448000</td>\n",
       "      <td>0.747</td>\n",
       "      <td>191147</td>\n",
       "      <td>0.760</td>\n",
       "      <td>0</td>\n",
       "      <td>0.000000</td>\n",
       "      <td>0.1530</td>\n",
       "      <td>-4.294</td>\n",
       "      <td>1</td>\n",
       "      <td>72</td>\n",
       "      <td>...</td>\n",
       "      <td>0</td>\n",
       "      <td>0</td>\n",
       "      <td>1</td>\n",
       "      <td>0</td>\n",
       "      <td>0</td>\n",
       "      <td>0</td>\n",
       "      <td>0</td>\n",
       "      <td>0</td>\n",
       "      <td>52698756.0</td>\n",
       "      <td>8.0</td>\n",
       "    </tr>\n",
       "    <tr>\n",
       "      <th>3195</th>\n",
       "      <td>0.669000</td>\n",
       "      <td>0.642</td>\n",
       "      <td>258373</td>\n",
       "      <td>0.289</td>\n",
       "      <td>0</td>\n",
       "      <td>0.000000</td>\n",
       "      <td>0.1800</td>\n",
       "      <td>-9.918</td>\n",
       "      <td>1</td>\n",
       "      <td>27</td>\n",
       "      <td>...</td>\n",
       "      <td>0</td>\n",
       "      <td>0</td>\n",
       "      <td>1</td>\n",
       "      <td>0</td>\n",
       "      <td>0</td>\n",
       "      <td>0</td>\n",
       "      <td>0</td>\n",
       "      <td>0</td>\n",
       "      <td>52698756.0</td>\n",
       "      <td>8.0</td>\n",
       "    </tr>\n",
       "    <tr>\n",
       "      <th>3196</th>\n",
       "      <td>0.562000</td>\n",
       "      <td>0.592</td>\n",
       "      <td>185093</td>\n",
       "      <td>0.637</td>\n",
       "      <td>0</td>\n",
       "      <td>0.000000</td>\n",
       "      <td>0.1300</td>\n",
       "      <td>-8.480</td>\n",
       "      <td>1</td>\n",
       "      <td>22</td>\n",
       "      <td>...</td>\n",
       "      <td>0</td>\n",
       "      <td>0</td>\n",
       "      <td>1</td>\n",
       "      <td>0</td>\n",
       "      <td>0</td>\n",
       "      <td>0</td>\n",
       "      <td>0</td>\n",
       "      <td>0</td>\n",
       "      <td>52698756.0</td>\n",
       "      <td>8.0</td>\n",
       "    </tr>\n",
       "  </tbody>\n",
       "</table>\n",
       "<p>3175 rows × 248 columns</p>\n",
       "</div>"
      ],
      "text/plain": [
       "      Acousticness  Danceability  Duration  Energy  Explicit  \\\n",
       "0         0.000877         0.547    173267   0.902         0   \n",
       "1         0.587000         0.316    396896   0.634         0   \n",
       "2         0.028100         0.644    212360   0.785         0   \n",
       "3         0.055200         0.830    289760   0.655         0   \n",
       "4         0.046400         0.546    242347   0.618         0   \n",
       "...            ...           ...       ...     ...       ...   \n",
       "3192      0.251000         0.838    237333   0.492         0   \n",
       "3193      0.914000         0.589    221107   0.242         0   \n",
       "3194      0.448000         0.747    191147   0.760         0   \n",
       "3195      0.669000         0.642    258373   0.289         0   \n",
       "3196      0.562000         0.592    185093   0.637         0   \n",
       "\n",
       "      Instrumentalness  Liveness  Loudness  Mode  Popularity  ...  Trip-Hop  \\\n",
       "0             0.000563    0.0839    -5.560     1          50  ...         0   \n",
       "1             0.000019    0.9070   -11.822     1          21  ...         0   \n",
       "2             0.000001    0.0996    -6.118     1          29  ...         0   \n",
       "3             0.000001    0.0567    -7.072     1          43  ...         0   \n",
       "4             0.000000    0.0298    -7.741     0           9  ...         0   \n",
       "...                ...       ...       ...   ...         ...  ...       ...   \n",
       "3192          0.000000    0.2620    -5.690     0          73  ...         0   \n",
       "3193          0.000000    0.0887   -10.517     1          80  ...         0   \n",
       "3194          0.000000    0.1530    -4.294     1          72  ...         0   \n",
       "3195          0.000000    0.1800    -9.918     1          27  ...         0   \n",
       "3196          0.000000    0.1300    -8.480     1          22  ...         0   \n",
       "\n",
       "      Tropical House  UK  UK Rap  Underground Hip-Hop  West Coast  Worship  \\\n",
       "0                  0   0       0                    0           0        0   \n",
       "1                  0   0       0                    0           0        0   \n",
       "2                  0   0       0                    0           0        0   \n",
       "3                  0   0       0                    0           0        0   \n",
       "4                  0   0       0                    0           0        0   \n",
       "...              ...  ..     ...                  ...         ...      ...   \n",
       "3192               0   1       0                    0           0        0   \n",
       "3193               0   1       0                    0           0        0   \n",
       "3194               0   1       0                    0           0        0   \n",
       "3195               0   1       0                    0           0        0   \n",
       "3196               0   1       0                    0           0        0   \n",
       "\n",
       "      \\xd0\\xa0\\xd0\\xbe\\xd1\\x81\\xd1\\x81\\xd0\\xb8\\xd1\\x8f (Russia)   Followers  \\\n",
       "0                                                     0            525701.0   \n",
       "1                                                     0            200550.0   \n",
       "2                                                     0             42444.0   \n",
       "3                                                     0             47229.0   \n",
       "4                                                     0               790.0   \n",
       "...                                                 ...                 ...   \n",
       "3192                                                  0          52698756.0   \n",
       "3193                                                  0          52698756.0   \n",
       "3194                                                  0          52698756.0   \n",
       "3195                                                  0          52698756.0   \n",
       "3196                                                  0          52698756.0   \n",
       "\n",
       "      NumAlbums  \n",
       "0          12.0  \n",
       "1          11.0  \n",
       "2           4.0  \n",
       "3           4.0  \n",
       "4           3.0  \n",
       "...         ...  \n",
       "3192        8.0  \n",
       "3193        8.0  \n",
       "3194        8.0  \n",
       "3195        8.0  \n",
       "3196        8.0  \n",
       "\n",
       "[3175 rows x 248 columns]"
      ]
     },
     "execution_count": 26,
     "metadata": {},
     "output_type": "execute_result"
    }
   ],
   "source": [
    "Numeric_genres = JTA_table.join(vect_genres)\n",
    "ArtistDf=artistDf.rename(columns = {\"Artist\" : \"Artists\"})\n",
    "Numeric_genres = (\n",
    "    Numeric_genres.merge(ArtistDf, \n",
    "            on=['Artists'],\n",
    "            how='left', \n",
    "            indicator=True)\n",
    "    .query('_merge == \"both\"')\n",
    "    .drop(columns='_merge')\n",
    ")\n",
    "Numeric_genres_check = Numeric_genres\n",
    "#lineas de codigo para modificar parametros\n",
    "#Numeric_genres = Numeric_genres[Numeric_genres['Explicit'] ==0]\n",
    "Numeric_genres = Numeric_genres.drop(columns = ['Genre', 'Name', 'Artists','X','Genres','YearFirstAlbum','Gender','Group.Solo'])\n",
    "Numeric_genres['Explicit'] = Numeric_genres['Explicit'].astype(int)\n",
    "Numeric_genres"
   ]
  },
  {
   "cell_type": "code",
   "execution_count": 27,
   "metadata": {},
   "outputs": [
    {
     "ename": "NameError",
     "evalue": "name 'PCA' is not defined",
     "output_type": "error",
     "traceback": [
      "\u001b[1;31m---------------------------------------------------------------------------\u001b[0m",
      "\u001b[1;31mNameError\u001b[0m                                 Traceback (most recent call last)",
      "Input \u001b[1;32mIn [27]\u001b[0m, in \u001b[0;36m<cell line: 1>\u001b[1;34m()\u001b[0m\n\u001b[1;32m----> 1\u001b[0m pca1 \u001b[38;5;241m=\u001b[39m \u001b[43mPCA\u001b[49m(n_components\u001b[38;5;241m=\u001b[39m\u001b[38;5;241m2\u001b[39m)\u001b[38;5;241m.\u001b[39mfit(Numeric_genres)\n\u001b[0;32m      2\u001b[0m rates_pca1 \u001b[38;5;241m=\u001b[39m pca1\u001b[38;5;241m.\u001b[39mtransform(Numeric_genres)\n\u001b[0;32m      3\u001b[0m rates_pca1\u001b[38;5;241m.\u001b[39mshape\n",
      "\u001b[1;31mNameError\u001b[0m: name 'PCA' is not defined"
     ]
    }
   ],
   "source": [
    "\n",
    "pca1 = PCA(n_components=2).fit(Numeric_genres)\n",
    "rates_pca1 = pca1.transform(Numeric_genres)\n",
    "rates_pca1.shape\n",
    "\n",
    "fig, ax = plt.subplots(sharex=True, figsize = (10,5))\n",
    "plt.scatter(rates_pca1[:,0], rates_pca1[:,1])\n",
    "plt.title('Distribución PCA')\n",
    "plt.show()"
   ]
  },
  {
   "cell_type": "code",
   "execution_count": null,
   "metadata": {},
   "outputs": [],
   "source": [
    "SSE = []\n",
    "numClusters = list(range(1, 20))\n",
    "for k in numClusters:\n",
    "    k_means = KMeans(n_clusters=k, n_init=20, max_iter= 300, random_state=1)\n",
    "    k_means.fit(Numeric_genres)\n",
    "    SSE.append(k_means.inertia_)\n",
    "\n",
    "plt.plot(numClusters, SSE, marker=\"o\")\n",
    "plt.xlabel('Número de Clusters')\n",
    "plt.ylabel('SSE')\n",
    "plt.show()"
   ]
  },
  {
   "cell_type": "code",
   "execution_count": null,
   "metadata": {},
   "outputs": [],
   "source": [
    "kmeans =  KMeans(n_clusters=5, n_init = 20, max_iter= 300 , random_state=42)\n",
    "kmeans.fit(Numeric_genres)\n",
    "y_pred = kmeans.labels_\n",
    "np.bincount(y_pred)"
   ]
  },
  {
   "cell_type": "code",
   "execution_count": null,
   "metadata": {},
   "outputs": [],
   "source": [
    "fig, ax = plt.subplots(sharex=True, figsize = (12, 4))\n",
    "plt.scatter(rates_pca1[:, 0], rates_pca1[:, 1], c= kmeans.labels_)\n",
    "plt.title(\"k-means cluster's k = 5\")"
   ]
  },
  {
   "cell_type": "markdown",
   "metadata": {},
   "source": [
    "# Pregunta 2"
   ]
  },
  {
   "cell_type": "markdown",
   "metadata": {},
   "source": [
    ">El objetivo de la pregunta es entrenar un clasificador que permita encontrar patrones y predecir el comportamiento del billboard para así encontrar la canción top 1 de una semana, y de ésta manera predecir la semana siguiente a la última del dataset. Se puede probar con distintos algoritmos de clasificación y usar gridSearchCV para encontrar el mejor algoritmo y los mejores parámetros que permitan predecirla. También se puede utilizar cross validation para entrenar el clasificador con distintos subconjuntos y así iterar para obtener mejores resultados. Para no utilizar tantos géneros distintos y extraños, se considerarán los 20 géneros más populares en el Billboard y se seleccionará uno de éstos para cada canción. La tabla donde se realizará la predicción será una tabla que contendrá, por cada semana, los datos de todas las 100 canciones del billboard hot 100 de la semana anterior, y la clase de género de la canción top 1 de la semana."
   ]
  },
  {
   "cell_type": "markdown",
   "metadata": {},
   "source": [
    "Inicialmente se crea una tabla que contiene los géneros de todas las canciones del billboard acotados a una lista más corta, pero que los representa a todos. Ésto se hace porque hay en total más de 300 géneros y cada canción tiene de 1 a 10."
   ]
  },
  {
   "cell_type": "code",
   "execution_count": 28,
   "metadata": {},
   "outputs": [
    {
     "data": {
      "text/html": [
       "<div>\n",
       "<style scoped>\n",
       "    .dataframe tbody tr th:only-of-type {\n",
       "        vertical-align: middle;\n",
       "    }\n",
       "\n",
       "    .dataframe tbody tr th {\n",
       "        vertical-align: top;\n",
       "    }\n",
       "\n",
       "    .dataframe thead th {\n",
       "        text-align: right;\n",
       "    }\n",
       "</style>\n",
       "<table border=\"1\" class=\"dataframe\">\n",
       "  <thead>\n",
       "    <tr style=\"text-align: right;\">\n",
       "      <th></th>\n",
       "      <th>gen</th>\n",
       "    </tr>\n",
       "  </thead>\n",
       "  <tbody>\n",
       "    <tr>\n",
       "      <th>0</th>\n",
       "      <td>Country</td>\n",
       "    </tr>\n",
       "    <tr>\n",
       "      <th>1</th>\n",
       "      <td>Pop</td>\n",
       "    </tr>\n",
       "    <tr>\n",
       "      <th>2</th>\n",
       "      <td>Alternative</td>\n",
       "    </tr>\n",
       "    <tr>\n",
       "      <th>3</th>\n",
       "      <td>Pop</td>\n",
       "    </tr>\n",
       "    <tr>\n",
       "      <th>4</th>\n",
       "      <td>Pop</td>\n",
       "    </tr>\n",
       "    <tr>\n",
       "      <th>...</th>\n",
       "      <td>...</td>\n",
       "    </tr>\n",
       "    <tr>\n",
       "      <th>97220</th>\n",
       "      <td>Pop</td>\n",
       "    </tr>\n",
       "    <tr>\n",
       "      <th>97221</th>\n",
       "      <td>Rock</td>\n",
       "    </tr>\n",
       "    <tr>\n",
       "      <th>97222</th>\n",
       "      <td>Country</td>\n",
       "    </tr>\n",
       "    <tr>\n",
       "      <th>97223</th>\n",
       "      <td>Rap</td>\n",
       "    </tr>\n",
       "    <tr>\n",
       "      <th>97224</th>\n",
       "      <td>Rock</td>\n",
       "    </tr>\n",
       "  </tbody>\n",
       "</table>\n",
       "<p>97225 rows × 1 columns</p>\n",
       "</div>"
      ],
      "text/plain": [
       "               gen\n",
       "0          Country\n",
       "1              Pop\n",
       "2      Alternative\n",
       "3              Pop\n",
       "4              Pop\n",
       "...            ...\n",
       "97220          Pop\n",
       "97221         Rock\n",
       "97222      Country\n",
       "97223          Rap\n",
       "97224         Rock\n",
       "\n",
       "[97225 rows x 1 columns]"
      ]
     },
     "execution_count": 28,
     "metadata": {},
     "output_type": "execute_result"
    }
   ],
   "source": [
    "study_table = billboardHot100\n",
    "genres = pd.DataFrame(study_table[\"Genre\"])\n",
    "genres2 = genres.dropna(axis = 1)\n",
    "genres2.columns = ['gen']\n",
    "normal_genres = [ 'Rock', 'Country', 'Alternative', 'Country', 'Rap', 'Pop', 'R&;B']\n",
    "for i, row in genres.iterrows():\n",
    "    for j in row:\n",
    "        for word in normal_genres:\n",
    "            word2 = word\n",
    "            word2.lower()\n",
    "            if j.find(word)!=-1 or j.find(word2)!=-1:\n",
    "                genres2.at[i, 'gen'] = word\n",
    "                break\n",
    "        break\n",
    "genres2\n"
   ]
  },
  {
   "cell_type": "code",
   "execution_count": 29,
   "metadata": {},
   "outputs": [
    {
     "data": {
      "text/html": [
       "<div>\n",
       "<style scoped>\n",
       "    .dataframe tbody tr th:only-of-type {\n",
       "        vertical-align: middle;\n",
       "    }\n",
       "\n",
       "    .dataframe tbody tr th {\n",
       "        vertical-align: top;\n",
       "    }\n",
       "\n",
       "    .dataframe thead th {\n",
       "        text-align: right;\n",
       "    }\n",
       "</style>\n",
       "<table border=\"1\" class=\"dataframe\">\n",
       "  <thead>\n",
       "    <tr style=\"text-align: right;\">\n",
       "      <th></th>\n",
       "      <th>gen</th>\n",
       "      <th>count</th>\n",
       "    </tr>\n",
       "  </thead>\n",
       "  <tbody>\n",
       "    <tr>\n",
       "      <th>4</th>\n",
       "      <td>Rap</td>\n",
       "      <td>28866</td>\n",
       "    </tr>\n",
       "    <tr>\n",
       "      <th>5</th>\n",
       "      <td>Rock</td>\n",
       "      <td>26751</td>\n",
       "    </tr>\n",
       "    <tr>\n",
       "      <th>2</th>\n",
       "      <td>Pop</td>\n",
       "      <td>23492</td>\n",
       "    </tr>\n",
       "    <tr>\n",
       "      <th>1</th>\n",
       "      <td>Country</td>\n",
       "      <td>12106</td>\n",
       "    </tr>\n",
       "    <tr>\n",
       "      <th>3</th>\n",
       "      <td>R&amp;;B</td>\n",
       "      <td>4069</td>\n",
       "    </tr>\n",
       "    <tr>\n",
       "      <th>0</th>\n",
       "      <td>Alternative</td>\n",
       "      <td>1941</td>\n",
       "    </tr>\n",
       "  </tbody>\n",
       "</table>\n",
       "</div>"
      ],
      "text/plain": [
       "           gen  count\n",
       "4          Rap  28866\n",
       "5         Rock  26751\n",
       "2          Pop  23492\n",
       "1      Country  12106\n",
       "3         R&;B   4069\n",
       "0  Alternative   1941"
      ]
     },
     "execution_count": 29,
     "metadata": {},
     "output_type": "execute_result"
    }
   ],
   "source": [
    "genres3 = genres2.groupby(genres2.columns.tolist(),as_index=False).size().rename(columns={'size':'count'})\n",
    "genres3 = genres3.sort_values(by = \"count\", ascending = False)\n",
    "genres3.head(50) #para analizar los datos de genres2"
   ]
  },
  {
   "cell_type": "markdown",
   "metadata": {},
   "source": [
    "Aquí se genera una tabla con cada semana, y los datos que aparecen en el billboard de todas las canciones de la semana anterior. Cada fila de la tabla representa una semana con las canciones correspondientes.\n",
    "Tiene también una columna que representa el género del top 1 de la semana actual, lo que servirá de clase para realizar la predicción."
   ]
  },
  {
   "cell_type": "code",
   "execution_count": 30,
   "metadata": {
    "scrolled": false
   },
   "outputs": [
    {
     "name": "stdout",
     "output_type": "stream",
     "text": [
      "(1043,)\n",
      "(0, 502)\n"
     ]
    }
   ],
   "source": [
    "#7-06-2019 top100genero, top100nombre, top100artista..., top99genero...  top1genero (no anhadir nada mas del top1)\n",
    "billboardColumns = ['Artists', 'Name', 'Weeks.on.chart', 'Date' ,'Genre']\n",
    "columnas = ['semana', 'top1prediccion']\n",
    "for i in range(1, 101):\n",
    "    for name in billboardColumns:\n",
    "        string ='top' + str(i) + name\n",
    "        columnas.append(string)\n",
    "weeks = pd.DataFrame(billboardHot100['Week'])\n",
    "weeks = weeks.drop_duplicates( subset = [\"Week\"], ignore_index = True)\n",
    "weeks = weeks['Week']\n",
    "\n",
    "tablaPrediccion = pd.DataFrame(columns = columnas)\n",
    "print(weeks.shape)\n",
    "print(tablaPrediccion.shape)\n",
    "for i in range(len(weeks)-1):\n",
    "    currentWeek = weeks[i]\n",
    "    data = [currentWeek]\n",
    "    oldWeek = weeks[i+1]\n",
    "    for  row in billboardHot100.itertuples():\n",
    "        j = row.Index\n",
    "        if(row.Week == currentWeek and row._4==1):\n",
    "            data.append(genres2.at[j, 'gen'])\n",
    "        if(row.Week == oldWeek):\n",
    "            for word in billboardColumns:\n",
    "                if word!='Genre':\n",
    "                    data.append(billboardHot100.at[j, word])\n",
    "                else:\n",
    "                    data.append(genres2.at[j, 'gen'])\n",
    "    while(len(data) < 502):\n",
    "        data.append(\"None\")\n",
    "    tablaPrediccion.loc[len(tablaPrediccion)] = data"
   ]
  },
  {
   "cell_type": "code",
   "execution_count": 31,
   "metadata": {
    "scrolled": true
   },
   "outputs": [],
   "source": [
    "#limpieza de datos de la tabla generada, ya que en la tabla original faltan algunos top 1\n",
    "genresmaximos = genres3['gen'].to_numpy()\n",
    "tablaPrediccion2 = tablaPrediccion[tablaPrediccion.top1prediccion.isin(genresmaximos)]"
   ]
  },
  {
   "cell_type": "markdown",
   "metadata": {},
   "source": [
    "Luego se vectorizan los datos de la tabla para poder aplicarle un clasificador que prediga la clase (género) del top 1 utilizando los datos de la semana anterior."
   ]
  },
  {
   "cell_type": "code",
   "execution_count": 56,
   "metadata": {},
   "outputs": [
    {
     "data": {
      "text/html": [
       "<div>\n",
       "<style scoped>\n",
       "    .dataframe tbody tr th:only-of-type {\n",
       "        vertical-align: middle;\n",
       "    }\n",
       "\n",
       "    .dataframe tbody tr th {\n",
       "        vertical-align: top;\n",
       "    }\n",
       "\n",
       "    .dataframe thead th {\n",
       "        text-align: right;\n",
       "    }\n",
       "</style>\n",
       "<table border=\"1\" class=\"dataframe\">\n",
       "  <thead>\n",
       "    <tr style=\"text-align: right;\">\n",
       "      <th></th>\n",
       "      <th>semana</th>\n",
       "      <th>top1prediccion</th>\n",
       "      <th>top1Artists</th>\n",
       "      <th>top1Name</th>\n",
       "      <th>top1Weeks.on.chart</th>\n",
       "      <th>top1Date</th>\n",
       "      <th>top1Genre</th>\n",
       "      <th>top2Artists</th>\n",
       "      <th>top2Name</th>\n",
       "      <th>top2Weeks.on.chart</th>\n",
       "      <th>...</th>\n",
       "      <th>top99Artists</th>\n",
       "      <th>top99Name</th>\n",
       "      <th>top99Weeks.on.chart</th>\n",
       "      <th>top99Date</th>\n",
       "      <th>top99Genre</th>\n",
       "      <th>top100Artists</th>\n",
       "      <th>top100Name</th>\n",
       "      <th>top100Weeks.on.chart</th>\n",
       "      <th>top100Date</th>\n",
       "      <th>top100Genre</th>\n",
       "    </tr>\n",
       "  </thead>\n",
       "  <tbody>\n",
       "    <tr>\n",
       "      <th>0</th>\n",
       "      <td>2019-07-06</td>\n",
       "      <td>Country</td>\n",
       "      <td>Lil Nas,</td>\n",
       "      <td>Old Town Road</td>\n",
       "      <td>6.0</td>\n",
       "      <td>April 5, 2019</td>\n",
       "      <td>Country</td>\n",
       "      <td>Taylor Swift</td>\n",
       "      <td>You Need To Calm Down</td>\n",
       "      <td>NaN</td>\n",
       "      <td>...</td>\n",
       "      <td>Justin Moore</td>\n",
       "      <td>The Ones That Didn't Make It Back Home</td>\n",
       "      <td>NaN</td>\n",
       "      <td>October 12, 2018</td>\n",
       "      <td>Country</td>\n",
       "      <td>None</td>\n",
       "      <td>None</td>\n",
       "      <td>None</td>\n",
       "      <td>None</td>\n",
       "      <td>None</td>\n",
       "    </tr>\n",
       "    <tr>\n",
       "      <th>1</th>\n",
       "      <td>2019-06-29</td>\n",
       "      <td>Country</td>\n",
       "      <td>Lil Nas,</td>\n",
       "      <td>Old Town Road</td>\n",
       "      <td>5.0</td>\n",
       "      <td>April 5, 2019</td>\n",
       "      <td>Country</td>\n",
       "      <td>Billie Eilish</td>\n",
       "      <td>Bad Guy</td>\n",
       "      <td>11.0</td>\n",
       "      <td>...</td>\n",
       "      <td>Sech</td>\n",
       "      <td>Otro Trago</td>\n",
       "      <td>NaN</td>\n",
       "      <td>April 19, 2019</td>\n",
       "      <td>Pop</td>\n",
       "      <td>None</td>\n",
       "      <td>None</td>\n",
       "      <td>None</td>\n",
       "      <td>None</td>\n",
       "      <td>None</td>\n",
       "    </tr>\n",
       "    <tr>\n",
       "      <th>2</th>\n",
       "      <td>2019-06-22</td>\n",
       "      <td>Country</td>\n",
       "      <td>Lil Nas,</td>\n",
       "      <td>Old Town Road</td>\n",
       "      <td>4.0</td>\n",
       "      <td>April 5, 2019</td>\n",
       "      <td>Country</td>\n",
       "      <td>Billie Eilish</td>\n",
       "      <td>Bad Guy</td>\n",
       "      <td>10.0</td>\n",
       "      <td>...</td>\n",
       "      <td>None</td>\n",
       "      <td>None</td>\n",
       "      <td>None</td>\n",
       "      <td>None</td>\n",
       "      <td>None</td>\n",
       "      <td>None</td>\n",
       "      <td>None</td>\n",
       "      <td>None</td>\n",
       "      <td>None</td>\n",
       "      <td>None</td>\n",
       "    </tr>\n",
       "    <tr>\n",
       "      <th>3</th>\n",
       "      <td>2019-06-15</td>\n",
       "      <td>Country</td>\n",
       "      <td>Lil Nas,</td>\n",
       "      <td>Old Town Road</td>\n",
       "      <td>3.0</td>\n",
       "      <td>April 5, 2019</td>\n",
       "      <td>Country</td>\n",
       "      <td>Billie Eilish</td>\n",
       "      <td>Bad Guy</td>\n",
       "      <td>9.0</td>\n",
       "      <td>...</td>\n",
       "      <td>Jhene Aiko</td>\n",
       "      <td>Triggered</td>\n",
       "      <td>3.0</td>\n",
       "      <td>May 8, 2019</td>\n",
       "      <td>R&amp;;B</td>\n",
       "      <td>None</td>\n",
       "      <td>None</td>\n",
       "      <td>None</td>\n",
       "      <td>None</td>\n",
       "      <td>None</td>\n",
       "    </tr>\n",
       "    <tr>\n",
       "      <th>4</th>\n",
       "      <td>2019-06-08</td>\n",
       "      <td>Country</td>\n",
       "      <td>Lil Nas,</td>\n",
       "      <td>Old Town Road</td>\n",
       "      <td>2.0</td>\n",
       "      <td>April 5, 2019</td>\n",
       "      <td>Country</td>\n",
       "      <td>Ed Sheeran, Justin Bieber</td>\n",
       "      <td>I Don't Care</td>\n",
       "      <td>2.0</td>\n",
       "      <td>...</td>\n",
       "      <td>Nicky Jam, Ozuna</td>\n",
       "      <td>Te Robare</td>\n",
       "      <td>2.0</td>\n",
       "      <td>March 22, 2019</td>\n",
       "      <td>Pop</td>\n",
       "      <td>None</td>\n",
       "      <td>None</td>\n",
       "      <td>None</td>\n",
       "      <td>None</td>\n",
       "      <td>None</td>\n",
       "    </tr>\n",
       "    <tr>\n",
       "      <th>...</th>\n",
       "      <td>...</td>\n",
       "      <td>...</td>\n",
       "      <td>...</td>\n",
       "      <td>...</td>\n",
       "      <td>...</td>\n",
       "      <td>...</td>\n",
       "      <td>...</td>\n",
       "      <td>...</td>\n",
       "      <td>...</td>\n",
       "      <td>...</td>\n",
       "      <td>...</td>\n",
       "      <td>...</td>\n",
       "      <td>...</td>\n",
       "      <td>...</td>\n",
       "      <td>...</td>\n",
       "      <td>...</td>\n",
       "      <td>...</td>\n",
       "      <td>...</td>\n",
       "      <td>...</td>\n",
       "      <td>...</td>\n",
       "      <td>...</td>\n",
       "    </tr>\n",
       "    <tr>\n",
       "      <th>1036</th>\n",
       "      <td>1999-08-23</td>\n",
       "      <td>Pop</td>\n",
       "      <td>Christina Aguilera</td>\n",
       "      <td>Genie In A Bottle</td>\n",
       "      <td>8.0</td>\n",
       "      <td>NaN</td>\n",
       "      <td>Pop</td>\n",
       "      <td>Destiny's Child</td>\n",
       "      <td>Bills, Bills, Bills</td>\n",
       "      <td>10.0</td>\n",
       "      <td>...</td>\n",
       "      <td>None</td>\n",
       "      <td>None</td>\n",
       "      <td>None</td>\n",
       "      <td>None</td>\n",
       "      <td>None</td>\n",
       "      <td>None</td>\n",
       "      <td>None</td>\n",
       "      <td>None</td>\n",
       "      <td>None</td>\n",
       "      <td>None</td>\n",
       "    </tr>\n",
       "    <tr>\n",
       "      <th>1037</th>\n",
       "      <td>1999-08-16</td>\n",
       "      <td>Pop</td>\n",
       "      <td>Christina Aguilera</td>\n",
       "      <td>Genie In A Bottle</td>\n",
       "      <td>7.0</td>\n",
       "      <td>NaN</td>\n",
       "      <td>Pop</td>\n",
       "      <td>K</td>\n",
       "      <td>Tell Me It's Real</td>\n",
       "      <td>12.0</td>\n",
       "      <td>...</td>\n",
       "      <td>None</td>\n",
       "      <td>None</td>\n",
       "      <td>None</td>\n",
       "      <td>None</td>\n",
       "      <td>None</td>\n",
       "      <td>None</td>\n",
       "      <td>None</td>\n",
       "      <td>None</td>\n",
       "      <td>None</td>\n",
       "      <td>None</td>\n",
       "    </tr>\n",
       "    <tr>\n",
       "      <th>1038</th>\n",
       "      <td>1999-08-09</td>\n",
       "      <td>Pop</td>\n",
       "      <td>Christina Aguilera</td>\n",
       "      <td>Genie In A Bottle</td>\n",
       "      <td>6.0</td>\n",
       "      <td>NaN</td>\n",
       "      <td>Pop</td>\n",
       "      <td>Destiny's Child</td>\n",
       "      <td>Bills, Bills, Bills</td>\n",
       "      <td>8.0</td>\n",
       "      <td>...</td>\n",
       "      <td>None</td>\n",
       "      <td>None</td>\n",
       "      <td>None</td>\n",
       "      <td>None</td>\n",
       "      <td>None</td>\n",
       "      <td>None</td>\n",
       "      <td>None</td>\n",
       "      <td>None</td>\n",
       "      <td>None</td>\n",
       "      <td>None</td>\n",
       "    </tr>\n",
       "    <tr>\n",
       "      <th>1039</th>\n",
       "      <td>1999-08-02</td>\n",
       "      <td>Pop</td>\n",
       "      <td>Christina Aguilera</td>\n",
       "      <td>Genie In A Bottle</td>\n",
       "      <td>5.0</td>\n",
       "      <td>NaN</td>\n",
       "      <td>Pop</td>\n",
       "      <td>Destiny's Child</td>\n",
       "      <td>Bills, Bills, Bills</td>\n",
       "      <td>7.0</td>\n",
       "      <td>...</td>\n",
       "      <td>None</td>\n",
       "      <td>None</td>\n",
       "      <td>None</td>\n",
       "      <td>None</td>\n",
       "      <td>None</td>\n",
       "      <td>None</td>\n",
       "      <td>None</td>\n",
       "      <td>None</td>\n",
       "      <td>None</td>\n",
       "      <td>None</td>\n",
       "    </tr>\n",
       "    <tr>\n",
       "      <th>1040</th>\n",
       "      <td>1999-07-26</td>\n",
       "      <td>Pop</td>\n",
       "      <td>Destiny's Child</td>\n",
       "      <td>Bills, Bills, Bills</td>\n",
       "      <td>6.0</td>\n",
       "      <td>NaN</td>\n",
       "      <td>Rap</td>\n",
       "      <td>Christina Aguilera</td>\n",
       "      <td>Genie In A Bottle</td>\n",
       "      <td>4.0</td>\n",
       "      <td>...</td>\n",
       "      <td>None</td>\n",
       "      <td>None</td>\n",
       "      <td>None</td>\n",
       "      <td>None</td>\n",
       "      <td>None</td>\n",
       "      <td>None</td>\n",
       "      <td>None</td>\n",
       "      <td>None</td>\n",
       "      <td>None</td>\n",
       "      <td>None</td>\n",
       "    </tr>\n",
       "  </tbody>\n",
       "</table>\n",
       "<p>982 rows × 502 columns</p>\n",
       "</div>"
      ],
      "text/plain": [
       "          semana top1prediccion         top1Artists             top1Name  \\\n",
       "0     2019-07-06        Country            Lil Nas,        Old Town Road   \n",
       "1     2019-06-29        Country            Lil Nas,        Old Town Road   \n",
       "2     2019-06-22        Country            Lil Nas,        Old Town Road   \n",
       "3     2019-06-15        Country            Lil Nas,        Old Town Road   \n",
       "4     2019-06-08        Country            Lil Nas,        Old Town Road   \n",
       "...          ...            ...                 ...                  ...   \n",
       "1036  1999-08-23            Pop  Christina Aguilera    Genie In A Bottle   \n",
       "1037  1999-08-16            Pop  Christina Aguilera    Genie In A Bottle   \n",
       "1038  1999-08-09            Pop  Christina Aguilera    Genie In A Bottle   \n",
       "1039  1999-08-02            Pop  Christina Aguilera    Genie In A Bottle   \n",
       "1040  1999-07-26            Pop     Destiny's Child  Bills, Bills, Bills   \n",
       "\n",
       "     top1Weeks.on.chart       top1Date top1Genre                top2Artists  \\\n",
       "0                   6.0  April 5, 2019   Country               Taylor Swift   \n",
       "1                   5.0  April 5, 2019   Country              Billie Eilish   \n",
       "2                   4.0  April 5, 2019   Country              Billie Eilish   \n",
       "3                   3.0  April 5, 2019   Country              Billie Eilish   \n",
       "4                   2.0  April 5, 2019   Country  Ed Sheeran, Justin Bieber   \n",
       "...                 ...            ...       ...                        ...   \n",
       "1036                8.0            NaN       Pop            Destiny's Child   \n",
       "1037                7.0            NaN       Pop                          K   \n",
       "1038                6.0            NaN       Pop            Destiny's Child   \n",
       "1039                5.0            NaN       Pop            Destiny's Child   \n",
       "1040                6.0            NaN       Rap         Christina Aguilera   \n",
       "\n",
       "                   top2Name top2Weeks.on.chart  ...      top99Artists  \\\n",
       "0     You Need To Calm Down                NaN  ...      Justin Moore   \n",
       "1                   Bad Guy               11.0  ...              Sech   \n",
       "2                   Bad Guy               10.0  ...              None   \n",
       "3                   Bad Guy                9.0  ...        Jhene Aiko   \n",
       "4              I Don't Care                2.0  ...  Nicky Jam, Ozuna   \n",
       "...                     ...                ...  ...               ...   \n",
       "1036    Bills, Bills, Bills               10.0  ...              None   \n",
       "1037      Tell Me It's Real               12.0  ...              None   \n",
       "1038    Bills, Bills, Bills                8.0  ...              None   \n",
       "1039    Bills, Bills, Bills                7.0  ...              None   \n",
       "1040      Genie In A Bottle                4.0  ...              None   \n",
       "\n",
       "                                   top99Name top99Weeks.on.chart  \\\n",
       "0     The Ones That Didn't Make It Back Home                 NaN   \n",
       "1                                 Otro Trago                 NaN   \n",
       "2                                       None                None   \n",
       "3                                  Triggered                 3.0   \n",
       "4                                  Te Robare                 2.0   \n",
       "...                                      ...                 ...   \n",
       "1036                                    None                None   \n",
       "1037                                    None                None   \n",
       "1038                                    None                None   \n",
       "1039                                    None                None   \n",
       "1040                                    None                None   \n",
       "\n",
       "             top99Date top99Genre top100Artists top100Name  \\\n",
       "0     October 12, 2018    Country          None       None   \n",
       "1       April 19, 2019        Pop          None       None   \n",
       "2                 None       None          None       None   \n",
       "3          May 8, 2019       R&;B          None       None   \n",
       "4       March 22, 2019        Pop          None       None   \n",
       "...                ...        ...           ...        ...   \n",
       "1036              None       None          None       None   \n",
       "1037              None       None          None       None   \n",
       "1038              None       None          None       None   \n",
       "1039              None       None          None       None   \n",
       "1040              None       None          None       None   \n",
       "\n",
       "     top100Weeks.on.chart top100Date top100Genre  \n",
       "0                    None       None        None  \n",
       "1                    None       None        None  \n",
       "2                    None       None        None  \n",
       "3                    None       None        None  \n",
       "4                    None       None        None  \n",
       "...                   ...        ...         ...  \n",
       "1036                 None       None        None  \n",
       "1037                 None       None        None  \n",
       "1038                 None       None        None  \n",
       "1039                 None       None        None  \n",
       "1040                 None       None        None  \n",
       "\n",
       "[982 rows x 502 columns]"
      ]
     },
     "execution_count": 56,
     "metadata": {},
     "output_type": "execute_result"
    }
   ],
   "source": [
    "tablaPrediccion2"
   ]
  },
  {
   "cell_type": "code",
   "execution_count": 55,
   "metadata": {
    "scrolled": true
   },
   "outputs": [
    {
     "ename": "ValueError",
     "evalue": "Shape of passed values is (982, 1), indices imply (982, 130)",
     "output_type": "error",
     "traceback": [
      "\u001b[1;31m---------------------------------------------------------------------------\u001b[0m",
      "\u001b[1;31mValueError\u001b[0m                                Traceback (most recent call last)",
      "Input \u001b[1;32mIn [55]\u001b[0m, in \u001b[0;36m<cell line: 52>\u001b[1;34m()\u001b[0m\n\u001b[0;32m     58\u001b[0m     vector2 \u001b[38;5;241m=\u001b[39m enc\u001b[38;5;241m.\u001b[39mfit_transform(tablaPrediccion3[word]\u001b[38;5;241m.\u001b[39mto_numpy()\u001b[38;5;241m.\u001b[39mreshape(\u001b[38;5;241m-\u001b[39m\u001b[38;5;241m1\u001b[39m, \u001b[38;5;241m1\u001b[39m))\n\u001b[0;32m     59\u001b[0m     \u001b[38;5;66;03m#vector2 = enc.transform(tablaPrediccion3[word])\u001b[39;00m\n\u001b[1;32m---> 60\u001b[0m     vector2 \u001b[38;5;241m=\u001b[39m \u001b[43mpd\u001b[49m\u001b[38;5;241;43m.\u001b[39;49m\u001b[43mDataFrame\u001b[49m\u001b[43m(\u001b[49m\u001b[43mvector2\u001b[49m\u001b[43m,\u001b[49m\u001b[43m \u001b[49m\u001b[43mcolumns\u001b[49m\u001b[38;5;241;43m=\u001b[39;49m\u001b[43menc\u001b[49m\u001b[38;5;241;43m.\u001b[39;49m\u001b[43mget_feature_names_out\u001b[49m\u001b[43m(\u001b[49m\u001b[43m)\u001b[49m\u001b[43m)\u001b[49m\n\u001b[0;32m     61\u001b[0m     vector \u001b[38;5;241m=\u001b[39m pd\u001b[38;5;241m.\u001b[39mconcat([vector, vector2], axis \u001b[38;5;241m=\u001b[39m \u001b[38;5;241m1\u001b[39m)\n\u001b[0;32m     63\u001b[0m \u001b[38;5;28;01melse\u001b[39;00m:\n",
      "File \u001b[1;32mc:\\python\\lib\\site-packages\\pandas\\core\\frame.py:737\u001b[0m, in \u001b[0;36mDataFrame.__init__\u001b[1;34m(self, data, index, columns, dtype, copy)\u001b[0m\n\u001b[0;32m    729\u001b[0m         mgr \u001b[38;5;241m=\u001b[39m arrays_to_mgr(\n\u001b[0;32m    730\u001b[0m             arrays,\n\u001b[0;32m    731\u001b[0m             columns,\n\u001b[1;32m   (...)\u001b[0m\n\u001b[0;32m    734\u001b[0m             typ\u001b[38;5;241m=\u001b[39mmanager,\n\u001b[0;32m    735\u001b[0m         )\n\u001b[0;32m    736\u001b[0m     \u001b[38;5;28;01melse\u001b[39;00m:\n\u001b[1;32m--> 737\u001b[0m         mgr \u001b[38;5;241m=\u001b[39m \u001b[43mndarray_to_mgr\u001b[49m\u001b[43m(\u001b[49m\n\u001b[0;32m    738\u001b[0m \u001b[43m            \u001b[49m\u001b[43mdata\u001b[49m\u001b[43m,\u001b[49m\n\u001b[0;32m    739\u001b[0m \u001b[43m            \u001b[49m\u001b[43mindex\u001b[49m\u001b[43m,\u001b[49m\n\u001b[0;32m    740\u001b[0m \u001b[43m            \u001b[49m\u001b[43mcolumns\u001b[49m\u001b[43m,\u001b[49m\n\u001b[0;32m    741\u001b[0m \u001b[43m            \u001b[49m\u001b[43mdtype\u001b[49m\u001b[38;5;241;43m=\u001b[39;49m\u001b[43mdtype\u001b[49m\u001b[43m,\u001b[49m\n\u001b[0;32m    742\u001b[0m \u001b[43m            \u001b[49m\u001b[43mcopy\u001b[49m\u001b[38;5;241;43m=\u001b[39;49m\u001b[43mcopy\u001b[49m\u001b[43m,\u001b[49m\n\u001b[0;32m    743\u001b[0m \u001b[43m            \u001b[49m\u001b[43mtyp\u001b[49m\u001b[38;5;241;43m=\u001b[39;49m\u001b[43mmanager\u001b[49m\u001b[43m,\u001b[49m\n\u001b[0;32m    744\u001b[0m \u001b[43m        \u001b[49m\u001b[43m)\u001b[49m\n\u001b[0;32m    745\u001b[0m \u001b[38;5;28;01melse\u001b[39;00m:\n\u001b[0;32m    746\u001b[0m     mgr \u001b[38;5;241m=\u001b[39m dict_to_mgr(\n\u001b[0;32m    747\u001b[0m         {},\n\u001b[0;32m    748\u001b[0m         index,\n\u001b[1;32m   (...)\u001b[0m\n\u001b[0;32m    751\u001b[0m         typ\u001b[38;5;241m=\u001b[39mmanager,\n\u001b[0;32m    752\u001b[0m     )\n",
      "File \u001b[1;32mc:\\python\\lib\\site-packages\\pandas\\core\\internals\\construction.py:351\u001b[0m, in \u001b[0;36mndarray_to_mgr\u001b[1;34m(values, index, columns, dtype, copy, typ)\u001b[0m\n\u001b[0;32m    346\u001b[0m \u001b[38;5;66;03m# _prep_ndarray ensures that values.ndim == 2 at this point\u001b[39;00m\n\u001b[0;32m    347\u001b[0m index, columns \u001b[38;5;241m=\u001b[39m _get_axes(\n\u001b[0;32m    348\u001b[0m     values\u001b[38;5;241m.\u001b[39mshape[\u001b[38;5;241m0\u001b[39m], values\u001b[38;5;241m.\u001b[39mshape[\u001b[38;5;241m1\u001b[39m], index\u001b[38;5;241m=\u001b[39mindex, columns\u001b[38;5;241m=\u001b[39mcolumns\n\u001b[0;32m    349\u001b[0m )\n\u001b[1;32m--> 351\u001b[0m \u001b[43m_check_values_indices_shape_match\u001b[49m\u001b[43m(\u001b[49m\u001b[43mvalues\u001b[49m\u001b[43m,\u001b[49m\u001b[43m \u001b[49m\u001b[43mindex\u001b[49m\u001b[43m,\u001b[49m\u001b[43m \u001b[49m\u001b[43mcolumns\u001b[49m\u001b[43m)\u001b[49m\n\u001b[0;32m    353\u001b[0m \u001b[38;5;28;01mif\u001b[39;00m typ \u001b[38;5;241m==\u001b[39m \u001b[38;5;124m\"\u001b[39m\u001b[38;5;124marray\u001b[39m\u001b[38;5;124m\"\u001b[39m:\n\u001b[0;32m    355\u001b[0m     \u001b[38;5;28;01mif\u001b[39;00m \u001b[38;5;28missubclass\u001b[39m(values\u001b[38;5;241m.\u001b[39mdtype\u001b[38;5;241m.\u001b[39mtype, \u001b[38;5;28mstr\u001b[39m):\n",
      "File \u001b[1;32mc:\\python\\lib\\site-packages\\pandas\\core\\internals\\construction.py:422\u001b[0m, in \u001b[0;36m_check_values_indices_shape_match\u001b[1;34m(values, index, columns)\u001b[0m\n\u001b[0;32m    420\u001b[0m passed \u001b[38;5;241m=\u001b[39m values\u001b[38;5;241m.\u001b[39mshape\n\u001b[0;32m    421\u001b[0m implied \u001b[38;5;241m=\u001b[39m (\u001b[38;5;28mlen\u001b[39m(index), \u001b[38;5;28mlen\u001b[39m(columns))\n\u001b[1;32m--> 422\u001b[0m \u001b[38;5;28;01mraise\u001b[39;00m \u001b[38;5;167;01mValueError\u001b[39;00m(\u001b[38;5;124mf\u001b[39m\u001b[38;5;124m\"\u001b[39m\u001b[38;5;124mShape of passed values is \u001b[39m\u001b[38;5;132;01m{\u001b[39;00mpassed\u001b[38;5;132;01m}\u001b[39;00m\u001b[38;5;124m, indices imply \u001b[39m\u001b[38;5;132;01m{\u001b[39;00mimplied\u001b[38;5;132;01m}\u001b[39;00m\u001b[38;5;124m\"\u001b[39m)\n",
      "\u001b[1;31mValueError\u001b[0m: Shape of passed values is (982, 1), indices imply (982, 130)"
     ]
    }
   ],
   "source": [
    "import requests\n",
    "import re\n",
    "import string\n",
    "from sklearn.feature_extraction.text import CountVectorizer\n",
    "from sklearn.preprocessing import OneHotEncoder\n",
    "from sklearn.preprocessing import LabelBinarizer\n",
    "\n",
    "stopwords_list = 'english'\n",
    "\n",
    "def remove_vowels_accents(text):\n",
    "    return (\n",
    "        text.replace(\"á\", \"a\")\n",
    "        .replace(\"é\", \"e\")\n",
    "        .replace(\"í\", \"i\")\n",
    "        .replace(\"ó\", \"o\")\n",
    "        .replace(\"ú\", \"u\")\n",
    "        .replace(\"ü\", \"u\")\n",
    "    )\n",
    "\n",
    "def remove_stopwords(text, stopwords_list):\n",
    "    return \" \".join(\n",
    "        [word for word in str(text).split() if word not in stopwords_list]\n",
    "    )\n",
    "\n",
    "def reduce_spam(text):\n",
    "    text = re.sub(r\"(\\w+)(\\s+\\1){2,}\", r\"\\1\", text)\n",
    "    text = re.sub(r\"(\\w+\\s+\\w+)(\\s+\\1){2,}\", r\"\\1\", text)\n",
    "    return text\n",
    "\n",
    "def remove_unprintable_(text):\n",
    "    printable = set(string.printable + \"ñáéíóúü\" + \"ÑÁÉÍÓÚÜ\")\n",
    "    text = \"\".join(filter(lambda x: x in printable, text))\n",
    "    return text\n",
    "\n",
    "def remove_punctuation(text):\n",
    "    pattern = re.compile(r\"[^\\w\\sáéíóúüñÁÉÍÓÚÜÑ]\")\n",
    "    t = pattern.sub(r\" \", text)\n",
    "    return re.sub(\" +\", \" \", t)\n",
    "\n",
    "def preprocesar(text):\n",
    "    text = text.lower()\n",
    "    text = remove_unprintable_(text)\n",
    "    text = remove_punctuation(text)\n",
    "    text = reduce_spam(text)\n",
    "    text = remove_stopwords(text, stopwords_list)\n",
    "    text = remove_vowels_accents(text)\n",
    "    return text.strip()\n",
    "\n",
    "vectorizer = CountVectorizer(preprocessor=preprocesar, min_df=2)\n",
    "tablaPrediccion3 = tablaPrediccion2.drop(columns = [\"top1prediccion\", \"semana\"])\n",
    "vector = pd.DataFrame()\n",
    "for word in tablaPrediccion3.columns:\n",
    "    if (\"Weeks.on.chart\" in word or \"Date\" in word):\n",
    "        x=1\n",
    "    else:\n",
    "        if('Artists' in word or 'Genre' in word):\n",
    "            enc = OneHotEncoder()\n",
    "            vector2 = enc.fit_transform(tablaPrediccion3[word].to_numpy().reshape(-1, 1))\n",
    "            #vector2 = enc.transform(tablaPrediccion3[word])\n",
    "            vector2 = pd.DataFrame(vector2, columns=enc.get_feature_names_out())\n",
    "            vector = pd.concat([vector, vector2], axis = 1)\n",
    "            \n",
    "        else:\n",
    "            vector2 = vectorizer.fit_transform(tablaPrediccion3[word]).toarray()\n",
    "            vector2 = pd.DataFrame(vector2, columns=vectorizer.get_feature_names_out())\n",
    "            vector = pd.concat([vector, vector2], axis = 1)\n",
    "vector"
   ]
  },
  {
   "cell_type": "code",
   "execution_count": 48,
   "metadata": {},
   "outputs": [
    {
     "data": {
      "text/html": [
       "<div>\n",
       "<style scoped>\n",
       "    .dataframe tbody tr th:only-of-type {\n",
       "        vertical-align: middle;\n",
       "    }\n",
       "\n",
       "    .dataframe tbody tr th {\n",
       "        vertical-align: top;\n",
       "    }\n",
       "\n",
       "    .dataframe thead th {\n",
       "        text-align: right;\n",
       "    }\n",
       "</style>\n",
       "<table border=\"1\" class=\"dataframe\">\n",
       "  <thead>\n",
       "    <tr style=\"text-align: right;\">\n",
       "      <th></th>\n",
       "      <th>top1prediccion</th>\n",
       "      <th>0</th>\n",
       "      <th>1</th>\n",
       "      <th>2</th>\n",
       "      <th>3</th>\n",
       "      <th>4</th>\n",
       "      <th>5</th>\n",
       "      <th>6</th>\n",
       "      <th>7</th>\n",
       "      <th>8</th>\n",
       "      <th>...</th>\n",
       "      <th>6</th>\n",
       "      <th>7</th>\n",
       "      <th>love</th>\n",
       "      <th>none</th>\n",
       "      <th>wins</th>\n",
       "      <th>0</th>\n",
       "      <th>1</th>\n",
       "      <th>2</th>\n",
       "      <th>3</th>\n",
       "      <th>4</th>\n",
       "    </tr>\n",
       "  </thead>\n",
       "  <tbody>\n",
       "    <tr>\n",
       "      <th>50</th>\n",
       "      <td>Rap</td>\n",
       "      <td>0.0</td>\n",
       "      <td>0.0</td>\n",
       "      <td>0.0</td>\n",
       "      <td>0.0</td>\n",
       "      <td>0.0</td>\n",
       "      <td>0.0</td>\n",
       "      <td>0.0</td>\n",
       "      <td>0.0</td>\n",
       "      <td>0.0</td>\n",
       "      <td>...</td>\n",
       "      <td>1.0</td>\n",
       "      <td>0.0</td>\n",
       "      <td>0.0</td>\n",
       "      <td>1.0</td>\n",
       "      <td>0.0</td>\n",
       "      <td>0.0</td>\n",
       "      <td>1.0</td>\n",
       "      <td>0.0</td>\n",
       "      <td>0.0</td>\n",
       "      <td>0.0</td>\n",
       "    </tr>\n",
       "    <tr>\n",
       "      <th>51</th>\n",
       "      <td>Rap</td>\n",
       "      <td>0.0</td>\n",
       "      <td>0.0</td>\n",
       "      <td>0.0</td>\n",
       "      <td>0.0</td>\n",
       "      <td>0.0</td>\n",
       "      <td>0.0</td>\n",
       "      <td>0.0</td>\n",
       "      <td>0.0</td>\n",
       "      <td>0.0</td>\n",
       "      <td>...</td>\n",
       "      <td>1.0</td>\n",
       "      <td>0.0</td>\n",
       "      <td>0.0</td>\n",
       "      <td>1.0</td>\n",
       "      <td>0.0</td>\n",
       "      <td>0.0</td>\n",
       "      <td>1.0</td>\n",
       "      <td>0.0</td>\n",
       "      <td>0.0</td>\n",
       "      <td>0.0</td>\n",
       "    </tr>\n",
       "    <tr>\n",
       "      <th>52</th>\n",
       "      <td>Rap</td>\n",
       "      <td>0.0</td>\n",
       "      <td>0.0</td>\n",
       "      <td>0.0</td>\n",
       "      <td>0.0</td>\n",
       "      <td>0.0</td>\n",
       "      <td>0.0</td>\n",
       "      <td>0.0</td>\n",
       "      <td>0.0</td>\n",
       "      <td>0.0</td>\n",
       "      <td>...</td>\n",
       "      <td>1.0</td>\n",
       "      <td>0.0</td>\n",
       "      <td>0.0</td>\n",
       "      <td>1.0</td>\n",
       "      <td>0.0</td>\n",
       "      <td>0.0</td>\n",
       "      <td>1.0</td>\n",
       "      <td>0.0</td>\n",
       "      <td>0.0</td>\n",
       "      <td>0.0</td>\n",
       "    </tr>\n",
       "    <tr>\n",
       "      <th>53</th>\n",
       "      <td>Alternative</td>\n",
       "      <td>0.0</td>\n",
       "      <td>0.0</td>\n",
       "      <td>0.0</td>\n",
       "      <td>0.0</td>\n",
       "      <td>0.0</td>\n",
       "      <td>0.0</td>\n",
       "      <td>0.0</td>\n",
       "      <td>0.0</td>\n",
       "      <td>0.0</td>\n",
       "      <td>...</td>\n",
       "      <td>1.0</td>\n",
       "      <td>0.0</td>\n",
       "      <td>0.0</td>\n",
       "      <td>1.0</td>\n",
       "      <td>0.0</td>\n",
       "      <td>0.0</td>\n",
       "      <td>1.0</td>\n",
       "      <td>0.0</td>\n",
       "      <td>0.0</td>\n",
       "      <td>0.0</td>\n",
       "    </tr>\n",
       "    <tr>\n",
       "      <th>54</th>\n",
       "      <td>Rap</td>\n",
       "      <td>0.0</td>\n",
       "      <td>0.0</td>\n",
       "      <td>0.0</td>\n",
       "      <td>0.0</td>\n",
       "      <td>0.0</td>\n",
       "      <td>0.0</td>\n",
       "      <td>0.0</td>\n",
       "      <td>0.0</td>\n",
       "      <td>0.0</td>\n",
       "      <td>...</td>\n",
       "      <td>1.0</td>\n",
       "      <td>0.0</td>\n",
       "      <td>0.0</td>\n",
       "      <td>1.0</td>\n",
       "      <td>0.0</td>\n",
       "      <td>0.0</td>\n",
       "      <td>1.0</td>\n",
       "      <td>0.0</td>\n",
       "      <td>0.0</td>\n",
       "      <td>0.0</td>\n",
       "    </tr>\n",
       "    <tr>\n",
       "      <th>...</th>\n",
       "      <td>...</td>\n",
       "      <td>...</td>\n",
       "      <td>...</td>\n",
       "      <td>...</td>\n",
       "      <td>...</td>\n",
       "      <td>...</td>\n",
       "      <td>...</td>\n",
       "      <td>...</td>\n",
       "      <td>...</td>\n",
       "      <td>...</td>\n",
       "      <td>...</td>\n",
       "      <td>...</td>\n",
       "      <td>...</td>\n",
       "      <td>...</td>\n",
       "      <td>...</td>\n",
       "      <td>...</td>\n",
       "      <td>...</td>\n",
       "      <td>...</td>\n",
       "      <td>...</td>\n",
       "      <td>...</td>\n",
       "      <td>...</td>\n",
       "    </tr>\n",
       "    <tr>\n",
       "      <th>145</th>\n",
       "      <td>Pop</td>\n",
       "      <td>0.0</td>\n",
       "      <td>0.0</td>\n",
       "      <td>0.0</td>\n",
       "      <td>0.0</td>\n",
       "      <td>0.0</td>\n",
       "      <td>0.0</td>\n",
       "      <td>0.0</td>\n",
       "      <td>0.0</td>\n",
       "      <td>0.0</td>\n",
       "      <td>...</td>\n",
       "      <td>1.0</td>\n",
       "      <td>0.0</td>\n",
       "      <td>0.0</td>\n",
       "      <td>1.0</td>\n",
       "      <td>0.0</td>\n",
       "      <td>0.0</td>\n",
       "      <td>1.0</td>\n",
       "      <td>0.0</td>\n",
       "      <td>0.0</td>\n",
       "      <td>0.0</td>\n",
       "    </tr>\n",
       "    <tr>\n",
       "      <th>146</th>\n",
       "      <td>Pop</td>\n",
       "      <td>0.0</td>\n",
       "      <td>0.0</td>\n",
       "      <td>0.0</td>\n",
       "      <td>0.0</td>\n",
       "      <td>0.0</td>\n",
       "      <td>0.0</td>\n",
       "      <td>0.0</td>\n",
       "      <td>0.0</td>\n",
       "      <td>0.0</td>\n",
       "      <td>...</td>\n",
       "      <td>1.0</td>\n",
       "      <td>0.0</td>\n",
       "      <td>0.0</td>\n",
       "      <td>1.0</td>\n",
       "      <td>0.0</td>\n",
       "      <td>0.0</td>\n",
       "      <td>1.0</td>\n",
       "      <td>0.0</td>\n",
       "      <td>0.0</td>\n",
       "      <td>0.0</td>\n",
       "    </tr>\n",
       "    <tr>\n",
       "      <th>147</th>\n",
       "      <td>Pop</td>\n",
       "      <td>0.0</td>\n",
       "      <td>0.0</td>\n",
       "      <td>0.0</td>\n",
       "      <td>0.0</td>\n",
       "      <td>0.0</td>\n",
       "      <td>0.0</td>\n",
       "      <td>0.0</td>\n",
       "      <td>0.0</td>\n",
       "      <td>0.0</td>\n",
       "      <td>...</td>\n",
       "      <td>1.0</td>\n",
       "      <td>0.0</td>\n",
       "      <td>0.0</td>\n",
       "      <td>1.0</td>\n",
       "      <td>0.0</td>\n",
       "      <td>0.0</td>\n",
       "      <td>1.0</td>\n",
       "      <td>0.0</td>\n",
       "      <td>0.0</td>\n",
       "      <td>0.0</td>\n",
       "    </tr>\n",
       "    <tr>\n",
       "      <th>148</th>\n",
       "      <td>Pop</td>\n",
       "      <td>0.0</td>\n",
       "      <td>0.0</td>\n",
       "      <td>0.0</td>\n",
       "      <td>0.0</td>\n",
       "      <td>0.0</td>\n",
       "      <td>0.0</td>\n",
       "      <td>0.0</td>\n",
       "      <td>0.0</td>\n",
       "      <td>0.0</td>\n",
       "      <td>...</td>\n",
       "      <td>1.0</td>\n",
       "      <td>0.0</td>\n",
       "      <td>0.0</td>\n",
       "      <td>1.0</td>\n",
       "      <td>0.0</td>\n",
       "      <td>0.0</td>\n",
       "      <td>1.0</td>\n",
       "      <td>0.0</td>\n",
       "      <td>0.0</td>\n",
       "      <td>0.0</td>\n",
       "    </tr>\n",
       "    <tr>\n",
       "      <th>149</th>\n",
       "      <td>Rap</td>\n",
       "      <td>0.0</td>\n",
       "      <td>0.0</td>\n",
       "      <td>0.0</td>\n",
       "      <td>0.0</td>\n",
       "      <td>0.0</td>\n",
       "      <td>0.0</td>\n",
       "      <td>0.0</td>\n",
       "      <td>0.0</td>\n",
       "      <td>0.0</td>\n",
       "      <td>...</td>\n",
       "      <td>1.0</td>\n",
       "      <td>0.0</td>\n",
       "      <td>0.0</td>\n",
       "      <td>1.0</td>\n",
       "      <td>0.0</td>\n",
       "      <td>0.0</td>\n",
       "      <td>1.0</td>\n",
       "      <td>0.0</td>\n",
       "      <td>0.0</td>\n",
       "      <td>0.0</td>\n",
       "    </tr>\n",
       "  </tbody>\n",
       "</table>\n",
       "<p>100 rows × 79069 columns</p>\n",
       "</div>"
      ],
      "text/plain": [
       "    top1prediccion    0    1    2    3    4    5    6    7    8  ...    6  \\\n",
       "50             Rap  0.0  0.0  0.0  0.0  0.0  0.0  0.0  0.0  0.0  ...  1.0   \n",
       "51             Rap  0.0  0.0  0.0  0.0  0.0  0.0  0.0  0.0  0.0  ...  1.0   \n",
       "52             Rap  0.0  0.0  0.0  0.0  0.0  0.0  0.0  0.0  0.0  ...  1.0   \n",
       "53     Alternative  0.0  0.0  0.0  0.0  0.0  0.0  0.0  0.0  0.0  ...  1.0   \n",
       "54             Rap  0.0  0.0  0.0  0.0  0.0  0.0  0.0  0.0  0.0  ...  1.0   \n",
       "..             ...  ...  ...  ...  ...  ...  ...  ...  ...  ...  ...  ...   \n",
       "145            Pop  0.0  0.0  0.0  0.0  0.0  0.0  0.0  0.0  0.0  ...  1.0   \n",
       "146            Pop  0.0  0.0  0.0  0.0  0.0  0.0  0.0  0.0  0.0  ...  1.0   \n",
       "147            Pop  0.0  0.0  0.0  0.0  0.0  0.0  0.0  0.0  0.0  ...  1.0   \n",
       "148            Pop  0.0  0.0  0.0  0.0  0.0  0.0  0.0  0.0  0.0  ...  1.0   \n",
       "149            Rap  0.0  0.0  0.0  0.0  0.0  0.0  0.0  0.0  0.0  ...  1.0   \n",
       "\n",
       "       7  love  none  wins    0    1    2    3    4  \n",
       "50   0.0   0.0   1.0   0.0  0.0  1.0  0.0  0.0  0.0  \n",
       "51   0.0   0.0   1.0   0.0  0.0  1.0  0.0  0.0  0.0  \n",
       "52   0.0   0.0   1.0   0.0  0.0  1.0  0.0  0.0  0.0  \n",
       "53   0.0   0.0   1.0   0.0  0.0  1.0  0.0  0.0  0.0  \n",
       "54   0.0   0.0   1.0   0.0  0.0  1.0  0.0  0.0  0.0  \n",
       "..   ...   ...   ...   ...  ...  ...  ...  ...  ...  \n",
       "145  0.0   0.0   1.0   0.0  0.0  1.0  0.0  0.0  0.0  \n",
       "146  0.0   0.0   1.0   0.0  0.0  1.0  0.0  0.0  0.0  \n",
       "147  0.0   0.0   1.0   0.0  0.0  1.0  0.0  0.0  0.0  \n",
       "148  0.0   0.0   1.0   0.0  0.0  1.0  0.0  0.0  0.0  \n",
       "149  0.0   0.0   1.0   0.0  0.0  1.0  0.0  0.0  0.0  \n",
       "\n",
       "[100 rows x 79069 columns]"
      ]
     },
     "execution_count": 48,
     "metadata": {},
     "output_type": "execute_result"
    }
   ],
   "source": [
    "X = vector\n",
    "y = tablaPrediccion2[\"top1prediccion\"]\n",
    "y2 = pd.DataFrame(y)\n",
    "\n",
    "df_vectorizado = pd.concat([y, X], axis=1)\n",
    "df_vectorizado.dropna(subset = \"top1prediccion\")[50:150]"
   ]
  },
  {
   "cell_type": "code",
   "execution_count": 49,
   "metadata": {
    "scrolled": true
   },
   "outputs": [
    {
     "data": {
      "text/html": [
       "<div>\n",
       "<style scoped>\n",
       "    .dataframe tbody tr th:only-of-type {\n",
       "        vertical-align: middle;\n",
       "    }\n",
       "\n",
       "    .dataframe tbody tr th {\n",
       "        vertical-align: top;\n",
       "    }\n",
       "\n",
       "    .dataframe thead th {\n",
       "        text-align: right;\n",
       "    }\n",
       "</style>\n",
       "<table border=\"1\" class=\"dataframe\">\n",
       "  <thead>\n",
       "    <tr style=\"text-align: right;\">\n",
       "      <th></th>\n",
       "      <th>top1prediccion</th>\n",
       "      <th>count</th>\n",
       "    </tr>\n",
       "  </thead>\n",
       "  <tbody>\n",
       "    <tr>\n",
       "      <th>4</th>\n",
       "      <td>Rap</td>\n",
       "      <td>386</td>\n",
       "    </tr>\n",
       "    <tr>\n",
       "      <th>2</th>\n",
       "      <td>Pop</td>\n",
       "      <td>371</td>\n",
       "    </tr>\n",
       "    <tr>\n",
       "      <th>5</th>\n",
       "      <td>Rock</td>\n",
       "      <td>123</td>\n",
       "    </tr>\n",
       "    <tr>\n",
       "      <th>0</th>\n",
       "      <td>Alternative</td>\n",
       "      <td>66</td>\n",
       "    </tr>\n",
       "    <tr>\n",
       "      <th>3</th>\n",
       "      <td>R&amp;;B</td>\n",
       "      <td>20</td>\n",
       "    </tr>\n",
       "  </tbody>\n",
       "</table>\n",
       "</div>"
      ],
      "text/plain": [
       "  top1prediccion  count\n",
       "4            Rap    386\n",
       "2            Pop    371\n",
       "5           Rock    123\n",
       "0    Alternative     66\n",
       "3           R&;B     20"
      ]
     },
     "execution_count": 49,
     "metadata": {},
     "output_type": "execute_result"
    }
   ],
   "source": [
    "test = y2.groupby(y2.columns.tolist(),as_index=False).size().rename(columns={'size':'count'})\n",
    "test = test.sort_values(by = \"count\", ascending = False)\n",
    "test.head() #para analizar los datos de la tabla"
   ]
  },
  {
   "cell_type": "markdown",
   "metadata": {},
   "source": [
    "Finalmente se le aplica el clasificador"
   ]
  },
  {
   "cell_type": "code",
   "execution_count": 50,
   "metadata": {
    "scrolled": true
   },
   "outputs": [
    {
     "ename": "TypeError",
     "evalue": "Feature names are only supported if all input features have string names, but your input has ['int', 'str'] as feature name / column name types. If you want feature names to be stored and validated, you must convert them all to strings, by using X.columns = X.columns.astype(str) for example. Otherwise you can remove feature / column names from your input data, or convert them all to a non-string data type.",
     "output_type": "error",
     "traceback": [
      "\u001b[1;31m---------------------------------------------------------------------------\u001b[0m",
      "\u001b[1;31mTypeError\u001b[0m                                 Traceback (most recent call last)",
      "Input \u001b[1;32mIn [50]\u001b[0m, in \u001b[0;36m<cell line: 8>\u001b[1;34m()\u001b[0m\n\u001b[0;32m      6\u001b[0m clf \u001b[38;5;241m=\u001b[39m DecisionTreeClassifier(random_state \u001b[38;5;241m=\u001b[39m \u001b[38;5;241m2\u001b[39m)\n\u001b[0;32m      7\u001b[0m X_train, X_test, y_train, y_test \u001b[38;5;241m=\u001b[39m train_test_split(X, y, test_size\u001b[38;5;241m=\u001b[39m\u001b[38;5;241m0.30\u001b[39m, random_state\u001b[38;5;241m=\u001b[39m\u001b[38;5;241m2\u001b[39m, stratify\u001b[38;5;241m=\u001b[39my)\n\u001b[1;32m----> 8\u001b[0m \u001b[43mclf\u001b[49m\u001b[38;5;241;43m.\u001b[39;49m\u001b[43mfit\u001b[49m\u001b[43m(\u001b[49m\u001b[43mX_train\u001b[49m\u001b[43m,\u001b[49m\u001b[43m \u001b[49m\u001b[43my_train\u001b[49m\u001b[43m)\u001b[49m\n\u001b[0;32m      9\u001b[0m y_pred \u001b[38;5;241m=\u001b[39m clf\u001b[38;5;241m.\u001b[39mpredict(X_test)\n\u001b[0;32m     10\u001b[0m \u001b[38;5;28mprint\u001b[39m(\u001b[38;5;124m\"\u001b[39m\u001b[38;5;124mAccuracy:\u001b[39m\u001b[38;5;124m\"\u001b[39m, accuracy_score(y_test, y_pred))\n",
      "File \u001b[1;32mc:\\python\\lib\\site-packages\\sklearn\\tree\\_classes.py:889\u001b[0m, in \u001b[0;36mDecisionTreeClassifier.fit\u001b[1;34m(self, X, y, sample_weight, check_input)\u001b[0m\n\u001b[0;32m    859\u001b[0m \u001b[38;5;28;01mdef\u001b[39;00m \u001b[38;5;21mfit\u001b[39m(\u001b[38;5;28mself\u001b[39m, X, y, sample_weight\u001b[38;5;241m=\u001b[39m\u001b[38;5;28;01mNone\u001b[39;00m, check_input\u001b[38;5;241m=\u001b[39m\u001b[38;5;28;01mTrue\u001b[39;00m):\n\u001b[0;32m    860\u001b[0m     \u001b[38;5;124;03m\"\"\"Build a decision tree classifier from the training set (X, y).\u001b[39;00m\n\u001b[0;32m    861\u001b[0m \n\u001b[0;32m    862\u001b[0m \u001b[38;5;124;03m    Parameters\u001b[39;00m\n\u001b[1;32m   (...)\u001b[0m\n\u001b[0;32m    886\u001b[0m \u001b[38;5;124;03m        Fitted estimator.\u001b[39;00m\n\u001b[0;32m    887\u001b[0m \u001b[38;5;124;03m    \"\"\"\u001b[39;00m\n\u001b[1;32m--> 889\u001b[0m     \u001b[38;5;28;43msuper\u001b[39;49m\u001b[43m(\u001b[49m\u001b[43m)\u001b[49m\u001b[38;5;241;43m.\u001b[39;49m\u001b[43mfit\u001b[49m\u001b[43m(\u001b[49m\n\u001b[0;32m    890\u001b[0m \u001b[43m        \u001b[49m\u001b[43mX\u001b[49m\u001b[43m,\u001b[49m\n\u001b[0;32m    891\u001b[0m \u001b[43m        \u001b[49m\u001b[43my\u001b[49m\u001b[43m,\u001b[49m\n\u001b[0;32m    892\u001b[0m \u001b[43m        \u001b[49m\u001b[43msample_weight\u001b[49m\u001b[38;5;241;43m=\u001b[39;49m\u001b[43msample_weight\u001b[49m\u001b[43m,\u001b[49m\n\u001b[0;32m    893\u001b[0m \u001b[43m        \u001b[49m\u001b[43mcheck_input\u001b[49m\u001b[38;5;241;43m=\u001b[39;49m\u001b[43mcheck_input\u001b[49m\u001b[43m,\u001b[49m\n\u001b[0;32m    894\u001b[0m \u001b[43m    \u001b[49m\u001b[43m)\u001b[49m\n\u001b[0;32m    895\u001b[0m     \u001b[38;5;28;01mreturn\u001b[39;00m \u001b[38;5;28mself\u001b[39m\n",
      "File \u001b[1;32mc:\\python\\lib\\site-packages\\sklearn\\tree\\_classes.py:186\u001b[0m, in \u001b[0;36mBaseDecisionTree.fit\u001b[1;34m(self, X, y, sample_weight, check_input)\u001b[0m\n\u001b[0;32m    184\u001b[0m check_X_params \u001b[38;5;241m=\u001b[39m \u001b[38;5;28mdict\u001b[39m(dtype\u001b[38;5;241m=\u001b[39mDTYPE, accept_sparse\u001b[38;5;241m=\u001b[39m\u001b[38;5;124m\"\u001b[39m\u001b[38;5;124mcsc\u001b[39m\u001b[38;5;124m\"\u001b[39m)\n\u001b[0;32m    185\u001b[0m check_y_params \u001b[38;5;241m=\u001b[39m \u001b[38;5;28mdict\u001b[39m(ensure_2d\u001b[38;5;241m=\u001b[39m\u001b[38;5;28;01mFalse\u001b[39;00m, dtype\u001b[38;5;241m=\u001b[39m\u001b[38;5;28;01mNone\u001b[39;00m)\n\u001b[1;32m--> 186\u001b[0m X, y \u001b[38;5;241m=\u001b[39m \u001b[38;5;28;43mself\u001b[39;49m\u001b[38;5;241;43m.\u001b[39;49m\u001b[43m_validate_data\u001b[49m\u001b[43m(\u001b[49m\n\u001b[0;32m    187\u001b[0m \u001b[43m    \u001b[49m\u001b[43mX\u001b[49m\u001b[43m,\u001b[49m\u001b[43m \u001b[49m\u001b[43my\u001b[49m\u001b[43m,\u001b[49m\u001b[43m \u001b[49m\u001b[43mvalidate_separately\u001b[49m\u001b[38;5;241;43m=\u001b[39;49m\u001b[43m(\u001b[49m\u001b[43mcheck_X_params\u001b[49m\u001b[43m,\u001b[49m\u001b[43m \u001b[49m\u001b[43mcheck_y_params\u001b[49m\u001b[43m)\u001b[49m\n\u001b[0;32m    188\u001b[0m \u001b[43m\u001b[49m\u001b[43m)\u001b[49m\n\u001b[0;32m    189\u001b[0m \u001b[38;5;28;01mif\u001b[39;00m issparse(X):\n\u001b[0;32m    190\u001b[0m     X\u001b[38;5;241m.\u001b[39msort_indices()\n",
      "File \u001b[1;32mc:\\python\\lib\\site-packages\\sklearn\\base.py:518\u001b[0m, in \u001b[0;36mBaseEstimator._validate_data\u001b[1;34m(self, X, y, reset, validate_separately, **check_params)\u001b[0m\n\u001b[0;32m    453\u001b[0m \u001b[38;5;28;01mdef\u001b[39;00m \u001b[38;5;21m_validate_data\u001b[39m(\n\u001b[0;32m    454\u001b[0m     \u001b[38;5;28mself\u001b[39m,\n\u001b[0;32m    455\u001b[0m     X\u001b[38;5;241m=\u001b[39m\u001b[38;5;124m\"\u001b[39m\u001b[38;5;124mno_validation\u001b[39m\u001b[38;5;124m\"\u001b[39m,\n\u001b[1;32m   (...)\u001b[0m\n\u001b[0;32m    459\u001b[0m     \u001b[38;5;241m*\u001b[39m\u001b[38;5;241m*\u001b[39mcheck_params,\n\u001b[0;32m    460\u001b[0m ):\n\u001b[0;32m    461\u001b[0m     \u001b[38;5;124;03m\"\"\"Validate input data and set or check the `n_features_in_` attribute.\u001b[39;00m\n\u001b[0;32m    462\u001b[0m \n\u001b[0;32m    463\u001b[0m \u001b[38;5;124;03m    Parameters\u001b[39;00m\n\u001b[1;32m   (...)\u001b[0m\n\u001b[0;32m    516\u001b[0m \u001b[38;5;124;03m        validated.\u001b[39;00m\n\u001b[0;32m    517\u001b[0m \u001b[38;5;124;03m    \"\"\"\u001b[39;00m\n\u001b[1;32m--> 518\u001b[0m     \u001b[38;5;28;43mself\u001b[39;49m\u001b[38;5;241;43m.\u001b[39;49m\u001b[43m_check_feature_names\u001b[49m\u001b[43m(\u001b[49m\u001b[43mX\u001b[49m\u001b[43m,\u001b[49m\u001b[43m \u001b[49m\u001b[43mreset\u001b[49m\u001b[38;5;241;43m=\u001b[39;49m\u001b[43mreset\u001b[49m\u001b[43m)\u001b[49m\n\u001b[0;32m    520\u001b[0m     \u001b[38;5;28;01mif\u001b[39;00m y \u001b[38;5;129;01mis\u001b[39;00m \u001b[38;5;28;01mNone\u001b[39;00m \u001b[38;5;129;01mand\u001b[39;00m \u001b[38;5;28mself\u001b[39m\u001b[38;5;241m.\u001b[39m_get_tags()[\u001b[38;5;124m\"\u001b[39m\u001b[38;5;124mrequires_y\u001b[39m\u001b[38;5;124m\"\u001b[39m]:\n\u001b[0;32m    521\u001b[0m         \u001b[38;5;28;01mraise\u001b[39;00m \u001b[38;5;167;01mValueError\u001b[39;00m(\n\u001b[0;32m    522\u001b[0m             \u001b[38;5;124mf\u001b[39m\u001b[38;5;124m\"\u001b[39m\u001b[38;5;124mThis \u001b[39m\u001b[38;5;132;01m{\u001b[39;00m\u001b[38;5;28mself\u001b[39m\u001b[38;5;241m.\u001b[39m\u001b[38;5;18m__class__\u001b[39m\u001b[38;5;241m.\u001b[39m\u001b[38;5;18m__name__\u001b[39m\u001b[38;5;132;01m}\u001b[39;00m\u001b[38;5;124m estimator \u001b[39m\u001b[38;5;124m\"\u001b[39m\n\u001b[0;32m    523\u001b[0m             \u001b[38;5;124m\"\u001b[39m\u001b[38;5;124mrequires y to be passed, but the target y is None.\u001b[39m\u001b[38;5;124m\"\u001b[39m\n\u001b[0;32m    524\u001b[0m         )\n",
      "File \u001b[1;32mc:\\python\\lib\\site-packages\\sklearn\\base.py:385\u001b[0m, in \u001b[0;36mBaseEstimator._check_feature_names\u001b[1;34m(self, X, reset)\u001b[0m\n\u001b[0;32m    365\u001b[0m \u001b[38;5;124;03m\"\"\"Set or check the `feature_names_in_` attribute.\u001b[39;00m\n\u001b[0;32m    366\u001b[0m \n\u001b[0;32m    367\u001b[0m \u001b[38;5;124;03m.. versionadded:: 1.0\u001b[39;00m\n\u001b[1;32m   (...)\u001b[0m\n\u001b[0;32m    381\u001b[0m \u001b[38;5;124;03m       should set `reset=False`.\u001b[39;00m\n\u001b[0;32m    382\u001b[0m \u001b[38;5;124;03m\"\"\"\u001b[39;00m\n\u001b[0;32m    384\u001b[0m \u001b[38;5;28;01mif\u001b[39;00m reset:\n\u001b[1;32m--> 385\u001b[0m     feature_names_in \u001b[38;5;241m=\u001b[39m \u001b[43m_get_feature_names\u001b[49m\u001b[43m(\u001b[49m\u001b[43mX\u001b[49m\u001b[43m)\u001b[49m\n\u001b[0;32m    386\u001b[0m     \u001b[38;5;28;01mif\u001b[39;00m feature_names_in \u001b[38;5;129;01mis\u001b[39;00m \u001b[38;5;129;01mnot\u001b[39;00m \u001b[38;5;28;01mNone\u001b[39;00m:\n\u001b[0;32m    387\u001b[0m         \u001b[38;5;28mself\u001b[39m\u001b[38;5;241m.\u001b[39mfeature_names_in_ \u001b[38;5;241m=\u001b[39m feature_names_in\n",
      "File \u001b[1;32mc:\\python\\lib\\site-packages\\sklearn\\utils\\validation.py:1893\u001b[0m, in \u001b[0;36m_get_feature_names\u001b[1;34m(X)\u001b[0m\n\u001b[0;32m   1891\u001b[0m \u001b[38;5;66;03m# mixed type of string and non-string is not supported\u001b[39;00m\n\u001b[0;32m   1892\u001b[0m \u001b[38;5;28;01mif\u001b[39;00m \u001b[38;5;28mlen\u001b[39m(types) \u001b[38;5;241m>\u001b[39m \u001b[38;5;241m1\u001b[39m \u001b[38;5;129;01mand\u001b[39;00m \u001b[38;5;124m\"\u001b[39m\u001b[38;5;124mstr\u001b[39m\u001b[38;5;124m\"\u001b[39m \u001b[38;5;129;01min\u001b[39;00m types:\n\u001b[1;32m-> 1893\u001b[0m     \u001b[38;5;28;01mraise\u001b[39;00m \u001b[38;5;167;01mTypeError\u001b[39;00m(\n\u001b[0;32m   1894\u001b[0m         \u001b[38;5;124m\"\u001b[39m\u001b[38;5;124mFeature names are only supported if all input features have string names, \u001b[39m\u001b[38;5;124m\"\u001b[39m\n\u001b[0;32m   1895\u001b[0m         \u001b[38;5;124mf\u001b[39m\u001b[38;5;124m\"\u001b[39m\u001b[38;5;124mbut your input has \u001b[39m\u001b[38;5;132;01m{\u001b[39;00mtypes\u001b[38;5;132;01m}\u001b[39;00m\u001b[38;5;124m as feature name / column name types. \u001b[39m\u001b[38;5;124m\"\u001b[39m\n\u001b[0;32m   1896\u001b[0m         \u001b[38;5;124m\"\u001b[39m\u001b[38;5;124mIf you want feature names to be stored and validated, you must convert \u001b[39m\u001b[38;5;124m\"\u001b[39m\n\u001b[0;32m   1897\u001b[0m         \u001b[38;5;124m\"\u001b[39m\u001b[38;5;124mthem all to strings, by using X.columns = X.columns.astype(str) for \u001b[39m\u001b[38;5;124m\"\u001b[39m\n\u001b[0;32m   1898\u001b[0m         \u001b[38;5;124m\"\u001b[39m\u001b[38;5;124mexample. Otherwise you can remove feature / column names from your input \u001b[39m\u001b[38;5;124m\"\u001b[39m\n\u001b[0;32m   1899\u001b[0m         \u001b[38;5;124m\"\u001b[39m\u001b[38;5;124mdata, or convert them all to a non-string data type.\u001b[39m\u001b[38;5;124m\"\u001b[39m\n\u001b[0;32m   1900\u001b[0m     )\n\u001b[0;32m   1902\u001b[0m \u001b[38;5;66;03m# Only feature names of all strings are supported\u001b[39;00m\n\u001b[0;32m   1903\u001b[0m \u001b[38;5;28;01mif\u001b[39;00m \u001b[38;5;28mlen\u001b[39m(types) \u001b[38;5;241m==\u001b[39m \u001b[38;5;241m1\u001b[39m \u001b[38;5;129;01mand\u001b[39;00m types[\u001b[38;5;241m0\u001b[39m] \u001b[38;5;241m==\u001b[39m \u001b[38;5;124m\"\u001b[39m\u001b[38;5;124mstr\u001b[39m\u001b[38;5;124m\"\u001b[39m:\n",
      "\u001b[1;31mTypeError\u001b[0m: Feature names are only supported if all input features have string names, but your input has ['int', 'str'] as feature name / column name types. If you want feature names to be stored and validated, you must convert them all to strings, by using X.columns = X.columns.astype(str) for example. Otherwise you can remove feature / column names from your input data, or convert them all to a non-string data type."
     ]
    }
   ],
   "source": [
    "from sklearn.tree import DecisionTreeClassifier\n",
    "from sklearn.metrics import accuracy_score\n",
    "from sklearn.metrics import classification_report\n",
    "from sklearn.model_selection import train_test_split\n",
    "\n",
    "clf = DecisionTreeClassifier(random_state = 2)\n",
    "X_train, X_test, y_train, y_test = train_test_split(X, y, test_size=0.30, random_state=2, stratify=y)\n",
    "clf.fit(X_train, y_train)\n",
    "y_pred = clf.predict(X_test)\n",
    "print(\"Accuracy:\", accuracy_score(y_test, y_pred))\n",
    "print(classification_report(y_test, y_pred))"
   ]
  },
  {
   "cell_type": "markdown",
   "metadata": {},
   "source": [
    "Los resultados son aceptables, pero podrían ser mejores. Para el próximo hito se cambiará la forma en la que se realiza la vectorización, de manera que se utilizará OneHotEncoder para los nombres de artistas y los géneros, y se separarán los datos del top."
   ]
  },
  {
   "cell_type": "markdown",
   "metadata": {},
   "source": [
    "# Pregunta 3"
   ]
  },
  {
   "cell_type": "markdown",
   "metadata": {},
   "source": [
    ">Como la tabla de 'songAttributes' no tiene el atributo de género musical de la canción, se utiliza la tabla de 'artistDf' que contienen informarción de los artistas incluyendo su género musical. la idea es generar cluster's que en teoría deberían agruparse según géneros musicales por lo primero se evaluará la pureza de estos, por lo que se usáran distintas formas de hacer cluster's, es decir, se usarán métodos como k-means, los dendogramas, etc. Si no se obtienen cluster's puros se procederá con subconjuntos de atributos para así encontrar donde más se diferencian los géneros musicales. Para facilitar el estudio de esto se tomarán los géneros musicales que aparecen primero en la tabla de 'artistDf' y posteriormente mediante clustering dar etiquetas más claras a cada canción."
   ]
  },
  {
   "cell_type": "markdown",
   "metadata": {},
   "source": [
    "## Data cleaning"
   ]
  },
  {
   "cell_type": "code",
   "execution_count": null,
   "metadata": {},
   "outputs": [],
   "source": [
    "from sklearn.decomposition import PCA\n",
    "from sklearn.cluster import KMeans"
   ]
  },
  {
   "cell_type": "markdown",
   "metadata": {},
   "source": [
    "Se visualizan el contenido de las Dataframe que son relevantes para desarrollar esta pregunta."
   ]
  },
  {
   "cell_type": "code",
   "execution_count": null,
   "metadata": {},
   "outputs": [],
   "source": [
    "songAttributes.head(2)"
   ]
  },
  {
   "cell_type": "code",
   "execution_count": null,
   "metadata": {},
   "outputs": [],
   "source": [
    "artistDf.head(2)"
   ]
  },
  {
   "cell_type": "markdown",
   "metadata": {},
   "source": [
    "Se procede a crear el dataframe donde se trabajará agregando de 'aristDf' el género(s) músical de cada canción y dejando el parámetro 'Explicit' expresado de forma binaria, tambiém se tomo una muestra aleatoria del dataset a utilizar de dimensión de 2000 filas:"
   ]
  },
  {
   "cell_type": "code",
   "execution_count": null,
   "metadata": {},
   "outputs": [],
   "source": [
    "data_cleaned = songAttributes.merge(artistDf.loc[:,['Artist', 'Genres']],\n",
    "                                on = ['Artist'],\n",
    "                                how = 'inner',\n",
    "                                indicator = False)\n",
    "\n",
    "data_cleaned = data_cleaned.drop(labels = ['Unnamed: 0'], axis = 1)\n",
    "data_cleaned['Explicit'] = data_cleaned['Explicit'].astype(int)\n",
    "\n",
    "\n",
    "idx = data_cleaned.columns.get_loc(\"Name\")\n",
    "columns = data_cleaned.columns.to_list()[idx:idx+1] + data_cleaned.columns.to_list()[1: idx] + data_cleaned.columns.to_list()[0:1] + data_cleaned.columns.to_list()[idx+1:] #webeo para cambiar el orden de columnas\n",
    "data_cleaned = data_cleaned[columns]\n",
    "\n",
    "data_cleaned_sample = data_cleaned.sample(n = 4000, replace = False, random_state= 27)"
   ]
  },
  {
   "cell_type": "code",
   "execution_count": null,
   "metadata": {},
   "outputs": [],
   "source": [
    "data_cleaned_sample.head(2)"
   ]
  },
  {
   "cell_type": "markdown",
   "metadata": {},
   "source": [
    " Se eliminan atributos de texto que no pueden ser utilizados en KMeans como el nombre del artista, el nombre del albúm y el nombre de la canción por ser datos en forma de texto (lo mismo se hizo para cada metodología de clustering):"
   ]
  },
  {
   "cell_type": "code",
   "execution_count": null,
   "metadata": {},
   "outputs": [],
   "source": [
    "# se eliminan atributos de texto que no pueden ser utilizados en KMeans\n",
    "data_k_means = data_cleaned_sample.drop(columns = ['Album','Artist', 'Name'])\n",
    "data_k_means = data_k_means.drop(columns = ['Duration','Popularity','Tempo','TimeSignature','Genres'])"
   ]
  },
  {
   "cell_type": "markdown",
   "metadata": {},
   "source": [
    "De esta forma se toma el conjunto `[Danceability, Energy, Explicit, Instrumentalness, Liveness, Loudness, Mode, Acousticness, Speechiness, Valence]` para hacer el clustering en K-means y el resto de los métodos, ya que se considera que cosas como Popularidad no son relevantes, ya que no aportan elementos musicales de las composiciones, se descartó Duración y Tempo ya que al no estar normalizados ocasionaría problemas para el desarrollo del clustering, también se saco 'Time Signature', ya que no se comprende bien lo que evalua o lo que se mide, ya que en el dataset original de kaggle no se encontró una explicación satisfactoria de este:"
   ]
  },
  {
   "cell_type": "markdown",
   "metadata": {},
   "source": [
    "Quedando así la tabla para agrupar las canciones:"
   ]
  },
  {
   "cell_type": "code",
   "execution_count": null,
   "metadata": {},
   "outputs": [],
   "source": [
    "data_k_means.head()"
   ]
  },
  {
   "cell_type": "markdown",
   "metadata": {},
   "source": [
    "Se prodeció a reducir la dimensionalidad mediante PCA para poder gráficar los datos en un gráfico:"
   ]
  },
  {
   "cell_type": "code",
   "execution_count": null,
   "metadata": {},
   "outputs": [],
   "source": [
    "pca = PCA(n_components=2).fit(data_k_means)\n",
    "rates_pca = pca.transform(data_k_means)\n",
    "rates_pca.shape"
   ]
  },
  {
   "cell_type": "code",
   "execution_count": null,
   "metadata": {},
   "outputs": [],
   "source": [
    "fig, ax = plt.subplots(sharex=True, figsize = (10,5))\n",
    "plt.scatter(rates_pca[:,0], rates_pca[:,1])\n",
    "plt.title('Distribución PCA')\n",
    "plt.show()"
   ]
  },
  {
   "cell_type": "markdown",
   "metadata": {},
   "source": [
    "Método de la rodilla para obtener el número óptimo de cluster's, donde se opta por usar `k = 4` para k-means:"
   ]
  },
  {
   "cell_type": "code",
   "execution_count": null,
   "metadata": {},
   "outputs": [],
   "source": [
    "SSE = []\n",
    "numClusters = list(range(1, 20))\n",
    "for k in numClusters:\n",
    "    k_means = KMeans(n_clusters=k, n_init=20, max_iter= 300, random_state=1)\n",
    "    k_means.fit(data_k_means)\n",
    "    SSE.append(k_means.inertia_)\n",
    "\n",
    "plt.plot(numClusters, SSE, marker=\"o\")\n",
    "plt.xlabel('Número de Clusters')\n",
    "plt.ylabel('SSE')\n",
    "plt.show()"
   ]
  },
  {
   "cell_type": "code",
   "execution_count": null,
   "metadata": {},
   "outputs": [],
   "source": [
    "kmeans =  KMeans(n_clusters=4, n_init = 20, random_state=1)\n",
    "kmeans.fit(data_k_means)\n",
    "y_pred = kmeans.labels_\n",
    "np.bincount(y_pred)"
   ]
  },
  {
   "cell_type": "markdown",
   "metadata": {},
   "source": [
    "## K-means:"
   ]
  },
  {
   "cell_type": "markdown",
   "metadata": {},
   "source": [
    "Se procede a ejecutar k-means para poder agrupar en cluster's los datos:"
   ]
  },
  {
   "cell_type": "code",
   "execution_count": null,
   "metadata": {},
   "outputs": [],
   "source": [
    "kmeans =  KMeans(n_clusters=4, n_init = 20, max_iter= 300 , random_state=1)\n",
    "kmeans.fit(data_k_means)\n",
    "y_pred = kmeans.labels_\n",
    "np.bincount(y_pred)"
   ]
  },
  {
   "cell_type": "code",
   "execution_count": null,
   "metadata": {},
   "outputs": [],
   "source": [
    "fig, ax = plt.subplots(sharex=True, figsize = (12, 4))\n",
    "plt.scatter(rates_pca[:, 0], rates_pca[:, 1], c= kmeans.labels_)\n",
    "plt.title(\"k-means cluster's k = 4\")"
   ]
  },
  {
   "cell_type": "markdown",
   "metadata": {},
   "source": [
    "## Clustering Jerárquico"
   ]
  },
  {
   "cell_type": "markdown",
   "metadata": {},
   "source": [
    "En esta sección se aplicaron los distintos métodos de clustering jerárquico menos Single que al no lograr un dendograma muy útil se decidió por descartarlo por temas de espacio del informe. A continuación se limpian los datos de la misma forma que en k-means:"
   ]
  },
  {
   "cell_type": "code",
   "execution_count": null,
   "metadata": {},
   "outputs": [],
   "source": [
    "from scipy.cluster.hierarchy import dendrogram, linkage\n",
    "from sklearn.cluster import AgglomerativeClustering"
   ]
  },
  {
   "cell_type": "code",
   "execution_count": null,
   "metadata": {},
   "outputs": [],
   "source": [
    "names = data_cleaned_sample['Name']\n",
    "Y = data_cleaned_sample['Genres']\n",
    "X = data_cleaned_sample.drop(columns = ['Album','Artist', 'Name', 'Genres', 'Duration','Popularity','Tempo','TimeSignature'])"
   ]
  },
  {
   "cell_type": "code",
   "execution_count": null,
   "metadata": {},
   "outputs": [],
   "source": [
    "X.head(2)"
   ]
  },
  {
   "cell_type": "markdown",
   "metadata": {},
   "source": [
    "### WARD"
   ]
  },
  {
   "cell_type": "markdown",
   "metadata": {},
   "source": [
    "Procediendo con el método ward se opto por cortar en `x = 40`, ya que con eso se logra unos cluster's de tamaño más o menos uniforme:"
   ]
  },
  {
   "cell_type": "code",
   "execution_count": null,
   "metadata": {},
   "outputs": [],
   "source": [
    "fig, ax = plt.subplots(sharex=True, figsize = (10,5))\n",
    "Z = linkage(X, method='ward', metric='euclidean') # distancia maxima entre putnos\n",
    "plt.axvline(x= 40, color='r', linestyle='--')\n",
    "dn = dendrogram(Z, labels = ['' for k in range(0,len(X))], orientation='right')\n",
    "plt.title('Dendograma linkage : Ward')\n",
    "plt.plot()"
   ]
  },
  {
   "cell_type": "code",
   "execution_count": null,
   "metadata": {},
   "outputs": [],
   "source": [
    "distance = 40\n",
    "\n",
    "ward_euclidean = AgglomerativeClustering(linkage='ward',\n",
    "                                affinity='euclidean',\n",
    "                                n_clusters=None,\n",
    "                                distance_threshold=distance).fit(X)"
   ]
  },
  {
   "cell_type": "markdown",
   "metadata": {},
   "source": [
    "Quedando de la siguiente forma distribuidos los cluster's donde dio que habían 5 de estos: "
   ]
  },
  {
   "cell_type": "code",
   "execution_count": null,
   "metadata": {},
   "outputs": [],
   "source": [
    "fig, ax = plt.subplots(sharex=True, figsize = (10,5))\n",
    "plt.scatter(rates_pca[:,0],rates_pca[:,1], c= ward_euclidean.labels_)\n",
    "plt.title('Agglomeraty clustering linkage: Ward').set_fontsize(14)\n",
    "plt.show()\n",
    "np.unique(ward_euclidean.labels_)"
   ]
  },
  {
   "cell_type": "markdown",
   "metadata": {},
   "source": [
    "### COMPLETE"
   ]
  },
  {
   "cell_type": "markdown",
   "metadata": {},
   "source": [
    "Con complete se decidió por cortar en `x = 0.1`: "
   ]
  },
  {
   "cell_type": "code",
   "execution_count": null,
   "metadata": {},
   "outputs": [],
   "source": [
    "fig, ax = plt.subplots(sharex=True, figsize = (10,5))\n",
    "Z = linkage(X, method='complete', metric='cosine') # distancia maxima entre putnos\n",
    "dn = dendrogram(Z, labels = None,orientation='right')\n",
    "plt.axvline(x= 0.1, color='r', linestyle='--')\n",
    "dn = dendrogram(Z, labels = ['' for k in range(0,len(X))], orientation='right')\n",
    "plt.title('Dendograma linkage : Complete')"
   ]
  },
  {
   "cell_type": "code",
   "execution_count": null,
   "metadata": {},
   "outputs": [],
   "source": [
    "distance = 0.1\n",
    "\n",
    "complete_cosine = AgglomerativeClustering(linkage='complete',\n",
    "                                affinity='cosine',\n",
    "                                n_clusters=None,\n",
    "                                distance_threshold= distance).fit(X)"
   ]
  },
  {
   "cell_type": "markdown",
   "metadata": {},
   "source": [
    "Quedando de la siguiente forma la distribución de los cluster's, donde dio que habían 11 de estos:"
   ]
  },
  {
   "cell_type": "code",
   "execution_count": null,
   "metadata": {},
   "outputs": [],
   "source": [
    "fig, ax = plt.subplots(sharex=True, figsize = (10,5))\n",
    "plt.scatter(rates_pca[:,0],rates_pca[:,1], c= complete_cosine.labels_)\n",
    "plt.title('Agglomeraty clustering linkage: Complete').set_fontsize(14)\n",
    "plt.show()\n",
    "np.unique(complete_cosine.labels_)"
   ]
  },
  {
   "cell_type": "markdown",
   "metadata": {},
   "source": [
    "### Average"
   ]
  },
  {
   "cell_type": "markdown",
   "metadata": {},
   "source": [
    "A diferencia de los otros métodos en este se opto por tomar `k = 4` directamente: "
   ]
  },
  {
   "cell_type": "code",
   "execution_count": null,
   "metadata": {},
   "outputs": [],
   "source": [
    "fig, ax = plt.subplots(sharex=True, figsize = (10,5))\n",
    "Z = linkage(X, method='average', metric='cosine')\n",
    "plt.axvline(x= 0.05, color='r', linestyle='--')\n",
    "dn = dendrogram(Z, labels= None,orientation='right')"
   ]
  },
  {
   "cell_type": "code",
   "execution_count": null,
   "metadata": {},
   "outputs": [],
   "source": [
    "distance = 0.12\n",
    "n_clusters = None\n",
    "\n",
    "average_cosine = AgglomerativeClustering(linkage='average',\n",
    "                                affinity='cosine',\n",
    "                                n_clusters=n_clusters,\n",
    "                                distance_threshold= distance).fit(X)"
   ]
  },
  {
   "cell_type": "markdown",
   "metadata": {},
   "source": [
    "Quedando la siguiente distribución de cluster's con 6 de estos:"
   ]
  },
  {
   "cell_type": "code",
   "execution_count": null,
   "metadata": {},
   "outputs": [],
   "source": [
    "fig, ax = plt.subplots(sharex=True, figsize = (10,5))\n",
    "plt.scatter(rates_pca[:,0],rates_pca[:,1], c= average_cosine.labels_)\n",
    "plt.title('Agglomeraty clustering linkage: Average').set_fontsize(14)\n",
    "plt.show()\n",
    "np.unique(average_cosine.labels_)"
   ]
  },
  {
   "cell_type": "markdown",
   "metadata": {},
   "source": [
    "## DBSCAN"
   ]
  },
  {
   "cell_type": "markdown",
   "metadata": {},
   "source": [
    "Para DBSCAN se procedió con el método de la rodilla para decidir el valor de `eps` donde se llegó que `eps = 0.72` y `min_samples = 14` :"
   ]
  },
  {
   "cell_type": "code",
   "execution_count": null,
   "metadata": {},
   "outputs": [],
   "source": [
    "from sklearn.cluster import DBSCAN\n",
    "from sklearn.neighbors import NearestNeighbors"
   ]
  },
  {
   "cell_type": "code",
   "execution_count": null,
   "metadata": {
    "scrolled": true
   },
   "outputs": [],
   "source": [
    "N = 14\n",
    "nbrs = NearestNeighbors(n_neighbors=N).fit(X)\n",
    "distances, indices = nbrs.kneighbors(X)\n",
    "\n",
    "distances = np.sort(distances, axis=0)\n",
    "distances = distances[:,1]\n",
    "plt.axhline(y= 0.81, color='r', linestyle='--')\n",
    "plt.plot(distances)\n",
    "plt.show()"
   ]
  },
  {
   "cell_type": "markdown",
   "metadata": {},
   "source": [
    "Posteriormente se vió que se formaron 6 cluster's:"
   ]
  },
  {
   "cell_type": "code",
   "execution_count": null,
   "metadata": {},
   "outputs": [],
   "source": [
    "dbscan = DBSCAN(eps= 0.82, min_samples= 14).fit(X)\n",
    "fig, ax = plt.subplots(sharex=True, figsize = (10,5))\n",
    "plt.scatter(rates_pca[:,0], rates_pca[:,1], c = dbscan.labels_)\n",
    "plt.title('DSBCAN')\n",
    "plt.show()\n",
    "print(np.unique(dbscan.labels_))"
   ]
  },
  {
   "cell_type": "markdown",
   "metadata": {},
   "source": [
    "Se puede ver a continuación la distribución de los cluster's mediante DBSCAN. Se va considerar la clase `-1` corresponde a ruido debido a que no se adaptan a ningún cluster."
   ]
  },
  {
   "cell_type": "code",
   "execution_count": null,
   "metadata": {},
   "outputs": [],
   "source": [
    "np.unique(dbscan.labels_, return_counts = True)"
   ]
  },
  {
   "cell_type": "markdown",
   "metadata": {
    "tags": [
     "parameters"
    ]
   },
   "source": [
    "## Metricas de Evaluación"
   ]
  },
  {
   "cell_type": "markdown",
   "metadata": {},
   "source": [
    "Se evaluan los puntajes de silhoutte de los modelos realizados anteriormente, donde en DBSCAN para obtener un valor más adecuado se decidio filtrar el ruido obtenido al realizar el procedimiento:"
   ]
  },
  {
   "cell_type": "code",
   "execution_count": null,
   "metadata": {},
   "outputs": [],
   "source": [
    "from sklearn.metrics import silhouette_score\n",
    "\n",
    "print(\"Dataset X K-Means\\t\", silhouette_score(data_k_means, kmeans.labels_))\n",
    "print(\"Dataset X Ward \\t\", silhouette_score(X, ward_euclidean.labels_))\n",
    "print(\"Dataset X Complete\\t\", silhouette_score(X, complete_cosine.labels_))\n",
    "print(\"Dataset X Average \\t\", silhouette_score(X, average_cosine.labels_))\n",
    "print(\"Dataset X DBSCAN\\t\", silhouette_score(X, dbscan.labels_ >= 0))\n",
    "\n",
    "\n"
   ]
  },
  {
   "cell_type": "markdown",
   "metadata": {},
   "source": [
    "## Evaluación de Resultados"
   ]
  },
  {
   "cell_type": "markdown",
   "metadata": {},
   "source": [
    "Viendo que DBSCAN obtuvo el valor más cercano a 1 de los métodos utilizados se procederá a estudiar este para obtener la respuesta de la pregunta 3, por lo que se concatenan el ID de cada cluster a la tabla con los `dbscan.labels_`: "
   ]
  },
  {
   "cell_type": "code",
   "execution_count": null,
   "metadata": {},
   "outputs": [],
   "source": [
    "DBSCAN_results = data_cleaned_sample.copy()\n",
    "DBSCAN_results['Cluster ID'] = dbscan.labels_\n",
    "DBSCAN_results.head(2)"
   ]
  },
  {
   "cell_type": "markdown",
   "metadata": {},
   "source": [
    "Se crea un Dataframe para cada las instancias de cada clase."
   ]
  },
  {
   "cell_type": "code",
   "execution_count": null,
   "metadata": {},
   "outputs": [],
   "source": [
    "cluster_0 = DBSCAN_results[DBSCAN_results['Cluster ID'] == 0] \n",
    "cluster_1 = DBSCAN_results[DBSCAN_results['Cluster ID'] == 1]\n",
    "cluster_2 = DBSCAN_results[DBSCAN_results['Cluster ID'] == 2]\n",
    "cluster_3 = DBSCAN_results[DBSCAN_results['Cluster ID'] == 3]\n",
    "cluster_4 = DBSCAN_results[DBSCAN_results['Cluster ID'] == 4]\n",
    "cluster_5 = DBSCAN_results[DBSCAN_results['Cluster ID'] == 5]\n",
    "cluster_6 = DBSCAN_results[DBSCAN_results['Cluster ID'] == 6]\n",
    "cluster_7 = DBSCAN_results[DBSCAN_results['Cluster ID'] == 7]"
   ]
  },
  {
   "cell_type": "markdown",
   "metadata": {},
   "source": [
    "En este caso dado que el mejor coeficiente de Silloute se obtiene con el modelo de DBSCAN se evaluaran por **inspección** los clusters. La forma de evaluar las diferencias entre los atributos entre los cluster's va a ser tomando muestras aleatorias y coomparar los valores que componen a cada muestra y así evaluar el conjunto donde se destaca más las diferencias númericas."
   ]
  },
  {
   "cell_type": "code",
   "execution_count": null,
   "metadata": {},
   "outputs": [],
   "source": [
    "cluster_0.sample()"
   ]
  },
  {
   "cell_type": "code",
   "execution_count": null,
   "metadata": {},
   "outputs": [],
   "source": [
    "cluster_2.sample()"
   ]
  },
  {
   "cell_type": "markdown",
   "metadata": {},
   "source": [
    "Se puede observar que la mayoria de canciones que poseen rap o \"hip-hop\" como género convergen en ser explicitas, con una bailabilidad y energía alta y ser muy \"acusticas, a su vez se puede ver que para figurar en esta lista, las canciones deben tener muy bajo el valor de \"Liveness\", por otra parte las canciones pop y metal difieren ejn casi todos sus parametros exceptuando los valores \"Instrumentalness\" y \"Mode\" valores que posiblemente seran removidos para una mayor segregación de los grupos de géneros, a su vez se tiene que ciertos géneros seran agrupados de forma inevitable en un mismo género como puede ser el rap y el hip-hop o el rock y el metal por lo cual se necesitara de un analisís más grupal de los géneros que coincidan en nuestros clusters"
   ]
  },
  {
   "cell_type": "markdown",
   "metadata": {},
   "source": [
    "Para evaluar si los cluster logran asociar una tendencia en los atributos a un género o conjunto de géneros, se contabilizaran los generos asociados a cada instancia para todas las instancia de un mismo cluster. "
   ]
  },
  {
   "cell_type": "code",
   "execution_count": null,
   "metadata": {},
   "outputs": [],
   "source": [
    "def contarGen(df):\n",
    "    dicc = {}\n",
    "    i = 0\n",
    "    for row, col in df.iterrows():\n",
    "        if type(col['Genres']) == float:\n",
    "            continue\n",
    "        aux = col['Genres'].split(',')\n",
    "        for k in aux:\n",
    "            if k in aux:\n",
    "                dicc[k] = dicc.get(k,0) + 1\n",
    "            i+=1\n",
    "    gen = pd.DataFrame([[key, dicc[key]] for key in dicc.keys()], columns=['Genre', 'Frequency'])\n",
    "    gen1_5 = gen.sort_values(by = ['Frequency'], ascending=False)\n",
    "    return gen1_5"
   ]
  },
  {
   "cell_type": "code",
   "execution_count": null,
   "metadata": {},
   "outputs": [],
   "source": [
    "contarGen(cluster_1).head(8)"
   ]
  },
  {
   "cell_type": "code",
   "execution_count": null,
   "metadata": {},
   "outputs": [],
   "source": [
    "contarGen(cluster_2).head(8)"
   ]
  },
  {
   "cell_type": "code",
   "execution_count": null,
   "metadata": {},
   "outputs": [],
   "source": [
    "contarGen(cluster_5).head(8)"
   ]
  },
  {
   "cell_type": "markdown",
   "metadata": {},
   "source": [
    "Se puede apreciar que orientar nuestro análisis a los generos musicales puede beneficiarnos de muchas maneras debido a que no poseen diferencias muy marcadas a dia de hoy y las canciones en particular poseen muchos géneros lo cual al ser investigado podria entregarnos si la música se volvio repetitiva, lo cual indicaria clusters muy coincidientes entre sí, o que la música esta en auge debido a las nuevas tecnologias y es posible determinar la integridad de los géneros mediante el análisis, por lo cual unos resultados poco claros es justo lo que podriamos estar enfrentando."
   ]
  },
  {
   "cell_type": "markdown",
   "metadata": {},
   "source": [
    "Se puede apreciar para los primeros cluster's que no existe una relevancia de un género sobre los otros, incluso existen generos comunes a todos los cluster's como el pop. Esto nos indica que para la selección de datos y elección de parámetros del modelo no fue posible asociar los atributos de las canciones con un conjunto de géneros que sigan una misma tendencia músical. Lo anterior como equipo se asocia a que dentro de un mismo genero, existen variaciones que exploran otras corrientes musicales, provocando la difuminación de atributos marcados de las asociadas al género puro. Es por tanto que se concluye que no existen una relación clara entre atributos y generos."
   ]
  },
  {
   "cell_type": "markdown",
   "metadata": {},
   "source": [
    "Se espera para el Hito 3 explorar variantes de los modelos empleados y de los atributos de la data utilizados para confirmar los resultados actuales o encontrar una combinación que proporciones una clasificación de cluster's relevantes."
   ]
  },
  {
   "cell_type": "markdown",
   "metadata": {},
   "source": [
    "## Participación"
   ]
  },
  {
   "cell_type": "markdown",
   "metadata": {},
   "source": [
    "Para el hito 2 Hernán trabajo en el preprocesamiento de las tablas para la primera pregunta, además de redactar esta pregunta, a su vez trabajo en arreglar algunas combinaciones de tablas para su futura utilización en las preguntas. Alexander se encargó de redactar y preparar la pregunta 2, preprocesando la tabla y aplicando modelos de clasificación los cuales no resultaron en primer momento por lo cual se encargó de reformular el Dataframe para ajustarlo al modelo a utilizar. Gonzalo se encargó de formular la tercera preguntas y su posible resolución proponiendo métodos como clustering y clasificación, ajustar los parámetros de los modelo y evaluar los resultados. Finalmente Ignacio se encargó de realizar los gráficos, configurar los modelos, dendogramas, preprocesar las tablas a utilizar y evaluar los resultados obtenidos de la pregunta 3."
   ]
  }
 ],
 "metadata": {
  "colab": {
   "provenance": []
  },
  "kernelspec": {
   "display_name": "Python 3 (ipykernel)",
   "language": "python",
   "name": "python3"
  },
  "language_info": {
   "codemirror_mode": {
    "name": "ipython",
    "version": 3
   },
   "file_extension": ".py",
   "mimetype": "text/x-python",
   "name": "python",
   "nbconvert_exporter": "python",
   "pygments_lexer": "ipython3",
   "version": "3.9.1"
  },
  "vscode": {
   "interpreter": {
    "hash": "b17c1a5022d052bb9c4a02d0d913da2d95460e62742ebcd7751f2ae871a25653"
   }
  }
 },
 "nbformat": 4,
 "nbformat_minor": 1
}
